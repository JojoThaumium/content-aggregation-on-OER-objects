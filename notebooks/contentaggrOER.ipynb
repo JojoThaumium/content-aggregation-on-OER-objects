{
 "cells": [
  {
   "cell_type": "markdown",
   "id": "62be8d50",
   "metadata": {},
   "source": [
    "# content-aggregation-on-OER-objects"
   ]
  },
  {
   "cell_type": "code",
   "execution_count": 190,
   "id": "d6cab2fe",
   "metadata": {},
   "outputs": [],
   "source": [
    "import sys\n",
    "#!{sys.executable} -m pip install pikepdf\n",
    "import pikepdf\n",
    "import urllib.request\n",
    "import pandas as pd\n"
   ]
  },
  {
   "cell_type": "markdown",
   "id": "2f36076c",
   "metadata": {},
   "source": [
    "create temp folder if not already created"
   ]
  },
  {
   "cell_type": "code",
   "execution_count": 191,
   "id": "fb83bf31",
   "metadata": {},
   "outputs": [],
   "source": [
    "from pathlib import Path\n",
    "Path(\"temp\").mkdir(parents=True, exist_ok=True)"
   ]
  },
  {
   "cell_type": "markdown",
   "id": "557b8c7e",
   "metadata": {},
   "source": [
    "Input an OER Adress\n",
    "\n",
    "example: ```https://bildungsportal.sachsen.de/opal/oer/10SYjW2AWSFYY```"
   ]
  },
  {
   "cell_type": "code",
   "execution_count": 192,
   "id": "63d52164",
   "metadata": {},
   "outputs": [
    {
     "name": "stdout",
     "output_type": "stream",
     "text": [
      "What is the URL of the pdf? https://bildungsportal.sachsen.de/opal/oer/10SYjW2AWSFYY\n"
     ]
    }
   ],
   "source": [
    "pdf_url = input(\"What is the URL of the pdf? \")"
   ]
  },
  {
   "cell_type": "markdown",
   "id": "925fb873",
   "metadata": {},
   "source": [
    "download and open the pdf with pikepdf\n",
    "\n",
    "create a dictionary for the Metadata"
   ]
  },
  {
   "cell_type": "code",
   "execution_count": 193,
   "id": "ff5d913e",
   "metadata": {},
   "outputs": [],
   "source": [
    "unique = pdf_url.removeprefix(\"https://bildungsportal.sachsen.de/opal/oer/\")\n",
    "pfad = \"temp/\" + unique + \".pdf\"\n",
    "if (not os.path.exists(pfad)):\n",
    "    pdf_filename, headers = urllib.request.urlretrieve(pdf_url, pfad)\n",
    "else:\n",
    "    pdf_filename = pfad\n",
    "\n",
    "pdf = pikepdf.Pdf.open(pdf_filename)\n",
    "docinfo = pdf.docinfo\n",
    "metadict = {\"Identifier\":unique}"
   ]
  },
  {
   "cell_type": "markdown",
   "id": "eb3dcc71",
   "metadata": {},
   "source": [
    "write all informations from docinfo into metadict (old code)"
   ]
  },
  {
   "cell_type": "code",
   "execution_count": 194,
   "id": "0f9e5533",
   "metadata": {},
   "outputs": [],
   "source": [
    "#for key, value in docinfo.items():  \n",
    "#    metadict.update({key:str(value)})"
   ]
  },
  {
   "cell_type": "markdown",
   "id": "a8fccc3a",
   "metadata": {},
   "source": [
    " Autoreninformation (Name✔, Herkunft✔)\n",
    " \n",
    " Datum der Erstellung✔\n",
    " \n",
    " Titel✔\n",
    " \n",
    " Seitenzahl✔\n",
    " \n",
    " Format✔ (Dokument, Präsentation)\n",
    " \n",
    " Dateigröße gerundet mit passender Größenmaß ✔"
   ]
  },
  {
   "cell_type": "code",
   "execution_count": 195,
   "id": "5eaac0f8",
   "metadata": {},
   "outputs": [],
   "source": [
    "from datetime import datetime\n",
    "\n",
    "try:\n",
    "    docinfo[\"/Author\"]\n",
    "except KeyError:\n",
    "    metadict.update({\"Author\":\"\"})\n",
    "else:\n",
    "    metadict.update({\"Author\":str(docinfo[\"/Author\"])})\n",
    "\n",
    "try:\n",
    "    docinfo[\"/Publisher\"]\n",
    "except KeyError:\n",
    "    metadict.update({\"Publisher\":\"\"})\n",
    "else:\n",
    "    metadict.update({\"Publisher\":str(docinfo[\"/Publisher\"])})\n",
    "\n",
    "try:\n",
    "    docinfo[\"/CreationDate\"]\n",
    "except KeyError:\n",
    "    metadict.update({\"Datum der Erstellung\":\"\"})\n",
    "else:\n",
    "    creation = str(docinfo[\"/CreationDate\"])\n",
    "    date = datetime.strptime(creation.replace(\"'\", \"\"), \"D:%Y%m%d%H%M%S%z\")\n",
    "    metadict.update({\"Datum der Erstellung\":date.strftime(\"%x\")}) #TODO: change to normal dates\n",
    "    \n",
    "try:\n",
    "    docinfo[\"/Title\"]\n",
    "except KeyError:\n",
    "    metadict.update({\"Titel\":\"\"})\n",
    "else:\n",
    "    metadict.update({\"Titel\":str(docinfo[\"/Title\"])})\n",
    "    \n",
    "metadict.update({\"Seitenzahl\":len(pdf.pages)})\n",
    "\n",
    "if (pdf.pages[0].mediabox[2] - pdf.pages[0].mediabox[0]) > (pdf.pages[0].mediabox[3] - pdf.pages[0].mediabox[1]):\n",
    "    metadict.update({\"Format\":\"Dokument\"})\n",
    "else:\n",
    "    metadict.update({\"Format\":\"Präsentation\"})\n",
    "    \n",
    "size = os.stat(pdf_filename).st_size\n",
    "if (size > 1000000000):\n",
    "    size = size / 1000000000\n",
    "    sizestr =str(round(size, 1)) + \" GB\"\n",
    "elif (size > 1000000):                    \n",
    "    size = size / 1000000\n",
    "    sizestr =str(round(size, 1)) + \" MB\"\n",
    "elif (size > 1000):\n",
    "    size = size / 1000\n",
    "    sizestr =str(round(size, 1)) + \" kB\"   \n",
    "else:\n",
    "    sizestr =str(round(size, 1)) + \" B\"\n",
    "metadict.update({\"Dateigröße\":str(sizestr)})\n"
   ]
  },
  {
   "cell_type": "code",
   "execution_count": 196,
   "id": "71c58a93",
   "metadata": {},
   "outputs": [],
   "source": [
    "frame = pd.DataFrame(metadict, [0])\n",
    "if (os.path.exists(\"temp/meta.csv\")):   \n",
    "    oldframe = pd.read_csv(\"temp/meta.csv\")\n",
    "    newframe = pd.concat([oldframe, frame])\n",
    "    newframe.to_csv(\"temp/meta.csv\", index=False)\n",
    "    \n",
    "else:\n",
    "    frame.to_csv(\"temp/meta.csv\", index=False)\n",
    "    \n"
   ]
  },
  {
   "cell_type": "code",
   "execution_count": 197,
   "id": "2eaa896c",
   "metadata": {},
   "outputs": [],
   "source": [
    "import os\n",
    "pdf.close()\n",
    "#os.remove(pdf_filename)"
   ]
  }
 ],
 "metadata": {
  "kernelspec": {
   "display_name": "Python 3 (ipykernel)",
   "language": "python",
   "name": "python3"
  },
  "language_info": {
   "codemirror_mode": {
    "name": "ipython",
    "version": 3
   },
   "file_extension": ".py",
   "mimetype": "text/x-python",
   "name": "python",
   "nbconvert_exporter": "python",
   "pygments_lexer": "ipython3",
   "version": "3.9.12"
  }
 },
 "nbformat": 4,
 "nbformat_minor": 5
}
