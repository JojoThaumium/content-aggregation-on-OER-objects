{
 "cells": [
  {
   "cell_type": "code",
   "execution_count": 1,
   "id": "41c0afb3",
   "metadata": {
    "execution": {
     "iopub.execute_input": "2022-11-16T12:25:26.583854Z",
     "iopub.status.busy": "2022-11-16T12:25:26.580852Z",
     "iopub.status.idle": "2022-11-16T12:25:32.746528Z",
     "shell.execute_reply": "2022-11-16T12:25:32.744142Z"
    },
    "papermill": {
     "duration": 6.195724,
     "end_time": "2022-11-16T12:25:32.749583",
     "exception": false,
     "start_time": "2022-11-16T12:25:26.553859",
     "status": "completed"
    },
    "scrolled": true,
    "tags": []
   },
   "outputs": [],
   "source": [
    "import sys\n",
    "import os.path\n",
    "import pandas as pd\n",
    "import json\n",
    "from datetime import datetime\n",
    "import numpy as np\n",
    "import matplotlib.pyplot as plt\n",
    "import matplotlib.patches as mpatches\n"
   ]
  },
  {
   "attachments": {},
   "cell_type": "markdown",
   "id": "c890f9ca",
   "metadata": {},
   "source": [
    "This Notebook provides statistical infos about content.json and the aggregated metadata.\n",
    "This Notebook is optional, since it doesn't change the output."
   ]
  },
  {
   "cell_type": "code",
   "execution_count": 2,
   "id": "405ccf7f",
   "metadata": {
    "execution": {
     "iopub.execute_input": "2022-11-16T12:25:32.770550Z",
     "iopub.status.busy": "2022-11-16T12:25:32.769545Z",
     "iopub.status.idle": "2022-11-16T12:25:33.464349Z",
     "shell.execute_reply": "2022-11-16T12:25:33.461388Z"
    },
    "papermill": {
     "duration": 0.709801,
     "end_time": "2022-11-16T12:25:33.468348",
     "exception": false,
     "start_time": "2022-11-16T12:25:32.758547",
     "status": "completed"
    },
    "scrolled": true,
    "tags": []
   },
   "outputs": [
    {
     "data": {
      "text/html": [
       "<div>\n",
       "<style scoped>\n",
       "    .dataframe tbody tr th:only-of-type {\n",
       "        vertical-align: middle;\n",
       "    }\n",
       "\n",
       "    .dataframe tbody tr th {\n",
       "        vertical-align: top;\n",
       "    }\n",
       "\n",
       "    .dataframe thead th {\n",
       "        text-align: right;\n",
       "    }\n",
       "</style>\n",
       "<table border=\"1\" class=\"dataframe\">\n",
       "  <thead>\n",
       "    <tr style=\"text-align: right;\">\n",
       "      <th></th>\n",
       "      <th>filename</th>\n",
       "      <th>license</th>\n",
       "      <th>oer_permalink</th>\n",
       "      <th>title</th>\n",
       "      <th>comment</th>\n",
       "      <th>creator</th>\n",
       "      <th>publisher</th>\n",
       "      <th>source</th>\n",
       "      <th>city</th>\n",
       "      <th>publicationMonth</th>\n",
       "      <th>...</th>\n",
       "      <th>Format</th>\n",
       "      <th>Dateigröße</th>\n",
       "      <th>Error</th>\n",
       "      <th>Textsize</th>\n",
       "      <th>texttitle</th>\n",
       "      <th>Language</th>\n",
       "      <th>Topwords</th>\n",
       "      <th>Header_Topwords</th>\n",
       "      <th>Keywordnames</th>\n",
       "      <th>KeywordIDs</th>\n",
       "    </tr>\n",
       "  </thead>\n",
       "  <tbody>\n",
       "    <tr>\n",
       "      <th>0</th>\n",
       "      <td>SC_Hardware.png</td>\n",
       "      <td>CC BY 4.0 Int.</td>\n",
       "      <td>https://bildungsportal.sachsen.de/opal/oer/6TI...</td>\n",
       "      <td>Hardware zum Styroporschneiden</td>\n",
       "      <td>NaN</td>\n",
       "      <td>Daniela Dobeleit</td>\n",
       "      <td>SLUB Dresden</td>\n",
       "      <td>NaN</td>\n",
       "      <td>NaN</td>\n",
       "      <td>NaN</td>\n",
       "      <td>...</td>\n",
       "      <td>NaN</td>\n",
       "      <td>NaN</td>\n",
       "      <td>NaN</td>\n",
       "      <td>NaN</td>\n",
       "      <td>NaN</td>\n",
       "      <td>NaN</td>\n",
       "      <td>NaN</td>\n",
       "      <td>NaN</td>\n",
       "      <td>NaN</td>\n",
       "      <td>NaN</td>\n",
       "    </tr>\n",
       "    <tr>\n",
       "      <th>1</th>\n",
       "      <td>beleg.pdf</td>\n",
       "      <td>CC BY-SA 4.0 Int.</td>\n",
       "      <td>https://bildungsportal.sachsen.de/opal/oer/8I6...</td>\n",
       "      <td>NaN</td>\n",
       "      <td>NaN</td>\n",
       "      <td>NaN</td>\n",
       "      <td>NaN</td>\n",
       "      <td>NaN</td>\n",
       "      <td>NaN</td>\n",
       "      <td>NaN</td>\n",
       "      <td>...</td>\n",
       "      <td>Hochformat</td>\n",
       "      <td>103901.0</td>\n",
       "      <td>NaN</td>\n",
       "      <td>2824.0</td>\n",
       "      <td>¨Ubung 3 Photogrammetrie</td>\n",
       "      <td>GERMAN</td>\n",
       "      <td>['bild' 'entzerrung' 'interpolation' 'nachbar'...</td>\n",
       "      <td>['auswahl' 'beyer' 'bildes' 'entzerrung' 'gena...</td>\n",
       "      <td>['Auswahl', 'Entzerrung', 'Genauigkeit']</td>\n",
       "      <td>['https://d-nb.info/gnd/4214540-5', 'https://d...</td>\n",
       "    </tr>\n",
       "    <tr>\n",
       "      <th>2</th>\n",
       "      <td>Bereich III.pdf</td>\n",
       "      <td>CC BY-NC-ND 4.0 Int.</td>\n",
       "      <td>https://bildungsportal.sachsen.de/opal/oer/8ZI...</td>\n",
       "      <td>NaN</td>\n",
       "      <td>NaN</td>\n",
       "      <td>NaN</td>\n",
       "      <td>NaN</td>\n",
       "      <td>NaN</td>\n",
       "      <td>NaN</td>\n",
       "      <td>NaN</td>\n",
       "      <td>...</td>\n",
       "      <td>Hochformat</td>\n",
       "      <td>156446.0</td>\n",
       "      <td>NaN</td>\n",
       "      <td>0.0</td>\n",
       "      <td>3 Ebene Tragwerke</td>\n",
       "      <td>NaN</td>\n",
       "      <td>NaN</td>\n",
       "      <td>NaN</td>\n",
       "      <td>NaN</td>\n",
       "      <td>NaN</td>\n",
       "    </tr>\n",
       "    <tr>\n",
       "      <th>3</th>\n",
       "      <td>uebung6_A2d.py</td>\n",
       "      <td>CC0 1.0 Universell</td>\n",
       "      <td>https://bildungsportal.sachsen.de/opal/oer/6fn...</td>\n",
       "      <td>NaN</td>\n",
       "      <td>NaN</td>\n",
       "      <td>NaN</td>\n",
       "      <td>NaN</td>\n",
       "      <td>NaN</td>\n",
       "      <td>NaN</td>\n",
       "      <td>NaN</td>\n",
       "      <td>...</td>\n",
       "      <td>NaN</td>\n",
       "      <td>NaN</td>\n",
       "      <td>NaN</td>\n",
       "      <td>NaN</td>\n",
       "      <td>NaN</td>\n",
       "      <td>NaN</td>\n",
       "      <td>NaN</td>\n",
       "      <td>NaN</td>\n",
       "      <td>NaN</td>\n",
       "      <td>NaN</td>\n",
       "    </tr>\n",
       "    <tr>\n",
       "      <th>4</th>\n",
       "      <td>ITM_Selbststudium_1.docx</td>\n",
       "      <td>CC BY-NC-SA 4.0 Int.</td>\n",
       "      <td>https://bildungsportal.sachsen.de/opal/oer/7Bm...</td>\n",
       "      <td>NaN</td>\n",
       "      <td>NaN</td>\n",
       "      <td>NaN</td>\n",
       "      <td>NaN</td>\n",
       "      <td>NaN</td>\n",
       "      <td>NaN</td>\n",
       "      <td>NaN</td>\n",
       "      <td>...</td>\n",
       "      <td>NaN</td>\n",
       "      <td>NaN</td>\n",
       "      <td>NaN</td>\n",
       "      <td>NaN</td>\n",
       "      <td>NaN</td>\n",
       "      <td>NaN</td>\n",
       "      <td>NaN</td>\n",
       "      <td>NaN</td>\n",
       "      <td>NaN</td>\n",
       "      <td>NaN</td>\n",
       "    </tr>\n",
       "    <tr>\n",
       "      <th>...</th>\n",
       "      <td>...</td>\n",
       "      <td>...</td>\n",
       "      <td>...</td>\n",
       "      <td>...</td>\n",
       "      <td>...</td>\n",
       "      <td>...</td>\n",
       "      <td>...</td>\n",
       "      <td>...</td>\n",
       "      <td>...</td>\n",
       "      <td>...</td>\n",
       "      <td>...</td>\n",
       "      <td>...</td>\n",
       "      <td>...</td>\n",
       "      <td>...</td>\n",
       "      <td>...</td>\n",
       "      <td>...</td>\n",
       "      <td>...</td>\n",
       "      <td>...</td>\n",
       "      <td>...</td>\n",
       "      <td>...</td>\n",
       "      <td>...</td>\n",
       "    </tr>\n",
       "    <tr>\n",
       "      <th>11317</th>\n",
       "      <td>statistik_054.mkv</td>\n",
       "      <td>CC BY-NC-ND 4.0 Int.</td>\n",
       "      <td>https://bildungsportal.sachsen.de/opal/oer/6Qd...</td>\n",
       "      <td>NaN</td>\n",
       "      <td>NaN</td>\n",
       "      <td>NaN</td>\n",
       "      <td>NaN</td>\n",
       "      <td>NaN</td>\n",
       "      <td>NaN</td>\n",
       "      <td>NaN</td>\n",
       "      <td>...</td>\n",
       "      <td>NaN</td>\n",
       "      <td>NaN</td>\n",
       "      <td>NaN</td>\n",
       "      <td>NaN</td>\n",
       "      <td>NaN</td>\n",
       "      <td>NaN</td>\n",
       "      <td>NaN</td>\n",
       "      <td>NaN</td>\n",
       "      <td>NaN</td>\n",
       "      <td>NaN</td>\n",
       "    </tr>\n",
       "    <tr>\n",
       "      <th>11318</th>\n",
       "      <td>statistik_071.mkv</td>\n",
       "      <td>CC BY-NC-ND 4.0 Int.</td>\n",
       "      <td>https://bildungsportal.sachsen.de/opal/oer/6SX...</td>\n",
       "      <td>NaN</td>\n",
       "      <td>NaN</td>\n",
       "      <td>NaN</td>\n",
       "      <td>NaN</td>\n",
       "      <td>NaN</td>\n",
       "      <td>NaN</td>\n",
       "      <td>NaN</td>\n",
       "      <td>...</td>\n",
       "      <td>NaN</td>\n",
       "      <td>NaN</td>\n",
       "      <td>NaN</td>\n",
       "      <td>NaN</td>\n",
       "      <td>NaN</td>\n",
       "      <td>NaN</td>\n",
       "      <td>NaN</td>\n",
       "      <td>NaN</td>\n",
       "      <td>NaN</td>\n",
       "      <td>NaN</td>\n",
       "    </tr>\n",
       "    <tr>\n",
       "      <th>11319</th>\n",
       "      <td>statistik_058.mkv</td>\n",
       "      <td>CC BY-NC-ND 4.0 Int.</td>\n",
       "      <td>https://bildungsportal.sachsen.de/opal/oer/6G7...</td>\n",
       "      <td>NaN</td>\n",
       "      <td>NaN</td>\n",
       "      <td>NaN</td>\n",
       "      <td>NaN</td>\n",
       "      <td>NaN</td>\n",
       "      <td>NaN</td>\n",
       "      <td>NaN</td>\n",
       "      <td>...</td>\n",
       "      <td>NaN</td>\n",
       "      <td>NaN</td>\n",
       "      <td>NaN</td>\n",
       "      <td>NaN</td>\n",
       "      <td>NaN</td>\n",
       "      <td>NaN</td>\n",
       "      <td>NaN</td>\n",
       "      <td>NaN</td>\n",
       "      <td>NaN</td>\n",
       "      <td>NaN</td>\n",
       "    </tr>\n",
       "    <tr>\n",
       "      <th>11320</th>\n",
       "      <td>Cast-Filius Installation von Programmen auf de...</td>\n",
       "      <td>CC BY-NC 4.0 Int.</td>\n",
       "      <td>https://bildungsportal.sachsen.de/opal/oer/10l...</td>\n",
       "      <td>NaN</td>\n",
       "      <td>NaN</td>\n",
       "      <td>NaN</td>\n",
       "      <td>NaN</td>\n",
       "      <td>NaN</td>\n",
       "      <td>NaN</td>\n",
       "      <td>NaN</td>\n",
       "      <td>...</td>\n",
       "      <td>NaN</td>\n",
       "      <td>NaN</td>\n",
       "      <td>NaN</td>\n",
       "      <td>NaN</td>\n",
       "      <td>NaN</td>\n",
       "      <td>NaN</td>\n",
       "      <td>NaN</td>\n",
       "      <td>NaN</td>\n",
       "      <td>NaN</td>\n",
       "      <td>NaN</td>\n",
       "    </tr>\n",
       "    <tr>\n",
       "      <th>11321</th>\n",
       "      <td>Cast-Filius Datei importieren durch den Datei ...</td>\n",
       "      <td>CC BY-NC 4.0 Int.</td>\n",
       "      <td>https://bildungsportal.sachsen.de/opal/oer/10N...</td>\n",
       "      <td>NaN</td>\n",
       "      <td>NaN</td>\n",
       "      <td>NaN</td>\n",
       "      <td>NaN</td>\n",
       "      <td>NaN</td>\n",
       "      <td>NaN</td>\n",
       "      <td>NaN</td>\n",
       "      <td>...</td>\n",
       "      <td>NaN</td>\n",
       "      <td>NaN</td>\n",
       "      <td>NaN</td>\n",
       "      <td>NaN</td>\n",
       "      <td>NaN</td>\n",
       "      <td>NaN</td>\n",
       "      <td>NaN</td>\n",
       "      <td>NaN</td>\n",
       "      <td>NaN</td>\n",
       "      <td>NaN</td>\n",
       "    </tr>\n",
       "  </tbody>\n",
       "</table>\n",
       "<p>11322 rows × 40 columns</p>\n",
       "</div>"
      ],
      "text/plain": [
       "                                                filename  \\\n",
       "0                                        SC_Hardware.png   \n",
       "1                                              beleg.pdf   \n",
       "2                                        Bereich III.pdf   \n",
       "3                                         uebung6_A2d.py   \n",
       "4                               ITM_Selbststudium_1.docx   \n",
       "...                                                  ...   \n",
       "11317                                  statistik_054.mkv   \n",
       "11318                                  statistik_071.mkv   \n",
       "11319                                  statistik_058.mkv   \n",
       "11320  Cast-Filius Installation von Programmen auf de...   \n",
       "11321  Cast-Filius Datei importieren durch den Datei ...   \n",
       "\n",
       "                    license  \\\n",
       "0            CC BY 4.0 Int.   \n",
       "1         CC BY-SA 4.0 Int.   \n",
       "2      CC BY-NC-ND 4.0 Int.   \n",
       "3        CC0 1.0 Universell   \n",
       "4      CC BY-NC-SA 4.0 Int.   \n",
       "...                     ...   \n",
       "11317  CC BY-NC-ND 4.0 Int.   \n",
       "11318  CC BY-NC-ND 4.0 Int.   \n",
       "11319  CC BY-NC-ND 4.0 Int.   \n",
       "11320     CC BY-NC 4.0 Int.   \n",
       "11321     CC BY-NC 4.0 Int.   \n",
       "\n",
       "                                           oer_permalink  \\\n",
       "0      https://bildungsportal.sachsen.de/opal/oer/6TI...   \n",
       "1      https://bildungsportal.sachsen.de/opal/oer/8I6...   \n",
       "2      https://bildungsportal.sachsen.de/opal/oer/8ZI...   \n",
       "3      https://bildungsportal.sachsen.de/opal/oer/6fn...   \n",
       "4      https://bildungsportal.sachsen.de/opal/oer/7Bm...   \n",
       "...                                                  ...   \n",
       "11317  https://bildungsportal.sachsen.de/opal/oer/6Qd...   \n",
       "11318  https://bildungsportal.sachsen.de/opal/oer/6SX...   \n",
       "11319  https://bildungsportal.sachsen.de/opal/oer/6G7...   \n",
       "11320  https://bildungsportal.sachsen.de/opal/oer/10l...   \n",
       "11321  https://bildungsportal.sachsen.de/opal/oer/10N...   \n",
       "\n",
       "                                title comment           creator     publisher  \\\n",
       "0      Hardware zum Styroporschneiden     NaN  Daniela Dobeleit  SLUB Dresden   \n",
       "1                                 NaN     NaN               NaN           NaN   \n",
       "2                                 NaN     NaN               NaN           NaN   \n",
       "3                                 NaN     NaN               NaN           NaN   \n",
       "4                                 NaN     NaN               NaN           NaN   \n",
       "...                               ...     ...               ...           ...   \n",
       "11317                             NaN     NaN               NaN           NaN   \n",
       "11318                             NaN     NaN               NaN           NaN   \n",
       "11319                             NaN     NaN               NaN           NaN   \n",
       "11320                             NaN     NaN               NaN           NaN   \n",
       "11321                             NaN     NaN               NaN           NaN   \n",
       "\n",
       "      source city publicationMonth  ...      Format Dateigröße Error Textsize  \\\n",
       "0        NaN  NaN              NaN  ...         NaN        NaN   NaN      NaN   \n",
       "1        NaN  NaN              NaN  ...  Hochformat   103901.0   NaN   2824.0   \n",
       "2        NaN  NaN              NaN  ...  Hochformat   156446.0   NaN      0.0   \n",
       "3        NaN  NaN              NaN  ...         NaN        NaN   NaN      NaN   \n",
       "4        NaN  NaN              NaN  ...         NaN        NaN   NaN      NaN   \n",
       "...      ...  ...              ...  ...         ...        ...   ...      ...   \n",
       "11317    NaN  NaN              NaN  ...         NaN        NaN   NaN      NaN   \n",
       "11318    NaN  NaN              NaN  ...         NaN        NaN   NaN      NaN   \n",
       "11319    NaN  NaN              NaN  ...         NaN        NaN   NaN      NaN   \n",
       "11320    NaN  NaN              NaN  ...         NaN        NaN   NaN      NaN   \n",
       "11321    NaN  NaN              NaN  ...         NaN        NaN   NaN      NaN   \n",
       "\n",
       "                      texttitle Language  \\\n",
       "0                           NaN      NaN   \n",
       "1      ¨Ubung 3 Photogrammetrie   GERMAN   \n",
       "2             3 Ebene Tragwerke      NaN   \n",
       "3                           NaN      NaN   \n",
       "4                           NaN      NaN   \n",
       "...                         ...      ...   \n",
       "11317                       NaN      NaN   \n",
       "11318                       NaN      NaN   \n",
       "11319                       NaN      NaN   \n",
       "11320                       NaN      NaN   \n",
       "11321                       NaN      NaN   \n",
       "\n",
       "                                                Topwords  \\\n",
       "0                                                    NaN   \n",
       "1      ['bild' 'entzerrung' 'interpolation' 'nachbar'...   \n",
       "2                                                    NaN   \n",
       "3                                                    NaN   \n",
       "4                                                    NaN   \n",
       "...                                                  ...   \n",
       "11317                                                NaN   \n",
       "11318                                                NaN   \n",
       "11319                                                NaN   \n",
       "11320                                                NaN   \n",
       "11321                                                NaN   \n",
       "\n",
       "                                         Header_Topwords  \\\n",
       "0                                                    NaN   \n",
       "1      ['auswahl' 'beyer' 'bildes' 'entzerrung' 'gena...   \n",
       "2                                                    NaN   \n",
       "3                                                    NaN   \n",
       "4                                                    NaN   \n",
       "...                                                  ...   \n",
       "11317                                                NaN   \n",
       "11318                                                NaN   \n",
       "11319                                                NaN   \n",
       "11320                                                NaN   \n",
       "11321                                                NaN   \n",
       "\n",
       "                                   Keywordnames  \\\n",
       "0                                           NaN   \n",
       "1      ['Auswahl', 'Entzerrung', 'Genauigkeit']   \n",
       "2                                           NaN   \n",
       "3                                           NaN   \n",
       "4                                           NaN   \n",
       "...                                         ...   \n",
       "11317                                       NaN   \n",
       "11318                                       NaN   \n",
       "11319                                       NaN   \n",
       "11320                                       NaN   \n",
       "11321                                       NaN   \n",
       "\n",
       "                                              KeywordIDs  \n",
       "0                                                    NaN  \n",
       "1      ['https://d-nb.info/gnd/4214540-5', 'https://d...  \n",
       "2                                                    NaN  \n",
       "3                                                    NaN  \n",
       "4                                                    NaN  \n",
       "...                                                  ...  \n",
       "11317                                                NaN  \n",
       "11318                                                NaN  \n",
       "11319                                                NaN  \n",
       "11320                                                NaN  \n",
       "11321                                                NaN  \n",
       "\n",
       "[11322 rows x 40 columns]"
      ]
     },
     "execution_count": 2,
     "metadata": {},
     "output_type": "execute_result"
    }
   ],
   "source": [
    "fusion = pd.read_json(\"data/fusedcontent.json\", orient = 'table').replace(\"\", np.nan)\n",
    "data = fusion[(fusion['Identifier'] != '')]\n",
    "fusion"
   ]
  },
  {
   "cell_type": "markdown",
   "id": "1ce2c655",
   "metadata": {},
   "source": [
    "### Auswertungen über Autoren"
   ]
  },
  {
   "cell_type": "code",
   "execution_count": 3,
   "id": "fad78df1",
   "metadata": {},
   "outputs": [
    {
     "data": {
      "text/html": [
       "<div>\n",
       "<style scoped>\n",
       "    .dataframe tbody tr th:only-of-type {\n",
       "        vertical-align: middle;\n",
       "    }\n",
       "\n",
       "    .dataframe tbody tr th {\n",
       "        vertical-align: top;\n",
       "    }\n",
       "\n",
       "    .dataframe thead th {\n",
       "        text-align: right;\n",
       "    }\n",
       "</style>\n",
       "<table border=\"1\" class=\"dataframe\">\n",
       "  <thead>\n",
       "    <tr style=\"text-align: right;\">\n",
       "      <th></th>\n",
       "      <th>Author</th>\n",
       "      <th>count</th>\n",
       "    </tr>\n",
       "  </thead>\n",
       "  <tbody>\n",
       "    <tr>\n",
       "      <th>0</th>\n",
       "      <td>Peter Kiessling</td>\n",
       "      <td>259</td>\n",
       "    </tr>\n",
       "    <tr>\n",
       "      <th>1</th>\n",
       "      <td>Jürgen Sachse</td>\n",
       "      <td>86</td>\n",
       "    </tr>\n",
       "    <tr>\n",
       "      <th>2</th>\n",
       "      <td>Prof. Dr.-Ing. Henning Zeidler</td>\n",
       "      <td>72</td>\n",
       "    </tr>\n",
       "    <tr>\n",
       "      <th>3</th>\n",
       "      <td>Prof. Hacker</td>\n",
       "      <td>60</td>\n",
       "    </tr>\n",
       "    <tr>\n",
       "      <th>4</th>\n",
       "      <td>Peter Kießling</td>\n",
       "      <td>59</td>\n",
       "    </tr>\n",
       "    <tr>\n",
       "      <th>...</th>\n",
       "      <td>...</td>\n",
       "      <td>...</td>\n",
       "    </tr>\n",
       "    <tr>\n",
       "      <th>584</th>\n",
       "      <td>RHeidrich</td>\n",
       "      <td>1</td>\n",
       "    </tr>\n",
       "    <tr>\n",
       "      <th>585</th>\n",
       "      <td>Hartmut SImmert</td>\n",
       "      <td>1</td>\n",
       "    </tr>\n",
       "    <tr>\n",
       "      <th>586</th>\n",
       "      <td>Professur für Technik spurgeführter Fahrzeuge,...</td>\n",
       "      <td>1</td>\n",
       "    </tr>\n",
       "    <tr>\n",
       "      <th>587</th>\n",
       "      <td>Hausding</td>\n",
       "      <td>1</td>\n",
       "    </tr>\n",
       "    <tr>\n",
       "      <th>588</th>\n",
       "      <td>炮弹</td>\n",
       "      <td>1</td>\n",
       "    </tr>\n",
       "  </tbody>\n",
       "</table>\n",
       "<p>589 rows × 2 columns</p>\n",
       "</div>"
      ],
      "text/plain": [
       "                                                Author  count\n",
       "0                                      Peter Kiessling    259\n",
       "1                                        Jürgen Sachse     86\n",
       "2                       Prof. Dr.-Ing. Henning Zeidler     72\n",
       "3                                         Prof. Hacker     60\n",
       "4                                       Peter Kießling     59\n",
       "..                                                 ...    ...\n",
       "584                                          RHeidrich      1\n",
       "585                                    Hartmut SImmert      1\n",
       "586  Professur für Technik spurgeführter Fahrzeuge,...      1\n",
       "587                                           Hausding      1\n",
       "588                                                 炮弹      1\n",
       "\n",
       "[589 rows x 2 columns]"
      ]
     },
     "execution_count": 3,
     "metadata": {},
     "output_type": "execute_result"
    }
   ],
   "source": [
    "#Aus Metadaten gelesen\n",
    "author_statistics = fusion.groupby(['Author'])[\"Author\"]\\\n",
    "                                       .count() \\\n",
    "                                       .reset_index(name='count') \\\n",
    "                                       .sort_values(['count'], ascending=False, ignore_index=True)\n",
    "                                       \n",
    "                                       \n",
    "#author_statistics.to_csv(\"data/metaauswertungauthor.csv\", index=False)\n",
    "author_statistics"
   ]
  },
  {
   "cell_type": "code",
   "execution_count": 4,
   "id": "05351d3a",
   "metadata": {},
   "outputs": [
    {
     "data": {
      "text/html": [
       "<div>\n",
       "<style scoped>\n",
       "    .dataframe tbody tr th:only-of-type {\n",
       "        vertical-align: middle;\n",
       "    }\n",
       "\n",
       "    .dataframe tbody tr th {\n",
       "        vertical-align: top;\n",
       "    }\n",
       "\n",
       "    .dataframe thead th {\n",
       "        text-align: right;\n",
       "    }\n",
       "</style>\n",
       "<table border=\"1\" class=\"dataframe\">\n",
       "  <thead>\n",
       "    <tr style=\"text-align: right;\">\n",
       "      <th></th>\n",
       "      <th>creator</th>\n",
       "      <th>count</th>\n",
       "    </tr>\n",
       "  </thead>\n",
       "  <tbody>\n",
       "    <tr>\n",
       "      <th>0</th>\n",
       "      <td>Frank Babick</td>\n",
       "      <td>51</td>\n",
       "    </tr>\n",
       "    <tr>\n",
       "      <th>1</th>\n",
       "      <td>Daniela Dobeleit</td>\n",
       "      <td>11</td>\n",
       "    </tr>\n",
       "    <tr>\n",
       "      <th>2</th>\n",
       "      <td>Benno Wessely; Frank Babick</td>\n",
       "      <td>5</td>\n",
       "    </tr>\n",
       "    <tr>\n",
       "      <th>3</th>\n",
       "      <td>Max Kobrow</td>\n",
       "      <td>4</td>\n",
       "    </tr>\n",
       "    <tr>\n",
       "      <th>4</th>\n",
       "      <td>Stefanie Dreiack</td>\n",
       "      <td>3</td>\n",
       "    </tr>\n",
       "    <tr>\n",
       "      <th>...</th>\n",
       "      <td>...</td>\n",
       "      <td>...</td>\n",
       "    </tr>\n",
       "    <tr>\n",
       "      <th>73</th>\n",
       "      <td>Lothar Papula</td>\n",
       "      <td>1</td>\n",
       "    </tr>\n",
       "    <tr>\n",
       "      <th>74</th>\n",
       "      <td>Ahnert, Carolin ; Jackenkroll, Martina</td>\n",
       "      <td>1</td>\n",
       "    </tr>\n",
       "    <tr>\n",
       "      <th>75</th>\n",
       "      <td>Manoel Kraus</td>\n",
       "      <td>1</td>\n",
       "    </tr>\n",
       "    <tr>\n",
       "      <th>76</th>\n",
       "      <td>Marco Hamann</td>\n",
       "      <td>1</td>\n",
       "    </tr>\n",
       "    <tr>\n",
       "      <th>77</th>\n",
       "      <td>tuuwi; Philippe Wampfler; Dejan Mihaljovic</td>\n",
       "      <td>1</td>\n",
       "    </tr>\n",
       "  </tbody>\n",
       "</table>\n",
       "<p>78 rows × 2 columns</p>\n",
       "</div>"
      ],
      "text/plain": [
       "                                       creator  count\n",
       "0                                 Frank Babick     51\n",
       "1                             Daniela Dobeleit     11\n",
       "2                  Benno Wessely; Frank Babick      5\n",
       "3                                   Max Kobrow      4\n",
       "4                             Stefanie Dreiack      3\n",
       "..                                         ...    ...\n",
       "73                               Lothar Papula      1\n",
       "74      Ahnert, Carolin ; Jackenkroll, Martina      1\n",
       "75                                Manoel Kraus      1\n",
       "76                                Marco Hamann      1\n",
       "77  tuuwi; Philippe Wampfler; Dejan Mihaljovic      1\n",
       "\n",
       "[78 rows x 2 columns]"
      ]
     },
     "execution_count": 4,
     "metadata": {},
     "output_type": "execute_result"
    }
   ],
   "source": [
    "#Vorgegeben in Ausgangsmetadaten\n",
    "creator_statistics=fusion.groupby(['creator'])[\"creator\"]\\\n",
    "                                       .count() \\\n",
    "                                       .reset_index(name='count') \\\n",
    "                                       .sort_values(['count'], ascending=False, ignore_index=True)\n",
    "#creator_statistics.to_csv(\"data/metaauswertungcreator.csv\", index=False)\n",
    "creator_statistics"
   ]
  },
  {
   "cell_type": "code",
   "execution_count": 5,
   "id": "f5316e91",
   "metadata": {},
   "outputs": [
    {
     "data": {
      "text/html": [
       "<div>\n",
       "<style scoped>\n",
       "    .dataframe tbody tr th:only-of-type {\n",
       "        vertical-align: middle;\n",
       "    }\n",
       "\n",
       "    .dataframe tbody tr th {\n",
       "        vertical-align: top;\n",
       "    }\n",
       "\n",
       "    .dataframe thead th {\n",
       "        text-align: right;\n",
       "    }\n",
       "</style>\n",
       "<table border=\"1\" class=\"dataframe\">\n",
       "  <thead>\n",
       "    <tr style=\"text-align: right;\">\n",
       "      <th></th>\n",
       "      <th>authorfusion</th>\n",
       "      <th>count</th>\n",
       "    </tr>\n",
       "  </thead>\n",
       "  <tbody>\n",
       "    <tr>\n",
       "      <th>0</th>\n",
       "      <td>Peter Kiessling</td>\n",
       "      <td>259</td>\n",
       "    </tr>\n",
       "    <tr>\n",
       "      <th>1</th>\n",
       "      <td>Jürgen Sachse</td>\n",
       "      <td>86</td>\n",
       "    </tr>\n",
       "    <tr>\n",
       "      <th>2</th>\n",
       "      <td>Prof. Dr.-Ing. Henning Zeidler</td>\n",
       "      <td>72</td>\n",
       "    </tr>\n",
       "    <tr>\n",
       "      <th>3</th>\n",
       "      <td>Frank Babick</td>\n",
       "      <td>61</td>\n",
       "    </tr>\n",
       "    <tr>\n",
       "      <th>4</th>\n",
       "      <td>Prof. Hacker</td>\n",
       "      <td>60</td>\n",
       "    </tr>\n",
       "    <tr>\n",
       "      <th>...</th>\n",
       "      <td>...</td>\n",
       "      <td>...</td>\n",
       "    </tr>\n",
       "    <tr>\n",
       "      <th>639</th>\n",
       "      <td>Heike Molitor</td>\n",
       "      <td>1</td>\n",
       "    </tr>\n",
       "    <tr>\n",
       "      <th>640</th>\n",
       "      <td>Hildebrandt, Max Peter Werner</td>\n",
       "      <td>1</td>\n",
       "    </tr>\n",
       "    <tr>\n",
       "      <th>641</th>\n",
       "      <td>Prof. Bernd Delakowitz</td>\n",
       "      <td>1</td>\n",
       "    </tr>\n",
       "    <tr>\n",
       "      <th>642</th>\n",
       "      <td>Pool SEM2</td>\n",
       "      <td>1</td>\n",
       "    </tr>\n",
       "    <tr>\n",
       "      <th>643</th>\n",
       "      <td>炮弹</td>\n",
       "      <td>1</td>\n",
       "    </tr>\n",
       "  </tbody>\n",
       "</table>\n",
       "<p>644 rows × 2 columns</p>\n",
       "</div>"
      ],
      "text/plain": [
       "                       authorfusion  count\n",
       "0                   Peter Kiessling    259\n",
       "1                     Jürgen Sachse     86\n",
       "2    Prof. Dr.-Ing. Henning Zeidler     72\n",
       "3                      Frank Babick     61\n",
       "4                      Prof. Hacker     60\n",
       "..                              ...    ...\n",
       "639                   Heike Molitor      1\n",
       "640   Hildebrandt, Max Peter Werner      1\n",
       "641          Prof. Bernd Delakowitz      1\n",
       "642                       Pool SEM2      1\n",
       "643                              炮弹      1\n",
       "\n",
       "[644 rows x 2 columns]"
      ]
     },
     "execution_count": 5,
     "metadata": {},
     "output_type": "execute_result"
    }
   ],
   "source": [
    "#Kombination beider Authorenquellen, priorisierend Opaldaten\n",
    "fusion['authorfusion'] = fusion['creator']\n",
    "fusion['authorfusion'].where(fusion['authorfusion'].notna(), fusion['Author'], inplace = True)\n",
    "creatorfused_statistics = fusion.groupby(['authorfusion'])[\"authorfusion\"]\\\n",
    "                                       .count() \\\n",
    "                                       .reset_index(name='count') \\\n",
    "                                       .sort_values(['count'], ascending=False, ignore_index=True) \n",
    "#creatorfused_statistics.to_csv(\"data/metaauswertungcreatorfused.csv\", index=False)\n",
    "creatorfused_statistics"
   ]
  },
  {
   "cell_type": "markdown",
   "id": "6168e8de",
   "metadata": {
    "papermill": {
     "duration": 0.011994,
     "end_time": "2022-11-16T12:25:33.492350",
     "exception": false,
     "start_time": "2022-11-16T12:25:33.480356",
     "status": "completed"
    },
    "tags": []
   },
   "source": [
    "### Hier folgen statistische Auswertungen aus dem gewonnenen Daten der ersten Phase"
   ]
  },
  {
   "cell_type": "code",
   "execution_count": 6,
   "id": "e609e1eb",
   "metadata": {
    "execution": {
     "iopub.execute_input": "2022-11-16T12:25:33.517355Z",
     "iopub.status.busy": "2022-11-16T12:25:33.516352Z",
     "iopub.status.idle": "2022-11-16T12:25:33.601640Z",
     "shell.execute_reply": "2022-11-16T12:25:33.600763Z"
    },
    "papermill": {
     "duration": 0.101289,
     "end_time": "2022-11-16T12:25:33.604676",
     "exception": false,
     "start_time": "2022-11-16T12:25:33.503387",
     "status": "completed"
    },
    "scrolled": true,
    "tags": []
   },
   "outputs": [
    {
     "data": {
      "text/html": [
       "<div>\n",
       "<style scoped>\n",
       "    .dataframe tbody tr th:only-of-type {\n",
       "        vertical-align: middle;\n",
       "    }\n",
       "\n",
       "    .dataframe tbody tr th {\n",
       "        vertical-align: top;\n",
       "    }\n",
       "\n",
       "    .dataframe thead th {\n",
       "        text-align: right;\n",
       "    }\n",
       "</style>\n",
       "<table border=\"1\" class=\"dataframe\">\n",
       "  <thead>\n",
       "    <tr style=\"text-align: right;\">\n",
       "      <th></th>\n",
       "      <th>Keywords</th>\n",
       "      <th>count</th>\n",
       "    </tr>\n",
       "  </thead>\n",
       "  <tbody>\n",
       "    <tr>\n",
       "      <th>0</th>\n",
       "      <td>Machine_Learning,Optimization</td>\n",
       "      <td>55</td>\n",
       "    </tr>\n",
       "    <tr>\n",
       "      <th>1</th>\n",
       "      <td>Notizen,Whiteboard,Whiteboard-Seite,Notebook_s...</td>\n",
       "      <td>19</td>\n",
       "    </tr>\n",
       "    <tr>\n",
       "      <th>2</th>\n",
       "      <td>\"Bremsen,Bremstechnik,Druckluftbremse,Klotzbre...</td>\n",
       "      <td>10</td>\n",
       "    </tr>\n",
       "    <tr>\n",
       "      <th>3</th>\n",
       "      <td>Garten,Profi,Gartenbau</td>\n",
       "      <td>8</td>\n",
       "    </tr>\n",
       "    <tr>\n",
       "      <th>4</th>\n",
       "      <td>Farbe,Farben,Farbräume,Farbraum,Farbmodelle,Fa...</td>\n",
       "      <td>8</td>\n",
       "    </tr>\n",
       "    <tr>\n",
       "      <th>...</th>\n",
       "      <td>...</td>\n",
       "      <td>...</td>\n",
       "    </tr>\n",
       "    <tr>\n",
       "      <th>143</th>\n",
       "      <td>Fahrdynamik,Leistungsbedarf_zur_Überwindung_vo...</td>\n",
       "      <td>1</td>\n",
       "    </tr>\n",
       "    <tr>\n",
       "      <th>144</th>\n",
       "      <td>Fahrdynamik,Leistungsbedarf_zur_Überwindung_de...</td>\n",
       "      <td>1</td>\n",
       "    </tr>\n",
       "    <tr>\n",
       "      <th>145</th>\n",
       "      <td>Fahrdynamik,Leistungsbedarf,fahrdynamische_Aus...</td>\n",
       "      <td>1</td>\n",
       "    </tr>\n",
       "    <tr>\n",
       "      <th>146</th>\n",
       "      <td>Fahrdynamik,Fahrzeitermittlung</td>\n",
       "      <td>1</td>\n",
       "    </tr>\n",
       "    <tr>\n",
       "      <th>147</th>\n",
       "      <td>zugkraftbedingte_Radsatzentlastung,Zugkraftübe...</td>\n",
       "      <td>1</td>\n",
       "    </tr>\n",
       "  </tbody>\n",
       "</table>\n",
       "<p>148 rows × 2 columns</p>\n",
       "</div>"
      ],
      "text/plain": [
       "                                              Keywords  count\n",
       "0                        Machine_Learning,Optimization     55\n",
       "1    Notizen,Whiteboard,Whiteboard-Seite,Notebook_s...     19\n",
       "2    \"Bremsen,Bremstechnik,Druckluftbremse,Klotzbre...     10\n",
       "3                               Garten,Profi,Gartenbau      8\n",
       "4    Farbe,Farben,Farbräume,Farbraum,Farbmodelle,Fa...      8\n",
       "..                                                 ...    ...\n",
       "143  Fahrdynamik,Leistungsbedarf_zur_Überwindung_vo...      1\n",
       "144  Fahrdynamik,Leistungsbedarf_zur_Überwindung_de...      1\n",
       "145  Fahrdynamik,Leistungsbedarf,fahrdynamische_Aus...      1\n",
       "146                     Fahrdynamik,Fahrzeitermittlung      1\n",
       "147  zugkraftbedingte_Radsatzentlastung,Zugkraftübe...      1\n",
       "\n",
       "[148 rows x 2 columns]"
      ]
     },
     "execution_count": 6,
     "metadata": {},
     "output_type": "execute_result"
    }
   ],
   "source": [
    "keyword_statistics=data.groupby(['Keywords'])[\"Keywords\"]\\\n",
    "                                       .count() \\\n",
    "                                       .reset_index(name='count') \\\n",
    "                                       .sort_values(['count'], ascending=False, ignore_index=True)\n",
    "\n",
    "#keyword_statistics.to_csv(\"data/metaauswertungkeywords.csv\", index=False)\n",
    "keyword_statistics"
   ]
  },
  {
   "cell_type": "code",
   "execution_count": 7,
   "id": "5c04229e",
   "metadata": {
    "execution": {
     "iopub.execute_input": "2022-11-16T12:25:33.628640Z",
     "iopub.status.busy": "2022-11-16T12:25:33.627639Z",
     "iopub.status.idle": "2022-11-16T12:25:33.650397Z",
     "shell.execute_reply": "2022-11-16T12:25:33.647499Z"
    },
    "papermill": {
     "duration": 0.038752,
     "end_time": "2022-11-16T12:25:33.653397",
     "exception": false,
     "start_time": "2022-11-16T12:25:33.614645",
     "status": "completed"
    },
    "scrolled": true,
    "tags": []
   },
   "outputs": [
    {
     "data": {
      "text/plain": [
       "293"
      ]
     },
     "execution_count": 7,
     "metadata": {},
     "output_type": "execute_result"
    }
   ],
   "source": [
    "data[\"Keywords\"].count()"
   ]
  },
  {
   "cell_type": "code",
   "execution_count": 8,
   "id": "309df48a",
   "metadata": {
    "execution": {
     "iopub.execute_input": "2022-11-16T12:25:33.675395Z",
     "iopub.status.busy": "2022-11-16T12:25:33.674398Z",
     "iopub.status.idle": "2022-11-16T12:25:33.696502Z",
     "shell.execute_reply": "2022-11-16T12:25:33.694577Z"
    },
    "papermill": {
     "duration": 0.053139,
     "end_time": "2022-11-16T12:25:33.716539",
     "exception": false,
     "start_time": "2022-11-16T12:25:33.663400",
     "status": "completed"
    },
    "scrolled": true,
    "tags": []
   },
   "outputs": [
    {
     "data": {
      "text/html": [
       "<div>\n",
       "<style scoped>\n",
       "    .dataframe tbody tr th:only-of-type {\n",
       "        vertical-align: middle;\n",
       "    }\n",
       "\n",
       "    .dataframe tbody tr th {\n",
       "        vertical-align: top;\n",
       "    }\n",
       "\n",
       "    .dataframe thead th {\n",
       "        text-align: right;\n",
       "    }\n",
       "</style>\n",
       "<table border=\"1\" class=\"dataframe\">\n",
       "  <thead>\n",
       "    <tr style=\"text-align: right;\">\n",
       "      <th></th>\n",
       "      <th>Error</th>\n",
       "      <th>count</th>\n",
       "    </tr>\n",
       "  </thead>\n",
       "  <tbody>\n",
       "    <tr>\n",
       "      <th>0</th>\n",
       "      <td>Missing(404)</td>\n",
       "      <td>720</td>\n",
       "    </tr>\n",
       "    <tr>\n",
       "      <th>1</th>\n",
       "      <td>PasswordProtected</td>\n",
       "      <td>20</td>\n",
       "    </tr>\n",
       "    <tr>\n",
       "      <th>2</th>\n",
       "      <td>OpeningError</td>\n",
       "      <td>7</td>\n",
       "    </tr>\n",
       "  </tbody>\n",
       "</table>\n",
       "</div>"
      ],
      "text/plain": [
       "               Error  count\n",
       "0       Missing(404)    720\n",
       "1  PasswordProtected     20\n",
       "2       OpeningError      7"
      ]
     },
     "execution_count": 8,
     "metadata": {},
     "output_type": "execute_result"
    }
   ],
   "source": [
    "error_statistics = data.groupby(['Error'])[\"Error\"]\\\n",
    "                                       .count() \\\n",
    "                                       .reset_index(name='count') \\\n",
    "                                       .sort_values(['count'], ascending=False, ignore_index=True)\n",
    "\n",
    "error_statistics"
   ]
  },
  {
   "cell_type": "code",
   "execution_count": 9,
   "id": "1fd6257d",
   "metadata": {
    "execution": {
     "iopub.execute_input": "2022-11-16T12:25:33.756330Z",
     "iopub.status.busy": "2022-11-16T12:25:33.755328Z",
     "iopub.status.idle": "2022-11-16T12:25:35.534485Z",
     "shell.execute_reply": "2022-11-16T12:25:35.531482Z"
    },
    "papermill": {
     "duration": 1.799157,
     "end_time": "2022-11-16T12:25:35.539491",
     "exception": false,
     "start_time": "2022-11-16T12:25:33.740334",
     "status": "completed"
    },
    "scrolled": true,
    "tags": []
   },
   "outputs": [
    {
     "data": {
      "text/plain": [
       "<matplotlib.legend.Legend at 0x1ce792d7d90>"
      ]
     },
     "execution_count": 9,
     "metadata": {},
     "output_type": "execute_result"
    },
    {
     "data": {
      "image/png": "[encoded data removed]",
      "text/plain": [
       "<Figure size 640x480 with 1 Axes>"
      ]
     },
     "metadata": {},
     "output_type": "display_data"
    }
   ],
   "source": [
    "error_list = error_statistics['count'].tolist()\n",
    "error_list.insert(0, len(data)-error_statistics['count'].sum())\n",
    "\n",
    "error_name = error_statistics['Error'].tolist()\n",
    "error_name.insert(0, 'No Error')\n",
    "\n",
    "colors = ['green', 'red', 'blue', 'black', 'orange', 'violet']\n",
    "\n",
    "y_offset=0\n",
    "for error in range(len(error_list)):\n",
    "    plt.barh(y= 0, \n",
    "             width = error_list[error], \n",
    "             left = y_offset, \n",
    "             color = colors[error],\n",
    "             label = error_name[error])\n",
    "    \n",
    "    y_offset = y_offset + error_list[error]\n",
    "plt.axis('off')\n",
    "plt.legend(loc='upper left')"
   ]
  },
  {
   "cell_type": "code",
   "execution_count": 10,
   "id": "d1dec741",
   "metadata": {
    "execution": {
     "iopub.execute_input": "2022-11-16T12:25:35.588490Z",
     "iopub.status.busy": "2022-11-16T12:25:35.587481Z",
     "iopub.status.idle": "2022-11-16T12:25:35.875094Z",
     "shell.execute_reply": "2022-11-16T12:25:35.874132Z"
    },
    "papermill": {
     "duration": 0.317619,
     "end_time": "2022-11-16T12:25:35.878097",
     "exception": false,
     "start_time": "2022-11-16T12:25:35.560478",
     "status": "completed"
    },
    "scrolled": true,
    "tags": []
   },
   "outputs": [
    {
     "data": {
      "text/plain": [
       "[Text(0, 0, '720'), Text(0, 0, '20'), Text(0, 0, '7')]"
      ]
     },
     "execution_count": 10,
     "metadata": {},
     "output_type": "execute_result"
    },
    {
     "data": {
      "image/png": "[encoded data removed]",
      "text/plain": [
       "<Figure size 640x480 with 1 Axes>"
      ]
     },
     "metadata": {},
     "output_type": "display_data"
    }
   ],
   "source": [
    "index = np.arange(len(error_statistics))\n",
    "plt.bar_label(plt.bar(x= index, height=error_statistics['count']), label=error_statistics['Error'])"
   ]
  },
  {
   "cell_type": "code",
   "execution_count": 11,
   "id": "506c57d8",
   "metadata": {
    "execution": {
     "iopub.execute_input": "2022-11-16T12:25:35.952111Z",
     "iopub.status.busy": "2022-11-16T12:25:35.952111Z",
     "iopub.status.idle": "2022-11-16T12:25:37.183660Z",
     "shell.execute_reply": "2022-11-16T12:25:37.182313Z"
    },
    "papermill": {
     "duration": 1.247567,
     "end_time": "2022-11-16T12:25:37.186678",
     "exception": false,
     "start_time": "2022-11-16T12:25:35.939111",
     "status": "completed"
    },
    "scrolled": true,
    "tags": []
   },
   "outputs": [
    {
     "data": {
      "text/plain": [
       "[<matplotlib.lines.Line2D at 0x1ce7f7e9420>]"
      ]
     },
     "execution_count": 11,
     "metadata": {},
     "output_type": "execute_result"
    },
    {
     "data": {
      "image/png": "[encoded data removed]",
      "text/plain": [
       "<Figure size 640x480 with 1 Axes>"
      ]
     },
     "metadata": {},
     "output_type": "display_data"
    }
   ],
   "source": [
    "cumsum_statistics = author_statistics.cumsum()\n",
    "cumsum_statistics[\"ratio\"] = cumsum_statistics[\"count\"] / cumsum_statistics[\"count\"].max()\n",
    "\n",
    "ax = cumsum_statistics.ratio.plot()\n",
    "ax.set_title(\"Contributor cumsum count of OER Materials\")\n",
    "ax.set_xlabel(\"Contributor count\")\n",
    "ax.set_ylabel(\"Ratio\")\n",
    "\n",
    "plt.plot([34],[0.5], \"+r\")\n",
    "plt.plot([169],[0.8], \"+r\")"
   ]
  },
  {
   "cell_type": "code",
   "execution_count": 12,
   "id": "068b53f3",
   "metadata": {
    "execution": {
     "iopub.execute_input": "2022-11-16T12:25:37.277340Z",
     "iopub.status.busy": "2022-11-16T12:25:37.277340Z",
     "iopub.status.idle": "2022-11-16T12:25:37.811406Z",
     "shell.execute_reply": "2022-11-16T12:25:37.809530Z"
    },
    "papermill": {
     "duration": 0.554128,
     "end_time": "2022-11-16T12:25:37.816439",
     "exception": false,
     "start_time": "2022-11-16T12:25:37.262311",
     "status": "completed"
    },
    "scrolled": false,
    "tags": []
   },
   "outputs": [
    {
     "data": {
      "text/html": [
       "<div>\n",
       "<style scoped>\n",
       "    .dataframe tbody tr th:only-of-type {\n",
       "        vertical-align: middle;\n",
       "    }\n",
       "\n",
       "    .dataframe tbody tr th {\n",
       "        vertical-align: top;\n",
       "    }\n",
       "\n",
       "    .dataframe thead th {\n",
       "        text-align: right;\n",
       "    }\n",
       "</style>\n",
       "<table border=\"1\" class=\"dataframe\">\n",
       "  <thead>\n",
       "    <tr style=\"text-align: right;\">\n",
       "      <th></th>\n",
       "      <th>datetime</th>\n",
       "      <th>count</th>\n",
       "    </tr>\n",
       "  </thead>\n",
       "  <tbody>\n",
       "    <tr>\n",
       "      <th>0</th>\n",
       "      <td>2022-07-27</td>\n",
       "      <td>1</td>\n",
       "    </tr>\n",
       "    <tr>\n",
       "      <th>1</th>\n",
       "      <td>2022-06-26</td>\n",
       "      <td>3</td>\n",
       "    </tr>\n",
       "    <tr>\n",
       "      <th>2</th>\n",
       "      <td>2022-06-17</td>\n",
       "      <td>1</td>\n",
       "    </tr>\n",
       "    <tr>\n",
       "      <th>3</th>\n",
       "      <td>2022-06-13</td>\n",
       "      <td>2</td>\n",
       "    </tr>\n",
       "    <tr>\n",
       "      <th>4</th>\n",
       "      <td>2022-05-24</td>\n",
       "      <td>2</td>\n",
       "    </tr>\n",
       "    <tr>\n",
       "      <th>...</th>\n",
       "      <td>...</td>\n",
       "      <td>...</td>\n",
       "    </tr>\n",
       "    <tr>\n",
       "      <th>1076</th>\n",
       "      <td>2001-07-05</td>\n",
       "      <td>1</td>\n",
       "    </tr>\n",
       "    <tr>\n",
       "      <th>1077</th>\n",
       "      <td>1999-10-21</td>\n",
       "      <td>1</td>\n",
       "    </tr>\n",
       "    <tr>\n",
       "      <th>1078</th>\n",
       "      <td>1999-02-16</td>\n",
       "      <td>1</td>\n",
       "    </tr>\n",
       "    <tr>\n",
       "      <th>1079</th>\n",
       "      <td>1998-07-10</td>\n",
       "      <td>2</td>\n",
       "    </tr>\n",
       "    <tr>\n",
       "      <th>1080</th>\n",
       "      <td>1993-08-04</td>\n",
       "      <td>1</td>\n",
       "    </tr>\n",
       "  </tbody>\n",
       "</table>\n",
       "<p>1081 rows × 2 columns</p>\n",
       "</div>"
      ],
      "text/plain": [
       "       datetime  count\n",
       "0    2022-07-27      1\n",
       "1    2022-06-26      3\n",
       "2    2022-06-17      1\n",
       "3    2022-06-13      2\n",
       "4    2022-05-24      2\n",
       "...         ...    ...\n",
       "1076 2001-07-05      1\n",
       "1077 1999-10-21      1\n",
       "1078 1999-02-16      1\n",
       "1079 1998-07-10      2\n",
       "1080 1993-08-04      1\n",
       "\n",
       "[1081 rows x 2 columns]"
      ]
     },
     "execution_count": 12,
     "metadata": {},
     "output_type": "execute_result"
    }
   ],
   "source": [
    "\n",
    "timedata = pd.DataFrame(data['Datum der Erstellung'])\n",
    "timedata = timedata.dropna()\n",
    "timelist=list()\n",
    "\n",
    "for index, row in timedata.iterrows():\n",
    "    #print(row['Datum der Erstellung'])\n",
    "    timelist.append(datetime.strptime(row['Datum der Erstellung'],\"%Y/%m/%d\"))\n",
    "timedata = timedata.assign(datetime=timelist)\n",
    "#df1 = df1.assign(e=pd.Series(np.random.randn(sLength)).values)\n",
    "    #timelist.append(row.strftime(%x))\n",
    "timedata.drop(columns='Datum der Erstellung', inplace=True)   \n",
    "    \n",
    "dailytime_statistics = timedata.groupby(['datetime'])[\"datetime\"]\\\n",
    "                                       .count() \\\n",
    "                                       .reset_index(name='count') \\\n",
    "                                       .sort_values(['datetime'], ascending=False, ignore_index=True)\n",
    "\n",
    "#time_statistics.to_csv(\"temp/metaauswertungtime.csv\", index=False)\n",
    "dailytime_statistics"
   ]
  },
  {
   "cell_type": "code",
   "execution_count": 13,
   "id": "ef73f63a",
   "metadata": {
    "execution": {
     "iopub.execute_input": "2022-11-16T12:25:37.857402Z",
     "iopub.status.busy": "2022-11-16T12:25:37.856404Z",
     "iopub.status.idle": "2022-11-16T12:25:38.296818Z",
     "shell.execute_reply": "2022-11-16T12:25:38.294806Z"
    },
    "papermill": {
     "duration": 0.462446,
     "end_time": "2022-11-16T12:25:38.299857",
     "exception": false,
     "start_time": "2022-11-16T12:25:37.837411",
     "status": "completed"
    },
    "scrolled": true,
    "tags": []
   },
   "outputs": [
    {
     "data": {
      "text/plain": [
       "<AxesSubplot: xlabel='datetime'>"
      ]
     },
     "execution_count": 13,
     "metadata": {},
     "output_type": "execute_result"
    },
    {
     "data": {
      "image/png": "[encoded data removed]",
      "text/plain": [
       "<Figure size 640x480 with 1 Axes>"
      ]
     },
     "metadata": {},
     "output_type": "display_data"
    }
   ],
   "source": [
    "dailytime_statistics.set_index(['datetime'],inplace=True)\n",
    "dailytime_statistics.plot()"
   ]
  },
  {
   "cell_type": "code",
   "execution_count": 14,
   "id": "42d0d716",
   "metadata": {
    "execution": {
     "iopub.execute_input": "2022-11-16T12:25:38.329577Z",
     "iopub.status.busy": "2022-11-16T12:25:38.327825Z",
     "iopub.status.idle": "2022-11-16T12:25:38.796718Z",
     "shell.execute_reply": "2022-11-16T12:25:38.793788Z"
    },
    "papermill": {
     "duration": 0.486894,
     "end_time": "2022-11-16T12:25:38.799716",
     "exception": true,
     "start_time": "2022-11-16T12:25:38.312822",
     "status": "failed"
    },
    "scrolled": true,
    "tags": []
   },
   "outputs": [
    {
     "data": {
      "text/plain": [
       "<AxesSubplot: xlabel='datetime'>"
      ]
     },
     "execution_count": 14,
     "metadata": {},
     "output_type": "execute_result"
    },
    {
     "data": {
      "image/png": "[encoded data removed]",
      "text/plain": [
       "<Figure size 640x480 with 1 Axes>"
      ]
     },
     "metadata": {},
     "output_type": "display_data"
    }
   ],
   "source": [
    "weeklytime_statistics= dailytime_statistics.resample('W').sum() #hier Buchstaben verändern für andere Zeitspannen\n",
    "weeklytime_statistics.plot()"
   ]
  },
  {
   "cell_type": "code",
   "execution_count": 15,
   "id": "c10c85b7",
   "metadata": {
    "execution": {
     "iopub.execute_input": "2022-09-27T10:52:55.898175Z",
     "iopub.status.busy": "2022-09-27T10:52:55.898175Z",
     "iopub.status.idle": "2022-09-27T10:52:55.942245Z",
     "shell.execute_reply": "2022-09-27T10:52:55.940242Z"
    },
    "papermill": {
     "duration": null,
     "end_time": null,
     "exception": null,
     "start_time": null,
     "status": "pending"
    },
    "scrolled": true,
    "tags": []
   },
   "outputs": [
    {
     "data": {
      "text/html": [
       "<div>\n",
       "<style scoped>\n",
       "    .dataframe tbody tr th:only-of-type {\n",
       "        vertical-align: middle;\n",
       "    }\n",
       "\n",
       "    .dataframe tbody tr th {\n",
       "        vertical-align: top;\n",
       "    }\n",
       "\n",
       "    .dataframe thead th {\n",
       "        text-align: right;\n",
       "    }\n",
       "</style>\n",
       "<table border=\"1\" class=\"dataframe\">\n",
       "  <thead>\n",
       "    <tr style=\"text-align: right;\">\n",
       "      <th></th>\n",
       "      <th>Seitenzahl</th>\n",
       "      <th>count</th>\n",
       "    </tr>\n",
       "  </thead>\n",
       "  <tbody>\n",
       "    <tr>\n",
       "      <th>0</th>\n",
       "      <td>1.0</td>\n",
       "      <td>807</td>\n",
       "    </tr>\n",
       "    <tr>\n",
       "      <th>1</th>\n",
       "      <td>2.0</td>\n",
       "      <td>447</td>\n",
       "    </tr>\n",
       "    <tr>\n",
       "      <th>2</th>\n",
       "      <td>3.0</td>\n",
       "      <td>237</td>\n",
       "    </tr>\n",
       "    <tr>\n",
       "      <th>3</th>\n",
       "      <td>4.0</td>\n",
       "      <td>162</td>\n",
       "    </tr>\n",
       "    <tr>\n",
       "      <th>4</th>\n",
       "      <td>5.0</td>\n",
       "      <td>161</td>\n",
       "    </tr>\n",
       "    <tr>\n",
       "      <th>...</th>\n",
       "      <td>...</td>\n",
       "      <td>...</td>\n",
       "    </tr>\n",
       "    <tr>\n",
       "      <th>169</th>\n",
       "      <td>591.0</td>\n",
       "      <td>3</td>\n",
       "    </tr>\n",
       "    <tr>\n",
       "      <th>170</th>\n",
       "      <td>623.0</td>\n",
       "      <td>2</td>\n",
       "    </tr>\n",
       "    <tr>\n",
       "      <th>171</th>\n",
       "      <td>857.0</td>\n",
       "      <td>2</td>\n",
       "    </tr>\n",
       "    <tr>\n",
       "      <th>172</th>\n",
       "      <td>1018.0</td>\n",
       "      <td>1</td>\n",
       "    </tr>\n",
       "    <tr>\n",
       "      <th>173</th>\n",
       "      <td>1061.0</td>\n",
       "      <td>2</td>\n",
       "    </tr>\n",
       "  </tbody>\n",
       "</table>\n",
       "<p>174 rows × 2 columns</p>\n",
       "</div>"
      ],
      "text/plain": [
       "     Seitenzahl  count\n",
       "0           1.0    807\n",
       "1           2.0    447\n",
       "2           3.0    237\n",
       "3           4.0    162\n",
       "4           5.0    161\n",
       "..          ...    ...\n",
       "169       591.0      3\n",
       "170       623.0      2\n",
       "171       857.0      2\n",
       "172      1018.0      1\n",
       "173      1061.0      2\n",
       "\n",
       "[174 rows x 2 columns]"
      ]
     },
     "execution_count": 15,
     "metadata": {},
     "output_type": "execute_result"
    }
   ],
   "source": [
    "pagedata = data[('Seitenzahl' )].replace('', np.nan).dropna()\n",
    "page_statistics = data.groupby(['Seitenzahl'])[\"Seitenzahl\"]\\\n",
    "                                       .count() \\\n",
    "                                       .reset_index(name='count') \\\n",
    "                                       .sort_values(['Seitenzahl'], ascending=True, ignore_index=True)\n",
    "page_statistics"
   ]
  },
  {
   "cell_type": "code",
   "execution_count": 16,
   "id": "613e3265",
   "metadata": {
    "execution": {
     "iopub.execute_input": "2022-09-27T10:52:56.000091Z",
     "iopub.status.busy": "2022-09-27T10:52:55.999093Z",
     "iopub.status.idle": "2022-09-27T10:52:56.267440Z",
     "shell.execute_reply": "2022-09-27T10:52:56.266436Z"
    },
    "papermill": {
     "duration": null,
     "end_time": null,
     "exception": null,
     "start_time": null,
     "status": "pending"
    },
    "scrolled": true,
    "tags": []
   },
   "outputs": [
    {
     "data": {
      "text/plain": [
       "<AxesSubplot: xlabel='Seitenzahl'>"
      ]
     },
     "execution_count": 16,
     "metadata": {},
     "output_type": "execute_result"
    },
    {
     "data": {
      "image/png": "[encoded data removed]",
      "text/plain": [
       "<Figure size 640x480 with 1 Axes>"
      ]
     },
     "metadata": {},
     "output_type": "display_data"
    }
   ],
   "source": [
    "page_statistics.set_index(['Seitenzahl'],inplace=True)\n",
    "page_statistics.plot()"
   ]
  },
  {
   "cell_type": "code",
   "execution_count": 17,
   "id": "6d0a5513",
   "metadata": {
    "execution": {
     "iopub.execute_input": "2022-09-27T10:52:56.327431Z",
     "iopub.status.busy": "2022-09-27T10:52:56.327431Z",
     "iopub.status.idle": "2022-09-27T10:52:56.360498Z",
     "shell.execute_reply": "2022-09-27T10:52:56.359493Z"
    },
    "papermill": {
     "duration": null,
     "end_time": null,
     "exception": null,
     "start_time": null,
     "status": "pending"
    },
    "scrolled": true,
    "tags": []
   },
   "outputs": [
    {
     "data": {
      "text/html": [
       "<div>\n",
       "<style scoped>\n",
       "    .dataframe tbody tr th:only-of-type {\n",
       "        vertical-align: middle;\n",
       "    }\n",
       "\n",
       "    .dataframe tbody tr th {\n",
       "        vertical-align: top;\n",
       "    }\n",
       "\n",
       "    .dataframe thead th {\n",
       "        text-align: right;\n",
       "    }\n",
       "</style>\n",
       "<table border=\"1\" class=\"dataframe\">\n",
       "  <thead>\n",
       "    <tr style=\"text-align: right;\">\n",
       "      <th></th>\n",
       "      <th>Format</th>\n",
       "      <th>count</th>\n",
       "    </tr>\n",
       "  </thead>\n",
       "  <tbody>\n",
       "    <tr>\n",
       "      <th>0</th>\n",
       "      <td>Hochformat</td>\n",
       "      <td>2615</td>\n",
       "    </tr>\n",
       "    <tr>\n",
       "      <th>1</th>\n",
       "      <td>Querformat</td>\n",
       "      <td>1880</td>\n",
       "    </tr>\n",
       "  </tbody>\n",
       "</table>\n",
       "</div>"
      ],
      "text/plain": [
       "       Format  count\n",
       "0  Hochformat   2615\n",
       "1  Querformat   1880"
      ]
     },
     "execution_count": 17,
     "metadata": {},
     "output_type": "execute_result"
    }
   ],
   "source": [
    "format_statistics = data.groupby(['Format'])[\"Format\"]\\\n",
    "                                       .count() \\\n",
    "                                       .reset_index(name='count') \\\n",
    "                                       .sort_values(['count'], ascending=False, ignore_index=True)\n",
    "format_statistics"
   ]
  },
  {
   "cell_type": "code",
   "execution_count": 18,
   "id": "f3c8719e",
   "metadata": {
    "execution": {
     "iopub.execute_input": "2022-09-27T10:52:56.418346Z",
     "iopub.status.busy": "2022-09-27T10:52:56.418346Z",
     "iopub.status.idle": "2022-09-27T10:52:56.719538Z",
     "shell.execute_reply": "2022-09-27T10:52:56.718539Z"
    },
    "papermill": {
     "duration": null,
     "end_time": null,
     "exception": null,
     "start_time": null,
     "status": "pending"
    },
    "scrolled": true,
    "tags": []
   },
   "outputs": [
    {
     "data": {
      "text/plain": [
       "<AxesSubplot: xlabel='Format'>"
      ]
     },
     "execution_count": 18,
     "metadata": {},
     "output_type": "execute_result"
    },
    {
     "data": {
      "image/png": "[encoded data removed]",
      "text/plain": [
       "<Figure size 640x480 with 1 Axes>"
      ]
     },
     "metadata": {},
     "output_type": "display_data"
    }
   ],
   "source": [
    "format_statistics.plot(kind='bar', x='Format')"
   ]
  },
  {
   "cell_type": "code",
   "execution_count": 19,
   "id": "c5409743",
   "metadata": {
    "execution": {
     "iopub.execute_input": "2022-09-27T10:52:56.765415Z",
     "iopub.status.busy": "2022-09-27T10:52:56.764417Z",
     "iopub.status.idle": "2022-09-27T10:52:56.797664Z",
     "shell.execute_reply": "2022-09-27T10:52:56.796661Z"
    },
    "papermill": {
     "duration": null,
     "end_time": null,
     "exception": null,
     "start_time": null,
     "status": "pending"
    },
    "scrolled": true,
    "tags": []
   },
   "outputs": [
    {
     "data": {
      "text/html": [
       "<div>\n",
       "<style scoped>\n",
       "    .dataframe tbody tr th:only-of-type {\n",
       "        vertical-align: middle;\n",
       "    }\n",
       "\n",
       "    .dataframe tbody tr th {\n",
       "        vertical-align: top;\n",
       "    }\n",
       "\n",
       "    .dataframe thead th {\n",
       "        text-align: right;\n",
       "    }\n",
       "</style>\n",
       "<table border=\"1\" class=\"dataframe\">\n",
       "  <thead>\n",
       "    <tr style=\"text-align: right;\">\n",
       "      <th></th>\n",
       "      <th>Dateigröße</th>\n",
       "      <th>count</th>\n",
       "    </tr>\n",
       "  </thead>\n",
       "  <tbody>\n",
       "    <tr>\n",
       "      <th>0</th>\n",
       "      <td>6028.0</td>\n",
       "      <td>1</td>\n",
       "    </tr>\n",
       "    <tr>\n",
       "      <th>1</th>\n",
       "      <td>6135.0</td>\n",
       "      <td>1</td>\n",
       "    </tr>\n",
       "    <tr>\n",
       "      <th>2</th>\n",
       "      <td>6343.0</td>\n",
       "      <td>1</td>\n",
       "    </tr>\n",
       "    <tr>\n",
       "      <th>3</th>\n",
       "      <td>7012.0</td>\n",
       "      <td>1</td>\n",
       "    </tr>\n",
       "    <tr>\n",
       "      <th>4</th>\n",
       "      <td>7639.0</td>\n",
       "      <td>1</td>\n",
       "    </tr>\n",
       "    <tr>\n",
       "      <th>...</th>\n",
       "      <td>...</td>\n",
       "      <td>...</td>\n",
       "    </tr>\n",
       "    <tr>\n",
       "      <th>3680</th>\n",
       "      <td>122738171.0</td>\n",
       "      <td>1</td>\n",
       "    </tr>\n",
       "    <tr>\n",
       "      <th>3681</th>\n",
       "      <td>177360802.0</td>\n",
       "      <td>1</td>\n",
       "    </tr>\n",
       "    <tr>\n",
       "      <th>3682</th>\n",
       "      <td>198529321.0</td>\n",
       "      <td>1</td>\n",
       "    </tr>\n",
       "    <tr>\n",
       "      <th>3683</th>\n",
       "      <td>203312639.0</td>\n",
       "      <td>1</td>\n",
       "    </tr>\n",
       "    <tr>\n",
       "      <th>3684</th>\n",
       "      <td>285038478.0</td>\n",
       "      <td>1</td>\n",
       "    </tr>\n",
       "  </tbody>\n",
       "</table>\n",
       "<p>3685 rows × 2 columns</p>\n",
       "</div>"
      ],
      "text/plain": [
       "       Dateigröße  count\n",
       "0          6028.0      1\n",
       "1          6135.0      1\n",
       "2          6343.0      1\n",
       "3          7012.0      1\n",
       "4          7639.0      1\n",
       "...           ...    ...\n",
       "3680  122738171.0      1\n",
       "3681  177360802.0      1\n",
       "3682  198529321.0      1\n",
       "3683  203312639.0      1\n",
       "3684  285038478.0      1\n",
       "\n",
       "[3685 rows x 2 columns]"
      ]
     },
     "execution_count": 19,
     "metadata": {},
     "output_type": "execute_result"
    }
   ],
   "source": [
    "#Dateigröße\n",
    "sizedata = pd.DataFrame(data['Dateigröße'])\n",
    "sizedata.dropna(inplace=True)\n",
    "\n",
    "#sizelist = list()\n",
    "\n",
    "#for index, row in sizedata.iterrows():\n",
    "#    sizesplitter = row['Dateigröße'].split(\" \", 1)\n",
    "#    if sizesplitter[1] == \"GB\":\n",
    "#        sizelist.append(float(sizesplitter[0]) * 1000000000)\n",
    "#    elif sizesplitter[1] == \"MB\":\n",
    "#        sizelist.append(float(sizesplitter[0]) * 1000000)\n",
    "#    elif sizesplitter[1] == \"kB\":\n",
    "#        sizelist.append(float(sizesplitter[0]) * 1000)\n",
    "#    else:\n",
    "#        sizelist.append(float(sizesplitter[0]))\n",
    "\n",
    "#sizelist\n",
    "#sizedata = sizedata.assign(size=sizelist)\n",
    "\n",
    "\n",
    "#df1 = df1.assign(e=pd.Series(np.random.randn(sLength)).values)\n",
    "    #timelist.append(row.strftime(%x))\n",
    "\n",
    "size_statistics = sizedata.groupby(['Dateigröße'])[\"Dateigröße\"]\\\n",
    "                                       .count() \\\n",
    "                                       .reset_index(name='count') \\\n",
    "                                       .sort_values(['Dateigröße'], ascending=True, ignore_index=True)\n",
    "size_statistics"
   ]
  },
  {
   "cell_type": "code",
   "execution_count": 20,
   "id": "a17e5ea7",
   "metadata": {
    "execution": {
     "iopub.execute_input": "2022-09-27T10:52:56.863489Z",
     "iopub.status.busy": "2022-09-27T10:52:56.862490Z",
     "iopub.status.idle": "2022-09-27T10:52:57.312662Z",
     "shell.execute_reply": "2022-09-27T10:52:57.311656Z"
    },
    "papermill": {
     "duration": null,
     "end_time": null,
     "exception": null,
     "start_time": null,
     "status": "pending"
    },
    "scrolled": true,
    "tags": []
   },
   "outputs": [
    {
     "data": {
      "text/plain": [
       "<AxesSubplot: xlabel='Dateigröße'>"
      ]
     },
     "execution_count": 20,
     "metadata": {},
     "output_type": "execute_result"
    },
    {
     "data": {
      "image/png": "[encoded data removed]",
      "text/plain": [
       "<Figure size 640x480 with 1 Axes>"
      ]
     },
     "metadata": {},
     "output_type": "display_data"
    }
   ],
   "source": [
    "size_statistics.set_index(['Dateigröße'],inplace=True)\n",
    "size_statistics.plot()"
   ]
  },
  {
   "cell_type": "markdown",
   "id": "353a3cfb",
   "metadata": {
    "papermill": {
     "duration": null,
     "end_time": null,
     "exception": null,
     "start_time": null,
     "status": "pending"
    },
    "tags": []
   },
   "source": [
    "### Hier werden Daten aus content.json und allen Phasen ausgewertet"
   ]
  },
  {
   "cell_type": "code",
   "execution_count": 34,
   "id": "80624298",
   "metadata": {
    "execution": {
     "iopub.execute_input": "2022-09-27T10:52:57.430347Z",
     "iopub.status.busy": "2022-09-27T10:52:57.429350Z",
     "iopub.status.idle": "2022-09-27T10:52:57.514261Z",
     "shell.execute_reply": "2022-09-27T10:52:57.513329Z"
    },
    "papermill": {
     "duration": null,
     "end_time": null,
     "exception": null,
     "start_time": null,
     "status": "pending"
    },
    "scrolled": true,
    "tags": []
   },
   "outputs": [],
   "source": [
    "#delete Errors\n",
    "fusion = fusion[(fusion['Error'].isnull())]\n",
    "\n",
    "maxsize = len(fusion)\n",
    "licenseprev = len(fusion[((fusion['license'].notna()) & (fusion['license'] != ''))])\n",
    "titleprev = len(fusion[((fusion['title'].notna()) & (fusion['title'] != ''))])\n",
    "titlenow = len(fusion[((fusion['title'].notna()) & (fusion['title'] != '')) | ((fusion['Titel'].notna()) & (fusion['Titel'] != ''))])\n",
    "creatorprev = len(fusion[((fusion['creator'].notna()) & (fusion['creator'] != ''))])\n",
    "creatornow =len(fusion[((fusion['creator'].notna()) & (fusion['creator'] != '')) | ((fusion['Author'].notna()) & (fusion['Author'] != ''))])\n",
    "pagesprev = len(fusion[((fusion['pages'].notna()) & (fusion['pages'] != ''))])\n",
    "pagesnow = len(fusion[((fusion['pages'].notna()) & (fusion['pages'] != '')) | ((fusion['Seitenzahl'].notna()) & (fusion['Seitenzahl'] != ''))])\n",
    "languageprev = len(fusion[((fusion['language'].notna()) & (fusion['language'] != ''))])\n",
    "languagenow = len(fusion[((fusion['Language'].notna()) & (fusion['Language'] != ''))])\n",
    "keywordsprev = len(fusion[((fusion['nav1'].notna()) & (fusion['nav1'] != ''))])\n",
    "keywordsnow = len(fusion[((fusion['Keywords'].notna()) & (fusion['Keywords'] != ''))| ((fusion['KeywordIDs'].notna()) & (fusion['KeywordIDs'] != ''))])\n",
    "#keywords\n",
    "\n",
    "columns = ('License', 'Title', 'Creator', 'Pages', 'Language', 'Keywords')\n",
    "ind =[0.2, 0.65, 1.1, 1.55, 2, 2.45]"
   ]
  },
  {
   "cell_type": "code",
   "execution_count": 35,
   "id": "fcf2660f",
   "metadata": {
    "execution": {
     "iopub.execute_input": "2022-09-27T10:52:57.585272Z",
     "iopub.status.busy": "2022-09-27T10:52:57.584274Z",
     "iopub.status.idle": "2022-09-27T10:52:57.794030Z",
     "shell.execute_reply": "2022-09-27T10:52:57.793027Z"
    },
    "papermill": {
     "duration": null,
     "end_time": null,
     "exception": null,
     "start_time": null,
     "status": "pending"
    },
    "scrolled": true,
    "tags": []
   },
   "outputs": [
    {
     "data": {
      "text/plain": [
       "<BarContainer object of 6 artists>"
      ]
     },
     "execution_count": 35,
     "metadata": {},
     "output_type": "execute_result"
    },
    {
     "data": {
      "image/png": "[encoded data removed]",
      "text/plain": [
       "<Figure size 640x480 with 1 Axes>"
      ]
     },
     "metadata": {},
     "output_type": "display_data"
    }
   ],
   "source": [
    "#Graph w/o meta.csv\n",
    "\n",
    "plt.bar(x = ind, \n",
    "        height = [licenseprev/maxsize, titleprev/maxsize, creatorprev/maxsize, pagesprev/maxsize, languageprev/maxsize, keywordsprev/maxsize], \n",
    "        color ='lightblue',\n",
    "        width = 0.4,\n",
    "        tick_label = columns)"
   ]
  },
  {
   "cell_type": "code",
   "execution_count": 36,
   "id": "87252f8e",
   "metadata": {
    "execution": {
     "iopub.execute_input": "2022-09-27T10:52:57.857861Z",
     "iopub.status.busy": "2022-09-27T10:52:57.856860Z",
     "iopub.status.idle": "2022-09-27T10:52:58.062387Z",
     "shell.execute_reply": "2022-09-27T10:52:58.061386Z"
    },
    "papermill": {
     "duration": null,
     "end_time": null,
     "exception": null,
     "start_time": null,
     "status": "pending"
    },
    "scrolled": true,
    "tags": []
   },
   "outputs": [
    {
     "data": {
      "text/plain": [
       "<BarContainer object of 6 artists>"
      ]
     },
     "execution_count": 36,
     "metadata": {},
     "output_type": "execute_result"
    },
    {
     "data": {
      "image/png": "[encoded data removed]",
      "text/plain": [
       "<Figure size 640x480 with 1 Axes>"
      ]
     },
     "metadata": {},
     "output_type": "display_data"
    }
   ],
   "source": [
    "#Graph with meta.csv\n",
    "plt.bar(x = ind, \n",
    "        height = [licenseprev/maxsize, titlenow/maxsize, creatornow/maxsize, pagesnow/maxsize, languagenow/maxsize, keywordsnow/maxsize], \n",
    "        color ='lightblue',\n",
    "        width = 0.4,\n",
    "        tick_label = columns)"
   ]
  },
  {
   "cell_type": "code",
   "execution_count": 37,
   "id": "86587ca2",
   "metadata": {
    "execution": {
     "iopub.execute_input": "2022-09-27T10:52:58.136190Z",
     "iopub.status.busy": "2022-09-27T10:52:58.136190Z",
     "iopub.status.idle": "2022-09-27T10:52:58.405470Z",
     "shell.execute_reply": "2022-09-27T10:52:58.404476Z"
    },
    "papermill": {
     "duration": null,
     "end_time": null,
     "exception": null,
     "start_time": null,
     "status": "pending"
    },
    "scrolled": true,
    "tags": []
   },
   "outputs": [
    {
     "data": {
      "text/plain": [
       "<matplotlib.legend.Legend at 0x1ce775ef1c0>"
      ]
     },
     "execution_count": 37,
     "metadata": {},
     "output_type": "execute_result"
    },
    {
     "data": {
      "image/png": "[encoded data removed]",
      "text/plain": [
       "<Figure size 640x480 with 1 Axes>"
      ]
     },
     "metadata": {},
     "output_type": "display_data"
    }
   ],
   "source": [
    "plt.bar(x = ind, \n",
    "        height = [licenseprev/maxsize, titlenow/maxsize, creatornow/maxsize, pagesnow/maxsize, languagenow/maxsize, keywordsnow/maxsize], \n",
    "        color ='lightblue',\n",
    "        width = 0.4,\n",
    "        tick_label = columns)\n",
    "plt.bar(x = ind, \n",
    "        height = [licenseprev/maxsize, titleprev/maxsize, creatorprev/maxsize, pagesprev/maxsize, languageprev/maxsize, keywordsprev/maxsize], \n",
    "        color ='blue',\n",
    "        width = 0.4,\n",
    "        tick_label = columns)\n",
    "\n",
    "content_label = mpatches.Patch(color='blue', label='content.json')\n",
    "fusion_label = mpatches.Patch(color='lightblue', label='fused content')\n",
    "plt.legend(handles=[content_label, fusion_label])\n"
   ]
  },
  {
   "cell_type": "code",
   "execution_count": 25,
   "id": "1a0ef38e",
   "metadata": {
    "execution": {
     "iopub.execute_input": "2022-09-27T10:52:58.478279Z",
     "iopub.status.busy": "2022-09-27T10:52:58.478279Z",
     "iopub.status.idle": "2022-09-27T10:52:58.496208Z",
     "shell.execute_reply": "2022-09-27T10:52:58.495188Z"
    },
    "papermill": {
     "duration": null,
     "end_time": null,
     "exception": null,
     "start_time": null,
     "status": "pending"
    },
    "tags": []
   },
   "outputs": [
    {
     "data": {
      "text/plain": [
       "104"
      ]
     },
     "execution_count": 25,
     "metadata": {},
     "output_type": "execute_result"
    }
   ],
   "source": [
    "titlecompare = fusion[((fusion['title'].notna()) & (fusion['Titel'].notna()))]\n",
    "len(titlecompare)"
   ]
  },
  {
   "cell_type": "code",
   "execution_count": 26,
   "id": "bde9f6a6",
   "metadata": {
    "execution": {
     "iopub.execute_input": "2022-09-27T10:52:58.570012Z",
     "iopub.status.busy": "2022-09-27T10:52:58.570012Z",
     "iopub.status.idle": "2022-09-27T10:52:58.589263Z",
     "shell.execute_reply": "2022-09-27T10:52:58.588257Z"
    },
    "papermill": {
     "duration": null,
     "end_time": null,
     "exception": null,
     "start_time": null,
     "status": "pending"
    },
    "tags": []
   },
   "outputs": [
    {
     "data": {
      "text/plain": [
       "18"
      ]
     },
     "execution_count": 26,
     "metadata": {},
     "output_type": "execute_result"
    }
   ],
   "source": [
    "titlesame = titlecompare[(titlecompare['title'] == titlecompare['Titel'])]\n",
    "len(titlesame)"
   ]
  },
  {
   "cell_type": "code",
   "execution_count": 27,
   "id": "9a6956fd",
   "metadata": {
    "execution": {
     "iopub.execute_input": "2022-09-27T10:52:58.661068Z",
     "iopub.status.busy": "2022-09-27T10:52:58.659075Z",
     "iopub.status.idle": "2022-09-27T10:52:58.668050Z",
     "shell.execute_reply": "2022-09-27T10:52:58.667119Z"
    },
    "papermill": {
     "duration": null,
     "end_time": null,
     "exception": null,
     "start_time": null,
     "status": "pending"
    },
    "tags": []
   },
   "outputs": [],
   "source": [
    "#titlesame.to_csv(\"data/metaauswertungtitelvergleich.csv\", index=False)"
   ]
  },
  {
   "cell_type": "code",
   "execution_count": 28,
   "id": "e90fad87",
   "metadata": {
    "papermill": {
     "duration": null,
     "end_time": null,
     "exception": null,
     "start_time": null,
     "status": "pending"
    },
    "tags": []
   },
   "outputs": [],
   "source": [
    "\n",
    "textsize = fusion.groupby(['Textsize'])[\"Textsize\"]\\\n",
    "                                       .count() \\\n",
    "                                       .reset_index(name='count') \\\n",
    "                                       .sort_values(['Textsize'], ascending=True, ignore_index=True)\n",
    "#textsize.set_index(['Textsize'],inplace=True)\n",
    "#textsize.plot()\n",
    "olang = fusion.groupby(['Language'])[\"Language\"]\\\n",
    "                                       .count() \\\n",
    "                                       .reset_index(name='count') \\\n",
    "                                       .sort_values(['Language'], ascending=True, ignore_index=True)"
   ]
  },
  {
   "cell_type": "code",
   "execution_count": 29,
   "id": "25b01e3a",
   "metadata": {
    "papermill": {
     "duration": null,
     "end_time": null,
     "exception": null,
     "start_time": null,
     "status": "pending"
    },
    "tags": []
   },
   "outputs": [
    {
     "data": {
      "text/html": [
       "<div>\n",
       "<style scoped>\n",
       "    .dataframe tbody tr th:only-of-type {\n",
       "        vertical-align: middle;\n",
       "    }\n",
       "\n",
       "    .dataframe tbody tr th {\n",
       "        vertical-align: top;\n",
       "    }\n",
       "\n",
       "    .dataframe thead th {\n",
       "        text-align: right;\n",
       "    }\n",
       "</style>\n",
       "<table border=\"1\" class=\"dataframe\">\n",
       "  <thead>\n",
       "    <tr style=\"text-align: right;\">\n",
       "      <th></th>\n",
       "      <th>Textsize</th>\n",
       "      <th>count</th>\n",
       "    </tr>\n",
       "  </thead>\n",
       "  <tbody>\n",
       "    <tr>\n",
       "      <th>0</th>\n",
       "      <td>0.0</td>\n",
       "      <td>393</td>\n",
       "    </tr>\n",
       "    <tr>\n",
       "      <th>1</th>\n",
       "      <td>2.0</td>\n",
       "      <td>5</td>\n",
       "    </tr>\n",
       "    <tr>\n",
       "      <th>2</th>\n",
       "      <td>5.0</td>\n",
       "      <td>1</td>\n",
       "    </tr>\n",
       "    <tr>\n",
       "      <th>3</th>\n",
       "      <td>8.0</td>\n",
       "      <td>1</td>\n",
       "    </tr>\n",
       "    <tr>\n",
       "      <th>4</th>\n",
       "      <td>12.0</td>\n",
       "      <td>2</td>\n",
       "    </tr>\n",
       "    <tr>\n",
       "      <th>...</th>\n",
       "      <td>...</td>\n",
       "      <td>...</td>\n",
       "    </tr>\n",
       "    <tr>\n",
       "      <th>167</th>\n",
       "      <td>899880.0</td>\n",
       "      <td>1</td>\n",
       "    </tr>\n",
       "    <tr>\n",
       "      <th>168</th>\n",
       "      <td>1068320.0</td>\n",
       "      <td>3</td>\n",
       "    </tr>\n",
       "    <tr>\n",
       "      <th>169</th>\n",
       "      <td>1226075.0</td>\n",
       "      <td>1</td>\n",
       "    </tr>\n",
       "    <tr>\n",
       "      <th>170</th>\n",
       "      <td>1297818.0</td>\n",
       "      <td>2</td>\n",
       "    </tr>\n",
       "    <tr>\n",
       "      <th>171</th>\n",
       "      <td>1821855.0</td>\n",
       "      <td>1</td>\n",
       "    </tr>\n",
       "  </tbody>\n",
       "</table>\n",
       "<p>172 rows × 2 columns</p>\n",
       "</div>"
      ],
      "text/plain": [
       "      Textsize  count\n",
       "0          0.0    393\n",
       "1          2.0      5\n",
       "2          5.0      1\n",
       "3          8.0      1\n",
       "4         12.0      2\n",
       "..         ...    ...\n",
       "167   899880.0      1\n",
       "168  1068320.0      3\n",
       "169  1226075.0      1\n",
       "170  1297818.0      2\n",
       "171  1821855.0      1\n",
       "\n",
       "[172 rows x 2 columns]"
      ]
     },
     "execution_count": 29,
     "metadata": {},
     "output_type": "execute_result"
    }
   ],
   "source": [
    "#textsize[(textsize['Textsize'] < 100)]\n",
    "yorubas =fusion[(fusion['Language'] != \"GERMAN\") & (fusion['Language'] != \"ENGLISH\")]\n",
    "cutedge = yorubas.groupby(['Textsize'])[\"Textsize\"]\\\n",
    "                                       .count() \\\n",
    "                                       .reset_index(name='count') \\\n",
    "                                       .sort_values(['Textsize'], ascending=True, ignore_index=True)\n",
    "cutedge"
   ]
  },
  {
   "cell_type": "code",
   "execution_count": 30,
   "id": "1109731f",
   "metadata": {
    "papermill": {
     "duration": null,
     "end_time": null,
     "exception": null,
     "start_time": null,
     "status": "pending"
    },
    "tags": []
   },
   "outputs": [
    {
     "data": {
      "text/html": [
       "<div>\n",
       "<style scoped>\n",
       "    .dataframe tbody tr th:only-of-type {\n",
       "        vertical-align: middle;\n",
       "    }\n",
       "\n",
       "    .dataframe tbody tr th {\n",
       "        vertical-align: top;\n",
       "    }\n",
       "\n",
       "    .dataframe thead th {\n",
       "        text-align: right;\n",
       "    }\n",
       "</style>\n",
       "<table border=\"1\" class=\"dataframe\">\n",
       "  <thead>\n",
       "    <tr style=\"text-align: right;\">\n",
       "      <th></th>\n",
       "      <th>Identifier</th>\n",
       "      <th>Keywords</th>\n",
       "      <th>Keywordnames</th>\n",
       "    </tr>\n",
       "  </thead>\n",
       "  <tbody>\n",
       "    <tr>\n",
       "      <th>1</th>\n",
       "      <td>8I6sM5zapD60</td>\n",
       "      <td>NaN</td>\n",
       "      <td>['Auswahl', 'Entzerrung', 'Genauigkeit']</td>\n",
       "    </tr>\n",
       "    <tr>\n",
       "      <th>2</th>\n",
       "      <td>8ZICOHBmAHyQ</td>\n",
       "      <td>NaN</td>\n",
       "      <td>NaN</td>\n",
       "    </tr>\n",
       "    <tr>\n",
       "      <th>6</th>\n",
       "      <td>3ztCv-WpxJ4U</td>\n",
       "      <td>NaN</td>\n",
       "      <td>['Bibliographie der Bibliographien', 'Essay', ...</td>\n",
       "    </tr>\n",
       "    <tr>\n",
       "      <th>8</th>\n",
       "      <td>6mOhjfscZK2A</td>\n",
       "      <td>NaN</td>\n",
       "      <td>['Klassifikationszentrum für medizinische Begr...</td>\n",
       "    </tr>\n",
       "    <tr>\n",
       "      <th>11</th>\n",
       "      <td>1eteONeHL82Y</td>\n",
       "      <td>NaN</td>\n",
       "      <td>['Fuchsmühler Ereignisse', 'Weierstraß-Funktio...</td>\n",
       "    </tr>\n",
       "    <tr>\n",
       "      <th>...</th>\n",
       "      <td>...</td>\n",
       "      <td>...</td>\n",
       "      <td>...</td>\n",
       "    </tr>\n",
       "    <tr>\n",
       "      <th>11287</th>\n",
       "      <td>37MxoszUOjDw</td>\n",
       "      <td>NaN</td>\n",
       "      <td>['Müller', 'Gemeinsame Quellen- und Kanalcodie...</td>\n",
       "    </tr>\n",
       "    <tr>\n",
       "      <th>11288</th>\n",
       "      <td>8nQgLPwKyxec</td>\n",
       "      <td>NaN</td>\n",
       "      <td>['Handbuch', 'Inhaltsverzeichnis', 'Lehrer']</td>\n",
       "    </tr>\n",
       "    <tr>\n",
       "      <th>11291</th>\n",
       "      <td>8wntomkrcr6g</td>\n",
       "      <td>NaN</td>\n",
       "      <td>['Handbuch', 'Schüler']</td>\n",
       "    </tr>\n",
       "    <tr>\n",
       "      <th>11293</th>\n",
       "      <td>6kpMNOf2zVq4</td>\n",
       "      <td>NaN</td>\n",
       "      <td>['App &lt;Programm&gt;', 'Aufgabe', 'Inventor 7', 'U...</td>\n",
       "    </tr>\n",
       "    <tr>\n",
       "      <th>11294</th>\n",
       "      <td>10HF1LdgCerKQ</td>\n",
       "      <td>NaN</td>\n",
       "      <td>['Durchführung &lt;Musik&gt;', 'Äquivariante Einbett...</td>\n",
       "    </tr>\n",
       "  </tbody>\n",
       "</table>\n",
       "<p>4495 rows × 3 columns</p>\n",
       "</div>"
      ],
      "text/plain": [
       "          Identifier Keywords  \\\n",
       "1       8I6sM5zapD60      NaN   \n",
       "2       8ZICOHBmAHyQ      NaN   \n",
       "6       3ztCv-WpxJ4U      NaN   \n",
       "8       6mOhjfscZK2A      NaN   \n",
       "11      1eteONeHL82Y      NaN   \n",
       "...              ...      ...   \n",
       "11287   37MxoszUOjDw      NaN   \n",
       "11288   8nQgLPwKyxec      NaN   \n",
       "11291   8wntomkrcr6g      NaN   \n",
       "11293   6kpMNOf2zVq4      NaN   \n",
       "11294  10HF1LdgCerKQ      NaN   \n",
       "\n",
       "                                            Keywordnames  \n",
       "1               ['Auswahl', 'Entzerrung', 'Genauigkeit']  \n",
       "2                                                    NaN  \n",
       "6      ['Bibliographie der Bibliographien', 'Essay', ...  \n",
       "8      ['Klassifikationszentrum für medizinische Begr...  \n",
       "11     ['Fuchsmühler Ereignisse', 'Weierstraß-Funktio...  \n",
       "...                                                  ...  \n",
       "11287  ['Müller', 'Gemeinsame Quellen- und Kanalcodie...  \n",
       "11288       ['Handbuch', 'Inhaltsverzeichnis', 'Lehrer']  \n",
       "11291                            ['Handbuch', 'Schüler']  \n",
       "11293  ['App <Programm>', 'Aufgabe', 'Inventor 7', 'U...  \n",
       "11294  ['Durchführung <Musik>', 'Äquivariante Einbett...  \n",
       "\n",
       "[4495 rows x 3 columns]"
      ]
     },
     "execution_count": 30,
     "metadata": {},
     "output_type": "execute_result"
    }
   ],
   "source": [
    "keywordeval = fusion[['Identifier', 'Keywords', 'Keywordnames']]\n",
    "keywordeval[(fusion['Identifier'].notna())]"
   ]
  },
  {
   "cell_type": "code",
   "execution_count": 31,
   "id": "a998c77e",
   "metadata": {
    "papermill": {
     "duration": null,
     "end_time": null,
     "exception": null,
     "start_time": null,
     "status": "pending"
    },
    "tags": []
   },
   "outputs": [],
   "source": [
    "authorfeedback = fusion[['creator', 'Author', 'filename', 'Keywordnames', 'Topwords', 'Header_Topwords']]\n",
    "authorfeedback[(authorfeedback.Author == \"Authorname\")]#.to_csv(\"data/authordata.csv\", index=False)"
   ]
  }
 ],
 "metadata": {
  "kernelspec": {
   "display_name": "Python 3 (ipykernel)",
   "language": "python",
   "name": "python3"
  },
  "language_info": {
   "codemirror_mode": {
    "name": "ipython",
    "version": 3
   },
   "file_extension": ".py",
   "mimetype": "text/x-python",
   "name": "python",
   "nbconvert_exporter": "python",
   "pygments_lexer": "ipython3",
   "version": "3.10.7"
  },
  "papermill": {
   "default_parameters": {},
   "duration": 16.564341,
   "end_time": "2022-11-16T12:25:39.401318",
   "environment_variables": {},
   "exception": true,
   "input_path": "C:\\Users\\Johann\\Desktop\\UNI\\BA\\pipenv\\notebooks\\metaevaluation.ipynb",
   "output_path": "C:\\Users\\Johann\\Desktop\\UNI\\BA\\pipenv\\notebooks\\metaevaluation.ipynb",
   "parameters": {},
   "start_time": "2022-11-16T12:25:22.836977",
   "version": "2.4.0"
  }
 },
 "nbformat": 4,
 "nbformat_minor": 5
}
