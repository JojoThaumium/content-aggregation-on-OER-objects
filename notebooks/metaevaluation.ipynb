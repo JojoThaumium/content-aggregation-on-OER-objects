{
 "cells": [
  {
   "cell_type": "code",
   "execution_count": 1,
   "id": "41c0afb3",
   "metadata": {},
   "outputs": [],
   "source": [
    "import sys\n",
    "import os.path\n",
    "#import pikepdf\n",
    "#import urllib.request\n",
    "import pandas as pd\n",
    "from datetime import datetime\n",
    "import numpy as np\n",
    "import seaborn as sns\n",
    "sns.set_color_codes('pastel')"
   ]
  },
  {
   "cell_type": "code",
   "execution_count": 2,
   "id": "405ccf7f",
   "metadata": {},
   "outputs": [
    {
     "data": {
      "text/html": [
       "<div>\n",
       "<style scoped>\n",
       "    .dataframe tbody tr th:only-of-type {\n",
       "        vertical-align: middle;\n",
       "    }\n",
       "\n",
       "    .dataframe tbody tr th {\n",
       "        vertical-align: top;\n",
       "    }\n",
       "\n",
       "    .dataframe thead th {\n",
       "        text-align: right;\n",
       "    }\n",
       "</style>\n",
       "<table border=\"1\" class=\"dataframe\">\n",
       "  <thead>\n",
       "    <tr style=\"text-align: right;\">\n",
       "      <th></th>\n",
       "      <th>Identifier</th>\n",
       "      <th>Author</th>\n",
       "      <th>Publisher</th>\n",
       "      <th>Datum der Erstellung</th>\n",
       "      <th>Titel</th>\n",
       "      <th>Seitenzahl</th>\n",
       "      <th>Format</th>\n",
       "      <th>Dateigröße</th>\n",
       "    </tr>\n",
       "  </thead>\n",
       "  <tbody>\n",
       "    <tr>\n",
       "      <th>0</th>\n",
       "      <td>8I6sM5zapD60</td>\n",
       "      <td>NaN</td>\n",
       "      <td>NaN</td>\n",
       "      <td>01/11/19</td>\n",
       "      <td>NaN</td>\n",
       "      <td>2</td>\n",
       "      <td>Präsentation</td>\n",
       "      <td>103.9 kB</td>\n",
       "    </tr>\n",
       "    <tr>\n",
       "      <th>1</th>\n",
       "      <td>8ZICOHBmAHyQ</td>\n",
       "      <td>NaN</td>\n",
       "      <td>NaN</td>\n",
       "      <td>10/25/19</td>\n",
       "      <td>NaN</td>\n",
       "      <td>10</td>\n",
       "      <td>Präsentation</td>\n",
       "      <td>156.4 kB</td>\n",
       "    </tr>\n",
       "    <tr>\n",
       "      <th>2</th>\n",
       "      <td>3ztCv-WpxJ4U</td>\n",
       "      <td>NaN</td>\n",
       "      <td>NaN</td>\n",
       "      <td>NaN</td>\n",
       "      <td>NaN</td>\n",
       "      <td>3</td>\n",
       "      <td>Präsentation</td>\n",
       "      <td>76.9 kB</td>\n",
       "    </tr>\n",
       "    <tr>\n",
       "      <th>3</th>\n",
       "      <td>6mOhjfscZK2A</td>\n",
       "      <td>NaN</td>\n",
       "      <td>NaN</td>\n",
       "      <td>10/07/19</td>\n",
       "      <td>NaN</td>\n",
       "      <td>8</td>\n",
       "      <td>Präsentation</td>\n",
       "      <td>179.5 kB</td>\n",
       "    </tr>\n",
       "    <tr>\n",
       "      <th>4</th>\n",
       "      <td>9pHMJT-hRLrQ</td>\n",
       "      <td>NaN</td>\n",
       "      <td>NaN</td>\n",
       "      <td>01/04/22</td>\n",
       "      <td>NaN</td>\n",
       "      <td>5</td>\n",
       "      <td>Präsentation</td>\n",
       "      <td>398.7 kB</td>\n",
       "    </tr>\n",
       "    <tr>\n",
       "      <th>...</th>\n",
       "      <td>...</td>\n",
       "      <td>...</td>\n",
       "      <td>...</td>\n",
       "      <td>...</td>\n",
       "      <td>...</td>\n",
       "      <td>...</td>\n",
       "      <td>...</td>\n",
       "      <td>...</td>\n",
       "    </tr>\n",
       "    <tr>\n",
       "      <th>5210</th>\n",
       "      <td>37MxoszUOjDw</td>\n",
       "      <td>Susanne Kaiser</td>\n",
       "      <td>NaN</td>\n",
       "      <td>02/28/22</td>\n",
       "      <td>NaN</td>\n",
       "      <td>64</td>\n",
       "      <td>Präsentation</td>\n",
       "      <td>898.8 kB</td>\n",
       "    </tr>\n",
       "    <tr>\n",
       "      <th>5211</th>\n",
       "      <td>8nQgLPwKyxec</td>\n",
       "      <td>NaN</td>\n",
       "      <td>NaN</td>\n",
       "      <td>02/28/22</td>\n",
       "      <td>NaN</td>\n",
       "      <td>20</td>\n",
       "      <td>Präsentation</td>\n",
       "      <td>740.1 kB</td>\n",
       "    </tr>\n",
       "    <tr>\n",
       "      <th>5212</th>\n",
       "      <td>8wntomkrcr6g</td>\n",
       "      <td>NaN</td>\n",
       "      <td>NaN</td>\n",
       "      <td>02/28/22</td>\n",
       "      <td>NaN</td>\n",
       "      <td>11</td>\n",
       "      <td>Präsentation</td>\n",
       "      <td>454.1 kB</td>\n",
       "    </tr>\n",
       "    <tr>\n",
       "      <th>5213</th>\n",
       "      <td>6kpMNOf2zVq4</td>\n",
       "      <td>NaN</td>\n",
       "      <td>NaN</td>\n",
       "      <td>NaN</td>\n",
       "      <td>Saskia_Dübener-Lehrermanual-MIT_App_Inventor</td>\n",
       "      <td>20</td>\n",
       "      <td>Präsentation</td>\n",
       "      <td>3.6 MB</td>\n",
       "    </tr>\n",
       "    <tr>\n",
       "      <th>5214</th>\n",
       "      <td>10HF1LdgCerKQ</td>\n",
       "      <td>Tom Stieler</td>\n",
       "      <td>NaN</td>\n",
       "      <td>02/28/22</td>\n",
       "      <td>NaN</td>\n",
       "      <td>22</td>\n",
       "      <td>Präsentation</td>\n",
       "      <td>946.4 kB</td>\n",
       "    </tr>\n",
       "  </tbody>\n",
       "</table>\n",
       "<p>5215 rows × 8 columns</p>\n",
       "</div>"
      ],
      "text/plain": [
       "         Identifier          Author  Publisher Datum der Erstellung  \\\n",
       "0      8I6sM5zapD60             NaN        NaN             01/11/19   \n",
       "1      8ZICOHBmAHyQ             NaN        NaN             10/25/19   \n",
       "2      3ztCv-WpxJ4U             NaN        NaN                  NaN   \n",
       "3      6mOhjfscZK2A             NaN        NaN             10/07/19   \n",
       "4      9pHMJT-hRLrQ             NaN        NaN             01/04/22   \n",
       "...             ...             ...        ...                  ...   \n",
       "5210   37MxoszUOjDw  Susanne Kaiser        NaN             02/28/22   \n",
       "5211   8nQgLPwKyxec             NaN        NaN             02/28/22   \n",
       "5212   8wntomkrcr6g             NaN        NaN             02/28/22   \n",
       "5213   6kpMNOf2zVq4             NaN        NaN                  NaN   \n",
       "5214  10HF1LdgCerKQ     Tom Stieler        NaN             02/28/22   \n",
       "\n",
       "                                              Titel  Seitenzahl        Format  \\\n",
       "0                                               NaN           2  Präsentation   \n",
       "1                                               NaN          10  Präsentation   \n",
       "2                                               NaN           3  Präsentation   \n",
       "3                                               NaN           8  Präsentation   \n",
       "4                                               NaN           5  Präsentation   \n",
       "...                                             ...         ...           ...   \n",
       "5210                                            NaN          64  Präsentation   \n",
       "5211                                            NaN          20  Präsentation   \n",
       "5212                                            NaN          11  Präsentation   \n",
       "5213  Saskia_Dübener-Lehrermanual-MIT_App_Inventor          20  Präsentation   \n",
       "5214                                            NaN          22  Präsentation   \n",
       "\n",
       "     Dateigröße  \n",
       "0      103.9 kB  \n",
       "1      156.4 kB  \n",
       "2       76.9 kB  \n",
       "3      179.5 kB  \n",
       "4      398.7 kB  \n",
       "...         ...  \n",
       "5210   898.8 kB  \n",
       "5211   740.1 kB  \n",
       "5212   454.1 kB  \n",
       "5213     3.6 MB  \n",
       "5214   946.4 kB  \n",
       "\n",
       "[5215 rows x 8 columns]"
      ]
     },
     "execution_count": 2,
     "metadata": {},
     "output_type": "execute_result"
    }
   ],
   "source": [
    "data = pd.read_csv(\"temp/meta.csv\")#header=None\n",
    "data"
   ]
  },
  {
   "cell_type": "code",
   "execution_count": 3,
   "id": "309df48a",
   "metadata": {},
   "outputs": [
    {
     "data": {
      "text/html": [
       "<div>\n",
       "<style scoped>\n",
       "    .dataframe tbody tr th:only-of-type {\n",
       "        vertical-align: middle;\n",
       "    }\n",
       "\n",
       "    .dataframe tbody tr th {\n",
       "        vertical-align: top;\n",
       "    }\n",
       "\n",
       "    .dataframe thead th {\n",
       "        text-align: right;\n",
       "    }\n",
       "</style>\n",
       "<table border=\"1\" class=\"dataframe\">\n",
       "  <thead>\n",
       "    <tr style=\"text-align: right;\">\n",
       "      <th></th>\n",
       "      <th>Publisher</th>\n",
       "      <th>Identifier</th>\n",
       "    </tr>\n",
       "  </thead>\n",
       "  <tbody>\n",
       "  </tbody>\n",
       "</table>\n",
       "</div>"
      ],
      "text/plain": [
       "Empty DataFrame\n",
       "Columns: [Publisher, Identifier]\n",
       "Index: []"
      ]
     },
     "execution_count": 3,
     "metadata": {},
     "output_type": "execute_result"
    }
   ],
   "source": [
    "data.groupby(['Publisher']).Identifier.count().reset_index()"
   ]
  },
  {
   "cell_type": "code",
   "execution_count": 4,
   "id": "27467cf2",
   "metadata": {},
   "outputs": [
    {
     "data": {
      "text/html": [
       "<div>\n",
       "<style scoped>\n",
       "    .dataframe tbody tr th:only-of-type {\n",
       "        vertical-align: middle;\n",
       "    }\n",
       "\n",
       "    .dataframe tbody tr th {\n",
       "        vertical-align: top;\n",
       "    }\n",
       "\n",
       "    .dataframe thead th {\n",
       "        text-align: right;\n",
       "    }\n",
       "</style>\n",
       "<table border=\"1\" class=\"dataframe\">\n",
       "  <thead>\n",
       "    <tr style=\"text-align: right;\">\n",
       "      <th></th>\n",
       "      <th>Author</th>\n",
       "      <th>count</th>\n",
       "    </tr>\n",
       "  </thead>\n",
       "  <tbody>\n",
       "    <tr>\n",
       "      <th>0</th>\n",
       "      <td>Peter Kiessling</td>\n",
       "      <td>261</td>\n",
       "    </tr>\n",
       "    <tr>\n",
       "      <th>1</th>\n",
       "      <td>Prof. Dr.-Ing. Henning Zeidler</td>\n",
       "      <td>87</td>\n",
       "    </tr>\n",
       "    <tr>\n",
       "      <th>2</th>\n",
       "      <td>Jürgen Sachse</td>\n",
       "      <td>87</td>\n",
       "    </tr>\n",
       "    <tr>\n",
       "      <th>3</th>\n",
       "      <td>Prof. Hacker</td>\n",
       "      <td>72</td>\n",
       "    </tr>\n",
       "    <tr>\n",
       "      <th>4</th>\n",
       "      <td>Alexander Strobel</td>\n",
       "      <td>65</td>\n",
       "    </tr>\n",
       "    <tr>\n",
       "      <th>...</th>\n",
       "      <td>...</td>\n",
       "      <td>...</td>\n",
       "    </tr>\n",
       "    <tr>\n",
       "      <th>597</th>\n",
       "      <td>Lukas Deppisch</td>\n",
       "      <td>1</td>\n",
       "    </tr>\n",
       "    <tr>\n",
       "      <th>598</th>\n",
       "      <td>Luisa Lammert</td>\n",
       "      <td>1</td>\n",
       "    </tr>\n",
       "    <tr>\n",
       "      <th>599</th>\n",
       "      <td>Lucia Hacker</td>\n",
       "      <td>1</td>\n",
       "    </tr>\n",
       "    <tr>\n",
       "      <th>600</th>\n",
       "      <td>Lorenzo Bardoux</td>\n",
       "      <td>1</td>\n",
       "    </tr>\n",
       "    <tr>\n",
       "      <th>601</th>\n",
       "      <td>炮弹</td>\n",
       "      <td>1</td>\n",
       "    </tr>\n",
       "  </tbody>\n",
       "</table>\n",
       "<p>602 rows × 2 columns</p>\n",
       "</div>"
      ],
      "text/plain": [
       "                             Author  count\n",
       "0                   Peter Kiessling    261\n",
       "1    Prof. Dr.-Ing. Henning Zeidler     87\n",
       "2                     Jürgen Sachse     87\n",
       "3                      Prof. Hacker     72\n",
       "4                 Alexander Strobel     65\n",
       "..                              ...    ...\n",
       "597                  Lukas Deppisch      1\n",
       "598                   Luisa Lammert      1\n",
       "599                    Lucia Hacker      1\n",
       "600                 Lorenzo Bardoux      1\n",
       "601                              炮弹      1\n",
       "\n",
       "[602 rows x 2 columns]"
      ]
     },
     "execution_count": 4,
     "metadata": {},
     "output_type": "execute_result"
    }
   ],
   "source": [
    "author_statistics = data.groupby(['Author'])[\"Author\"]\\\n",
    "                                       .count() \\\n",
    "                                       .reset_index(name='count') \\\n",
    "                                       .sort_values(['count'], ascending=False, ignore_index=True)\n",
    "                                       \n",
    "                                       \n",
    "#author_statistics.to_csv(\"temp/metaauswertungauthor.csv\", index=False)\n",
    "author_statistics\n"
   ]
  },
  {
   "cell_type": "code",
   "execution_count": 8,
   "id": "068b53f3",
   "metadata": {
    "scrolled": true
   },
   "outputs": [
    {
     "data": {
      "text/html": [
       "<div>\n",
       "<style scoped>\n",
       "    .dataframe tbody tr th:only-of-type {\n",
       "        vertical-align: middle;\n",
       "    }\n",
       "\n",
       "    .dataframe tbody tr th {\n",
       "        vertical-align: top;\n",
       "    }\n",
       "\n",
       "    .dataframe thead th {\n",
       "        text-align: right;\n",
       "    }\n",
       "</style>\n",
       "<table border=\"1\" class=\"dataframe\">\n",
       "  <thead>\n",
       "    <tr style=\"text-align: right;\">\n",
       "      <th></th>\n",
       "      <th>datetime</th>\n",
       "      <th>count</th>\n",
       "    </tr>\n",
       "  </thead>\n",
       "  <tbody>\n",
       "    <tr>\n",
       "      <th>0</th>\n",
       "      <td>2022-06-26</td>\n",
       "      <td>3</td>\n",
       "    </tr>\n",
       "    <tr>\n",
       "      <th>1</th>\n",
       "      <td>2022-06-22</td>\n",
       "      <td>1</td>\n",
       "    </tr>\n",
       "    <tr>\n",
       "      <th>2</th>\n",
       "      <td>2022-06-17</td>\n",
       "      <td>2</td>\n",
       "    </tr>\n",
       "    <tr>\n",
       "      <th>3</th>\n",
       "      <td>2022-06-13</td>\n",
       "      <td>2</td>\n",
       "    </tr>\n",
       "    <tr>\n",
       "      <th>4</th>\n",
       "      <td>2022-05-24</td>\n",
       "      <td>2</td>\n",
       "    </tr>\n",
       "    <tr>\n",
       "      <th>...</th>\n",
       "      <td>...</td>\n",
       "      <td>...</td>\n",
       "    </tr>\n",
       "    <tr>\n",
       "      <th>1032</th>\n",
       "      <td>2004-07-29</td>\n",
       "      <td>1</td>\n",
       "    </tr>\n",
       "    <tr>\n",
       "      <th>1033</th>\n",
       "      <td>2003-09-30</td>\n",
       "      <td>1</td>\n",
       "    </tr>\n",
       "    <tr>\n",
       "      <th>1034</th>\n",
       "      <td>2001-07-05</td>\n",
       "      <td>1</td>\n",
       "    </tr>\n",
       "    <tr>\n",
       "      <th>1035</th>\n",
       "      <td>1998-07-10</td>\n",
       "      <td>2</td>\n",
       "    </tr>\n",
       "    <tr>\n",
       "      <th>1036</th>\n",
       "      <td>1993-08-04</td>\n",
       "      <td>1</td>\n",
       "    </tr>\n",
       "  </tbody>\n",
       "</table>\n",
       "<p>1037 rows × 2 columns</p>\n",
       "</div>"
      ],
      "text/plain": [
       "       datetime  count\n",
       "0    2022-06-26      3\n",
       "1    2022-06-22      1\n",
       "2    2022-06-17      2\n",
       "3    2022-06-13      2\n",
       "4    2022-05-24      2\n",
       "...         ...    ...\n",
       "1032 2004-07-29      1\n",
       "1033 2003-09-30      1\n",
       "1034 2001-07-05      1\n",
       "1035 1998-07-10      2\n",
       "1036 1993-08-04      1\n",
       "\n",
       "[1037 rows x 2 columns]"
      ]
     },
     "execution_count": 8,
     "metadata": {},
     "output_type": "execute_result"
    }
   ],
   "source": [
    "\n",
    "timedata = pd.DataFrame(data['Datum der Erstellung'])\n",
    "timedata.dropna(inplace=True)\n",
    "timelist=list()\n",
    "\n",
    "for index, row in timedata.iterrows():\n",
    "    #print(row['Datum der Erstellung'])\n",
    "    timelist.append(datetime.strptime(row['Datum der Erstellung'],'%x'))\n",
    "timedata = timedata.assign(datetime=timelist)\n",
    "#df1 = df1.assign(e=pd.Series(np.random.randn(sLength)).values)\n",
    "    #timelist.append(row.strftime(%x))\n",
    "timedata.drop(columns='Datum der Erstellung', inplace=True)   \n",
    "    \n",
    "dailytime_statistics = timedata.groupby(['datetime'])[\"datetime\"]\\\n",
    "                                       .count() \\\n",
    "                                       .reset_index(name='count') \\\n",
    "                                       .sort_values(['datetime'], ascending=False, ignore_index=True)\n",
    "\n",
    "#time_statistics.to_csv(\"temp/metaauswertungtime.csv\", index=False)\n",
    "dailytime_statistics"
   ]
  },
  {
   "cell_type": "code",
   "execution_count": 9,
   "id": "ef73f63a",
   "metadata": {},
   "outputs": [
    {
     "data": {
      "text/plain": [
       "<AxesSubplot:xlabel='datetime', ylabel='count'>"
      ]
     },
     "execution_count": 9,
     "metadata": {},
     "output_type": "execute_result"
    },
    {
     "data": {
      "image/png": "[encoded data removed]",
      "text/plain": [
       "<Figure size 432x288 with 1 Axes>"
      ]
     },
     "metadata": {
      "needs_background": "light"
     },
     "output_type": "display_data"
    }
   ],
   "source": [
    "sns.lineplot(data = dailytime_statistics, x=\"datetime\", y=\"count\")"
   ]
  },
  {
   "cell_type": "code",
   "execution_count": 14,
   "id": "42d0d716",
   "metadata": {},
   "outputs": [
    {
     "data": {
      "text/plain": [
       "<AxesSubplot:xlabel='datetime', ylabel='count'>"
      ]
     },
     "execution_count": 14,
     "metadata": {},
     "output_type": "execute_result"
    },
    {
     "data": {
      "image/png": "[encoded data removed]",
      "text/plain": [
       "<Figure size 432x288 with 1 Axes>"
      ]
     },
     "metadata": {
      "needs_background": "light"
     },
     "output_type": "display_data"
    }
   ],
   "source": [
    "weeklytime_statistics = timedata.resample('W', on='datetime').count() #hier Buchstaben verändern für andere Zeitspannen\n",
    "\n",
    "weeklytime_statistics.rename(columns={list(weeklytime_statistics)[0]:'count'}, inplace=True)\n",
    "\n",
    "sns.lineplot(x=weeklytime_statistics.index, y=weeklytime_statistics['count'])\n"
   ]
  },
  {
   "cell_type": "code",
   "execution_count": 15,
   "id": "c10c85b7",
   "metadata": {},
   "outputs": [
    {
     "data": {
      "text/html": [
       "<div>\n",
       "<style scoped>\n",
       "    .dataframe tbody tr th:only-of-type {\n",
       "        vertical-align: middle;\n",
       "    }\n",
       "\n",
       "    .dataframe tbody tr th {\n",
       "        vertical-align: top;\n",
       "    }\n",
       "\n",
       "    .dataframe thead th {\n",
       "        text-align: right;\n",
       "    }\n",
       "</style>\n",
       "<table border=\"1\" class=\"dataframe\">\n",
       "  <thead>\n",
       "    <tr style=\"text-align: right;\">\n",
       "      <th></th>\n",
       "      <th>Seitenzahl</th>\n",
       "      <th>count</th>\n",
       "    </tr>\n",
       "  </thead>\n",
       "  <tbody>\n",
       "    <tr>\n",
       "      <th>0</th>\n",
       "      <td>1</td>\n",
       "      <td>985</td>\n",
       "    </tr>\n",
       "    <tr>\n",
       "      <th>1</th>\n",
       "      <td>2</td>\n",
       "      <td>517</td>\n",
       "    </tr>\n",
       "    <tr>\n",
       "      <th>2</th>\n",
       "      <td>3</td>\n",
       "      <td>283</td>\n",
       "    </tr>\n",
       "    <tr>\n",
       "      <th>3</th>\n",
       "      <td>4</td>\n",
       "      <td>189</td>\n",
       "    </tr>\n",
       "    <tr>\n",
       "      <th>4</th>\n",
       "      <td>5</td>\n",
       "      <td>176</td>\n",
       "    </tr>\n",
       "    <tr>\n",
       "      <th>...</th>\n",
       "      <td>...</td>\n",
       "      <td>...</td>\n",
       "    </tr>\n",
       "    <tr>\n",
       "      <th>169</th>\n",
       "      <td>591</td>\n",
       "      <td>3</td>\n",
       "    </tr>\n",
       "    <tr>\n",
       "      <th>170</th>\n",
       "      <td>623</td>\n",
       "      <td>2</td>\n",
       "    </tr>\n",
       "    <tr>\n",
       "      <th>171</th>\n",
       "      <td>857</td>\n",
       "      <td>2</td>\n",
       "    </tr>\n",
       "    <tr>\n",
       "      <th>172</th>\n",
       "      <td>1018</td>\n",
       "      <td>1</td>\n",
       "    </tr>\n",
       "    <tr>\n",
       "      <th>173</th>\n",
       "      <td>1061</td>\n",
       "      <td>2</td>\n",
       "    </tr>\n",
       "  </tbody>\n",
       "</table>\n",
       "<p>174 rows × 2 columns</p>\n",
       "</div>"
      ],
      "text/plain": [
       "     Seitenzahl  count\n",
       "0             1    985\n",
       "1             2    517\n",
       "2             3    283\n",
       "3             4    189\n",
       "4             5    176\n",
       "..          ...    ...\n",
       "169         591      3\n",
       "170         623      2\n",
       "171         857      2\n",
       "172        1018      1\n",
       "173        1061      2\n",
       "\n",
       "[174 rows x 2 columns]"
      ]
     },
     "execution_count": 15,
     "metadata": {},
     "output_type": "execute_result"
    }
   ],
   "source": [
    "page_statistics = data.groupby(['Seitenzahl'])[\"Seitenzahl\"]\\\n",
    "                                       .count() \\\n",
    "                                       .reset_index(name='count') \\\n",
    "                                       .sort_values(['Seitenzahl'], ascending=True, ignore_index=True)\n",
    "page_statistics"
   ]
  },
  {
   "cell_type": "code",
   "execution_count": 16,
   "id": "613e3265",
   "metadata": {},
   "outputs": [
    {
     "data": {
      "text/plain": [
       "<AxesSubplot:xlabel='Seitenzahl', ylabel='count'>"
      ]
     },
     "execution_count": 16,
     "metadata": {},
     "output_type": "execute_result"
    },
    {
     "data": {
      "image/png": "[encoded data removed]",
      "text/plain": [
       "<Figure size 432x288 with 1 Axes>"
      ]
     },
     "metadata": {
      "needs_background": "light"
     },
     "output_type": "display_data"
    }
   ],
   "source": [
    "sns.lineplot(data = page_statistics, x=\"Seitenzahl\", y=\"count\")"
   ]
  },
  {
   "cell_type": "code",
   "execution_count": 17,
   "id": "6d0a5513",
   "metadata": {},
   "outputs": [
    {
     "data": {
      "text/html": [
       "<div>\n",
       "<style scoped>\n",
       "    .dataframe tbody tr th:only-of-type {\n",
       "        vertical-align: middle;\n",
       "    }\n",
       "\n",
       "    .dataframe tbody tr th {\n",
       "        vertical-align: top;\n",
       "    }\n",
       "\n",
       "    .dataframe thead th {\n",
       "        text-align: right;\n",
       "    }\n",
       "</style>\n",
       "<table border=\"1\" class=\"dataframe\">\n",
       "  <thead>\n",
       "    <tr style=\"text-align: right;\">\n",
       "      <th></th>\n",
       "      <th>Format</th>\n",
       "      <th>count</th>\n",
       "    </tr>\n",
       "  </thead>\n",
       "  <tbody>\n",
       "    <tr>\n",
       "      <th>0</th>\n",
       "      <td>Präsentation</td>\n",
       "      <td>3174</td>\n",
       "    </tr>\n",
       "    <tr>\n",
       "      <th>1</th>\n",
       "      <td>Dokument</td>\n",
       "      <td>2041</td>\n",
       "    </tr>\n",
       "  </tbody>\n",
       "</table>\n",
       "</div>"
      ],
      "text/plain": [
       "         Format  count\n",
       "0  Präsentation   3174\n",
       "1      Dokument   2041"
      ]
     },
     "execution_count": 17,
     "metadata": {},
     "output_type": "execute_result"
    }
   ],
   "source": [
    "format_statistics = data.groupby(['Format'])[\"Format\"]\\\n",
    "                                       .count() \\\n",
    "                                       .reset_index(name='count') \\\n",
    "                                       .sort_values(['count'], ascending=False, ignore_index=True)\n",
    "format_statistics"
   ]
  },
  {
   "cell_type": "code",
   "execution_count": 18,
   "id": "f3c8719e",
   "metadata": {},
   "outputs": [
    {
     "data": {
      "text/plain": [
       "<AxesSubplot:xlabel='Format', ylabel='count'>"
      ]
     },
     "execution_count": 18,
     "metadata": {},
     "output_type": "execute_result"
    },
    {
     "data": {
      "image/png": "[encoded data removed]",
      "text/plain": [
       "<Figure size 432x288 with 1 Axes>"
      ]
     },
     "metadata": {
      "needs_background": "light"
     },
     "output_type": "display_data"
    }
   ],
   "source": [
    "sns.barplot(data = format_statistics, x=\"Format\", y=\"count\")"
   ]
  },
  {
   "cell_type": "code",
   "execution_count": 19,
   "id": "c5409743",
   "metadata": {},
   "outputs": [
    {
     "data": {
      "text/html": [
       "<div>\n",
       "<style scoped>\n",
       "    .dataframe tbody tr th:only-of-type {\n",
       "        vertical-align: middle;\n",
       "    }\n",
       "\n",
       "    .dataframe tbody tr th {\n",
       "        vertical-align: top;\n",
       "    }\n",
       "\n",
       "    .dataframe thead th {\n",
       "        text-align: right;\n",
       "    }\n",
       "</style>\n",
       "<table border=\"1\" class=\"dataframe\">\n",
       "  <thead>\n",
       "    <tr style=\"text-align: right;\">\n",
       "      <th></th>\n",
       "      <th>size</th>\n",
       "      <th>count</th>\n",
       "    </tr>\n",
       "  </thead>\n",
       "  <tbody>\n",
       "    <tr>\n",
       "      <th>0</th>\n",
       "      <td>6000.0</td>\n",
       "      <td>28</td>\n",
       "    </tr>\n",
       "    <tr>\n",
       "      <th>1</th>\n",
       "      <td>6100.0</td>\n",
       "      <td>1</td>\n",
       "    </tr>\n",
       "    <tr>\n",
       "      <th>2</th>\n",
       "      <td>6300.0</td>\n",
       "      <td>1</td>\n",
       "    </tr>\n",
       "    <tr>\n",
       "      <th>3</th>\n",
       "      <td>7000.0</td>\n",
       "      <td>1</td>\n",
       "    </tr>\n",
       "    <tr>\n",
       "      <th>4</th>\n",
       "      <td>7600.0</td>\n",
       "      <td>1</td>\n",
       "    </tr>\n",
       "    <tr>\n",
       "      <th>...</th>\n",
       "      <td>...</td>\n",
       "      <td>...</td>\n",
       "    </tr>\n",
       "    <tr>\n",
       "      <th>2146</th>\n",
       "      <td>122700000.0</td>\n",
       "      <td>1</td>\n",
       "    </tr>\n",
       "    <tr>\n",
       "      <th>2147</th>\n",
       "      <td>177400000.0</td>\n",
       "      <td>3</td>\n",
       "    </tr>\n",
       "    <tr>\n",
       "      <th>2148</th>\n",
       "      <td>198500000.0</td>\n",
       "      <td>1</td>\n",
       "    </tr>\n",
       "    <tr>\n",
       "      <th>2149</th>\n",
       "      <td>203300000.0</td>\n",
       "      <td>1</td>\n",
       "    </tr>\n",
       "    <tr>\n",
       "      <th>2150</th>\n",
       "      <td>285000000.0</td>\n",
       "      <td>1</td>\n",
       "    </tr>\n",
       "  </tbody>\n",
       "</table>\n",
       "<p>2151 rows × 2 columns</p>\n",
       "</div>"
      ],
      "text/plain": [
       "             size  count\n",
       "0          6000.0     28\n",
       "1          6100.0      1\n",
       "2          6300.0      1\n",
       "3          7000.0      1\n",
       "4          7600.0      1\n",
       "...           ...    ...\n",
       "2146  122700000.0      1\n",
       "2147  177400000.0      3\n",
       "2148  198500000.0      1\n",
       "2149  203300000.0      1\n",
       "2150  285000000.0      1\n",
       "\n",
       "[2151 rows x 2 columns]"
      ]
     },
     "execution_count": 19,
     "metadata": {},
     "output_type": "execute_result"
    }
   ],
   "source": [
    "#Dateigröße\n",
    "sizedata = pd.DataFrame(data['Dateigröße'])\n",
    "sizedata.dropna(inplace=True)\n",
    "\n",
    "sizelist = list()\n",
    "\n",
    "for index, row in sizedata.iterrows():\n",
    "    sizesplitter = row['Dateigröße'].split(\" \", 1)\n",
    "    if sizesplitter[1] == \"GB\":\n",
    "        sizelist.append(float(sizesplitter[0]) * 1000000000)\n",
    "    elif sizesplitter[1] == \"MB\":\n",
    "        sizelist.append(float(sizesplitter[0]) * 1000000)\n",
    "    elif sizesplitter[1] == \"kB\":\n",
    "        sizelist.append(float(sizesplitter[0]) * 1000)\n",
    "    else:\n",
    "        sizelist.append(float(sizesplitter[0]))\n",
    "\n",
    "#sizelist\n",
    "sizedata = sizedata.assign(size=sizelist)\n",
    "\n",
    "\n",
    "#df1 = df1.assign(e=pd.Series(np.random.randn(sLength)).values)\n",
    "    #timelist.append(row.strftime(%x))\n",
    "\n",
    "size_statistics = sizedata.groupby(['size'])[\"size\"]\\\n",
    "                                       .count() \\\n",
    "                                       .reset_index(name='count') \\\n",
    "                                       .sort_values(['size'], ascending=True, ignore_index=True)\n",
    "size_statistics"
   ]
  },
  {
   "cell_type": "code",
   "execution_count": 20,
   "id": "a17e5ea7",
   "metadata": {},
   "outputs": [
    {
     "data": {
      "text/plain": [
       "<AxesSubplot:xlabel='size', ylabel='count'>"
      ]
     },
     "execution_count": 20,
     "metadata": {},
     "output_type": "execute_result"
    },
    {
     "data": {
      "image/png": "[encoded data removed]",
      "text/plain": [
       "<Figure size 432x288 with 1 Axes>"
      ]
     },
     "metadata": {
      "needs_background": "light"
     },
     "output_type": "display_data"
    }
   ],
   "source": [
    "sns.lineplot(data = size_statistics, x=\"size\", y=\"count\")"
   ]
  },
  {
   "cell_type": "code",
   "execution_count": null,
   "id": "df2e1786",
   "metadata": {},
   "outputs": [],
   "source": []
  }
 ],
 "metadata": {
  "kernelspec": {
   "display_name": "Python 3 (ipykernel)",
   "language": "python",
   "name": "python3"
  },
  "language_info": {
   "codemirror_mode": {
    "name": "ipython",
    "version": 3
   },
   "file_extension": ".py",
   "mimetype": "text/x-python",
   "name": "python",
   "nbconvert_exporter": "python",
   "pygments_lexer": "ipython3",
   "version": "3.9.12"
  }
 },
 "nbformat": 4,
 "nbformat_minor": 5
}
