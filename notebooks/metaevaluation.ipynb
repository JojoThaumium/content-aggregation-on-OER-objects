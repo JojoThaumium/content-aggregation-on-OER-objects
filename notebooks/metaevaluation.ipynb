{
 "cells": [
  {
   "cell_type": "code",
   "execution_count": 1,
   "id": "41c0afb3",
   "metadata": {
    "execution": {
     "iopub.execute_input": "2022-09-05T17:59:24.084492Z",
     "iopub.status.busy": "2022-09-05T17:59:24.083495Z",
     "iopub.status.idle": "2022-09-05T17:59:30.250924Z",
     "shell.execute_reply": "2022-09-05T17:59:30.249830Z"
    },
    "papermill": {
     "duration": 6.214822,
     "end_time": "2022-09-05T17:59:30.253922",
     "exception": false,
     "start_time": "2022-09-05T17:59:24.039100",
     "status": "completed"
    },
    "tags": []
   },
   "outputs": [],
   "source": [
    "import sys\n",
    "import os.path\n",
    "#import pikepdf\n",
    "#import urllib.request\n",
    "import pandas as pd\n",
    "import json\n",
    "from datetime import datetime\n",
    "import numpy as np\n",
    "import matplotlib.pyplot as plt\n",
    "import matplotlib.patches as mpatches\n"
   ]
  },
  {
   "cell_type": "code",
   "execution_count": 51,
   "id": "405ccf7f",
   "metadata": {
    "execution": {
     "iopub.execute_input": "2022-09-05T17:59:30.273869Z",
     "iopub.status.busy": "2022-09-05T17:59:30.272871Z",
     "iopub.status.idle": "2022-09-05T17:59:30.625673Z",
     "shell.execute_reply": "2022-09-05T17:59:30.623783Z"
    },
    "papermill": {
     "duration": 0.36872,
     "end_time": "2022-09-05T17:59:30.629652",
     "exception": false,
     "start_time": "2022-09-05T17:59:30.260932",
     "status": "completed"
    },
    "tags": []
   },
   "outputs": [
    {
     "data": {
      "text/html": [
       "<div>\n",
       "<style scoped>\n",
       "    .dataframe tbody tr th:only-of-type {\n",
       "        vertical-align: middle;\n",
       "    }\n",
       "\n",
       "    .dataframe tbody tr th {\n",
       "        vertical-align: top;\n",
       "    }\n",
       "\n",
       "    .dataframe thead th {\n",
       "        text-align: right;\n",
       "    }\n",
       "</style>\n",
       "<table border=\"1\" class=\"dataframe\">\n",
       "  <thead>\n",
       "    <tr style=\"text-align: right;\">\n",
       "      <th></th>\n",
       "      <th>Identifier</th>\n",
       "      <th>Author</th>\n",
       "      <th>Keywords</th>\n",
       "      <th>Datum der Erstellung</th>\n",
       "      <th>Titel</th>\n",
       "      <th>Seitenzahl</th>\n",
       "      <th>Format</th>\n",
       "      <th>Dateigröße</th>\n",
       "      <th>Error</th>\n",
       "    </tr>\n",
       "  </thead>\n",
       "  <tbody>\n",
       "    <tr>\n",
       "      <th>0</th>\n",
       "      <td>8I6sM5zapD60</td>\n",
       "      <td>NaN</td>\n",
       "      <td>NaN</td>\n",
       "      <td>2019/01/11</td>\n",
       "      <td>NaN</td>\n",
       "      <td>2.0</td>\n",
       "      <td>Hochformat</td>\n",
       "      <td>103901.0</td>\n",
       "      <td>NaN</td>\n",
       "    </tr>\n",
       "    <tr>\n",
       "      <th>1</th>\n",
       "      <td>8ZICOHBmAHyQ</td>\n",
       "      <td>NaN</td>\n",
       "      <td>NaN</td>\n",
       "      <td>2019/10/25</td>\n",
       "      <td>NaN</td>\n",
       "      <td>10.0</td>\n",
       "      <td>Hochformat</td>\n",
       "      <td>156446.0</td>\n",
       "      <td>NaN</td>\n",
       "    </tr>\n",
       "    <tr>\n",
       "      <th>2</th>\n",
       "      <td>3ztCv-WpxJ4U</td>\n",
       "      <td>NaN</td>\n",
       "      <td>NaN</td>\n",
       "      <td>NaN</td>\n",
       "      <td>NaN</td>\n",
       "      <td>3.0</td>\n",
       "      <td>Hochformat</td>\n",
       "      <td>76868.0</td>\n",
       "      <td>NaN</td>\n",
       "    </tr>\n",
       "    <tr>\n",
       "      <th>3</th>\n",
       "      <td>6mOhjfscZK2A</td>\n",
       "      <td>NaN</td>\n",
       "      <td>NaN</td>\n",
       "      <td>2019/10/07</td>\n",
       "      <td>NaN</td>\n",
       "      <td>8.0</td>\n",
       "      <td>Hochformat</td>\n",
       "      <td>179540.0</td>\n",
       "      <td>NaN</td>\n",
       "    </tr>\n",
       "    <tr>\n",
       "      <th>4</th>\n",
       "      <td>9pHMJT-hRLrQ</td>\n",
       "      <td>NaN</td>\n",
       "      <td>NaN</td>\n",
       "      <td>2022/01/04</td>\n",
       "      <td>NaN</td>\n",
       "      <td>5.0</td>\n",
       "      <td>Hochformat</td>\n",
       "      <td>398707.0</td>\n",
       "      <td>NaN</td>\n",
       "    </tr>\n",
       "    <tr>\n",
       "      <th>...</th>\n",
       "      <td>...</td>\n",
       "      <td>...</td>\n",
       "      <td>...</td>\n",
       "      <td>...</td>\n",
       "      <td>...</td>\n",
       "      <td>...</td>\n",
       "      <td>...</td>\n",
       "      <td>...</td>\n",
       "      <td>...</td>\n",
       "    </tr>\n",
       "    <tr>\n",
       "      <th>4890</th>\n",
       "      <td>37MxoszUOjDw</td>\n",
       "      <td>Susanne Kaiser</td>\n",
       "      <td>NaN</td>\n",
       "      <td>2022/02/28</td>\n",
       "      <td>NaN</td>\n",
       "      <td>64.0</td>\n",
       "      <td>Hochformat</td>\n",
       "      <td>898799.0</td>\n",
       "      <td>NaN</td>\n",
       "    </tr>\n",
       "    <tr>\n",
       "      <th>4891</th>\n",
       "      <td>8nQgLPwKyxec</td>\n",
       "      <td>NaN</td>\n",
       "      <td>NaN</td>\n",
       "      <td>2022/02/28</td>\n",
       "      <td>NaN</td>\n",
       "      <td>20.0</td>\n",
       "      <td>Hochformat</td>\n",
       "      <td>740116.0</td>\n",
       "      <td>NaN</td>\n",
       "    </tr>\n",
       "    <tr>\n",
       "      <th>4892</th>\n",
       "      <td>8wntomkrcr6g</td>\n",
       "      <td>NaN</td>\n",
       "      <td>NaN</td>\n",
       "      <td>2022/02/28</td>\n",
       "      <td>NaN</td>\n",
       "      <td>11.0</td>\n",
       "      <td>Hochformat</td>\n",
       "      <td>454073.0</td>\n",
       "      <td>NaN</td>\n",
       "    </tr>\n",
       "    <tr>\n",
       "      <th>4893</th>\n",
       "      <td>6kpMNOf2zVq4</td>\n",
       "      <td>NaN</td>\n",
       "      <td>NaN</td>\n",
       "      <td>2022/02/28</td>\n",
       "      <td>Saskia_Dübener-Lehrermanual-MIT_App_Inventor</td>\n",
       "      <td>20.0</td>\n",
       "      <td>Hochformat</td>\n",
       "      <td>3576661.0</td>\n",
       "      <td>NaN</td>\n",
       "    </tr>\n",
       "    <tr>\n",
       "      <th>4894</th>\n",
       "      <td>10HF1LdgCerKQ</td>\n",
       "      <td>Tom Stieler</td>\n",
       "      <td>NaN</td>\n",
       "      <td>2022/02/28</td>\n",
       "      <td>NaN</td>\n",
       "      <td>22.0</td>\n",
       "      <td>Hochformat</td>\n",
       "      <td>946375.0</td>\n",
       "      <td>NaN</td>\n",
       "    </tr>\n",
       "  </tbody>\n",
       "</table>\n",
       "<p>4895 rows × 9 columns</p>\n",
       "</div>"
      ],
      "text/plain": [
       "         Identifier          Author Keywords Datum der Erstellung  \\\n",
       "0      8I6sM5zapD60             NaN      NaN           2019/01/11   \n",
       "1      8ZICOHBmAHyQ             NaN      NaN           2019/10/25   \n",
       "2      3ztCv-WpxJ4U             NaN      NaN                  NaN   \n",
       "3      6mOhjfscZK2A             NaN      NaN           2019/10/07   \n",
       "4      9pHMJT-hRLrQ             NaN      NaN           2022/01/04   \n",
       "...             ...             ...      ...                  ...   \n",
       "4890   37MxoszUOjDw  Susanne Kaiser      NaN           2022/02/28   \n",
       "4891   8nQgLPwKyxec             NaN      NaN           2022/02/28   \n",
       "4892   8wntomkrcr6g             NaN      NaN           2022/02/28   \n",
       "4893   6kpMNOf2zVq4             NaN      NaN           2022/02/28   \n",
       "4894  10HF1LdgCerKQ     Tom Stieler      NaN           2022/02/28   \n",
       "\n",
       "                                              Titel  Seitenzahl      Format  \\\n",
       "0                                               NaN         2.0  Hochformat   \n",
       "1                                               NaN        10.0  Hochformat   \n",
       "2                                               NaN         3.0  Hochformat   \n",
       "3                                               NaN         8.0  Hochformat   \n",
       "4                                               NaN         5.0  Hochformat   \n",
       "...                                             ...         ...         ...   \n",
       "4890                                            NaN        64.0  Hochformat   \n",
       "4891                                            NaN        20.0  Hochformat   \n",
       "4892                                            NaN        11.0  Hochformat   \n",
       "4893  Saskia_Dübener-Lehrermanual-MIT_App_Inventor        20.0  Hochformat   \n",
       "4894                                            NaN        22.0  Hochformat   \n",
       "\n",
       "      Dateigröße Error  \n",
       "0       103901.0   NaN  \n",
       "1       156446.0   NaN  \n",
       "2        76868.0   NaN  \n",
       "3       179540.0   NaN  \n",
       "4       398707.0   NaN  \n",
       "...          ...   ...  \n",
       "4890    898799.0   NaN  \n",
       "4891    740116.0   NaN  \n",
       "4892    454073.0   NaN  \n",
       "4893   3576661.0   NaN  \n",
       "4894    946375.0   NaN  \n",
       "\n",
       "[4895 rows x 9 columns]"
      ]
     },
     "execution_count": 51,
     "metadata": {},
     "output_type": "execute_result"
    }
   ],
   "source": [
    "data = pd.read_csv(\"data/meta.csv\")#header=None\n",
    "data"
   ]
  },
  {
   "cell_type": "markdown",
   "id": "6168e8de",
   "metadata": {
    "papermill": {
     "duration": 0.013961,
     "end_time": "2022-09-05T17:59:30.659572",
     "exception": false,
     "start_time": "2022-09-05T17:59:30.645611",
     "status": "completed"
    },
    "tags": []
   },
   "source": [
    "### Hier folgen statistische Auswertungen aus dem gewonnenen Daten der ersten Phase"
   ]
  },
  {
   "cell_type": "code",
   "execution_count": 52,
   "id": "e609e1eb",
   "metadata": {
    "execution": {
     "iopub.execute_input": "2022-09-05T17:59:30.680034Z",
     "iopub.status.busy": "2022-09-05T17:59:30.679036Z",
     "iopub.status.idle": "2022-09-05T17:59:30.750948Z",
     "shell.execute_reply": "2022-09-05T17:59:30.749952Z"
    },
    "papermill": {
     "duration": 0.085364,
     "end_time": "2022-09-05T17:59:30.754938",
     "exception": false,
     "start_time": "2022-09-05T17:59:30.669574",
     "status": "completed"
    },
    "tags": []
   },
   "outputs": [
    {
     "data": {
      "text/html": [
       "<div>\n",
       "<style scoped>\n",
       "    .dataframe tbody tr th:only-of-type {\n",
       "        vertical-align: middle;\n",
       "    }\n",
       "\n",
       "    .dataframe tbody tr th {\n",
       "        vertical-align: top;\n",
       "    }\n",
       "\n",
       "    .dataframe thead th {\n",
       "        text-align: right;\n",
       "    }\n",
       "</style>\n",
       "<table border=\"1\" class=\"dataframe\">\n",
       "  <thead>\n",
       "    <tr style=\"text-align: right;\">\n",
       "      <th></th>\n",
       "      <th>Keywords</th>\n",
       "      <th>count</th>\n",
       "    </tr>\n",
       "  </thead>\n",
       "  <tbody>\n",
       "    <tr>\n",
       "      <th>0</th>\n",
       "      <td>Machine_Learning,Optimization</td>\n",
       "      <td>55</td>\n",
       "    </tr>\n",
       "    <tr>\n",
       "      <th>1</th>\n",
       "      <td>Notizen,Whiteboard,Whiteboard-Seite,Notebook_s...</td>\n",
       "      <td>19</td>\n",
       "    </tr>\n",
       "    <tr>\n",
       "      <th>2</th>\n",
       "      <td>\"Bremsen,Bremstechnik,Druckluftbremse,Klotzbre...</td>\n",
       "      <td>10</td>\n",
       "    </tr>\n",
       "    <tr>\n",
       "      <th>3</th>\n",
       "      <td>Farbe,Farben,Farbräume,Farbraum,Farbmodelle,Fa...</td>\n",
       "      <td>8</td>\n",
       "    </tr>\n",
       "    <tr>\n",
       "      <th>4</th>\n",
       "      <td>Garten,Profi,Gartenbau</td>\n",
       "      <td>8</td>\n",
       "    </tr>\n",
       "    <tr>\n",
       "      <th>...</th>\n",
       "      <td>...</td>\n",
       "      <td>...</td>\n",
       "    </tr>\n",
       "    <tr>\n",
       "      <th>144</th>\n",
       "      <td>Fahrdynamik,Leistungsbedarf_zur_Überwindung_vo...</td>\n",
       "      <td>1</td>\n",
       "    </tr>\n",
       "    <tr>\n",
       "      <th>145</th>\n",
       "      <td>Fahrdynamik,Leistungsbedarf_zur_Überwindung_de...</td>\n",
       "      <td>1</td>\n",
       "    </tr>\n",
       "    <tr>\n",
       "      <th>146</th>\n",
       "      <td>Fahrdynamik,Leistungsbedarf,fahrdynamische_Aus...</td>\n",
       "      <td>1</td>\n",
       "    </tr>\n",
       "    <tr>\n",
       "      <th>147</th>\n",
       "      <td>Fahrdynamik,Fahrzeitermittlung</td>\n",
       "      <td>1</td>\n",
       "    </tr>\n",
       "    <tr>\n",
       "      <th>148</th>\n",
       "      <td>zugkraftbedingte_Radsatzentlastung,Zugkraftübe...</td>\n",
       "      <td>1</td>\n",
       "    </tr>\n",
       "  </tbody>\n",
       "</table>\n",
       "<p>149 rows × 2 columns</p>\n",
       "</div>"
      ],
      "text/plain": [
       "                                              Keywords  count\n",
       "0                        Machine_Learning,Optimization     55\n",
       "1    Notizen,Whiteboard,Whiteboard-Seite,Notebook_s...     19\n",
       "2    \"Bremsen,Bremstechnik,Druckluftbremse,Klotzbre...     10\n",
       "3    Farbe,Farben,Farbräume,Farbraum,Farbmodelle,Fa...      8\n",
       "4                               Garten,Profi,Gartenbau      8\n",
       "..                                                 ...    ...\n",
       "144  Fahrdynamik,Leistungsbedarf_zur_Überwindung_vo...      1\n",
       "145  Fahrdynamik,Leistungsbedarf_zur_Überwindung_de...      1\n",
       "146  Fahrdynamik,Leistungsbedarf,fahrdynamische_Aus...      1\n",
       "147                     Fahrdynamik,Fahrzeitermittlung      1\n",
       "148  zugkraftbedingte_Radsatzentlastung,Zugkraftübe...      1\n",
       "\n",
       "[149 rows x 2 columns]"
      ]
     },
     "execution_count": 52,
     "metadata": {},
     "output_type": "execute_result"
    }
   ],
   "source": [
    "keyword_statistics=data.groupby(['Keywords'])[\"Keywords\"]\\\n",
    "                                       .count() \\\n",
    "                                       .reset_index(name='count') \\\n",
    "                                       .sort_values(['count'], ascending=False, ignore_index=True)\n",
    "\n",
    "keyword_statistics.to_csv(\"data/metaauswertungkeywords.csv\", index=False)\n",
    "keyword_statistics"
   ]
  },
  {
   "cell_type": "code",
   "execution_count": 4,
   "id": "5c04229e",
   "metadata": {
    "execution": {
     "iopub.execute_input": "2022-09-05T17:59:30.804805Z",
     "iopub.status.busy": "2022-09-05T17:59:30.803806Z",
     "iopub.status.idle": "2022-09-05T17:59:30.829739Z",
     "shell.execute_reply": "2022-09-05T17:59:30.828738Z"
    },
    "papermill": {
     "duration": 0.048869,
     "end_time": "2022-09-05T17:59:30.834725",
     "exception": false,
     "start_time": "2022-09-05T17:59:30.785856",
     "status": "completed"
    },
    "tags": []
   },
   "outputs": [
    {
     "data": {
      "text/plain": [
       "295"
      ]
     },
     "execution_count": 4,
     "metadata": {},
     "output_type": "execute_result"
    }
   ],
   "source": [
    "data[\"Keywords\"].count()"
   ]
  },
  {
   "cell_type": "code",
   "execution_count": 5,
   "id": "309df48a",
   "metadata": {
    "execution": {
     "iopub.execute_input": "2022-09-05T17:59:30.866639Z",
     "iopub.status.busy": "2022-09-05T17:59:30.864644Z",
     "iopub.status.idle": "2022-09-05T17:59:30.890865Z",
     "shell.execute_reply": "2022-09-05T17:59:30.889859Z"
    },
    "papermill": {
     "duration": 0.046166,
     "end_time": "2022-09-05T17:59:30.893856",
     "exception": false,
     "start_time": "2022-09-05T17:59:30.847690",
     "status": "completed"
    },
    "tags": []
   },
   "outputs": [
    {
     "data": {
      "text/html": [
       "<div>\n",
       "<style scoped>\n",
       "    .dataframe tbody tr th:only-of-type {\n",
       "        vertical-align: middle;\n",
       "    }\n",
       "\n",
       "    .dataframe tbody tr th {\n",
       "        vertical-align: top;\n",
       "    }\n",
       "\n",
       "    .dataframe thead th {\n",
       "        text-align: right;\n",
       "    }\n",
       "</style>\n",
       "<table border=\"1\" class=\"dataframe\">\n",
       "  <thead>\n",
       "    <tr style=\"text-align: right;\">\n",
       "      <th></th>\n",
       "      <th>Error</th>\n",
       "      <th>count</th>\n",
       "    </tr>\n",
       "  </thead>\n",
       "  <tbody>\n",
       "    <tr>\n",
       "      <th>0</th>\n",
       "      <td>Missing(404)</td>\n",
       "      <td>646</td>\n",
       "    </tr>\n",
       "    <tr>\n",
       "      <th>1</th>\n",
       "      <td>PasswordProtected</td>\n",
       "      <td>20</td>\n",
       "    </tr>\n",
       "    <tr>\n",
       "      <th>2</th>\n",
       "      <td>OpeningError</td>\n",
       "      <td>7</td>\n",
       "    </tr>\n",
       "  </tbody>\n",
       "</table>\n",
       "</div>"
      ],
      "text/plain": [
       "               Error  count\n",
       "0       Missing(404)    646\n",
       "1  PasswordProtected     20\n",
       "2       OpeningError      7"
      ]
     },
     "execution_count": 5,
     "metadata": {},
     "output_type": "execute_result"
    }
   ],
   "source": [
    "error_statistics = data.groupby(['Error'])[\"Error\"]\\\n",
    "                                       .count() \\\n",
    "                                       .reset_index(name='count') \\\n",
    "                                       .sort_values(['count'], ascending=False, ignore_index=True)\n",
    "\n",
    "error_statistics"
   ]
  },
  {
   "cell_type": "code",
   "execution_count": 6,
   "id": "1fd6257d",
   "metadata": {
    "execution": {
     "iopub.execute_input": "2022-09-05T17:59:30.913808Z",
     "iopub.status.busy": "2022-09-05T17:59:30.912805Z",
     "iopub.status.idle": "2022-09-05T17:59:32.362985Z",
     "shell.execute_reply": "2022-09-05T17:59:32.359994Z"
    },
    "papermill": {
     "duration": 1.466521,
     "end_time": "2022-09-05T17:59:32.369370",
     "exception": false,
     "start_time": "2022-09-05T17:59:30.902849",
     "status": "completed"
    },
    "tags": []
   },
   "outputs": [
    {
     "data": {
      "text/plain": [
       "<matplotlib.legend.Legend at 0x1b28de0ea60>"
      ]
     },
     "execution_count": 6,
     "metadata": {},
     "output_type": "execute_result"
    },
    {
     "data": {
      "image/png": "[encoded data removed]",
      "text/plain": [
       "<Figure size 640x480 with 1 Axes>"
      ]
     },
     "metadata": {},
     "output_type": "display_data"
    }
   ],
   "source": [
    "error_list = error_statistics['count'].tolist()\n",
    "error_list.insert(0, len(data)-error_statistics['count'].sum())\n",
    "\n",
    "error_name = error_statistics['Error'].tolist()\n",
    "error_name.insert(0, 'No Error')\n",
    "\n",
    "colors = ['green', 'red', 'blue', 'black', 'orange', 'violet']\n",
    "\n",
    "y_offset=0\n",
    "for error in range(len(error_list)):\n",
    "    plt.barh(y= 0, \n",
    "             width = error_list[error], \n",
    "             left = y_offset, \n",
    "             color = colors[error],\n",
    "             label = error_name[error])\n",
    "    \n",
    "    y_offset = y_offset + error_list[error]\n",
    "plt.axis('off')\n",
    "plt.legend(loc='upper left')"
   ]
  },
  {
   "cell_type": "code",
   "execution_count": 7,
   "id": "d1dec741",
   "metadata": {
    "execution": {
     "iopub.execute_input": "2022-09-05T17:59:32.398290Z",
     "iopub.status.busy": "2022-09-05T17:59:32.398290Z",
     "iopub.status.idle": "2022-09-05T17:59:32.642055Z",
     "shell.execute_reply": "2022-09-05T17:59:32.641058Z"
    },
    "papermill": {
     "duration": 0.26571,
     "end_time": "2022-09-05T17:59:32.647044",
     "exception": false,
     "start_time": "2022-09-05T17:59:32.381334",
     "status": "completed"
    },
    "tags": []
   },
   "outputs": [
    {
     "data": {
      "text/plain": [
       "[Text(0, 0, '646'), Text(0, 0, '20'), Text(0, 0, '7')]"
      ]
     },
     "execution_count": 7,
     "metadata": {},
     "output_type": "execute_result"
    },
    {
     "data": {
      "image/png": "[encoded data removed]",
      "text/plain": [
       "<Figure size 640x480 with 1 Axes>"
      ]
     },
     "metadata": {},
     "output_type": "display_data"
    }
   ],
   "source": [
    "plt.bar_label(plt.bar(x= (1,2,3), height=error_statistics['count']), label=error_statistics['Error'])"
   ]
  },
  {
   "cell_type": "code",
   "execution_count": 8,
   "id": "27467cf2",
   "metadata": {
    "execution": {
     "iopub.execute_input": "2022-09-05T17:59:32.670920Z",
     "iopub.status.busy": "2022-09-05T17:59:32.669924Z",
     "iopub.status.idle": "2022-09-05T17:59:32.689871Z",
     "shell.execute_reply": "2022-09-05T17:59:32.688872Z"
    },
    "papermill": {
     "duration": 0.033856,
     "end_time": "2022-09-05T17:59:32.692866",
     "exception": false,
     "start_time": "2022-09-05T17:59:32.659010",
     "status": "completed"
    },
    "tags": []
   },
   "outputs": [
    {
     "data": {
      "text/html": [
       "<div>\n",
       "<style scoped>\n",
       "    .dataframe tbody tr th:only-of-type {\n",
       "        vertical-align: middle;\n",
       "    }\n",
       "\n",
       "    .dataframe tbody tr th {\n",
       "        vertical-align: top;\n",
       "    }\n",
       "\n",
       "    .dataframe thead th {\n",
       "        text-align: right;\n",
       "    }\n",
       "</style>\n",
       "<table border=\"1\" class=\"dataframe\">\n",
       "  <thead>\n",
       "    <tr style=\"text-align: right;\">\n",
       "      <th></th>\n",
       "      <th>Author</th>\n",
       "      <th>count</th>\n",
       "    </tr>\n",
       "  </thead>\n",
       "  <tbody>\n",
       "    <tr>\n",
       "      <th>0</th>\n",
       "      <td>Peter Kiessling</td>\n",
       "      <td>259</td>\n",
       "    </tr>\n",
       "    <tr>\n",
       "      <th>1</th>\n",
       "      <td>Jürgen Sachse</td>\n",
       "      <td>86</td>\n",
       "    </tr>\n",
       "    <tr>\n",
       "      <th>2</th>\n",
       "      <td>Prof. Dr.-Ing. Henning Zeidler</td>\n",
       "      <td>72</td>\n",
       "    </tr>\n",
       "    <tr>\n",
       "      <th>3</th>\n",
       "      <td>Prof. Hacker</td>\n",
       "      <td>60</td>\n",
       "    </tr>\n",
       "    <tr>\n",
       "      <th>4</th>\n",
       "      <td>Peter Kießling</td>\n",
       "      <td>59</td>\n",
       "    </tr>\n",
       "  </tbody>\n",
       "</table>\n",
       "</div>"
      ],
      "text/plain": [
       "                           Author  count\n",
       "0                 Peter Kiessling    259\n",
       "1                   Jürgen Sachse     86\n",
       "2  Prof. Dr.-Ing. Henning Zeidler     72\n",
       "3                    Prof. Hacker     60\n",
       "4                  Peter Kießling     59"
      ]
     },
     "execution_count": 8,
     "metadata": {},
     "output_type": "execute_result"
    }
   ],
   "source": [
    "author_statistics = data.groupby(['Author'])[\"Author\"]\\\n",
    "                                       .count() \\\n",
    "                                       .reset_index(name='count') \\\n",
    "                                       .sort_values(['count'], ascending=False, ignore_index=True)\n",
    "                                       \n",
    "                                       \n",
    "#author_statistics.to_csv(\"temp/metaauswertungauthor.csv\", index=False)\n",
    "author_statistics.head()"
   ]
  },
  {
   "cell_type": "code",
   "execution_count": 9,
   "id": "506c57d8",
   "metadata": {
    "execution": {
     "iopub.execute_input": "2022-09-05T17:59:32.720787Z",
     "iopub.status.busy": "2022-09-05T17:59:32.720787Z",
     "iopub.status.idle": "2022-09-05T17:59:33.564274Z",
     "shell.execute_reply": "2022-09-05T17:59:33.563306Z"
    },
    "papermill": {
     "duration": 0.86144,
     "end_time": "2022-09-05T17:59:33.568264",
     "exception": false,
     "start_time": "2022-09-05T17:59:32.706824",
     "status": "completed"
    },
    "tags": []
   },
   "outputs": [
    {
     "data": {
      "text/plain": [
       "[<matplotlib.lines.Line2D at 0x1b2910db850>]"
      ]
     },
     "execution_count": 9,
     "metadata": {},
     "output_type": "execute_result"
    },
    {
     "data": {
      "image/png": "[encoded data removed]",
      "text/plain": [
       "<Figure size 640x480 with 1 Axes>"
      ]
     },
     "metadata": {},
     "output_type": "display_data"
    }
   ],
   "source": [
    "cumsum_statistics = author_statistics.cumsum()\n",
    "cumsum_statistics[\"ratio\"] = cumsum_statistics[\"count\"] / cumsum_statistics[\"count\"].max()\n",
    "\n",
    "ax = cumsum_statistics.ratio.plot()\n",
    "ax.set_title(\"Contributor cumsum count of OER Materials\")\n",
    "ax.set_xlabel(\"Contributor count\")\n",
    "ax.set_ylabel(\"Ratio\")\n",
    "\n",
    "plt.plot([34],[0.5], \"+r\")\n",
    "plt.plot([169],[0.8], \"+r\")"
   ]
  },
  {
   "cell_type": "code",
   "execution_count": 11,
   "id": "068b53f3",
   "metadata": {
    "execution": {
     "iopub.execute_input": "2022-09-05T17:59:33.592494Z",
     "iopub.status.busy": "2022-09-05T17:59:33.591497Z",
     "iopub.status.idle": "2022-09-05T17:59:34.127541Z",
     "shell.execute_reply": "2022-09-05T17:59:34.125694Z"
    },
    "papermill": {
     "duration": 0.551309,
     "end_time": "2022-09-05T17:59:34.129544",
     "exception": false,
     "start_time": "2022-09-05T17:59:33.578235",
     "status": "completed"
    },
    "scrolled": true,
    "tags": []
   },
   "outputs": [
    {
     "data": {
      "text/html": [
       "<div>\n",
       "<style scoped>\n",
       "    .dataframe tbody tr th:only-of-type {\n",
       "        vertical-align: middle;\n",
       "    }\n",
       "\n",
       "    .dataframe tbody tr th {\n",
       "        vertical-align: top;\n",
       "    }\n",
       "\n",
       "    .dataframe thead th {\n",
       "        text-align: right;\n",
       "    }\n",
       "</style>\n",
       "<table border=\"1\" class=\"dataframe\">\n",
       "  <thead>\n",
       "    <tr style=\"text-align: right;\">\n",
       "      <th></th>\n",
       "      <th>datetime</th>\n",
       "      <th>count</th>\n",
       "    </tr>\n",
       "  </thead>\n",
       "  <tbody>\n",
       "    <tr>\n",
       "      <th>0</th>\n",
       "      <td>2022-06-26</td>\n",
       "      <td>3</td>\n",
       "    </tr>\n",
       "    <tr>\n",
       "      <th>1</th>\n",
       "      <td>2022-06-22</td>\n",
       "      <td>1</td>\n",
       "    </tr>\n",
       "    <tr>\n",
       "      <th>2</th>\n",
       "      <td>2022-06-17</td>\n",
       "      <td>1</td>\n",
       "    </tr>\n",
       "    <tr>\n",
       "      <th>3</th>\n",
       "      <td>2022-06-13</td>\n",
       "      <td>2</td>\n",
       "    </tr>\n",
       "    <tr>\n",
       "      <th>4</th>\n",
       "      <td>2022-05-24</td>\n",
       "      <td>2</td>\n",
       "    </tr>\n",
       "    <tr>\n",
       "      <th>...</th>\n",
       "      <td>...</td>\n",
       "      <td>...</td>\n",
       "    </tr>\n",
       "    <tr>\n",
       "      <th>1082</th>\n",
       "      <td>2001-07-05</td>\n",
       "      <td>1</td>\n",
       "    </tr>\n",
       "    <tr>\n",
       "      <th>1083</th>\n",
       "      <td>1999-10-21</td>\n",
       "      <td>1</td>\n",
       "    </tr>\n",
       "    <tr>\n",
       "      <th>1084</th>\n",
       "      <td>1999-02-16</td>\n",
       "      <td>1</td>\n",
       "    </tr>\n",
       "    <tr>\n",
       "      <th>1085</th>\n",
       "      <td>1998-07-10</td>\n",
       "      <td>2</td>\n",
       "    </tr>\n",
       "    <tr>\n",
       "      <th>1086</th>\n",
       "      <td>1993-08-04</td>\n",
       "      <td>1</td>\n",
       "    </tr>\n",
       "  </tbody>\n",
       "</table>\n",
       "<p>1087 rows × 2 columns</p>\n",
       "</div>"
      ],
      "text/plain": [
       "       datetime  count\n",
       "0    2022-06-26      3\n",
       "1    2022-06-22      1\n",
       "2    2022-06-17      1\n",
       "3    2022-06-13      2\n",
       "4    2022-05-24      2\n",
       "...         ...    ...\n",
       "1082 2001-07-05      1\n",
       "1083 1999-10-21      1\n",
       "1084 1999-02-16      1\n",
       "1085 1998-07-10      2\n",
       "1086 1993-08-04      1\n",
       "\n",
       "[1087 rows x 2 columns]"
      ]
     },
     "execution_count": 11,
     "metadata": {},
     "output_type": "execute_result"
    }
   ],
   "source": [
    "\n",
    "timedata = pd.DataFrame(data['Datum der Erstellung'])\n",
    "timedata.dropna(inplace=True)\n",
    "timelist=list()\n",
    "\n",
    "for index, row in timedata.iterrows():\n",
    "    #print(row['Datum der Erstellung'])\n",
    "    timelist.append(datetime.strptime(row['Datum der Erstellung'],\"%Y/%m/%d\"))\n",
    "timedata = timedata.assign(datetime=timelist)\n",
    "#df1 = df1.assign(e=pd.Series(np.random.randn(sLength)).values)\n",
    "    #timelist.append(row.strftime(%x))\n",
    "timedata.drop(columns='Datum der Erstellung', inplace=True)   \n",
    "    \n",
    "dailytime_statistics = timedata.groupby(['datetime'])[\"datetime\"]\\\n",
    "                                       .count() \\\n",
    "                                       .reset_index(name='count') \\\n",
    "                                       .sort_values(['datetime'], ascending=False, ignore_index=True)\n",
    "\n",
    "#time_statistics.to_csv(\"temp/metaauswertungtime.csv\", index=False)\n",
    "dailytime_statistics"
   ]
  },
  {
   "cell_type": "code",
   "execution_count": 12,
   "id": "ef73f63a",
   "metadata": {
    "execution": {
     "iopub.execute_input": "2022-09-05T17:59:34.160269Z",
     "iopub.status.busy": "2022-09-05T17:59:34.159270Z",
     "iopub.status.idle": "2022-09-05T17:59:34.628840Z",
     "shell.execute_reply": "2022-09-05T17:59:34.627908Z"
    },
    "papermill": {
     "duration": 0.485305,
     "end_time": "2022-09-05T17:59:34.630833",
     "exception": false,
     "start_time": "2022-09-05T17:59:34.145528",
     "status": "completed"
    },
    "tags": []
   },
   "outputs": [
    {
     "data": {
      "text/plain": [
       "<AxesSubplot:xlabel='datetime'>"
      ]
     },
     "execution_count": 12,
     "metadata": {},
     "output_type": "execute_result"
    },
    {
     "data": {
      "image/png": "[encoded data removed]",
      "text/plain": [
       "<Figure size 640x480 with 1 Axes>"
      ]
     },
     "metadata": {},
     "output_type": "display_data"
    }
   ],
   "source": [
    "dailytime_statistics.set_index(['datetime'],inplace=True)\n",
    "dailytime_statistics.plot()"
   ]
  },
  {
   "cell_type": "code",
   "execution_count": 13,
   "id": "42d0d716",
   "metadata": {
    "execution": {
     "iopub.execute_input": "2022-09-05T17:59:34.660754Z",
     "iopub.status.busy": "2022-09-05T17:59:34.659761Z",
     "iopub.status.idle": "2022-09-05T17:59:35.348500Z",
     "shell.execute_reply": "2022-09-05T17:59:35.347496Z"
    },
    "papermill": {
     "duration": 0.7047,
     "end_time": "2022-09-05T17:59:35.351494",
     "exception": false,
     "start_time": "2022-09-05T17:59:34.646794",
     "status": "completed"
    },
    "tags": []
   },
   "outputs": [
    {
     "data": {
      "text/plain": [
       "<AxesSubplot:xlabel='datetime'>"
      ]
     },
     "execution_count": 13,
     "metadata": {},
     "output_type": "execute_result"
    },
    {
     "data": {
      "image/png": "[encoded data removed]",
      "text/plain": [
       "<Figure size 640x480 with 1 Axes>"
      ]
     },
     "metadata": {},
     "output_type": "display_data"
    }
   ],
   "source": [
    "weeklytime_statistics = timedata.resample('W', on='datetime').count() #hier Buchstaben verändern für andere Zeitspannen\n",
    "\n",
    "weeklytime_statistics.rename(columns={list(weeklytime_statistics)[0]:'count'}, inplace=True)\n",
    "weeklytime_statistics.plot()"
   ]
  },
  {
   "cell_type": "code",
   "execution_count": 14,
   "id": "c10c85b7",
   "metadata": {
    "execution": {
     "iopub.execute_input": "2022-09-05T17:59:35.380232Z",
     "iopub.status.busy": "2022-09-05T17:59:35.379234Z",
     "iopub.status.idle": "2022-09-05T17:59:35.426983Z",
     "shell.execute_reply": "2022-09-05T17:59:35.425979Z"
    },
    "papermill": {
     "duration": 0.064519,
     "end_time": "2022-09-05T17:59:35.428976",
     "exception": false,
     "start_time": "2022-09-05T17:59:35.364457",
     "status": "completed"
    },
    "tags": []
   },
   "outputs": [
    {
     "data": {
      "text/html": [
       "<div>\n",
       "<style scoped>\n",
       "    .dataframe tbody tr th:only-of-type {\n",
       "        vertical-align: middle;\n",
       "    }\n",
       "\n",
       "    .dataframe tbody tr th {\n",
       "        vertical-align: top;\n",
       "    }\n",
       "\n",
       "    .dataframe thead th {\n",
       "        text-align: right;\n",
       "    }\n",
       "</style>\n",
       "<table border=\"1\" class=\"dataframe\">\n",
       "  <thead>\n",
       "    <tr style=\"text-align: right;\">\n",
       "      <th></th>\n",
       "      <th>Seitenzahl</th>\n",
       "      <th>count</th>\n",
       "    </tr>\n",
       "  </thead>\n",
       "  <tbody>\n",
       "    <tr>\n",
       "      <th>0</th>\n",
       "      <td>1.0</td>\n",
       "      <td>816</td>\n",
       "    </tr>\n",
       "    <tr>\n",
       "      <th>1</th>\n",
       "      <td>2.0</td>\n",
       "      <td>459</td>\n",
       "    </tr>\n",
       "    <tr>\n",
       "      <th>2</th>\n",
       "      <td>3.0</td>\n",
       "      <td>242</td>\n",
       "    </tr>\n",
       "    <tr>\n",
       "      <th>3</th>\n",
       "      <td>4.0</td>\n",
       "      <td>168</td>\n",
       "    </tr>\n",
       "    <tr>\n",
       "      <th>4</th>\n",
       "      <td>5.0</td>\n",
       "      <td>168</td>\n",
       "    </tr>\n",
       "    <tr>\n",
       "      <th>...</th>\n",
       "      <td>...</td>\n",
       "      <td>...</td>\n",
       "    </tr>\n",
       "    <tr>\n",
       "      <th>169</th>\n",
       "      <td>591.0</td>\n",
       "      <td>3</td>\n",
       "    </tr>\n",
       "    <tr>\n",
       "      <th>170</th>\n",
       "      <td>623.0</td>\n",
       "      <td>2</td>\n",
       "    </tr>\n",
       "    <tr>\n",
       "      <th>171</th>\n",
       "      <td>857.0</td>\n",
       "      <td>2</td>\n",
       "    </tr>\n",
       "    <tr>\n",
       "      <th>172</th>\n",
       "      <td>1018.0</td>\n",
       "      <td>1</td>\n",
       "    </tr>\n",
       "    <tr>\n",
       "      <th>173</th>\n",
       "      <td>1061.0</td>\n",
       "      <td>2</td>\n",
       "    </tr>\n",
       "  </tbody>\n",
       "</table>\n",
       "<p>174 rows × 2 columns</p>\n",
       "</div>"
      ],
      "text/plain": [
       "     Seitenzahl  count\n",
       "0           1.0    816\n",
       "1           2.0    459\n",
       "2           3.0    242\n",
       "3           4.0    168\n",
       "4           5.0    168\n",
       "..          ...    ...\n",
       "169       591.0      3\n",
       "170       623.0      2\n",
       "171       857.0      2\n",
       "172      1018.0      1\n",
       "173      1061.0      2\n",
       "\n",
       "[174 rows x 2 columns]"
      ]
     },
     "execution_count": 14,
     "metadata": {},
     "output_type": "execute_result"
    }
   ],
   "source": [
    "page_statistics = data.groupby(['Seitenzahl'])[\"Seitenzahl\"]\\\n",
    "                                       .count() \\\n",
    "                                       .reset_index(name='count') \\\n",
    "                                       .sort_values(['Seitenzahl'], ascending=True, ignore_index=True)\n",
    "page_statistics"
   ]
  },
  {
   "cell_type": "code",
   "execution_count": 15,
   "id": "613e3265",
   "metadata": {
    "execution": {
     "iopub.execute_input": "2022-09-05T17:59:35.457898Z",
     "iopub.status.busy": "2022-09-05T17:59:35.456905Z",
     "iopub.status.idle": "2022-09-05T17:59:35.708897Z",
     "shell.execute_reply": "2022-09-05T17:59:35.708017Z"
    },
    "papermill": {
     "duration": 0.268949,
     "end_time": "2022-09-05T17:59:35.711887",
     "exception": false,
     "start_time": "2022-09-05T17:59:35.442938",
     "status": "completed"
    },
    "tags": []
   },
   "outputs": [
    {
     "data": {
      "text/plain": [
       "<AxesSubplot:xlabel='Seitenzahl'>"
      ]
     },
     "execution_count": 15,
     "metadata": {},
     "output_type": "execute_result"
    },
    {
     "data": {
      "image/png": "[encoded data removed]",
      "text/plain": [
       "<Figure size 640x480 with 1 Axes>"
      ]
     },
     "metadata": {},
     "output_type": "display_data"
    }
   ],
   "source": [
    "page_statistics.set_index(['Seitenzahl'],inplace=True)\n",
    "page_statistics.plot()"
   ]
  },
  {
   "cell_type": "code",
   "execution_count": 16,
   "id": "6d0a5513",
   "metadata": {
    "execution": {
     "iopub.execute_input": "2022-09-05T17:59:35.741818Z",
     "iopub.status.busy": "2022-09-05T17:59:35.741818Z",
     "iopub.status.idle": "2022-09-05T17:59:35.771122Z",
     "shell.execute_reply": "2022-09-05T17:59:35.770155Z"
    },
    "papermill": {
     "duration": 0.049233,
     "end_time": "2022-09-05T17:59:35.774114",
     "exception": false,
     "start_time": "2022-09-05T17:59:35.724881",
     "status": "completed"
    },
    "tags": []
   },
   "outputs": [
    {
     "data": {
      "text/html": [
       "<div>\n",
       "<style scoped>\n",
       "    .dataframe tbody tr th:only-of-type {\n",
       "        vertical-align: middle;\n",
       "    }\n",
       "\n",
       "    .dataframe tbody tr th {\n",
       "        vertical-align: top;\n",
       "    }\n",
       "\n",
       "    .dataframe thead th {\n",
       "        text-align: right;\n",
       "    }\n",
       "</style>\n",
       "<table border=\"1\" class=\"dataframe\">\n",
       "  <thead>\n",
       "    <tr style=\"text-align: right;\">\n",
       "      <th></th>\n",
       "      <th>Format</th>\n",
       "      <th>count</th>\n",
       "    </tr>\n",
       "  </thead>\n",
       "  <tbody>\n",
       "    <tr>\n",
       "      <th>0</th>\n",
       "      <td>Hochformat</td>\n",
       "      <td>2682</td>\n",
       "    </tr>\n",
       "    <tr>\n",
       "      <th>1</th>\n",
       "      <td>Querformat</td>\n",
       "      <td>1887</td>\n",
       "    </tr>\n",
       "  </tbody>\n",
       "</table>\n",
       "</div>"
      ],
      "text/plain": [
       "       Format  count\n",
       "0  Hochformat   2682\n",
       "1  Querformat   1887"
      ]
     },
     "execution_count": 16,
     "metadata": {},
     "output_type": "execute_result"
    }
   ],
   "source": [
    "format_statistics = data.groupby(['Format'])[\"Format\"]\\\n",
    "                                       .count() \\\n",
    "                                       .reset_index(name='count') \\\n",
    "                                       .sort_values(['count'], ascending=False, ignore_index=True)\n",
    "format_statistics"
   ]
  },
  {
   "cell_type": "code",
   "execution_count": 17,
   "id": "f3c8719e",
   "metadata": {
    "execution": {
     "iopub.execute_input": "2022-09-05T17:59:35.802040Z",
     "iopub.status.busy": "2022-09-05T17:59:35.801041Z",
     "iopub.status.idle": "2022-09-05T17:59:36.022701Z",
     "shell.execute_reply": "2022-09-05T17:59:36.021528Z"
    },
    "papermill": {
     "duration": 0.237652,
     "end_time": "2022-09-05T17:59:36.024731",
     "exception": false,
     "start_time": "2022-09-05T17:59:35.787079",
     "status": "completed"
    },
    "tags": []
   },
   "outputs": [
    {
     "data": {
      "text/plain": [
       "<AxesSubplot:xlabel='Format'>"
      ]
     },
     "execution_count": 17,
     "metadata": {},
     "output_type": "execute_result"
    },
    {
     "data": {
      "image/png": "[encoded data removed]",
      "text/plain": [
       "<Figure size 640x480 with 1 Axes>"
      ]
     },
     "metadata": {},
     "output_type": "display_data"
    }
   ],
   "source": [
    "format_statistics.plot(kind='bar', x='Format')"
   ]
  },
  {
   "cell_type": "code",
   "execution_count": 21,
   "id": "c5409743",
   "metadata": {
    "execution": {
     "iopub.execute_input": "2022-09-05T17:59:36.066619Z",
     "iopub.status.busy": "2022-09-05T17:59:36.066619Z",
     "iopub.status.idle": "2022-09-05T17:59:36.459558Z",
     "shell.execute_reply": "2022-09-05T17:59:36.458632Z"
    },
    "papermill": {
     "duration": 0.423884,
     "end_time": "2022-09-05T17:59:36.462550",
     "exception": false,
     "start_time": "2022-09-05T17:59:36.038666",
     "status": "completed"
    },
    "tags": []
   },
   "outputs": [
    {
     "data": {
      "text/html": [
       "<div>\n",
       "<style scoped>\n",
       "    .dataframe tbody tr th:only-of-type {\n",
       "        vertical-align: middle;\n",
       "    }\n",
       "\n",
       "    .dataframe tbody tr th {\n",
       "        vertical-align: top;\n",
       "    }\n",
       "\n",
       "    .dataframe thead th {\n",
       "        text-align: right;\n",
       "    }\n",
       "</style>\n",
       "<table border=\"1\" class=\"dataframe\">\n",
       "  <thead>\n",
       "    <tr style=\"text-align: right;\">\n",
       "      <th></th>\n",
       "      <th>Dateigröße</th>\n",
       "      <th>count</th>\n",
       "    </tr>\n",
       "  </thead>\n",
       "  <tbody>\n",
       "    <tr>\n",
       "      <th>0</th>\n",
       "      <td>6028.0</td>\n",
       "      <td>1</td>\n",
       "    </tr>\n",
       "    <tr>\n",
       "      <th>1</th>\n",
       "      <td>6135.0</td>\n",
       "      <td>1</td>\n",
       "    </tr>\n",
       "    <tr>\n",
       "      <th>2</th>\n",
       "      <td>6343.0</td>\n",
       "      <td>1</td>\n",
       "    </tr>\n",
       "    <tr>\n",
       "      <th>3</th>\n",
       "      <td>7012.0</td>\n",
       "      <td>1</td>\n",
       "    </tr>\n",
       "    <tr>\n",
       "      <th>4</th>\n",
       "      <td>7639.0</td>\n",
       "      <td>1</td>\n",
       "    </tr>\n",
       "    <tr>\n",
       "      <th>...</th>\n",
       "      <td>...</td>\n",
       "      <td>...</td>\n",
       "    </tr>\n",
       "    <tr>\n",
       "      <th>3752</th>\n",
       "      <td>122738171.0</td>\n",
       "      <td>1</td>\n",
       "    </tr>\n",
       "    <tr>\n",
       "      <th>3753</th>\n",
       "      <td>177360802.0</td>\n",
       "      <td>1</td>\n",
       "    </tr>\n",
       "    <tr>\n",
       "      <th>3754</th>\n",
       "      <td>198529321.0</td>\n",
       "      <td>1</td>\n",
       "    </tr>\n",
       "    <tr>\n",
       "      <th>3755</th>\n",
       "      <td>203312639.0</td>\n",
       "      <td>1</td>\n",
       "    </tr>\n",
       "    <tr>\n",
       "      <th>3756</th>\n",
       "      <td>285038478.0</td>\n",
       "      <td>1</td>\n",
       "    </tr>\n",
       "  </tbody>\n",
       "</table>\n",
       "<p>3757 rows × 2 columns</p>\n",
       "</div>"
      ],
      "text/plain": [
       "       Dateigröße  count\n",
       "0          6028.0      1\n",
       "1          6135.0      1\n",
       "2          6343.0      1\n",
       "3          7012.0      1\n",
       "4          7639.0      1\n",
       "...           ...    ...\n",
       "3752  122738171.0      1\n",
       "3753  177360802.0      1\n",
       "3754  198529321.0      1\n",
       "3755  203312639.0      1\n",
       "3756  285038478.0      1\n",
       "\n",
       "[3757 rows x 2 columns]"
      ]
     },
     "execution_count": 21,
     "metadata": {},
     "output_type": "execute_result"
    }
   ],
   "source": [
    "#Dateigröße\n",
    "sizedata = pd.DataFrame(data['Dateigröße'])\n",
    "sizedata.dropna(inplace=True)\n",
    "\n",
    "#sizelist = list()\n",
    "\n",
    "#for index, row in sizedata.iterrows():\n",
    "#    sizesplitter = row['Dateigröße'].split(\" \", 1)\n",
    "#    if sizesplitter[1] == \"GB\":\n",
    "#        sizelist.append(float(sizesplitter[0]) * 1000000000)\n",
    "#    elif sizesplitter[1] == \"MB\":\n",
    "#        sizelist.append(float(sizesplitter[0]) * 1000000)\n",
    "#    elif sizesplitter[1] == \"kB\":\n",
    "#        sizelist.append(float(sizesplitter[0]) * 1000)\n",
    "#    else:\n",
    "#        sizelist.append(float(sizesplitter[0]))\n",
    "\n",
    "#sizelist\n",
    "#sizedata = sizedata.assign(size=sizelist)\n",
    "\n",
    "\n",
    "#df1 = df1.assign(e=pd.Series(np.random.randn(sLength)).values)\n",
    "    #timelist.append(row.strftime(%x))\n",
    "\n",
    "size_statistics = sizedata.groupby(['Dateigröße'])[\"Dateigröße\"]\\\n",
    "                                       .count() \\\n",
    "                                       .reset_index(name='count') \\\n",
    "                                       .sort_values(['Dateigröße'], ascending=True, ignore_index=True)\n",
    "size_statistics"
   ]
  },
  {
   "cell_type": "code",
   "execution_count": 23,
   "id": "a17e5ea7",
   "metadata": {
    "execution": {
     "iopub.execute_input": "2022-09-05T17:59:36.493468Z",
     "iopub.status.busy": "2022-09-05T17:59:36.492471Z",
     "iopub.status.idle": "2022-09-05T17:59:36.741478Z",
     "shell.execute_reply": "2022-09-05T17:59:36.740547Z"
    },
    "papermill": {
     "duration": 0.268918,
     "end_time": "2022-09-05T17:59:36.744466",
     "exception": false,
     "start_time": "2022-09-05T17:59:36.475548",
     "status": "completed"
    },
    "tags": []
   },
   "outputs": [
    {
     "data": {
      "text/plain": [
       "<AxesSubplot:xlabel='Dateigröße'>"
      ]
     },
     "execution_count": 23,
     "metadata": {},
     "output_type": "execute_result"
    },
    {
     "data": {
      "image/png": "[encoded data removed]",
      "text/plain": [
       "<Figure size 640x480 with 1 Axes>"
      ]
     },
     "metadata": {},
     "output_type": "display_data"
    }
   ],
   "source": [
    "size_statistics.set_index(['Dateigröße'],inplace=True)\n",
    "size_statistics.plot()"
   ]
  },
  {
   "cell_type": "markdown",
   "id": "353a3cfb",
   "metadata": {
    "papermill": {
     "duration": 0.019916,
     "end_time": "2022-09-05T17:59:36.778376",
     "exception": false,
     "start_time": "2022-09-05T17:59:36.758460",
     "status": "completed"
    },
    "tags": []
   },
   "source": [
    "### Hier werden die aggregierten Daten aus der ersten Phase zu den Daten aus content.json geschrieben"
   ]
  },
  {
   "cell_type": "code",
   "execution_count": 24,
   "id": "4a42b204",
   "metadata": {
    "execution": {
     "iopub.execute_input": "2022-09-05T17:59:36.811131Z",
     "iopub.status.busy": "2022-09-05T17:59:36.810104Z",
     "iopub.status.idle": "2022-09-05T17:59:37.490979Z",
     "shell.execute_reply": "2022-09-05T17:59:37.489562Z"
    },
    "papermill": {
     "duration": 0.699106,
     "end_time": "2022-09-05T17:59:37.493010",
     "exception": false,
     "start_time": "2022-09-05T17:59:36.793904",
     "status": "completed"
    },
    "tags": []
   },
   "outputs": [],
   "source": [
    "with open(\"data/content.json\", 'r', encoding='utf-8') as json_data:\n",
    "    raw_data = json.load(json_data)\n",
    "    \n",
    "    \n",
    "oer_data_set = list()\n",
    "\n",
    "contdata = raw_data['files']\n",
    "for entry in contdata:\n",
    "    oer_data_set.append(entry)"
   ]
  },
  {
   "cell_type": "code",
   "execution_count": 25,
   "id": "ff47d0f4",
   "metadata": {
    "execution": {
     "iopub.execute_input": "2022-09-05T17:59:37.527915Z",
     "iopub.status.busy": "2022-09-05T17:59:37.527915Z",
     "iopub.status.idle": "2022-09-05T17:59:37.628619Z",
     "shell.execute_reply": "2022-09-05T17:59:37.627618Z"
    },
    "papermill": {
     "duration": 0.12364,
     "end_time": "2022-09-05T17:59:37.631611",
     "exception": false,
     "start_time": "2022-09-05T17:59:37.507971",
     "status": "completed"
    },
    "tags": []
   },
   "outputs": [
    {
     "data": {
      "text/html": [
       "<div>\n",
       "<style scoped>\n",
       "    .dataframe tbody tr th:only-of-type {\n",
       "        vertical-align: middle;\n",
       "    }\n",
       "\n",
       "    .dataframe tbody tr th {\n",
       "        vertical-align: top;\n",
       "    }\n",
       "\n",
       "    .dataframe thead th {\n",
       "        text-align: right;\n",
       "    }\n",
       "</style>\n",
       "<table border=\"1\" class=\"dataframe\">\n",
       "  <thead>\n",
       "    <tr style=\"text-align: right;\">\n",
       "      <th></th>\n",
       "      <th>filename</th>\n",
       "      <th>license</th>\n",
       "      <th>oer_permalink</th>\n",
       "      <th>title</th>\n",
       "      <th>comment</th>\n",
       "      <th>creator</th>\n",
       "      <th>publisher</th>\n",
       "      <th>source</th>\n",
       "      <th>city</th>\n",
       "      <th>publicationMonth</th>\n",
       "      <th>...</th>\n",
       "      <th>act</th>\n",
       "      <th>appId</th>\n",
       "      <th>category</th>\n",
       "      <th>chapter</th>\n",
       "      <th>duration</th>\n",
       "      <th>mediaType</th>\n",
       "      <th>nav1</th>\n",
       "      <th>nav2</th>\n",
       "      <th>nav3</th>\n",
       "      <th>series</th>\n",
       "    </tr>\n",
       "  </thead>\n",
       "  <tbody>\n",
       "    <tr>\n",
       "      <th>0</th>\n",
       "      <td>SC_Hardware.png</td>\n",
       "      <td>CC BY 4.0 Int.</td>\n",
       "      <td>https://bildungsportal.sachsen.de/opal/oer/6TI...</td>\n",
       "      <td>Hardware zum Styroporschneiden</td>\n",
       "      <td></td>\n",
       "      <td>Daniela Dobeleit</td>\n",
       "      <td>SLUB Dresden</td>\n",
       "      <td></td>\n",
       "      <td></td>\n",
       "      <td></td>\n",
       "      <td>...</td>\n",
       "      <td></td>\n",
       "      <td></td>\n",
       "      <td></td>\n",
       "      <td></td>\n",
       "      <td></td>\n",
       "      <td></td>\n",
       "      <td></td>\n",
       "      <td></td>\n",
       "      <td></td>\n",
       "      <td></td>\n",
       "    </tr>\n",
       "    <tr>\n",
       "      <th>1</th>\n",
       "      <td>beleg.pdf</td>\n",
       "      <td>CC BY-SA 4.0 Int.</td>\n",
       "      <td>https://bildungsportal.sachsen.de/opal/oer/8I6...</td>\n",
       "      <td></td>\n",
       "      <td></td>\n",
       "      <td></td>\n",
       "      <td></td>\n",
       "      <td></td>\n",
       "      <td></td>\n",
       "      <td></td>\n",
       "      <td>...</td>\n",
       "      <td></td>\n",
       "      <td></td>\n",
       "      <td></td>\n",
       "      <td></td>\n",
       "      <td></td>\n",
       "      <td></td>\n",
       "      <td></td>\n",
       "      <td></td>\n",
       "      <td></td>\n",
       "      <td></td>\n",
       "    </tr>\n",
       "    <tr>\n",
       "      <th>2</th>\n",
       "      <td>Bereich III.pdf</td>\n",
       "      <td>CC BY-NC-ND 4.0 Int.</td>\n",
       "      <td>https://bildungsportal.sachsen.de/opal/oer/8ZI...</td>\n",
       "      <td></td>\n",
       "      <td></td>\n",
       "      <td></td>\n",
       "      <td></td>\n",
       "      <td></td>\n",
       "      <td></td>\n",
       "      <td></td>\n",
       "      <td>...</td>\n",
       "      <td></td>\n",
       "      <td></td>\n",
       "      <td></td>\n",
       "      <td></td>\n",
       "      <td></td>\n",
       "      <td></td>\n",
       "      <td></td>\n",
       "      <td></td>\n",
       "      <td></td>\n",
       "      <td></td>\n",
       "    </tr>\n",
       "    <tr>\n",
       "      <th>3</th>\n",
       "      <td>uebung6_A2d.py</td>\n",
       "      <td>CC0 1.0 Universell</td>\n",
       "      <td>https://bildungsportal.sachsen.de/opal/oer/6fn...</td>\n",
       "      <td></td>\n",
       "      <td></td>\n",
       "      <td></td>\n",
       "      <td></td>\n",
       "      <td></td>\n",
       "      <td></td>\n",
       "      <td></td>\n",
       "      <td>...</td>\n",
       "      <td></td>\n",
       "      <td></td>\n",
       "      <td></td>\n",
       "      <td></td>\n",
       "      <td></td>\n",
       "      <td></td>\n",
       "      <td></td>\n",
       "      <td></td>\n",
       "      <td></td>\n",
       "      <td></td>\n",
       "    </tr>\n",
       "    <tr>\n",
       "      <th>4</th>\n",
       "      <td>ITM_Selbststudium_1.docx</td>\n",
       "      <td>CC BY-NC-SA 4.0 Int.</td>\n",
       "      <td>https://bildungsportal.sachsen.de/opal/oer/7Bm...</td>\n",
       "      <td></td>\n",
       "      <td></td>\n",
       "      <td></td>\n",
       "      <td></td>\n",
       "      <td></td>\n",
       "      <td></td>\n",
       "      <td></td>\n",
       "      <td>...</td>\n",
       "      <td></td>\n",
       "      <td></td>\n",
       "      <td></td>\n",
       "      <td></td>\n",
       "      <td></td>\n",
       "      <td></td>\n",
       "      <td></td>\n",
       "      <td></td>\n",
       "      <td></td>\n",
       "      <td></td>\n",
       "    </tr>\n",
       "    <tr>\n",
       "      <th>...</th>\n",
       "      <td>...</td>\n",
       "      <td>...</td>\n",
       "      <td>...</td>\n",
       "      <td>...</td>\n",
       "      <td>...</td>\n",
       "      <td>...</td>\n",
       "      <td>...</td>\n",
       "      <td>...</td>\n",
       "      <td>...</td>\n",
       "      <td>...</td>\n",
       "      <td>...</td>\n",
       "      <td>...</td>\n",
       "      <td>...</td>\n",
       "      <td>...</td>\n",
       "      <td>...</td>\n",
       "      <td>...</td>\n",
       "      <td>...</td>\n",
       "      <td>...</td>\n",
       "      <td>...</td>\n",
       "      <td>...</td>\n",
       "      <td>...</td>\n",
       "    </tr>\n",
       "    <tr>\n",
       "      <th>11317</th>\n",
       "      <td>statistik_054.mkv</td>\n",
       "      <td>CC BY-NC-ND 4.0 Int.</td>\n",
       "      <td>https://bildungsportal.sachsen.de/opal/oer/6Qd...</td>\n",
       "      <td></td>\n",
       "      <td></td>\n",
       "      <td></td>\n",
       "      <td></td>\n",
       "      <td></td>\n",
       "      <td></td>\n",
       "      <td></td>\n",
       "      <td>...</td>\n",
       "      <td></td>\n",
       "      <td></td>\n",
       "      <td></td>\n",
       "      <td></td>\n",
       "      <td></td>\n",
       "      <td></td>\n",
       "      <td></td>\n",
       "      <td></td>\n",
       "      <td></td>\n",
       "      <td></td>\n",
       "    </tr>\n",
       "    <tr>\n",
       "      <th>11318</th>\n",
       "      <td>statistik_071.mkv</td>\n",
       "      <td>CC BY-NC-ND 4.0 Int.</td>\n",
       "      <td>https://bildungsportal.sachsen.de/opal/oer/6SX...</td>\n",
       "      <td></td>\n",
       "      <td></td>\n",
       "      <td></td>\n",
       "      <td></td>\n",
       "      <td></td>\n",
       "      <td></td>\n",
       "      <td></td>\n",
       "      <td>...</td>\n",
       "      <td></td>\n",
       "      <td></td>\n",
       "      <td></td>\n",
       "      <td></td>\n",
       "      <td></td>\n",
       "      <td></td>\n",
       "      <td></td>\n",
       "      <td></td>\n",
       "      <td></td>\n",
       "      <td></td>\n",
       "    </tr>\n",
       "    <tr>\n",
       "      <th>11319</th>\n",
       "      <td>statistik_058.mkv</td>\n",
       "      <td>CC BY-NC-ND 4.0 Int.</td>\n",
       "      <td>https://bildungsportal.sachsen.de/opal/oer/6G7...</td>\n",
       "      <td></td>\n",
       "      <td></td>\n",
       "      <td></td>\n",
       "      <td></td>\n",
       "      <td></td>\n",
       "      <td></td>\n",
       "      <td></td>\n",
       "      <td>...</td>\n",
       "      <td></td>\n",
       "      <td></td>\n",
       "      <td></td>\n",
       "      <td></td>\n",
       "      <td></td>\n",
       "      <td></td>\n",
       "      <td></td>\n",
       "      <td></td>\n",
       "      <td></td>\n",
       "      <td></td>\n",
       "    </tr>\n",
       "    <tr>\n",
       "      <th>11320</th>\n",
       "      <td>Cast-Filius Installation von Programmen auf de...</td>\n",
       "      <td>CC BY-NC 4.0 Int.</td>\n",
       "      <td>https://bildungsportal.sachsen.de/opal/oer/10l...</td>\n",
       "      <td></td>\n",
       "      <td></td>\n",
       "      <td></td>\n",
       "      <td></td>\n",
       "      <td></td>\n",
       "      <td></td>\n",
       "      <td></td>\n",
       "      <td>...</td>\n",
       "      <td></td>\n",
       "      <td></td>\n",
       "      <td></td>\n",
       "      <td></td>\n",
       "      <td></td>\n",
       "      <td></td>\n",
       "      <td></td>\n",
       "      <td></td>\n",
       "      <td></td>\n",
       "      <td></td>\n",
       "    </tr>\n",
       "    <tr>\n",
       "      <th>11321</th>\n",
       "      <td>Cast-Filius Datei importieren durch den Datei ...</td>\n",
       "      <td>CC BY-NC 4.0 Int.</td>\n",
       "      <td>https://bildungsportal.sachsen.de/opal/oer/10N...</td>\n",
       "      <td></td>\n",
       "      <td></td>\n",
       "      <td></td>\n",
       "      <td></td>\n",
       "      <td></td>\n",
       "      <td></td>\n",
       "      <td></td>\n",
       "      <td>...</td>\n",
       "      <td></td>\n",
       "      <td></td>\n",
       "      <td></td>\n",
       "      <td></td>\n",
       "      <td></td>\n",
       "      <td></td>\n",
       "      <td></td>\n",
       "      <td></td>\n",
       "      <td></td>\n",
       "      <td></td>\n",
       "    </tr>\n",
       "  </tbody>\n",
       "</table>\n",
       "<p>11322 rows × 24 columns</p>\n",
       "</div>"
      ],
      "text/plain": [
       "                                                filename  \\\n",
       "0                                        SC_Hardware.png   \n",
       "1                                              beleg.pdf   \n",
       "2                                        Bereich III.pdf   \n",
       "3                                         uebung6_A2d.py   \n",
       "4                               ITM_Selbststudium_1.docx   \n",
       "...                                                  ...   \n",
       "11317                                  statistik_054.mkv   \n",
       "11318                                  statistik_071.mkv   \n",
       "11319                                  statistik_058.mkv   \n",
       "11320  Cast-Filius Installation von Programmen auf de...   \n",
       "11321  Cast-Filius Datei importieren durch den Datei ...   \n",
       "\n",
       "                    license  \\\n",
       "0            CC BY 4.0 Int.   \n",
       "1         CC BY-SA 4.0 Int.   \n",
       "2      CC BY-NC-ND 4.0 Int.   \n",
       "3        CC0 1.0 Universell   \n",
       "4      CC BY-NC-SA 4.0 Int.   \n",
       "...                     ...   \n",
       "11317  CC BY-NC-ND 4.0 Int.   \n",
       "11318  CC BY-NC-ND 4.0 Int.   \n",
       "11319  CC BY-NC-ND 4.0 Int.   \n",
       "11320     CC BY-NC 4.0 Int.   \n",
       "11321     CC BY-NC 4.0 Int.   \n",
       "\n",
       "                                           oer_permalink  \\\n",
       "0      https://bildungsportal.sachsen.de/opal/oer/6TI...   \n",
       "1      https://bildungsportal.sachsen.de/opal/oer/8I6...   \n",
       "2      https://bildungsportal.sachsen.de/opal/oer/8ZI...   \n",
       "3      https://bildungsportal.sachsen.de/opal/oer/6fn...   \n",
       "4      https://bildungsportal.sachsen.de/opal/oer/7Bm...   \n",
       "...                                                  ...   \n",
       "11317  https://bildungsportal.sachsen.de/opal/oer/6Qd...   \n",
       "11318  https://bildungsportal.sachsen.de/opal/oer/6SX...   \n",
       "11319  https://bildungsportal.sachsen.de/opal/oer/6G7...   \n",
       "11320  https://bildungsportal.sachsen.de/opal/oer/10l...   \n",
       "11321  https://bildungsportal.sachsen.de/opal/oer/10N...   \n",
       "\n",
       "                                title comment           creator     publisher  \\\n",
       "0      Hardware zum Styroporschneiden          Daniela Dobeleit  SLUB Dresden   \n",
       "1                                                                               \n",
       "2                                                                               \n",
       "3                                                                               \n",
       "4                                                                               \n",
       "...                               ...     ...               ...           ...   \n",
       "11317                                                                           \n",
       "11318                                                                           \n",
       "11319                                                                           \n",
       "11320                                                                           \n",
       "11321                                                                           \n",
       "\n",
       "      source city publicationMonth  ... act appId category chapter duration  \\\n",
       "0                                   ...                                       \n",
       "1                                   ...                                       \n",
       "2                                   ...                                       \n",
       "3                                   ...                                       \n",
       "4                                   ...                                       \n",
       "...      ...  ...              ...  ...  ..   ...      ...     ...      ...   \n",
       "11317                               ...                                       \n",
       "11318                               ...                                       \n",
       "11319                               ...                                       \n",
       "11320                               ...                                       \n",
       "11321                               ...                                       \n",
       "\n",
       "      mediaType nav1 nav2 nav3 series  \n",
       "0                                      \n",
       "1                                      \n",
       "2                                      \n",
       "3                                      \n",
       "4                                      \n",
       "...         ...  ...  ...  ...    ...  \n",
       "11317                                  \n",
       "11318                                  \n",
       "11319                                  \n",
       "11320                                  \n",
       "11321                                  \n",
       "\n",
       "[11322 rows x 24 columns]"
      ]
     },
     "execution_count": 25,
     "metadata": {},
     "output_type": "execute_result"
    }
   ],
   "source": [
    "content = pd.DataFrame(oer_data_set)\n",
    "content"
   ]
  },
  {
   "cell_type": "code",
   "execution_count": 26,
   "id": "b7c5d8f3",
   "metadata": {
    "execution": {
     "iopub.execute_input": "2022-09-05T17:59:37.671504Z",
     "iopub.status.busy": "2022-09-05T17:59:37.671504Z",
     "iopub.status.idle": "2022-09-05T17:59:37.940521Z",
     "shell.execute_reply": "2022-09-05T17:59:37.939590Z"
    },
    "papermill": {
     "duration": 0.295947,
     "end_time": "2022-09-05T17:59:37.943511",
     "exception": false,
     "start_time": "2022-09-05T17:59:37.647564",
     "status": "completed"
    },
    "tags": []
   },
   "outputs": [
    {
     "data": {
      "text/html": [
       "<div>\n",
       "<style scoped>\n",
       "    .dataframe tbody tr th:only-of-type {\n",
       "        vertical-align: middle;\n",
       "    }\n",
       "\n",
       "    .dataframe tbody tr th {\n",
       "        vertical-align: top;\n",
       "    }\n",
       "\n",
       "    .dataframe thead th {\n",
       "        text-align: right;\n",
       "    }\n",
       "</style>\n",
       "<table border=\"1\" class=\"dataframe\">\n",
       "  <thead>\n",
       "    <tr style=\"text-align: right;\">\n",
       "      <th></th>\n",
       "      <th>filename</th>\n",
       "      <th>license</th>\n",
       "      <th>oer_permalink</th>\n",
       "      <th>title</th>\n",
       "      <th>comment</th>\n",
       "      <th>creator</th>\n",
       "      <th>publisher</th>\n",
       "      <th>source</th>\n",
       "      <th>city</th>\n",
       "      <th>publicationMonth</th>\n",
       "      <th>...</th>\n",
       "      <th>series</th>\n",
       "      <th>Identifier</th>\n",
       "      <th>Author</th>\n",
       "      <th>Keywords</th>\n",
       "      <th>Datum der Erstellung</th>\n",
       "      <th>Titel</th>\n",
       "      <th>Seitenzahl</th>\n",
       "      <th>Format</th>\n",
       "      <th>Dateigröße</th>\n",
       "      <th>Error</th>\n",
       "    </tr>\n",
       "  </thead>\n",
       "  <tbody>\n",
       "    <tr>\n",
       "      <th>0</th>\n",
       "      <td>beleg.pdf</td>\n",
       "      <td>CC BY-SA 4.0 Int.</td>\n",
       "      <td>https://bildungsportal.sachsen.de/opal/oer/8I6...</td>\n",
       "      <td></td>\n",
       "      <td></td>\n",
       "      <td></td>\n",
       "      <td></td>\n",
       "      <td></td>\n",
       "      <td></td>\n",
       "      <td></td>\n",
       "      <td>...</td>\n",
       "      <td></td>\n",
       "      <td>8I6sM5zapD60</td>\n",
       "      <td>NaN</td>\n",
       "      <td>NaN</td>\n",
       "      <td>2019/01/11</td>\n",
       "      <td>NaN</td>\n",
       "      <td>2.0</td>\n",
       "      <td>Hochformat</td>\n",
       "      <td>103901.0</td>\n",
       "      <td>NaN</td>\n",
       "    </tr>\n",
       "    <tr>\n",
       "      <th>1</th>\n",
       "      <td>Bereich III.pdf</td>\n",
       "      <td>CC BY-NC-ND 4.0 Int.</td>\n",
       "      <td>https://bildungsportal.sachsen.de/opal/oer/8ZI...</td>\n",
       "      <td></td>\n",
       "      <td></td>\n",
       "      <td></td>\n",
       "      <td></td>\n",
       "      <td></td>\n",
       "      <td></td>\n",
       "      <td></td>\n",
       "      <td>...</td>\n",
       "      <td></td>\n",
       "      <td>8ZICOHBmAHyQ</td>\n",
       "      <td>NaN</td>\n",
       "      <td>NaN</td>\n",
       "      <td>2019/10/25</td>\n",
       "      <td>NaN</td>\n",
       "      <td>10.0</td>\n",
       "      <td>Hochformat</td>\n",
       "      <td>156446.0</td>\n",
       "      <td>NaN</td>\n",
       "    </tr>\n",
       "    <tr>\n",
       "      <th>2</th>\n",
       "      <td>000 Prüfungsleistungen Engemaier.pdf</td>\n",
       "      <td>CC BY-SA 4.0 Int.</td>\n",
       "      <td>https://bildungsportal.sachsen.de/opal/oer/3zt...</td>\n",
       "      <td></td>\n",
       "      <td></td>\n",
       "      <td></td>\n",
       "      <td></td>\n",
       "      <td></td>\n",
       "      <td></td>\n",
       "      <td></td>\n",
       "      <td>...</td>\n",
       "      <td></td>\n",
       "      <td>3ztCv-WpxJ4U</td>\n",
       "      <td>NaN</td>\n",
       "      <td>NaN</td>\n",
       "      <td>NaN</td>\n",
       "      <td>NaN</td>\n",
       "      <td>3.0</td>\n",
       "      <td>Hochformat</td>\n",
       "      <td>76868.0</td>\n",
       "      <td>NaN</td>\n",
       "    </tr>\n",
       "    <tr>\n",
       "      <th>3</th>\n",
       "      <td>Bereich I.pdf</td>\n",
       "      <td>CC BY-NC-ND 4.0 Int.</td>\n",
       "      <td>https://bildungsportal.sachsen.de/opal/oer/6mO...</td>\n",
       "      <td></td>\n",
       "      <td></td>\n",
       "      <td></td>\n",
       "      <td></td>\n",
       "      <td></td>\n",
       "      <td></td>\n",
       "      <td></td>\n",
       "      <td>...</td>\n",
       "      <td></td>\n",
       "      <td>6mOhjfscZK2A</td>\n",
       "      <td>NaN</td>\n",
       "      <td>NaN</td>\n",
       "      <td>2019/10/07</td>\n",
       "      <td>NaN</td>\n",
       "      <td>8.0</td>\n",
       "      <td>Hochformat</td>\n",
       "      <td>179540.0</td>\n",
       "      <td>NaN</td>\n",
       "    </tr>\n",
       "    <tr>\n",
       "      <th>4</th>\n",
       "      <td>BauingenieureSemester1_Woche11.pdf</td>\n",
       "      <td>CC BY-NC-ND 4.0 Int.</td>\n",
       "      <td>https://bildungsportal.sachsen.de/opal/oer/9pH...</td>\n",
       "      <td></td>\n",
       "      <td></td>\n",
       "      <td></td>\n",
       "      <td></td>\n",
       "      <td></td>\n",
       "      <td></td>\n",
       "      <td></td>\n",
       "      <td>...</td>\n",
       "      <td></td>\n",
       "      <td>9pHMJT-hRLrQ</td>\n",
       "      <td>NaN</td>\n",
       "      <td>NaN</td>\n",
       "      <td>2022/01/04</td>\n",
       "      <td>NaN</td>\n",
       "      <td>5.0</td>\n",
       "      <td>Hochformat</td>\n",
       "      <td>398707.0</td>\n",
       "      <td>NaN</td>\n",
       "    </tr>\n",
       "    <tr>\n",
       "      <th>...</th>\n",
       "      <td>...</td>\n",
       "      <td>...</td>\n",
       "      <td>...</td>\n",
       "      <td>...</td>\n",
       "      <td>...</td>\n",
       "      <td>...</td>\n",
       "      <td>...</td>\n",
       "      <td>...</td>\n",
       "      <td>...</td>\n",
       "      <td>...</td>\n",
       "      <td>...</td>\n",
       "      <td>...</td>\n",
       "      <td>...</td>\n",
       "      <td>...</td>\n",
       "      <td>...</td>\n",
       "      <td>...</td>\n",
       "      <td>...</td>\n",
       "      <td>...</td>\n",
       "      <td>...</td>\n",
       "      <td>...</td>\n",
       "      <td>...</td>\n",
       "    </tr>\n",
       "    <tr>\n",
       "      <th>5237</th>\n",
       "      <td>Fertiges Protokoll.pdf</td>\n",
       "      <td>CC BY 4.0 Int.</td>\n",
       "      <td>https://bildungsportal.sachsen.de/opal/oer/37M...</td>\n",
       "      <td></td>\n",
       "      <td></td>\n",
       "      <td></td>\n",
       "      <td></td>\n",
       "      <td></td>\n",
       "      <td></td>\n",
       "      <td></td>\n",
       "      <td>...</td>\n",
       "      <td></td>\n",
       "      <td>37MxoszUOjDw</td>\n",
       "      <td>Susanne Kaiser</td>\n",
       "      <td>NaN</td>\n",
       "      <td>2022/02/28</td>\n",
       "      <td>NaN</td>\n",
       "      <td>64.0</td>\n",
       "      <td>Hochformat</td>\n",
       "      <td>898799.0</td>\n",
       "      <td>NaN</td>\n",
       "    </tr>\n",
       "    <tr>\n",
       "      <th>5238</th>\n",
       "      <td>Instahub-Lehrerhandbuch-Job-Thore.pdf</td>\n",
       "      <td>CC BY-ND 4.0 Int.</td>\n",
       "      <td>https://bildungsportal.sachsen.de/opal/oer/8nQ...</td>\n",
       "      <td></td>\n",
       "      <td></td>\n",
       "      <td></td>\n",
       "      <td></td>\n",
       "      <td></td>\n",
       "      <td></td>\n",
       "      <td></td>\n",
       "      <td>...</td>\n",
       "      <td></td>\n",
       "      <td>8nQgLPwKyxec</td>\n",
       "      <td>NaN</td>\n",
       "      <td>NaN</td>\n",
       "      <td>2022/02/28</td>\n",
       "      <td>NaN</td>\n",
       "      <td>20.0</td>\n",
       "      <td>Hochformat</td>\n",
       "      <td>740116.0</td>\n",
       "      <td>NaN</td>\n",
       "    </tr>\n",
       "    <tr>\n",
       "      <th>5239</th>\n",
       "      <td>Instahub-Schülerhandbuch-Job-Thore.pdf</td>\n",
       "      <td>CC BY-ND 4.0 Int.</td>\n",
       "      <td>https://bildungsportal.sachsen.de/opal/oer/8wn...</td>\n",
       "      <td></td>\n",
       "      <td></td>\n",
       "      <td></td>\n",
       "      <td></td>\n",
       "      <td></td>\n",
       "      <td></td>\n",
       "      <td></td>\n",
       "      <td>...</td>\n",
       "      <td></td>\n",
       "      <td>8wntomkrcr6g</td>\n",
       "      <td>NaN</td>\n",
       "      <td>NaN</td>\n",
       "      <td>2022/02/28</td>\n",
       "      <td>NaN</td>\n",
       "      <td>11.0</td>\n",
       "      <td>Hochformat</td>\n",
       "      <td>454073.0</td>\n",
       "      <td>NaN</td>\n",
       "    </tr>\n",
       "    <tr>\n",
       "      <th>5240</th>\n",
       "      <td>Lehrermanual-MIT_App_Inventor-Dübener-Saskia.pdf</td>\n",
       "      <td>CC BY 4.0 Int.</td>\n",
       "      <td>https://bildungsportal.sachsen.de/opal/oer/6kp...</td>\n",
       "      <td></td>\n",
       "      <td></td>\n",
       "      <td></td>\n",
       "      <td></td>\n",
       "      <td></td>\n",
       "      <td></td>\n",
       "      <td></td>\n",
       "      <td>...</td>\n",
       "      <td></td>\n",
       "      <td>6kpMNOf2zVq4</td>\n",
       "      <td>NaN</td>\n",
       "      <td>NaN</td>\n",
       "      <td>2022/02/28</td>\n",
       "      <td>Saskia_Dübener-Lehrermanual-MIT_App_Inventor</td>\n",
       "      <td>20.0</td>\n",
       "      <td>Hochformat</td>\n",
       "      <td>3576661.0</td>\n",
       "      <td>NaN</td>\n",
       "    </tr>\n",
       "    <tr>\n",
       "      <th>5241</th>\n",
       "      <td>Beleg_TomStieler_PSE3_WS2122.pdf</td>\n",
       "      <td>CC BY-SA 4.0 Int.</td>\n",
       "      <td>https://bildungsportal.sachsen.de/opal/oer/10H...</td>\n",
       "      <td></td>\n",
       "      <td></td>\n",
       "      <td></td>\n",
       "      <td></td>\n",
       "      <td></td>\n",
       "      <td></td>\n",
       "      <td></td>\n",
       "      <td>...</td>\n",
       "      <td></td>\n",
       "      <td>10HF1LdgCerKQ</td>\n",
       "      <td>Tom Stieler</td>\n",
       "      <td>NaN</td>\n",
       "      <td>2022/02/28</td>\n",
       "      <td>NaN</td>\n",
       "      <td>22.0</td>\n",
       "      <td>Hochformat</td>\n",
       "      <td>946375.0</td>\n",
       "      <td>NaN</td>\n",
       "    </tr>\n",
       "  </tbody>\n",
       "</table>\n",
       "<p>5242 rows × 33 columns</p>\n",
       "</div>"
      ],
      "text/plain": [
       "                                              filename               license  \\\n",
       "0                                            beleg.pdf     CC BY-SA 4.0 Int.   \n",
       "1                                      Bereich III.pdf  CC BY-NC-ND 4.0 Int.   \n",
       "2                 000 Prüfungsleistungen Engemaier.pdf     CC BY-SA 4.0 Int.   \n",
       "3                                        Bereich I.pdf  CC BY-NC-ND 4.0 Int.   \n",
       "4                   BauingenieureSemester1_Woche11.pdf  CC BY-NC-ND 4.0 Int.   \n",
       "...                                                ...                   ...   \n",
       "5237                            Fertiges Protokoll.pdf        CC BY 4.0 Int.   \n",
       "5238             Instahub-Lehrerhandbuch-Job-Thore.pdf     CC BY-ND 4.0 Int.   \n",
       "5239            Instahub-Schülerhandbuch-Job-Thore.pdf     CC BY-ND 4.0 Int.   \n",
       "5240  Lehrermanual-MIT_App_Inventor-Dübener-Saskia.pdf        CC BY 4.0 Int.   \n",
       "5241                  Beleg_TomStieler_PSE3_WS2122.pdf     CC BY-SA 4.0 Int.   \n",
       "\n",
       "                                          oer_permalink title comment creator  \\\n",
       "0     https://bildungsportal.sachsen.de/opal/oer/8I6...                         \n",
       "1     https://bildungsportal.sachsen.de/opal/oer/8ZI...                         \n",
       "2     https://bildungsportal.sachsen.de/opal/oer/3zt...                         \n",
       "3     https://bildungsportal.sachsen.de/opal/oer/6mO...                         \n",
       "4     https://bildungsportal.sachsen.de/opal/oer/9pH...                         \n",
       "...                                                 ...   ...     ...     ...   \n",
       "5237  https://bildungsportal.sachsen.de/opal/oer/37M...                         \n",
       "5238  https://bildungsportal.sachsen.de/opal/oer/8nQ...                         \n",
       "5239  https://bildungsportal.sachsen.de/opal/oer/8wn...                         \n",
       "5240  https://bildungsportal.sachsen.de/opal/oer/6kp...                         \n",
       "5241  https://bildungsportal.sachsen.de/opal/oer/10H...                         \n",
       "\n",
       "     publisher source city publicationMonth  ... series     Identifier  \\\n",
       "0                                            ...          8I6sM5zapD60   \n",
       "1                                            ...          8ZICOHBmAHyQ   \n",
       "2                                            ...          3ztCv-WpxJ4U   \n",
       "3                                            ...          6mOhjfscZK2A   \n",
       "4                                            ...          9pHMJT-hRLrQ   \n",
       "...        ...    ...  ...              ...  ...    ...            ...   \n",
       "5237                                         ...          37MxoszUOjDw   \n",
       "5238                                         ...          8nQgLPwKyxec   \n",
       "5239                                         ...          8wntomkrcr6g   \n",
       "5240                                         ...          6kpMNOf2zVq4   \n",
       "5241                                         ...         10HF1LdgCerKQ   \n",
       "\n",
       "              Author Keywords Datum der Erstellung  \\\n",
       "0                NaN      NaN           2019/01/11   \n",
       "1                NaN      NaN           2019/10/25   \n",
       "2                NaN      NaN                  NaN   \n",
       "3                NaN      NaN           2019/10/07   \n",
       "4                NaN      NaN           2022/01/04   \n",
       "...              ...      ...                  ...   \n",
       "5237  Susanne Kaiser      NaN           2022/02/28   \n",
       "5238             NaN      NaN           2022/02/28   \n",
       "5239             NaN      NaN           2022/02/28   \n",
       "5240             NaN      NaN           2022/02/28   \n",
       "5241     Tom Stieler      NaN           2022/02/28   \n",
       "\n",
       "                                              Titel Seitenzahl      Format  \\\n",
       "0                                               NaN        2.0  Hochformat   \n",
       "1                                               NaN       10.0  Hochformat   \n",
       "2                                               NaN        3.0  Hochformat   \n",
       "3                                               NaN        8.0  Hochformat   \n",
       "4                                               NaN        5.0  Hochformat   \n",
       "...                                             ...        ...         ...   \n",
       "5237                                            NaN       64.0  Hochformat   \n",
       "5238                                            NaN       20.0  Hochformat   \n",
       "5239                                            NaN       11.0  Hochformat   \n",
       "5240  Saskia_Dübener-Lehrermanual-MIT_App_Inventor       20.0  Hochformat   \n",
       "5241                                            NaN       22.0  Hochformat   \n",
       "\n",
       "     Dateigröße Error  \n",
       "0      103901.0   NaN  \n",
       "1      156446.0   NaN  \n",
       "2       76868.0   NaN  \n",
       "3      179540.0   NaN  \n",
       "4      398707.0   NaN  \n",
       "...         ...   ...  \n",
       "5237   898799.0   NaN  \n",
       "5238   740116.0   NaN  \n",
       "5239   454073.0   NaN  \n",
       "5240  3576661.0   NaN  \n",
       "5241   946375.0   NaN  \n",
       "\n",
       "[5242 rows x 33 columns]"
      ]
     },
     "execution_count": 26,
     "metadata": {},
     "output_type": "execute_result"
    }
   ],
   "source": [
    "data['oer_permalink'] = 'https://bildungsportal.sachsen.de/opal/oer/' + data['Identifier']\n",
    "\n",
    "fusion = pd.merge(content, data, on='oer_permalink', how='inner') #for whole content:  how='left' \n",
    "fusion"
   ]
  },
  {
   "cell_type": "code",
   "execution_count": 37,
   "id": "80624298",
   "metadata": {
    "execution": {
     "iopub.execute_input": "2022-09-05T17:59:37.979417Z",
     "iopub.status.busy": "2022-09-05T17:59:37.979417Z",
     "iopub.status.idle": "2022-09-05T17:59:38.065945Z",
     "shell.execute_reply": "2022-09-05T17:59:38.064790Z"
    },
    "papermill": {
     "duration": 0.11047,
     "end_time": "2022-09-05T17:59:38.069939",
     "exception": false,
     "start_time": "2022-09-05T17:59:37.959469",
     "status": "completed"
    },
    "tags": []
   },
   "outputs": [],
   "source": [
    "#TODO delete Errors\n",
    "fusion = fusion[(fusion['Error'].isnull())]\n",
    "\n",
    "maxsize = len(fusion)\n",
    "licenseprev = len(fusion[((fusion['license'].notna()) & (fusion['license'] != ''))])\n",
    "titleprev = len(fusion[((fusion['title'].notna()) & (fusion['title'] != ''))])\n",
    "titlenow = len(fusion[((fusion['title'].notna()) & (fusion['title'] != '')) | ((fusion['Titel'].notna()) & (fusion['Titel'] != ''))])\n",
    "creatorprev = len(fusion[((fusion['creator'].notna()) & (fusion['creator'] != ''))])\n",
    "creatornow =len(fusion[((fusion['creator'].notna()) & (fusion['creator'] != '')) | ((fusion['Author'].notna()) & (fusion['Author'] != ''))])\n",
    "pagesprev = len(fusion[((fusion['pages'].notna()) & (fusion['pages'] != ''))])\n",
    "pagesnow = len(fusion[((fusion['pages'].notna()) & (fusion['pages'] != '')) | ((fusion['Seitenzahl'].notna()) & (fusion['Seitenzahl'] != ''))])\n",
    "languageprev = len(fusion[((fusion['language'].notna()) & (fusion['language'] != ''))])\n",
    "keywordsprev = 0 #TODO what from content masps to keywords\n",
    "keywordsnow = len(fusion[((fusion['Keywords'].notna()) & (fusion['Keywords'] != ''))])\n",
    "#keywords\n",
    "\n",
    "columns = ('License', 'Title', 'Creator', 'Pages', 'Language', 'Keywords')\n",
    "ind =[0.2, 0.65, 1.1, 1.55, 2, 2.45]"
   ]
  },
  {
   "cell_type": "code",
   "execution_count": 38,
   "id": "fcf2660f",
   "metadata": {
    "execution": {
     "iopub.execute_input": "2022-09-05T17:59:38.106523Z",
     "iopub.status.busy": "2022-09-05T17:59:38.104528Z",
     "iopub.status.idle": "2022-09-05T17:59:38.315000Z",
     "shell.execute_reply": "2022-09-05T17:59:38.313784Z"
    },
    "papermill": {
     "duration": 0.231427,
     "end_time": "2022-09-05T17:59:38.317998",
     "exception": false,
     "start_time": "2022-09-05T17:59:38.086571",
     "status": "completed"
    },
    "tags": []
   },
   "outputs": [
    {
     "data": {
      "text/plain": [
       "<BarContainer object of 6 artists>"
      ]
     },
     "execution_count": 38,
     "metadata": {},
     "output_type": "execute_result"
    },
    {
     "data": {
      "image/png": "[encoded data removed]",
      "text/plain": [
       "<Figure size 640x480 with 1 Axes>"
      ]
     },
     "metadata": {},
     "output_type": "display_data"
    }
   ],
   "source": [
    "#Graph w/o meta.csv\n",
    "\n",
    "plt.bar(x = ind, \n",
    "        height = [licenseprev/maxsize, titleprev/maxsize, creatorprev/maxsize, pagesprev/maxsize, languageprev/maxsize, keywordsprev/maxsize], \n",
    "        color ='lightblue',\n",
    "        width = 0.4,\n",
    "        tick_label = columns)"
   ]
  },
  {
   "cell_type": "code",
   "execution_count": 39,
   "id": "87252f8e",
   "metadata": {
    "execution": {
     "iopub.execute_input": "2022-09-05T17:59:38.360884Z",
     "iopub.status.busy": "2022-09-05T17:59:38.360884Z",
     "iopub.status.idle": "2022-09-05T17:59:38.565573Z",
     "shell.execute_reply": "2022-09-05T17:59:38.563649Z"
    },
    "papermill": {
     "duration": 0.233617,
     "end_time": "2022-09-05T17:59:38.569566",
     "exception": false,
     "start_time": "2022-09-05T17:59:38.335949",
     "status": "completed"
    },
    "tags": []
   },
   "outputs": [
    {
     "data": {
      "text/plain": [
       "<BarContainer object of 6 artists>"
      ]
     },
     "execution_count": 39,
     "metadata": {},
     "output_type": "execute_result"
    },
    {
     "data": {
      "image/png": "[encoded data removed]",
      "text/plain": [
       "<Figure size 640x480 with 1 Axes>"
      ]
     },
     "metadata": {},
     "output_type": "display_data"
    }
   ],
   "source": [
    "#Graph with meta.csv\n",
    "plt.bar(x = ind, \n",
    "        height = [licenseprev/maxsize, titlenow/maxsize, creatornow/maxsize, pagesnow/maxsize, languageprev/maxsize, keywordsnow/maxsize], \n",
    "        color ='lightblue',\n",
    "        width = 0.4,\n",
    "        tick_label = columns)"
   ]
  },
  {
   "cell_type": "code",
   "execution_count": 40,
   "id": "86587ca2",
   "metadata": {
    "execution": {
     "iopub.execute_input": "2022-09-05T17:59:38.624416Z",
     "iopub.status.busy": "2022-09-05T17:59:38.624416Z",
     "iopub.status.idle": "2022-09-05T17:59:38.892767Z",
     "shell.execute_reply": "2022-09-05T17:59:38.891764Z"
    },
    "papermill": {
     "duration": 0.29827,
     "end_time": "2022-09-05T17:59:38.895759",
     "exception": false,
     "start_time": "2022-09-05T17:59:38.597489",
     "status": "completed"
    },
    "tags": []
   },
   "outputs": [
    {
     "data": {
      "text/plain": [
       "<matplotlib.legend.Legend at 0x1b292ddb1f0>"
      ]
     },
     "execution_count": 40,
     "metadata": {},
     "output_type": "execute_result"
    },
    {
     "data": {
      "image/png": "[encoded data removed]",
      "text/plain": [
       "<Figure size 640x480 with 1 Axes>"
      ]
     },
     "metadata": {},
     "output_type": "display_data"
    }
   ],
   "source": [
    "plt.bar(x = ind, \n",
    "        height = [licenseprev/maxsize, titlenow/maxsize, creatornow/maxsize, pagesnow/maxsize, languageprev/maxsize, keywordsnow/maxsize], \n",
    "        color ='lightblue',\n",
    "        width = 0.4,\n",
    "        tick_label = columns)\n",
    "plt.bar(x = ind, \n",
    "        height = [licenseprev/maxsize, titleprev/maxsize, creatorprev/maxsize, pagesprev/maxsize, languageprev/maxsize, keywordsprev/maxsize], \n",
    "        color ='blue',\n",
    "        width = 0.4,\n",
    "        tick_label = columns)\n",
    "\n",
    "content_label = mpatches.Patch(color='blue', label='content.json')\n",
    "fusion_label = mpatches.Patch(color='lightblue', label='fused content')\n",
    "plt.legend(handles=[content_label, fusion_label])\n"
   ]
  },
  {
   "cell_type": "code",
   "execution_count": null,
   "id": "8d60fbc9",
   "metadata": {
    "execution": {
     "iopub.execute_input": "2022-09-05T17:59:38.945328Z",
     "iopub.status.busy": "2022-09-05T17:59:38.945328Z",
     "iopub.status.idle": "2022-09-05T17:59:38.971608Z",
     "shell.execute_reply": "2022-09-05T17:59:38.970604Z"
    },
    "papermill": {
     "duration": 0.054251,
     "end_time": "2022-09-05T17:59:38.974641",
     "exception": false,
     "start_time": "2022-09-05T17:59:38.920390",
     "status": "completed"
    },
    "tags": []
   },
   "outputs": [],
   "source": [
    "keyworddf = content['nav3'].replace('', np.nan)\n",
    "keyworddf.dropna()"
   ]
  },
  {
   "cell_type": "code",
   "execution_count": null,
   "id": "c9a8ce27",
   "metadata": {
    "execution": {
     "iopub.execute_input": "2022-09-05T17:59:39.016517Z",
     "iopub.status.busy": "2022-09-05T17:59:39.015494Z",
     "iopub.status.idle": "2022-09-05T17:59:39.033109Z",
     "shell.execute_reply": "2022-09-05T17:59:39.032113Z"
    },
    "papermill": {
     "duration": 0.041555,
     "end_time": "2022-09-05T17:59:39.037097",
     "exception": false,
     "start_time": "2022-09-05T17:59:38.995542",
     "status": "completed"
    },
    "tags": []
   },
   "outputs": [],
   "source": [
    "fusion.at[4466, 'Titel']"
   ]
  },
  {
   "cell_type": "code",
   "execution_count": null,
   "id": "9ddcfdfc",
   "metadata": {
    "execution": {
     "iopub.execute_input": "2022-09-05T17:59:39.095941Z",
     "iopub.status.busy": "2022-09-05T17:59:39.095941Z",
     "iopub.status.idle": "2022-09-05T17:59:39.111866Z",
     "shell.execute_reply": "2022-09-05T17:59:39.110864Z"
    },
    "papermill": {
     "duration": 0.047872,
     "end_time": "2022-09-05T17:59:39.114890",
     "exception": false,
     "start_time": "2022-09-05T17:59:39.067018",
     "status": "completed"
    },
    "tags": []
   },
   "outputs": [],
   "source": [
    "pagesnow+error_statistics['count'].sum()"
   ]
  },
  {
   "cell_type": "code",
   "execution_count": 44,
   "id": "e4cee0cf",
   "metadata": {
    "papermill": {
     "duration": 0.019952,
     "end_time": "2022-09-05T17:59:39.155754",
     "exception": false,
     "start_time": "2022-09-05T17:59:39.135802",
     "status": "completed"
    },
    "tags": []
   },
   "outputs": [
    {
     "data": {
      "text/html": [
       "<div>\n",
       "<style scoped>\n",
       "    .dataframe tbody tr th:only-of-type {\n",
       "        vertical-align: middle;\n",
       "    }\n",
       "\n",
       "    .dataframe tbody tr th {\n",
       "        vertical-align: top;\n",
       "    }\n",
       "\n",
       "    .dataframe thead th {\n",
       "        text-align: right;\n",
       "    }\n",
       "</style>\n",
       "<table border=\"1\" class=\"dataframe\">\n",
       "  <thead>\n",
       "    <tr style=\"text-align: right;\">\n",
       "      <th></th>\n",
       "      <th>filename</th>\n",
       "      <th>license</th>\n",
       "      <th>oer_permalink</th>\n",
       "      <th>title</th>\n",
       "      <th>comment</th>\n",
       "      <th>creator</th>\n",
       "      <th>publisher</th>\n",
       "      <th>source</th>\n",
       "      <th>city</th>\n",
       "      <th>publicationMonth</th>\n",
       "      <th>...</th>\n",
       "      <th>series</th>\n",
       "      <th>Identifier</th>\n",
       "      <th>Author</th>\n",
       "      <th>Keywords</th>\n",
       "      <th>Datum der Erstellung</th>\n",
       "      <th>Titel</th>\n",
       "      <th>Seitenzahl</th>\n",
       "      <th>Format</th>\n",
       "      <th>Dateigröße</th>\n",
       "      <th>Error</th>\n",
       "    </tr>\n",
       "  </thead>\n",
       "  <tbody>\n",
       "    <tr>\n",
       "      <th>293</th>\n",
       "      <td>Uebung5_Haenicke_Philipp.pdf</td>\n",
       "      <td>CC BY-NC-ND 4.0 Int.</td>\n",
       "      <td>https://bildungsportal.sachsen.de/opal/oer/145...</td>\n",
       "      <td></td>\n",
       "      <td></td>\n",
       "      <td></td>\n",
       "      <td></td>\n",
       "      <td></td>\n",
       "      <td></td>\n",
       "      <td></td>\n",
       "      <td>...</td>\n",
       "      <td></td>\n",
       "      <td>145_4SbFnNyGo</td>\n",
       "      <td>NaN</td>\n",
       "      <td>Geben Sie hier Suchbegriffe für \\rz.B. Spotlig...</td>\n",
       "      <td>2020/07/06</td>\n",
       "      <td>NaN</td>\n",
       "      <td>5.0</td>\n",
       "      <td>Hochformat</td>\n",
       "      <td>8182967.0</td>\n",
       "      <td>NaN</td>\n",
       "    </tr>\n",
       "  </tbody>\n",
       "</table>\n",
       "<p>1 rows × 33 columns</p>\n",
       "</div>"
      ],
      "text/plain": [
       "                         filename               license  \\\n",
       "293  Uebung5_Haenicke_Philipp.pdf  CC BY-NC-ND 4.0 Int.   \n",
       "\n",
       "                                         oer_permalink title comment creator  \\\n",
       "293  https://bildungsportal.sachsen.de/opal/oer/145...                         \n",
       "\n",
       "    publisher source city publicationMonth  ... series     Identifier Author  \\\n",
       "293                                         ...         145_4SbFnNyGo    NaN   \n",
       "\n",
       "                                              Keywords Datum der Erstellung  \\\n",
       "293  Geben Sie hier Suchbegriffe für \\rz.B. Spotlig...           2020/07/06   \n",
       "\n",
       "    Titel Seitenzahl      Format Dateigröße Error  \n",
       "293   NaN        5.0  Hochformat  8182967.0   NaN  \n",
       "\n",
       "[1 rows x 33 columns]"
      ]
     },
     "execution_count": 44,
     "metadata": {},
     "output_type": "execute_result"
    }
   ],
   "source": [
    "#145_4SbFnNyGo\n",
    "\n",
    "fusion[(fusion['Identifier'] == '145_4SbFnNyGo')]"
   ]
  },
  {
   "cell_type": "code",
   "execution_count": 45,
   "id": "28d2ed1c",
   "metadata": {},
   "outputs": [
    {
     "data": {
      "text/plain": [
       "'Geben Sie hier Suchbegriffe für \\rz.B. Spotlight ein, die über die Dateisuche \\rgefunden werden können'"
      ]
     },
     "execution_count": 45,
     "metadata": {},
     "output_type": "execute_result"
    }
   ],
   "source": [
    "fusion.at[293, 'Keywords']"
   ]
  },
  {
   "cell_type": "code",
   "execution_count": null,
   "id": "cd450309",
   "metadata": {},
   "outputs": [],
   "source": []
  }
 ],
 "metadata": {
  "kernelspec": {
   "display_name": "Python 3 (ipykernel)",
   "language": "python",
   "name": "python3"
  },
  "language_info": {
   "codemirror_mode": {
    "name": "ipython",
    "version": 3
   },
   "file_extension": ".py",
   "mimetype": "text/x-python",
   "name": "python",
   "nbconvert_exporter": "python",
   "pygments_lexer": "ipython3",
   "version": "3.9.13"
  },
  "papermill": {
   "default_parameters": {},
   "duration": 21.376841,
   "end_time": "2022-09-05T17:59:39.645357",
   "environment_variables": {},
   "exception": null,
   "input_path": "C:\\Users\\Johann\\Desktop\\UNI\\BA\\Python\\notebooks\\metaevaluation.ipynb",
   "output_path": "C:\\Users\\Johann\\Desktop\\UNI\\BA\\Python\\notebooks\\metaevaluation.ipynb",
   "parameters": {},
   "start_time": "2022-09-05T17:59:18.268516",
   "version": "2.4.0"
  }
 },
 "nbformat": 4,
 "nbformat_minor": 5
}
