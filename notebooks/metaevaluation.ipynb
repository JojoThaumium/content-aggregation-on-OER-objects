{
 "cells": [
  {
   "cell_type": "code",
   "execution_count": null,
   "id": "41c0afb3",
   "metadata": {},
   "outputs": [],
   "source": [
    "import sys\n",
    "import os.path\n",
    "#import pikepdf\n",
    "#import urllib.request\n",
    "import pandas as pd\n",
    "from datetime import datetime\n",
    "import numpy as np\n",
    "#import seaborn as sns\n",
    "#sns.set_color_codes('pastel')\n",
    "import matplotlib.pyplot as plt"
   ]
  },
  {
   "cell_type": "code",
   "execution_count": null,
   "id": "405ccf7f",
   "metadata": {},
   "outputs": [],
   "source": [
    "data = pd.read_csv(\"data/meta.csv\")#header=None\n",
    "data"
   ]
  },
  {
   "cell_type": "code",
   "execution_count": null,
   "id": "309df48a",
   "metadata": {},
   "outputs": [],
   "source": [
    "data.groupby(['Error'])[\"Error\"]\\\n",
    "                                       .count() \\\n",
    "                                       .reset_index(name='count') \\\n",
    "                                       .sort_values(['count'], ascending=False, ignore_index=True)"
   ]
  },
  {
   "cell_type": "code",
   "execution_count": null,
   "id": "27467cf2",
   "metadata": {},
   "outputs": [],
   "source": [
    "author_statistics = data.groupby(['Author'])[\"Author\"]\\\n",
    "                                       .count() \\\n",
    "                                       .reset_index(name='count') \\\n",
    "                                       .sort_values(['count'], ascending=False, ignore_index=True)\n",
    "                                       \n",
    "                                       \n",
    "#author_statistics.to_csv(\"temp/metaauswertungauthor.csv\", index=False)\n",
    "author_statistics.head()"
   ]
  },
  {
   "cell_type": "code",
   "execution_count": null,
   "id": "506c57d8",
   "metadata": {},
   "outputs": [],
   "source": [
    "cumsum_statistics = author_statistics.cumsum()\n",
    "cumsum_statistics[\"ratio\"] = cumsum_statistics[\"count\"] / cumsum_statistics[\"count\"].max()\n",
    "\n",
    "ax = cumsum_statistics.ratio.plot()\n",
    "ax.set_title(\"Contributor cumsum count of OER Materials\")\n",
    "ax.set_xlabel(\"Contributor count\")\n",
    "ax.set_ylabel(\"Ratio\")\n",
    "\n",
    "plt.plot([34],[0.5], \"+r\")\n",
    "plt.plot([169],[0.8], \"+r\")"
   ]
  },
  {
   "cell_type": "code",
   "execution_count": null,
   "id": "068b53f3",
   "metadata": {
    "scrolled": true
   },
   "outputs": [],
   "source": [
    "\n",
    "timedata = pd.DataFrame(data['Datum der Erstellung'])\n",
    "timedata.dropna(inplace=True)\n",
    "timelist=list()\n",
    "\n",
    "for index, row in timedata.iterrows():\n",
    "    #print(row['Datum der Erstellung'])\n",
    "    timelist.append(datetime.strptime(row['Datum der Erstellung'],'%x'))\n",
    "timedata = timedata.assign(datetime=timelist)\n",
    "#df1 = df1.assign(e=pd.Series(np.random.randn(sLength)).values)\n",
    "    #timelist.append(row.strftime(%x))\n",
    "timedata.drop(columns='Datum der Erstellung', inplace=True)   \n",
    "    \n",
    "dailytime_statistics = timedata.groupby(['datetime'])[\"datetime\"]\\\n",
    "                                       .count() \\\n",
    "                                       .reset_index(name='count') \\\n",
    "                                       .sort_values(['datetime'], ascending=False, ignore_index=True)\n",
    "\n",
    "#time_statistics.to_csv(\"temp/metaauswertungtime.csv\", index=False)\n",
    "dailytime_statistics"
   ]
  },
  {
   "cell_type": "code",
   "execution_count": null,
   "id": "ef73f63a",
   "metadata": {},
   "outputs": [],
   "source": [
    "sns.lineplot(data = dailytime_statistics, x=\"datetime\", y=\"count\")"
   ]
  },
  {
   "cell_type": "code",
   "execution_count": null,
   "id": "42d0d716",
   "metadata": {},
   "outputs": [],
   "source": [
    "weeklytime_statistics = timedata.resample('W', on='datetime').count() #hier Buchstaben verändern für andere Zeitspannen\n",
    "\n",
    "weeklytime_statistics.rename(columns={list(weeklytime_statistics)[0]:'count'}, inplace=True)\n",
    "\n",
    "sns.lineplot(x=weeklytime_statistics.index, y=weeklytime_statistics['count'])\n"
   ]
  },
  {
   "cell_type": "code",
   "execution_count": null,
   "id": "c10c85b7",
   "metadata": {},
   "outputs": [],
   "source": [
    "page_statistics = data.groupby(['Seitenzahl'])[\"Seitenzahl\"]\\\n",
    "                                       .count() \\\n",
    "                                       .reset_index(name='count') \\\n",
    "                                       .sort_values(['Seitenzahl'], ascending=True, ignore_index=True)\n",
    "page_statistics"
   ]
  },
  {
   "cell_type": "code",
   "execution_count": null,
   "id": "613e3265",
   "metadata": {},
   "outputs": [],
   "source": [
    "sns.lineplot(data = page_statistics, x=\"Seitenzahl\", y=\"count\")"
   ]
  },
  {
   "cell_type": "code",
   "execution_count": null,
   "id": "6d0a5513",
   "metadata": {},
   "outputs": [],
   "source": [
    "format_statistics = data.groupby(['Format'])[\"Format\"]\\\n",
    "                                       .count() \\\n",
    "                                       .reset_index(name='count') \\\n",
    "                                       .sort_values(['count'], ascending=False, ignore_index=True)\n",
    "format_statistics"
   ]
  },
  {
   "cell_type": "code",
   "execution_count": null,
   "id": "f3c8719e",
   "metadata": {},
   "outputs": [],
   "source": [
    "sns.barplot(data = format_statistics, x=\"Format\", y=\"count\")"
   ]
  },
  {
   "cell_type": "code",
   "execution_count": null,
   "id": "c5409743",
   "metadata": {},
   "outputs": [],
   "source": [
    "#Dateigröße\n",
    "sizedata = pd.DataFrame(data['Dateigröße'])\n",
    "sizedata.dropna(inplace=True)\n",
    "\n",
    "sizelist = list()\n",
    "\n",
    "for index, row in sizedata.iterrows():\n",
    "    sizesplitter = row['Dateigröße'].split(\" \", 1)\n",
    "    if sizesplitter[1] == \"GB\":\n",
    "        sizelist.append(float(sizesplitter[0]) * 1000000000)\n",
    "    elif sizesplitter[1] == \"MB\":\n",
    "        sizelist.append(float(sizesplitter[0]) * 1000000)\n",
    "    elif sizesplitter[1] == \"kB\":\n",
    "        sizelist.append(float(sizesplitter[0]) * 1000)\n",
    "    else:\n",
    "        sizelist.append(float(sizesplitter[0]))\n",
    "\n",
    "#sizelist\n",
    "sizedata = sizedata.assign(size=sizelist)\n",
    "\n",
    "\n",
    "#df1 = df1.assign(e=pd.Series(np.random.randn(sLength)).values)\n",
    "    #timelist.append(row.strftime(%x))\n",
    "\n",
    "size_statistics = sizedata.groupby(['size'])[\"size\"]\\\n",
    "                                       .count() \\\n",
    "                                       .reset_index(name='count') \\\n",
    "                                       .sort_values(['size'], ascending=True, ignore_index=True)\n",
    "size_statistics"
   ]
  },
  {
   "cell_type": "code",
   "execution_count": null,
   "id": "a17e5ea7",
   "metadata": {},
   "outputs": [],
   "source": [
    "sns.lineplot(data = size_statistics, x=\"size\", y=\"count\")"
   ]
  }
 ],
 "metadata": {
  "kernelspec": {
   "display_name": "Python 3 (ipykernel)",
   "language": "python",
   "name": "python3"
  },
  "language_info": {
   "codemirror_mode": {
    "name": "ipython",
    "version": 3
   },
   "file_extension": ".py",
   "mimetype": "text/x-python",
   "name": "python",
   "nbconvert_exporter": "python",
   "pygments_lexer": "ipython3",
   "version": "3.9.13"
  }
 },
 "nbformat": 4,
 "nbformat_minor": 5
}
