{
 "cells": [
  {
   "cell_type": "code",
   "execution_count": null,
   "id": "41c0afb3",
   "metadata": {
    "execution": {
     "iopub.execute_input": "2022-09-05T17:59:24.084492Z",
     "iopub.status.busy": "2022-09-05T17:59:24.083495Z",
     "iopub.status.idle": "2022-09-05T17:59:30.250924Z",
     "shell.execute_reply": "2022-09-05T17:59:30.249830Z"
    },
    "papermill": {
     "duration": 6.214822,
     "end_time": "2022-09-05T17:59:30.253922",
     "exception": false,
     "start_time": "2022-09-05T17:59:24.039100",
     "status": "completed"
    },
    "scrolled": true,
    "tags": []
   },
   "outputs": [],
   "source": [
    "import sys\n",
    "import os.path\n",
    "#import pikepdf\n",
    "#import urllib.request\n",
    "import pandas as pd\n",
    "import json\n",
    "from datetime import datetime\n",
    "import numpy as np\n",
    "import matplotlib.pyplot as plt\n",
    "import matplotlib.patches as mpatches\n"
   ]
  },
  {
   "cell_type": "code",
   "execution_count": null,
   "id": "405ccf7f",
   "metadata": {
    "execution": {
     "iopub.execute_input": "2022-09-05T17:59:30.273869Z",
     "iopub.status.busy": "2022-09-05T17:59:30.272871Z",
     "iopub.status.idle": "2022-09-05T17:59:30.625673Z",
     "shell.execute_reply": "2022-09-05T17:59:30.623783Z"
    },
    "papermill": {
     "duration": 0.36872,
     "end_time": "2022-09-05T17:59:30.629652",
     "exception": false,
     "start_time": "2022-09-05T17:59:30.260932",
     "status": "completed"
    },
    "scrolled": true,
    "tags": []
   },
   "outputs": [],
   "source": [
    "#data = pd.read_csv(\"data/meta.csv\")#header=None\n",
    "fusion = pd.read_json(\"data/fusedcontent.json\", orient = 'table').replace(\"\", np.nan)\n",
    "data = fusion[(fusion['Identifier'] != '')]\n",
    "\n",
    "fusion"
   ]
  },
  {
   "cell_type": "markdown",
   "id": "6168e8de",
   "metadata": {
    "papermill": {
     "duration": 0.013961,
     "end_time": "2022-09-05T17:59:30.659572",
     "exception": false,
     "start_time": "2022-09-05T17:59:30.645611",
     "status": "completed"
    },
    "tags": []
   },
   "source": [
    "### Hier folgen statistische Auswertungen aus dem gewonnenen Daten der ersten Phase"
   ]
  },
  {
   "cell_type": "code",
   "execution_count": null,
   "id": "e609e1eb",
   "metadata": {
    "execution": {
     "iopub.execute_input": "2022-09-05T17:59:30.680034Z",
     "iopub.status.busy": "2022-09-05T17:59:30.679036Z",
     "iopub.status.idle": "2022-09-05T17:59:30.750948Z",
     "shell.execute_reply": "2022-09-05T17:59:30.749952Z"
    },
    "papermill": {
     "duration": 0.085364,
     "end_time": "2022-09-05T17:59:30.754938",
     "exception": false,
     "start_time": "2022-09-05T17:59:30.669574",
     "status": "completed"
    },
    "scrolled": true,
    "tags": []
   },
   "outputs": [],
   "source": [
    "keyword_statistics=data.groupby(['Keywords'])[\"Keywords\"]\\\n",
    "                                       .count() \\\n",
    "                                       .reset_index(name='count') \\\n",
    "                                       .sort_values(['count'], ascending=False, ignore_index=True)\n",
    "\n",
    "keyword_statistics.to_csv(\"data/metaauswertungkeywords.csv\", index=False)\n",
    "keyword_statistics"
   ]
  },
  {
   "cell_type": "code",
   "execution_count": null,
   "id": "5c04229e",
   "metadata": {
    "execution": {
     "iopub.execute_input": "2022-09-05T17:59:30.804805Z",
     "iopub.status.busy": "2022-09-05T17:59:30.803806Z",
     "iopub.status.idle": "2022-09-05T17:59:30.829739Z",
     "shell.execute_reply": "2022-09-05T17:59:30.828738Z"
    },
    "papermill": {
     "duration": 0.048869,
     "end_time": "2022-09-05T17:59:30.834725",
     "exception": false,
     "start_time": "2022-09-05T17:59:30.785856",
     "status": "completed"
    },
    "scrolled": true,
    "tags": []
   },
   "outputs": [],
   "source": [
    "data[\"Keywords\"].count()"
   ]
  },
  {
   "cell_type": "code",
   "execution_count": null,
   "id": "309df48a",
   "metadata": {
    "execution": {
     "iopub.execute_input": "2022-09-05T17:59:30.866639Z",
     "iopub.status.busy": "2022-09-05T17:59:30.864644Z",
     "iopub.status.idle": "2022-09-05T17:59:30.890865Z",
     "shell.execute_reply": "2022-09-05T17:59:30.889859Z"
    },
    "papermill": {
     "duration": 0.046166,
     "end_time": "2022-09-05T17:59:30.893856",
     "exception": false,
     "start_time": "2022-09-05T17:59:30.847690",
     "status": "completed"
    },
    "scrolled": true,
    "tags": []
   },
   "outputs": [],
   "source": [
    "error_statistics = data.groupby(['Error'])[\"Error\"]\\\n",
    "                                       .count() \\\n",
    "                                       .reset_index(name='count') \\\n",
    "                                       .sort_values(['count'], ascending=False, ignore_index=True)\n",
    "\n",
    "error_statistics"
   ]
  },
  {
   "cell_type": "code",
   "execution_count": null,
   "id": "1fd6257d",
   "metadata": {
    "execution": {
     "iopub.execute_input": "2022-09-05T17:59:30.913808Z",
     "iopub.status.busy": "2022-09-05T17:59:30.912805Z",
     "iopub.status.idle": "2022-09-05T17:59:32.362985Z",
     "shell.execute_reply": "2022-09-05T17:59:32.359994Z"
    },
    "papermill": {
     "duration": 1.466521,
     "end_time": "2022-09-05T17:59:32.369370",
     "exception": false,
     "start_time": "2022-09-05T17:59:30.902849",
     "status": "completed"
    },
    "scrolled": true,
    "tags": []
   },
   "outputs": [],
   "source": [
    "error_list = error_statistics['count'].tolist()\n",
    "error_list.insert(0, len(data)-error_statistics['count'].sum())\n",
    "\n",
    "error_name = error_statistics['Error'].tolist()\n",
    "error_name.insert(0, 'No Error')\n",
    "\n",
    "colors = ['green', 'red', 'blue', 'black', 'orange', 'violet']\n",
    "\n",
    "y_offset=0\n",
    "for error in range(len(error_list)):\n",
    "    plt.barh(y= 0, \n",
    "             width = error_list[error], \n",
    "             left = y_offset, \n",
    "             color = colors[error],\n",
    "             label = error_name[error])\n",
    "    \n",
    "    y_offset = y_offset + error_list[error]\n",
    "plt.axis('off')\n",
    "plt.legend(loc='upper left')"
   ]
  },
  {
   "cell_type": "code",
   "execution_count": null,
   "id": "d1dec741",
   "metadata": {
    "execution": {
     "iopub.execute_input": "2022-09-05T17:59:32.398290Z",
     "iopub.status.busy": "2022-09-05T17:59:32.398290Z",
     "iopub.status.idle": "2022-09-05T17:59:32.642055Z",
     "shell.execute_reply": "2022-09-05T17:59:32.641058Z"
    },
    "papermill": {
     "duration": 0.26571,
     "end_time": "2022-09-05T17:59:32.647044",
     "exception": false,
     "start_time": "2022-09-05T17:59:32.381334",
     "status": "completed"
    },
    "scrolled": true,
    "tags": []
   },
   "outputs": [],
   "source": [
    "index = np.arange(len(error_statistics))\n",
    "plt.bar_label(plt.bar(x= index, height=error_statistics['count']), label=error_statistics['Error'])"
   ]
  },
  {
   "cell_type": "code",
   "execution_count": null,
   "id": "27467cf2",
   "metadata": {
    "execution": {
     "iopub.execute_input": "2022-09-05T17:59:32.670920Z",
     "iopub.status.busy": "2022-09-05T17:59:32.669924Z",
     "iopub.status.idle": "2022-09-05T17:59:32.689871Z",
     "shell.execute_reply": "2022-09-05T17:59:32.688872Z"
    },
    "papermill": {
     "duration": 0.033856,
     "end_time": "2022-09-05T17:59:32.692866",
     "exception": false,
     "start_time": "2022-09-05T17:59:32.659010",
     "status": "completed"
    },
    "scrolled": true,
    "tags": []
   },
   "outputs": [],
   "source": [
    "author_statistics = data.groupby(['Author'])[\"Author\"]\\\n",
    "                                       .count() \\\n",
    "                                       .reset_index(name='count') \\\n",
    "                                       .sort_values(['count'], ascending=False, ignore_index=True)\n",
    "                                       \n",
    "                                       \n",
    "#author_statistics.to_csv(\"data/metaauswertungauthor.csv\", index=False)\n",
    "author_statistics.head()"
   ]
  },
  {
   "cell_type": "code",
   "execution_count": null,
   "id": "506c57d8",
   "metadata": {
    "execution": {
     "iopub.execute_input": "2022-09-05T17:59:32.720787Z",
     "iopub.status.busy": "2022-09-05T17:59:32.720787Z",
     "iopub.status.idle": "2022-09-05T17:59:33.564274Z",
     "shell.execute_reply": "2022-09-05T17:59:33.563306Z"
    },
    "papermill": {
     "duration": 0.86144,
     "end_time": "2022-09-05T17:59:33.568264",
     "exception": false,
     "start_time": "2022-09-05T17:59:32.706824",
     "status": "completed"
    },
    "scrolled": true,
    "tags": []
   },
   "outputs": [],
   "source": [
    "cumsum_statistics = author_statistics.cumsum()\n",
    "cumsum_statistics[\"ratio\"] = cumsum_statistics[\"count\"] / cumsum_statistics[\"count\"].max()\n",
    "\n",
    "ax = cumsum_statistics.ratio.plot()\n",
    "ax.set_title(\"Contributor cumsum count of OER Materials\")\n",
    "ax.set_xlabel(\"Contributor count\")\n",
    "ax.set_ylabel(\"Ratio\")\n",
    "\n",
    "plt.plot([34],[0.5], \"+r\")\n",
    "plt.plot([169],[0.8], \"+r\")"
   ]
  },
  {
   "cell_type": "code",
   "execution_count": null,
   "id": "068b53f3",
   "metadata": {
    "execution": {
     "iopub.execute_input": "2022-09-05T17:59:33.592494Z",
     "iopub.status.busy": "2022-09-05T17:59:33.591497Z",
     "iopub.status.idle": "2022-09-05T17:59:34.127541Z",
     "shell.execute_reply": "2022-09-05T17:59:34.125694Z"
    },
    "papermill": {
     "duration": 0.551309,
     "end_time": "2022-09-05T17:59:34.129544",
     "exception": false,
     "start_time": "2022-09-05T17:59:33.578235",
     "status": "completed"
    },
    "scrolled": false,
    "tags": []
   },
   "outputs": [],
   "source": [
    "\n",
    "timedata = pd.DataFrame(data['Datum der Erstellung'])\n",
    "timedata = timedata.dropna()\n",
    "timelist=list()\n",
    "\n",
    "for index, row in timedata.iterrows():\n",
    "    #print(row['Datum der Erstellung'])\n",
    "    timelist.append(datetime.strptime(row['Datum der Erstellung'],\"%Y/%m/%d\"))\n",
    "timedata = timedata.assign(datetime=timelist)\n",
    "#df1 = df1.assign(e=pd.Series(np.random.randn(sLength)).values)\n",
    "    #timelist.append(row.strftime(%x))\n",
    "timedata.drop(columns='Datum der Erstellung', inplace=True)   \n",
    "    \n",
    "dailytime_statistics = timedata.groupby(['datetime'])[\"datetime\"]\\\n",
    "                                       .count() \\\n",
    "                                       .reset_index(name='count') \\\n",
    "                                       .sort_values(['datetime'], ascending=False, ignore_index=True)\n",
    "\n",
    "#time_statistics.to_csv(\"temp/metaauswertungtime.csv\", index=False)\n",
    "dailytime_statistics"
   ]
  },
  {
   "cell_type": "code",
   "execution_count": null,
   "id": "ef73f63a",
   "metadata": {
    "execution": {
     "iopub.execute_input": "2022-09-05T17:59:34.160269Z",
     "iopub.status.busy": "2022-09-05T17:59:34.159270Z",
     "iopub.status.idle": "2022-09-05T17:59:34.628840Z",
     "shell.execute_reply": "2022-09-05T17:59:34.627908Z"
    },
    "papermill": {
     "duration": 0.485305,
     "end_time": "2022-09-05T17:59:34.630833",
     "exception": false,
     "start_time": "2022-09-05T17:59:34.145528",
     "status": "completed"
    },
    "scrolled": true,
    "tags": []
   },
   "outputs": [],
   "source": [
    "dailytime_statistics.set_index(['datetime'],inplace=True)\n",
    "dailytime_statistics.plot()"
   ]
  },
  {
   "cell_type": "code",
   "execution_count": null,
   "id": "42d0d716",
   "metadata": {
    "execution": {
     "iopub.execute_input": "2022-09-05T17:59:34.660754Z",
     "iopub.status.busy": "2022-09-05T17:59:34.659761Z",
     "iopub.status.idle": "2022-09-05T17:59:35.348500Z",
     "shell.execute_reply": "2022-09-05T17:59:35.347496Z"
    },
    "papermill": {
     "duration": 0.7047,
     "end_time": "2022-09-05T17:59:35.351494",
     "exception": false,
     "start_time": "2022-09-05T17:59:34.646794",
     "status": "completed"
    },
    "scrolled": true,
    "tags": []
   },
   "outputs": [],
   "source": [
    "weeklytime_statistics = timedata.resample('W', on='datetime').count() #hier Buchstaben verändern für andere Zeitspannen\n",
    "\n",
    "weeklytime_statistics.rename(columns={list(weeklytime_statistics)[0]:'count'}, inplace=True)\n",
    "weeklytime_statistics.plot()"
   ]
  },
  {
   "cell_type": "code",
   "execution_count": null,
   "id": "c10c85b7",
   "metadata": {
    "execution": {
     "iopub.execute_input": "2022-09-05T17:59:35.380232Z",
     "iopub.status.busy": "2022-09-05T17:59:35.379234Z",
     "iopub.status.idle": "2022-09-05T17:59:35.426983Z",
     "shell.execute_reply": "2022-09-05T17:59:35.425979Z"
    },
    "papermill": {
     "duration": 0.064519,
     "end_time": "2022-09-05T17:59:35.428976",
     "exception": false,
     "start_time": "2022-09-05T17:59:35.364457",
     "status": "completed"
    },
    "scrolled": true,
    "tags": []
   },
   "outputs": [],
   "source": [
    "pagedata = data[('Seitenzahl' )].replace('', np.nan).dropna()\n",
    "page_statistics = data.groupby(['Seitenzahl'])[\"Seitenzahl\"]\\\n",
    "                                       .count() \\\n",
    "                                       .reset_index(name='count') \\\n",
    "                                       .sort_values(['Seitenzahl'], ascending=True, ignore_index=True)\n",
    "page_statistics"
   ]
  },
  {
   "cell_type": "code",
   "execution_count": null,
   "id": "613e3265",
   "metadata": {
    "execution": {
     "iopub.execute_input": "2022-09-05T17:59:35.457898Z",
     "iopub.status.busy": "2022-09-05T17:59:35.456905Z",
     "iopub.status.idle": "2022-09-05T17:59:35.708897Z",
     "shell.execute_reply": "2022-09-05T17:59:35.708017Z"
    },
    "papermill": {
     "duration": 0.268949,
     "end_time": "2022-09-05T17:59:35.711887",
     "exception": false,
     "start_time": "2022-09-05T17:59:35.442938",
     "status": "completed"
    },
    "scrolled": true,
    "tags": []
   },
   "outputs": [],
   "source": [
    "page_statistics.set_index(['Seitenzahl'],inplace=True)\n",
    "page_statistics.plot()"
   ]
  },
  {
   "cell_type": "code",
   "execution_count": null,
   "id": "6d0a5513",
   "metadata": {
    "execution": {
     "iopub.execute_input": "2022-09-05T17:59:35.741818Z",
     "iopub.status.busy": "2022-09-05T17:59:35.741818Z",
     "iopub.status.idle": "2022-09-05T17:59:35.771122Z",
     "shell.execute_reply": "2022-09-05T17:59:35.770155Z"
    },
    "papermill": {
     "duration": 0.049233,
     "end_time": "2022-09-05T17:59:35.774114",
     "exception": false,
     "start_time": "2022-09-05T17:59:35.724881",
     "status": "completed"
    },
    "scrolled": true,
    "tags": []
   },
   "outputs": [],
   "source": [
    "format_statistics = data.groupby(['Format'])[\"Format\"]\\\n",
    "                                       .count() \\\n",
    "                                       .reset_index(name='count') \\\n",
    "                                       .sort_values(['count'], ascending=False, ignore_index=True)\n",
    "format_statistics"
   ]
  },
  {
   "cell_type": "code",
   "execution_count": null,
   "id": "f3c8719e",
   "metadata": {
    "execution": {
     "iopub.execute_input": "2022-09-05T17:59:35.802040Z",
     "iopub.status.busy": "2022-09-05T17:59:35.801041Z",
     "iopub.status.idle": "2022-09-05T17:59:36.022701Z",
     "shell.execute_reply": "2022-09-05T17:59:36.021528Z"
    },
    "papermill": {
     "duration": 0.237652,
     "end_time": "2022-09-05T17:59:36.024731",
     "exception": false,
     "start_time": "2022-09-05T17:59:35.787079",
     "status": "completed"
    },
    "scrolled": true,
    "tags": []
   },
   "outputs": [],
   "source": [
    "format_statistics.plot(kind='bar', x='Format')"
   ]
  },
  {
   "cell_type": "code",
   "execution_count": null,
   "id": "c5409743",
   "metadata": {
    "execution": {
     "iopub.execute_input": "2022-09-05T17:59:36.066619Z",
     "iopub.status.busy": "2022-09-05T17:59:36.066619Z",
     "iopub.status.idle": "2022-09-05T17:59:36.459558Z",
     "shell.execute_reply": "2022-09-05T17:59:36.458632Z"
    },
    "papermill": {
     "duration": 0.423884,
     "end_time": "2022-09-05T17:59:36.462550",
     "exception": false,
     "start_time": "2022-09-05T17:59:36.038666",
     "status": "completed"
    },
    "scrolled": true,
    "tags": []
   },
   "outputs": [],
   "source": [
    "#Dateigröße\n",
    "sizedata = pd.DataFrame(data['Dateigröße'])\n",
    "sizedata.dropna(inplace=True)\n",
    "\n",
    "#sizelist = list()\n",
    "\n",
    "#for index, row in sizedata.iterrows():\n",
    "#    sizesplitter = row['Dateigröße'].split(\" \", 1)\n",
    "#    if sizesplitter[1] == \"GB\":\n",
    "#        sizelist.append(float(sizesplitter[0]) * 1000000000)\n",
    "#    elif sizesplitter[1] == \"MB\":\n",
    "#        sizelist.append(float(sizesplitter[0]) * 1000000)\n",
    "#    elif sizesplitter[1] == \"kB\":\n",
    "#        sizelist.append(float(sizesplitter[0]) * 1000)\n",
    "#    else:\n",
    "#        sizelist.append(float(sizesplitter[0]))\n",
    "\n",
    "#sizelist\n",
    "#sizedata = sizedata.assign(size=sizelist)\n",
    "\n",
    "\n",
    "#df1 = df1.assign(e=pd.Series(np.random.randn(sLength)).values)\n",
    "    #timelist.append(row.strftime(%x))\n",
    "\n",
    "size_statistics = sizedata.groupby(['Dateigröße'])[\"Dateigröße\"]\\\n",
    "                                       .count() \\\n",
    "                                       .reset_index(name='count') \\\n",
    "                                       .sort_values(['Dateigröße'], ascending=True, ignore_index=True)\n",
    "size_statistics"
   ]
  },
  {
   "cell_type": "code",
   "execution_count": null,
   "id": "a17e5ea7",
   "metadata": {
    "execution": {
     "iopub.execute_input": "2022-09-05T17:59:36.493468Z",
     "iopub.status.busy": "2022-09-05T17:59:36.492471Z",
     "iopub.status.idle": "2022-09-05T17:59:36.741478Z",
     "shell.execute_reply": "2022-09-05T17:59:36.740547Z"
    },
    "papermill": {
     "duration": 0.268918,
     "end_time": "2022-09-05T17:59:36.744466",
     "exception": false,
     "start_time": "2022-09-05T17:59:36.475548",
     "status": "completed"
    },
    "scrolled": true,
    "tags": []
   },
   "outputs": [],
   "source": [
    "size_statistics.set_index(['Dateigröße'],inplace=True)\n",
    "size_statistics.plot()"
   ]
  },
  {
   "cell_type": "markdown",
   "id": "353a3cfb",
   "metadata": {
    "papermill": {
     "duration": 0.019916,
     "end_time": "2022-09-05T17:59:36.778376",
     "exception": false,
     "start_time": "2022-09-05T17:59:36.758460",
     "status": "completed"
    },
    "tags": []
   },
   "source": [
    "### Hier werden Daten aus content.json und allen Phasen ausgewertet"
   ]
  },
  {
   "cell_type": "code",
   "execution_count": null,
   "id": "80624298",
   "metadata": {
    "execution": {
     "iopub.execute_input": "2022-09-05T17:59:37.979417Z",
     "iopub.status.busy": "2022-09-05T17:59:37.979417Z",
     "iopub.status.idle": "2022-09-05T17:59:38.065945Z",
     "shell.execute_reply": "2022-09-05T17:59:38.064790Z"
    },
    "papermill": {
     "duration": 0.11047,
     "end_time": "2022-09-05T17:59:38.069939",
     "exception": false,
     "start_time": "2022-09-05T17:59:37.959469",
     "status": "completed"
    },
    "scrolled": true,
    "tags": []
   },
   "outputs": [],
   "source": [
    "#delete Errors\n",
    "fusion = fusion[(fusion['Error'].isnull())]\n",
    "\n",
    "maxsize = len(fusion)\n",
    "licenseprev = len(fusion[((fusion['license'].notna()) & (fusion['license'] != ''))])\n",
    "titleprev = len(fusion[((fusion['title'].notna()) & (fusion['title'] != ''))])\n",
    "titlenow = len(fusion[((fusion['title'].notna()) & (fusion['title'] != '')) | ((fusion['Titel'].notna()) & (fusion['Titel'] != ''))])\n",
    "creatorprev = len(fusion[((fusion['creator'].notna()) & (fusion['creator'] != ''))])\n",
    "creatornow =len(fusion[((fusion['creator'].notna()) & (fusion['creator'] != '')) | ((fusion['Author'].notna()) & (fusion['Author'] != ''))])\n",
    "pagesprev = len(fusion[((fusion['pages'].notna()) & (fusion['pages'] != ''))])\n",
    "pagesnow = len(fusion[((fusion['pages'].notna()) & (fusion['pages'] != '')) | ((fusion['Seitenzahl'].notna()) & (fusion['Seitenzahl'] != ''))])\n",
    "languageprev = len(fusion[((fusion['language'].notna()) & (fusion['language'] != ''))])\n",
    "keywordsprev = 0 #TODO what from content masps to keywords\n",
    "keywordsnow = len(fusion[((fusion['Keywords'].notna()) & (fusion['Keywords'] != ''))])\n",
    "#keywords\n",
    "\n",
    "columns = ('License', 'Title', 'Creator', 'Pages', 'Language', 'Keywords')\n",
    "ind =[0.2, 0.65, 1.1, 1.55, 2, 2.45]"
   ]
  },
  {
   "cell_type": "code",
   "execution_count": null,
   "id": "fcf2660f",
   "metadata": {
    "execution": {
     "iopub.execute_input": "2022-09-05T17:59:38.106523Z",
     "iopub.status.busy": "2022-09-05T17:59:38.104528Z",
     "iopub.status.idle": "2022-09-05T17:59:38.315000Z",
     "shell.execute_reply": "2022-09-05T17:59:38.313784Z"
    },
    "papermill": {
     "duration": 0.231427,
     "end_time": "2022-09-05T17:59:38.317998",
     "exception": false,
     "start_time": "2022-09-05T17:59:38.086571",
     "status": "completed"
    },
    "scrolled": true,
    "tags": []
   },
   "outputs": [],
   "source": [
    "#Graph w/o meta.csv\n",
    "\n",
    "plt.bar(x = ind, \n",
    "        height = [licenseprev/maxsize, titleprev/maxsize, creatorprev/maxsize, pagesprev/maxsize, languageprev/maxsize, keywordsprev/maxsize], \n",
    "        color ='lightblue',\n",
    "        width = 0.4,\n",
    "        tick_label = columns)"
   ]
  },
  {
   "cell_type": "code",
   "execution_count": null,
   "id": "87252f8e",
   "metadata": {
    "execution": {
     "iopub.execute_input": "2022-09-05T17:59:38.360884Z",
     "iopub.status.busy": "2022-09-05T17:59:38.360884Z",
     "iopub.status.idle": "2022-09-05T17:59:38.565573Z",
     "shell.execute_reply": "2022-09-05T17:59:38.563649Z"
    },
    "papermill": {
     "duration": 0.233617,
     "end_time": "2022-09-05T17:59:38.569566",
     "exception": false,
     "start_time": "2022-09-05T17:59:38.335949",
     "status": "completed"
    },
    "scrolled": true,
    "tags": []
   },
   "outputs": [],
   "source": [
    "#Graph with meta.csv\n",
    "plt.bar(x = ind, \n",
    "        height = [licenseprev/maxsize, titlenow/maxsize, creatornow/maxsize, pagesnow/maxsize, languageprev/maxsize, keywordsnow/maxsize], \n",
    "        color ='lightblue',\n",
    "        width = 0.4,\n",
    "        tick_label = columns)"
   ]
  },
  {
   "cell_type": "code",
   "execution_count": null,
   "id": "86587ca2",
   "metadata": {
    "execution": {
     "iopub.execute_input": "2022-09-05T17:59:38.624416Z",
     "iopub.status.busy": "2022-09-05T17:59:38.624416Z",
     "iopub.status.idle": "2022-09-05T17:59:38.892767Z",
     "shell.execute_reply": "2022-09-05T17:59:38.891764Z"
    },
    "papermill": {
     "duration": 0.29827,
     "end_time": "2022-09-05T17:59:38.895759",
     "exception": false,
     "start_time": "2022-09-05T17:59:38.597489",
     "status": "completed"
    },
    "scrolled": true,
    "tags": []
   },
   "outputs": [],
   "source": [
    "plt.bar(x = ind, \n",
    "        height = [licenseprev/maxsize, titlenow/maxsize, creatornow/maxsize, pagesnow/maxsize, languageprev/maxsize, keywordsnow/maxsize], \n",
    "        color ='lightblue',\n",
    "        width = 0.4,\n",
    "        tick_label = columns)\n",
    "plt.bar(x = ind, \n",
    "        height = [licenseprev/maxsize, titleprev/maxsize, creatorprev/maxsize, pagesprev/maxsize, languageprev/maxsize, keywordsprev/maxsize], \n",
    "        color ='blue',\n",
    "        width = 0.4,\n",
    "        tick_label = columns)\n",
    "\n",
    "content_label = mpatches.Patch(color='blue', label='content.json')\n",
    "fusion_label = mpatches.Patch(color='lightblue', label='fused content')\n",
    "plt.legend(handles=[content_label, fusion_label])\n"
   ]
  },
  {
   "cell_type": "code",
   "execution_count": null,
   "id": "1a0ef38e",
   "metadata": {},
   "outputs": [],
   "source": [
    "titlecompare = fusion[((fusion['title'].notna()) & (fusion['Titel'].notna()))]\n",
    "len(titlecompare)"
   ]
  },
  {
   "cell_type": "code",
   "execution_count": null,
   "id": "bde9f6a6",
   "metadata": {},
   "outputs": [],
   "source": [
    "titlesame = titlecompare[(titlecompare['title'] == titlecompare['Titel'])]\n",
    "len(titlesame)"
   ]
  },
  {
   "cell_type": "code",
   "execution_count": null,
   "id": "9a6956fd",
   "metadata": {},
   "outputs": [],
   "source": [
    "#titlesame.to_csv(\"data/metaauswertungtitelvergleich.csv\", index=False)"
   ]
  },
  {
   "cell_type": "code",
   "execution_count": null,
   "id": "e90fad87",
   "metadata": {},
   "outputs": [],
   "source": []
  }
 ],
 "metadata": {
  "kernelspec": {
   "display_name": "Python 3 (ipykernel)",
   "language": "python",
   "name": "python3"
  },
  "language_info": {
   "codemirror_mode": {
    "name": "ipython",
    "version": 3
   },
   "file_extension": ".py",
   "mimetype": "text/x-python",
   "name": "python",
   "nbconvert_exporter": "python",
   "pygments_lexer": "ipython3",
   "version": "3.10.7"
  },
  "papermill": {
   "default_parameters": {},
   "duration": 21.376841,
   "end_time": "2022-09-05T17:59:39.645357",
   "environment_variables": {},
   "exception": null,
   "input_path": "C:\\Users\\Johann\\Desktop\\UNI\\BA\\Python\\notebooks\\metaevaluation.ipynb",
   "output_path": "C:\\Users\\Johann\\Desktop\\UNI\\BA\\Python\\notebooks\\metaevaluation.ipynb",
   "parameters": {},
   "start_time": "2022-09-05T17:59:18.268516",
   "version": "2.4.0"
  }
 },
 "nbformat": 4,
 "nbformat_minor": 5
}
