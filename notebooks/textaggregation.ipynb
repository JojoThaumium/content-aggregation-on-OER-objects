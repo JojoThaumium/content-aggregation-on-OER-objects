{
 "cells": [
  {
   "cell_type": "code",
   "execution_count": null,
   "id": "2549b498",
   "metadata": {},
   "outputs": [],
   "source": [
    "import os.path\n",
    "import pandas as pd\n",
    "\n",
    "import PyPDF2\n",
    "\n",
    "from lingua import Language, LanguageDetectorBuilder\n",
    "#languages = [Language.ENGLISH, Language.FRENCH, Language.GERMAN, Language.SPANISH]\n",
    "#detector = LanguageDetectorBuilder.from_languages(*languages).build()\n",
    "detector = LanguageDetectorBuilder.from_all_languages().with_preloaded_language_models().build()"
   ]
  },
  {
   "cell_type": "code",
   "execution_count": null,
   "id": "2b901c6a",
   "metadata": {},
   "outputs": [],
   "source": [
    "if (os.path.exists(\"data/langmeta.csv\")):\n",
    "    os.remove(\"data/langmeta.csv\")"
   ]
  },
  {
   "cell_type": "code",
   "execution_count": null,
   "id": "1ece6f6b",
   "metadata": {},
   "outputs": [],
   "source": [
    "pdfurl = pd.read_csv(\"data/downloadedpdf.csv\").fillna(value = \"\")"
   ]
  },
  {
   "cell_type": "code",
   "execution_count": null,
   "id": "8edfd46a",
   "metadata": {},
   "outputs": [],
   "source": [
    "text= \"\"\n",
    "for index, row in pdfurl.iterrows():\n",
    "    \n",
    "    unique = row['URL'].removeprefix(\"https://bildungsportal.sachsen.de/opal/oer/\")\n",
    "    unique = unique.removesuffix(\"\\n\")\n",
    "    metadict = {\"Identifier\":unique}   \n",
    "    pfad = \"temp/\" + unique + \".pdf\"\n",
    "    if((row['Error'] == \"\")):\n",
    "        #Falls beim Download kein Error aufgetreten ist: Probier die Datei zu öffnen\n",
    "        try:\n",
    "            pdfFileObj = open(pfad, 'rb')\n",
    "            pdfReader = PyPDF2.PdfFileReader(pdfFileObj)\n",
    "            for x in range(0,pdfReader.numPages):        \n",
    "                pageObj = pdfReader.getPage(x)        \n",
    "                text = text + pageObj.extractText()    \n",
    "        except:\n",
    "            print(\"An Error occured while reading.\")\n",
    "            #metadict.update({\"Error\":'OpeningError'})\n",
    "            frame = pd.DataFrame(metadict, [0])\n",
    "            if (os.path.exists(\"data/langmeta.csv\")):   \n",
    "                #oldframe = pd.read_csv(\"data/langmeta.csv\")\n",
    "                newframe = pd.concat([oldframe, frame])\n",
    "                newframe.to_csv(\"data/langmeta.csv\", index=False)\n",
    "                oldframe = newframe\n",
    "            else:\n",
    "                frame.to_csv(\"data/langmeta.csv\", index=False)\n",
    "                oldframe = frame\n",
    "            metadict.clear\n",
    "            continue\n",
    "\n",
    "    #Spracherkennung\n",
    "        language = detector.detect_language_of(text) #compute_language_confidence_values(text)\n",
    "        if(language is not None):\n",
    "            metadict.update({\"Language\":language.name})\n",
    "        frame = pd.DataFrame(metadict, [0])\n",
    "        if (os.path.exists(\"data/langmeta.csv\")):   \n",
    "            #oldframe = pd.read_csv(\"data/langmeta.csv\")\n",
    "            newframe = pd.concat([oldframe, frame])\n",
    "            newframe.to_csv(\"data/langmeta.csv\", index=False)\n",
    "            oldframe = newframe\n",
    "        else:\n",
    "            frame.to_csv(\"data/langmeta.csv\", index=False)\n",
    "            oldframe = frame\n",
    "        metadict.clear\n",
    "        text=\"\""
   ]
  },
  {
   "cell_type": "code",
   "execution_count": null,
   "id": "2e93f7a0",
   "metadata": {},
   "outputs": [],
   "source": []
  }
 ],
 "metadata": {
  "kernelspec": {
   "display_name": "Python 3 (ipykernel)",
   "language": "python",
   "name": "python3"
  },
  "language_info": {
   "codemirror_mode": {
    "name": "ipython",
    "version": 3
   },
   "file_extension": ".py",
   "mimetype": "text/x-python",
   "name": "python",
   "nbconvert_exporter": "python",
   "pygments_lexer": "ipython3",
   "version": "3.10.7"
  }
 },
 "nbformat": 4,
 "nbformat_minor": 5
}
