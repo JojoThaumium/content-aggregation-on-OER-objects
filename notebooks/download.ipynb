{
 "cells": [
  {
   "cell_type": "code",
   "execution_count": 1,
   "id": "a5b2309f",
   "metadata": {
    "execution": {
     "iopub.execute_input": "2022-11-16T10:20:05.472974Z",
     "iopub.status.busy": "2022-11-16T10:20:05.470987Z",
     "iopub.status.idle": "2022-11-16T10:20:06.467735Z",
     "shell.execute_reply": "2022-11-16T10:20:06.466833Z"
    },
    "papermill": {
     "duration": 1.014707,
     "end_time": "2022-11-16T10:20:06.471740",
     "exception": false,
     "start_time": "2022-11-16T10:20:05.457033",
     "status": "completed"
    },
    "tags": []
   },
   "outputs": [],
   "source": [
    "import os.path\n",
    "import urllib.request\n",
    "import pandas as pd\n",
    "from pathlib import Path\n",
    "Path(\"temp\").mkdir(parents=True, exist_ok=True)"
   ]
  },
  {
   "cell_type": "code",
   "execution_count": 2,
   "id": "9bc98286",
   "metadata": {
    "execution": {
     "iopub.execute_input": "2022-11-16T10:20:06.485741Z",
     "iopub.status.busy": "2022-11-16T10:20:06.484744Z",
     "iopub.status.idle": "2022-11-16T10:20:06.609016Z",
     "shell.execute_reply": "2022-11-16T10:20:06.606000Z"
    },
    "papermill": {
     "duration": 0.136288,
     "end_time": "2022-11-16T10:20:06.614026",
     "exception": false,
     "start_time": "2022-11-16T10:20:06.477738",
     "status": "completed"
    },
    "tags": []
   },
   "outputs": [],
   "source": [
    "downloadlist = pd.read_csv(\"data/PDFURLs.csv\", header=None)\n",
    "downloadlist.rename(columns={list(downloadlist)[0]:'URL'}, inplace=True)\n",
    "\n",
    "downloadlist['Error'] = \"\""
   ]
  },
  {
   "cell_type": "code",
   "execution_count": 3,
   "id": "4b47cbff",
   "metadata": {
    "execution": {
     "iopub.execute_input": "2022-11-16T10:20:06.635016Z",
     "iopub.status.busy": "2022-11-16T10:20:06.633029Z",
     "iopub.status.idle": "2022-11-16T10:20:06.717657Z",
     "shell.execute_reply": "2022-11-16T10:20:06.714679Z"
    },
    "papermill": {
     "duration": 0.10124,
     "end_time": "2022-11-16T10:20:06.722287",
     "exception": false,
     "start_time": "2022-11-16T10:20:06.621047",
     "status": "completed"
    },
    "tags": []
   },
   "outputs": [
    {
     "data": {
      "text/html": [
       "<div>\n",
       "<style scoped>\n",
       "    .dataframe tbody tr th:only-of-type {\n",
       "        vertical-align: middle;\n",
       "    }\n",
       "\n",
       "    .dataframe tbody tr th {\n",
       "        vertical-align: top;\n",
       "    }\n",
       "\n",
       "    .dataframe thead th {\n",
       "        text-align: right;\n",
       "    }\n",
       "</style>\n",
       "<table border=\"1\" class=\"dataframe\">\n",
       "  <thead>\n",
       "    <tr style=\"text-align: right;\">\n",
       "      <th></th>\n",
       "      <th>URL</th>\n",
       "      <th>Error</th>\n",
       "    </tr>\n",
       "  </thead>\n",
       "  <tbody>\n",
       "    <tr>\n",
       "      <th>0</th>\n",
       "      <td>https://bildungsportal.sachsen.de/opal/oer/8I6...</td>\n",
       "      <td></td>\n",
       "    </tr>\n",
       "    <tr>\n",
       "      <th>1</th>\n",
       "      <td>https://bildungsportal.sachsen.de/opal/oer/8ZI...</td>\n",
       "      <td></td>\n",
       "    </tr>\n",
       "    <tr>\n",
       "      <th>2</th>\n",
       "      <td>https://bildungsportal.sachsen.de/opal/oer/3zt...</td>\n",
       "      <td></td>\n",
       "    </tr>\n",
       "    <tr>\n",
       "      <th>3</th>\n",
       "      <td>https://bildungsportal.sachsen.de/opal/oer/6mO...</td>\n",
       "      <td></td>\n",
       "    </tr>\n",
       "    <tr>\n",
       "      <th>4</th>\n",
       "      <td>https://bildungsportal.sachsen.de/opal/oer/9pH...</td>\n",
       "      <td></td>\n",
       "    </tr>\n",
       "    <tr>\n",
       "      <th>...</th>\n",
       "      <td>...</td>\n",
       "      <td>...</td>\n",
       "    </tr>\n",
       "    <tr>\n",
       "      <th>5237</th>\n",
       "      <td>https://bildungsportal.sachsen.de/opal/oer/37M...</td>\n",
       "      <td></td>\n",
       "    </tr>\n",
       "    <tr>\n",
       "      <th>5238</th>\n",
       "      <td>https://bildungsportal.sachsen.de/opal/oer/8nQ...</td>\n",
       "      <td></td>\n",
       "    </tr>\n",
       "    <tr>\n",
       "      <th>5239</th>\n",
       "      <td>https://bildungsportal.sachsen.de/opal/oer/8wn...</td>\n",
       "      <td></td>\n",
       "    </tr>\n",
       "    <tr>\n",
       "      <th>5240</th>\n",
       "      <td>https://bildungsportal.sachsen.de/opal/oer/6kp...</td>\n",
       "      <td></td>\n",
       "    </tr>\n",
       "    <tr>\n",
       "      <th>5241</th>\n",
       "      <td>https://bildungsportal.sachsen.de/opal/oer/10H...</td>\n",
       "      <td></td>\n",
       "    </tr>\n",
       "  </tbody>\n",
       "</table>\n",
       "<p>5242 rows × 2 columns</p>\n",
       "</div>"
      ],
      "text/plain": [
       "                                                    URL Error\n",
       "0     https://bildungsportal.sachsen.de/opal/oer/8I6...      \n",
       "1     https://bildungsportal.sachsen.de/opal/oer/8ZI...      \n",
       "2     https://bildungsportal.sachsen.de/opal/oer/3zt...      \n",
       "3     https://bildungsportal.sachsen.de/opal/oer/6mO...      \n",
       "4     https://bildungsportal.sachsen.de/opal/oer/9pH...      \n",
       "...                                                 ...   ...\n",
       "5237  https://bildungsportal.sachsen.de/opal/oer/37M...      \n",
       "5238  https://bildungsportal.sachsen.de/opal/oer/8nQ...      \n",
       "5239  https://bildungsportal.sachsen.de/opal/oer/8wn...      \n",
       "5240  https://bildungsportal.sachsen.de/opal/oer/6kp...      \n",
       "5241  https://bildungsportal.sachsen.de/opal/oer/10H...      \n",
       "\n",
       "[5242 rows x 2 columns]"
      ]
     },
     "execution_count": 3,
     "metadata": {},
     "output_type": "execute_result"
    }
   ],
   "source": [
    "downloadlist"
   ]
  },
  {
   "cell_type": "code",
   "execution_count": 4,
   "id": "e1ea003e",
   "metadata": {
    "execution": {
     "iopub.execute_input": "2022-11-16T10:20:06.743349Z",
     "iopub.status.busy": "2022-11-16T10:20:06.742288Z",
     "iopub.status.idle": "2022-11-16T10:22:14.208914Z",
     "shell.execute_reply": "2022-11-16T10:22:14.204915Z"
    },
    "papermill": {
     "duration": 127.484572,
     "end_time": "2022-11-16T10:22:14.214861",
     "exception": false,
     "start_time": "2022-11-16T10:20:06.730289",
     "status": "completed"
    },
    "tags": []
   },
   "outputs": [
    {
     "name": "stdout",
     "output_type": "stream",
     "text": [
      "1\n",
      "2\n",
      "3\n",
      "4\n",
      "downloading: 9pHMJT-hRLrQ as 4\n"
     ]
    },
    {
     "name": "stdout",
     "output_type": "stream",
     "text": [
      "Error while downloading.\n",
      "6\n",
      "7\n",
      "8\n",
      "9\n",
      "10\n",
      "11\n",
      "12\n",
      "13\n",
      "14\n",
      "15\n",
      "16\n",
      "17\n",
      "18\n",
      "19\n",
      "20\n",
      "21\n",
      "downloading: 7zMn-et47v7I as 21\n"
     ]
    },
    {
     "name": "stdout",
     "output_type": "stream",
     "text": [
      "Error while downloading.\n",
      "23\n",
      "downloading: 1FDZEIhl8k4M as 23\n",
      "Error while downloading.\n",
      "25\n",
      "26\n",
      "27\n",
      "28\n",
      "29\n",
      "30\n",
      "31\n",
      "32\n",
      "33\n"
     ]
    },
    {
     "name": "stdout",
     "output_type": "stream",
     "text": [
      "34\n",
      "35\n",
      "36\n",
      "37\n",
      "38\n",
      "39\n",
      "40\n",
      "41\n",
      "42\n",
      "43\n",
      "44\n",
      "45\n",
      "46\n",
      "47\n",
      "48\n",
      "49\n",
      "50\n",
      "51\n",
      "52\n",
      "53\n",
      "54\n",
      "55\n",
      "56\n",
      "57\n",
      "58\n",
      "59\n",
      "60\n",
      "61\n",
      "62\n"
     ]
    },
    {
     "name": "stdout",
     "output_type": "stream",
     "text": [
      "63\n",
      "64\n",
      "65\n",
      "66\n",
      "67\n",
      "68\n",
      "69\n",
      "70\n",
      "71\n",
      "72\n",
      "73\n",
      "74\n",
      "75\n",
      "76\n",
      "77\n",
      "78\n",
      "79\n",
      "80\n",
      "downloading: 9GA4jqMvSzJI as 80\n"
     ]
    },
    {
     "name": "stdout",
     "output_type": "stream",
     "text": [
      "Error while downloading.\n",
      "82\n",
      "83\n",
      "84\n",
      "downloading: 3SVOjZyfoF94 as 84\n",
      "Error while downloading.\n",
      "86\n",
      "87\n",
      "88\n"
     ]
    },
    {
     "name": "stdout",
     "output_type": "stream",
     "text": [
      "89\n",
      "90\n",
      "91\n",
      "92\n",
      "93\n",
      "94\n",
      "95\n",
      "96\n",
      "downloading: 4O_P8RU8gJ4A as 96\n"
     ]
    },
    {
     "name": "stdout",
     "output_type": "stream",
     "text": [
      "Error while downloading.\n",
      "downloading: 3nrrZ0weyjnc as 97\n",
      "Error while downloading.\n",
      "99\n",
      "100\n",
      "101\n",
      "102\n",
      "downloading: 129bClGJMY2t4 as 102\n"
     ]
    },
    {
     "name": "stdout",
     "output_type": "stream",
     "text": [
      "Error while downloading.\n"
     ]
    },
    {
     "name": "stdout",
     "output_type": "stream",
     "text": [
      "104\n",
      "105\n",
      "106\n",
      "107\n",
      "108\n",
      "109\n",
      "110\n",
      "111\n",
      "112\n",
      "113\n",
      "114\n",
      "115\n",
      "116\n",
      "117\n",
      "118\n",
      "119\n",
      "120\n",
      "121\n",
      "122\n",
      "123\n",
      "124\n",
      "125\n",
      "126\n",
      "127\n",
      "128\n",
      "129\n",
      "130\n",
      "131\n",
      "132\n",
      "133\n",
      "134\n",
      "135\n",
      "downloading: 71wZnsT2WT3s as 135\n"
     ]
    },
    {
     "name": "stdout",
     "output_type": "stream",
     "text": [
      "Error while downloading.\n",
      "137\n",
      "138\n",
      "139\n",
      "140\n",
      "141\n",
      "142\n",
      "143\n",
      "144\n",
      "145\n",
      "146\n",
      "147\n",
      "148\n",
      "149\n",
      "150\n",
      "151\n",
      "downloading: 4E8qrfgD5Mho as 151\n"
     ]
    },
    {
     "name": "stdout",
     "output_type": "stream",
     "text": [
      "Error while downloading.\n",
      "153\n",
      "154\n",
      "155\n",
      "156\n",
      "157\n",
      "158\n",
      "159\n",
      "160\n",
      "161\n",
      "162\n",
      "163\n",
      "downloading: 9mnNNjYrhFwI as 163\n",
      "Error while downloading.\n",
      "165\n"
     ]
    },
    {
     "name": "stdout",
     "output_type": "stream",
     "text": [
      "166\n",
      "167\n",
      "168\n",
      "169\n",
      "170\n",
      "171\n",
      "172\n",
      "173\n",
      "174\n",
      "175\n",
      "176\n",
      "177\n",
      "178\n",
      "179\n",
      "180\n",
      "181\n",
      "182\n",
      "183\n",
      "184\n",
      "185\n",
      "186\n",
      "187\n",
      "188\n",
      "189\n",
      "190\n",
      "191\n",
      "192\n",
      "193\n",
      "194\n",
      "195\n",
      "196\n",
      "downloading: 3mBbrZRrHgvs as 196\n"
     ]
    },
    {
     "name": "stdout",
     "output_type": "stream",
     "text": [
      "Error while downloading.\n",
      "198\n",
      "199\n",
      "200\n",
      "201\n",
      "202\n",
      "downloading: 6Jf-0ocQuC3A as 202\n",
      "Error while downloading.\n",
      "204\n",
      "205\n",
      "206\n",
      "207\n",
      "208\n",
      "209\n",
      "210\n",
      "211\n",
      "212\n",
      "213\n",
      "214\n",
      "215\n"
     ]
    },
    {
     "name": "stdout",
     "output_type": "stream",
     "text": [
      "216\n",
      "217\n",
      "218\n",
      "219\n",
      "220\n",
      "221\n",
      "222\n",
      "223\n",
      "224\n",
      "225\n",
      "226\n",
      "227\n",
      "228\n",
      "229\n",
      "230\n",
      "231\n",
      "232\n",
      "downloading: 9MJbYn_ytIwk as 232\n",
      "Error while downloading.\n",
      "234\n",
      "235\n",
      "236\n",
      "237\n",
      "238\n",
      "239\n",
      "240\n",
      "241\n",
      "242\n",
      "243\n",
      "244\n",
      "245\n",
      "246\n",
      "247\n",
      "248\n",
      "249\n",
      "250\n",
      "251\n",
      "252\n",
      "253\n",
      "254\n",
      "255\n",
      "256\n",
      "257\n",
      "258\n",
      "259\n",
      "260\n",
      "261\n",
      "262\n",
      "263\n",
      "264\n",
      "265\n",
      "266\n"
     ]
    },
    {
     "name": "stdout",
     "output_type": "stream",
     "text": [
      "267\n",
      "268\n",
      "269\n",
      "270\n",
      "271\n",
      "272\n",
      "273\n",
      "274\n",
      "275\n",
      "276\n",
      "277\n",
      "278\n",
      "279\n",
      "280\n",
      "281\n",
      "282\n",
      "283\n",
      "284\n",
      "285\n",
      "286\n",
      "287\n",
      "downloading: 4p63vGWsyvmI as 287\n"
     ]
    },
    {
     "name": "stdout",
     "output_type": "stream",
     "text": [
      "Error while downloading.\n",
      "289\n",
      "290\n",
      "291\n",
      "292\n",
      "293\n",
      "294\n",
      "295\n",
      "296\n",
      "297\n",
      "downloading: 11BCWoaX4pua4 as 297\n",
      "Error while downloading.\n",
      "299\n",
      "300\n",
      "301\n",
      "302\n",
      "303\n",
      "304\n",
      "305\n",
      "306\n",
      "307\n",
      "308\n",
      "309\n",
      "310\n"
     ]
    },
    {
     "name": "stdout",
     "output_type": "stream",
     "text": [
      "311\n",
      "312\n",
      "313\n",
      "314\n",
      "downloading: 4z0457CpctQQ as 314\n",
      "Error while downloading.\n",
      "316\n",
      "317\n",
      "318\n",
      "319\n",
      "320\n",
      "321\n",
      "322\n",
      "323\n",
      "324\n",
      "325\n",
      "326\n",
      "327\n",
      "328\n",
      "329\n",
      "330\n",
      "331\n",
      "332\n",
      "333\n",
      "334\n",
      "335\n",
      "336\n",
      "337\n",
      "338\n",
      "339\n",
      "340\n",
      "341\n",
      "342\n",
      "343\n",
      "344\n",
      "345\n",
      "346\n",
      "347\n",
      "348\n"
     ]
    },
    {
     "name": "stdout",
     "output_type": "stream",
     "text": [
      "349\n",
      "350\n",
      "351\n",
      "352\n",
      "353\n",
      "354\n",
      "355\n",
      "356\n",
      "357\n",
      "358\n",
      "359\n",
      "360\n",
      "361\n",
      "362\n",
      "363\n",
      "364\n",
      "365\n",
      "downloading: 11sg_4kcQ5A1w as 365\n",
      "Error while downloading.\n",
      "downloading: 4_LmOl5ehVzk as 366\n"
     ]
    },
    {
     "name": "stdout",
     "output_type": "stream",
     "text": [
      "Error while downloading.\n",
      "368\n",
      "369\n",
      "370\n",
      "371\n",
      "372\n",
      "373\n",
      "374\n",
      "375\n",
      "376\n",
      "377\n",
      "378\n",
      "379\n",
      "380\n",
      "downloading: 9Ysi_v4s7_lg as 380\n"
     ]
    },
    {
     "name": "stdout",
     "output_type": "stream",
     "text": [
      "Error while downloading.\n",
      "382\n",
      "383\n",
      "384\n",
      "385\n",
      "386\n",
      "387\n",
      "388\n",
      "389\n",
      "390\n",
      "391\n",
      "392\n",
      "393\n",
      "394\n",
      "395\n",
      "396\n",
      "397\n",
      "398\n",
      "399\n",
      "400\n",
      "401\n",
      "402\n",
      "403\n",
      "404\n",
      "405\n",
      "406\n",
      "407\n",
      "408\n",
      "409\n",
      "410\n",
      "411\n",
      "downloading: 12elIlg42aP7k as 411\n"
     ]
    },
    {
     "name": "stdout",
     "output_type": "stream",
     "text": [
      "Error while downloading.\n",
      "413\n",
      "414\n",
      "415\n",
      "416\n",
      "417\n",
      "418\n",
      "419\n",
      "420\n",
      "421\n",
      "422\n",
      "423\n",
      "424\n",
      "425\n",
      "426\n",
      "427\n",
      "428\n",
      "429\n",
      "430\n",
      "431\n",
      "432\n",
      "433\n",
      "434\n",
      "435\n",
      "436\n",
      "437\n",
      "downloading: 9V-TelMHp5WE as 437\n",
      "Error while downloading.\n",
      "439\n"
     ]
    },
    {
     "name": "stdout",
     "output_type": "stream",
     "text": [
      "440\n",
      "441\n",
      "442\n",
      "443\n",
      "444\n",
      "downloading: 5moWnbVjV9z4 as 444\n",
      "Error while downloading.\n",
      "downloading: 5Ub3dvnpcxA4 as 445\n"
     ]
    },
    {
     "name": "stdout",
     "output_type": "stream",
     "text": [
      "Error while downloading.\n",
      "447\n",
      "448\n",
      "449\n",
      "downloading: 9OwOUa3vRWDo as 449\n",
      "Error while downloading.\n",
      "451\n",
      "452\n",
      "453\n",
      "454\n",
      "455\n",
      "456\n",
      "457\n",
      "458\n",
      "459\n",
      "460\n",
      "461\n",
      "462\n",
      "463\n",
      "downloading: 1q4Jk3SVV8tQ as 463\n"
     ]
    },
    {
     "name": "stdout",
     "output_type": "stream",
     "text": [
      "Error while downloading.\n",
      "465\n",
      "466\n",
      "467\n",
      "468\n",
      "469\n",
      "470\n",
      "471\n",
      "472\n",
      "downloading: 9lGJRykTQYFM as 472\n",
      "Error while downloading.\n",
      "474\n",
      "475\n",
      "476\n",
      "477\n",
      "478\n",
      "479\n",
      "480\n",
      "481\n",
      "482\n",
      "483\n",
      "484\n",
      "485\n",
      "486\n",
      "487\n",
      "488\n",
      "489\n",
      "490\n",
      "491\n",
      "492\n",
      "493\n",
      "494\n",
      "495\n"
     ]
    },
    {
     "name": "stdout",
     "output_type": "stream",
     "text": [
      "496\n",
      "497\n",
      "498\n",
      "499\n",
      "500\n",
      "501\n",
      "502\n",
      "503\n",
      "504\n",
      "505\n",
      "506\n",
      "507\n",
      "508\n",
      "509\n",
      "510\n",
      "511\n",
      "512\n",
      "513\n",
      "514\n",
      "515\n",
      "516\n",
      "517\n",
      "518\n",
      "519\n",
      "520\n",
      "521\n",
      "522\n",
      "523\n",
      "524\n",
      "525\n",
      "downloading: 9hsp7HL8pXuo as 525\n"
     ]
    },
    {
     "name": "stdout",
     "output_type": "stream",
     "text": [
      "Error while downloading.\n",
      "downloading: 9uxqDAWKnWe8 as 526\n",
      "Error while downloading.\n",
      "528\n",
      "529\n",
      "530\n",
      "531\n",
      "532\n",
      "downloading: 1012Tl43T49P0 as 532\n"
     ]
    },
    {
     "name": "stdout",
     "output_type": "stream",
     "text": [
      "Error while downloading.\n",
      "534\n",
      "535\n",
      "536\n",
      "537\n",
      "538\n",
      "539\n",
      "540\n",
      "541\n",
      "542\n",
      "543\n",
      "544\n",
      "545\n",
      "546\n",
      "547\n",
      "548\n",
      "549\n",
      "550\n",
      "551\n",
      "552\n",
      "553\n",
      "554\n",
      "555\n",
      "556\n",
      "557\n",
      "558\n",
      "559\n",
      "560\n",
      "561\n",
      "562\n",
      "563\n",
      "564\n",
      "565\n",
      "566\n",
      "567\n",
      "568\n",
      "569\n",
      "570\n",
      "571\n",
      "572\n",
      "573\n",
      "574\n",
      "575\n",
      "576\n",
      "577\n",
      "578\n",
      "579\n",
      "580\n",
      "581\n",
      "582\n",
      "583\n",
      "584\n",
      "585\n",
      "586\n",
      "587\n",
      "588\n",
      "589\n",
      "downloading: 7KLTQ1QceXIs as 589\n",
      "Error while downloading.\n",
      "downloading: 4ZEHh-SJIkkk as 590\n"
     ]
    },
    {
     "name": "stdout",
     "output_type": "stream",
     "text": [
      "Error while downloading.\n",
      "592\n",
      "593\n",
      "594\n",
      "595\n",
      "596\n",
      "597\n",
      "downloading: 4BnPeIY8kSeg as 597\n"
     ]
    },
    {
     "name": "stdout",
     "output_type": "stream",
     "text": [
      "Error while downloading.\n",
      "downloading: 43qisoXs6nFk as 598\n",
      "Error while downloading.\n",
      "600\n",
      "601\n",
      "602\n",
      "603\n",
      "604\n",
      "605\n",
      "606\n",
      "607\n",
      "downloading: 113C1PL2j-wc as 607\n"
     ]
    },
    {
     "name": "stdout",
     "output_type": "stream",
     "text": [
      "Error while downloading.\n",
      "609\n",
      "610\n",
      "downloading: 105UN2ezO6iow as 610\n",
      "Error while downloading.\n",
      "612\n",
      "613\n",
      "614\n",
      "615\n",
      "616\n",
      "617\n",
      "618\n",
      "619\n",
      "620\n",
      "621\n"
     ]
    },
    {
     "name": "stdout",
     "output_type": "stream",
     "text": [
      "622\n",
      "623\n",
      "624\n",
      "625\n",
      "626\n",
      "627\n",
      "628\n",
      "629\n",
      "630\n",
      "631\n",
      "632\n",
      "633\n",
      "634\n",
      "635\n",
      "636\n",
      "637\n",
      "638\n",
      "639\n",
      "640\n",
      "641\n",
      "642\n",
      "643\n",
      "644\n",
      "645\n",
      "646\n",
      "647\n",
      "648\n",
      "649\n",
      "650\n",
      "651\n",
      "652\n",
      "653\n",
      "654\n",
      "655\n",
      "downloading: 7Kf7cbzZFd24 as 655\n"
     ]
    },
    {
     "name": "stdout",
     "output_type": "stream",
     "text": [
      "Error while downloading.\n",
      "657\n",
      "658\n",
      "659\n",
      "660\n",
      "661\n",
      "662\n",
      "663\n",
      "664\n",
      "665\n",
      "666\n",
      "667\n",
      "668\n",
      "669\n",
      "670\n"
     ]
    },
    {
     "name": "stdout",
     "output_type": "stream",
     "text": [
      "671\n",
      "672\n",
      "downloading: 10vGHIHLYMHW8 as 672\n",
      "Error while downloading.\n",
      "674\n",
      "675\n",
      "676\n",
      "677\n",
      "678\n",
      "downloading: 6YyaTNzZ9LpQ as 678\n"
     ]
    },
    {
     "name": "stdout",
     "output_type": "stream",
     "text": [
      "Error while downloading.\n",
      "680\n",
      "681\n",
      "682\n",
      "683\n",
      "684\n",
      "685\n",
      "686\n",
      "687\n",
      "688\n",
      "689\n",
      "690\n",
      "691\n",
      "692\n",
      "693\n",
      "694\n",
      "695\n",
      "696\n",
      "697\n",
      "698\n",
      "699\n",
      "700\n",
      "701\n",
      "702\n",
      "703\n",
      "704\n",
      "705\n",
      "706\n",
      "707\n",
      "708\n",
      "709\n",
      "710\n",
      "711\n",
      "712\n",
      "713\n",
      "714\n",
      "715\n",
      "716\n",
      "717\n",
      "718\n",
      "719\n",
      "720\n",
      "721\n",
      "722\n",
      "723\n",
      "724\n",
      "725\n",
      "726\n",
      "727\n",
      "728\n",
      "729\n",
      "730\n",
      "731\n",
      "732\n",
      "733\n",
      "734\n",
      "735\n",
      "736\n",
      "737\n",
      "738\n",
      "739\n",
      "740\n",
      "741\n",
      "742\n",
      "743\n",
      "744\n",
      "745\n",
      "746\n",
      "747\n",
      "748\n",
      "749\n",
      "750\n",
      "751\n",
      "752\n",
      "753\n",
      "754\n",
      "755\n",
      "756\n",
      "757\n",
      "758\n",
      "759\n",
      "760\n",
      "761\n",
      "762\n",
      "763\n",
      "764\n",
      "downloading: 1uMHE9vJH6Xo as 764\n"
     ]
    },
    {
     "name": "stdout",
     "output_type": "stream",
     "text": [
      "Error while downloading.\n",
      "downloading: 4hIcs5RI_ngU as 765\n",
      "Error while downloading.\n",
      "767\n",
      "768\n",
      "769\n",
      "770\n",
      "771\n",
      "772\n"
     ]
    },
    {
     "name": "stdout",
     "output_type": "stream",
     "text": [
      "773\n",
      "774\n",
      "775\n",
      "downloading: 5ny-q9YAYqSU as 775\n",
      "Error while downloading.\n",
      "777\n",
      "778\n",
      "779\n",
      "780\n",
      "781\n",
      "782\n",
      "783\n",
      "784\n",
      "785\n",
      "786\n",
      "787\n",
      "788\n",
      "789\n",
      "downloading: 4za0fHEmGUIY as 789\n"
     ]
    },
    {
     "name": "stdout",
     "output_type": "stream",
     "text": [
      "Error while downloading.\n",
      "downloading: 9wze4HaKc-C4 as 790\n",
      "Error while downloading.\n",
      "downloading: 9_oZTGdrmAIg as 791\n"
     ]
    },
    {
     "name": "stdout",
     "output_type": "stream",
     "text": [
      "Error while downloading.\n",
      "793\n",
      "794\n",
      "795\n",
      "796\n",
      "797\n",
      "798\n",
      "downloading: 7vhMCBMYEhGw as 798\n",
      "Error while downloading.\n",
      "800\n",
      "801\n",
      "802\n",
      "803\n",
      "804\n",
      "805\n",
      "806\n",
      "807\n"
     ]
    },
    {
     "name": "stdout",
     "output_type": "stream",
     "text": [
      "808\n",
      "downloading: 46a4jIpjwLhg as 808\n",
      "Error while downloading.\n",
      "downloading: 4R7JBWZYR1nM as 809\n"
     ]
    },
    {
     "name": "stdout",
     "output_type": "stream",
     "text": [
      "Error while downloading.\n",
      "downloading: 4ZxKtSkaa48w as 810\n",
      "Error while downloading.\n",
      "downloading: 4BnP0SDI1McU as 811\n"
     ]
    },
    {
     "name": "stdout",
     "output_type": "stream",
     "text": [
      "Error while downloading.\n",
      "downloading: 4Rfsq49KVdtA as 812\n",
      "Error while downloading.\n",
      "downloading: 4MnmG_Pu5wME as 813\n"
     ]
    },
    {
     "name": "stdout",
     "output_type": "stream",
     "text": [
      "Error while downloading.\n",
      "downloading: 4K4XNANOrmfE as 814\n",
      "Error while downloading.\n",
      "downloading: 4LUqXwIypJqk as 815\n"
     ]
    },
    {
     "name": "stdout",
     "output_type": "stream",
     "text": [
      "Error while downloading.\n",
      "downloading: 4IwnjH-aw_70 as 816\n",
      "Error while downloading.\n",
      "downloading: 4LMnXlFVJbnM as 817\n"
     ]
    },
    {
     "name": "stdout",
     "output_type": "stream",
     "text": [
      "Error while downloading.\n",
      "downloading: 4zFot0ZM_Q9s as 818\n",
      "Error while downloading.\n",
      "downloading: 400VarNZPsK0 as 819\n"
     ]
    },
    {
     "name": "stdout",
     "output_type": "stream",
     "text": [
      "Error while downloading.\n",
      "downloading: 4sBA7jw-tWvA as 820\n",
      "Error while downloading.\n",
      "downloading: 4wzoIqPQ6T7o as 821\n"
     ]
    },
    {
     "name": "stdout",
     "output_type": "stream",
     "text": [
      "Error while downloading.\n",
      "downloading: 4GjMkiRTBSxs as 822\n",
      "Error while downloading.\n",
      "downloading: 4RYRILgW2Ek8 as 823\n"
     ]
    },
    {
     "name": "stdout",
     "output_type": "stream",
     "text": [
      "Error while downloading.\n",
      "downloading: 4X-4jgmu3iKQ as 824\n",
      "Error while downloading.\n",
      "downloading: 4sOFf1BDT1n8 as 825\n"
     ]
    },
    {
     "name": "stdout",
     "output_type": "stream",
     "text": [
      "Error while downloading.\n",
      "downloading: 4Jh3eayf7LRQ as 826\n",
      "Error while downloading.\n",
      "downloading: 4FMMx0dLfAHQ as 827\n"
     ]
    },
    {
     "name": "stdout",
     "output_type": "stream",
     "text": [
      "Error while downloading.\n",
      "downloading: 48wGfsPo5D68 as 828\n",
      "Error while downloading.\n",
      "downloading: 4JBIWYiNNjAs as 829\n"
     ]
    },
    {
     "name": "stdout",
     "output_type": "stream",
     "text": [
      "Error while downloading.\n",
      "downloading: 48ohx7vueHoI as 830\n",
      "Error while downloading.\n",
      "downloading: 4eSqgY-1T3-c as 831\n"
     ]
    },
    {
     "name": "stdout",
     "output_type": "stream",
     "text": [
      "Error while downloading.\n",
      "downloading: 4JG7CrNTX3Dk as 832\n",
      "Error while downloading.\n",
      "downloading: 4KGCysfCjZ5E as 833\n"
     ]
    },
    {
     "name": "stdout",
     "output_type": "stream",
     "text": [
      "Error while downloading.\n",
      "downloading: 9twIgMebp5yc as 834\n",
      "Error while downloading.\n",
      "836\n",
      "downloading: 4UVpRbCc2580 as 836\n"
     ]
    },
    {
     "name": "stdout",
     "output_type": "stream",
     "text": [
      "Error while downloading.\n",
      "838\n",
      "839\n",
      "840\n",
      "841\n",
      "842\n",
      "843\n",
      "downloading: 4Std0_MhTQtE as 843\n",
      "Error while downloading.\n",
      "downloading: 4GhNSamTXjQ0 as 844\n"
     ]
    },
    {
     "name": "stdout",
     "output_type": "stream",
     "text": [
      "Error while downloading.\n",
      "downloading: 4F5Zg_CFOFeU as 845\n",
      "Error while downloading.\n",
      "downloading: 4o8rQHX_RW2M as 846\n"
     ]
    },
    {
     "name": "stdout",
     "output_type": "stream",
     "text": [
      "Error while downloading.\n",
      "downloading: 4TdDeN6zEwYs as 847\n",
      "Error while downloading.\n",
      "downloading: 4Gt5vQyWfKWE as 848\n"
     ]
    },
    {
     "name": "stdout",
     "output_type": "stream",
     "text": [
      "Error while downloading.\n",
      "850\n",
      "851\n",
      "852\n",
      "853\n",
      "854\n",
      "855\n",
      "856\n",
      "downloading: 4-0j3_71bkjI as 856\n",
      "Error while downloading.\n",
      "858\n",
      "859\n",
      "downloading: 4w76D78sMLmk as 859\n"
     ]
    },
    {
     "name": "stdout",
     "output_type": "stream",
     "text": [
      "Error while downloading.\n",
      "downloading: 4rA3iw9fRQCg as 860\n",
      "Error while downloading.\n",
      "downloading: 4OohdE_6bT50 as 861\n"
     ]
    },
    {
     "name": "stdout",
     "output_type": "stream",
     "text": [
      "Error while downloading.\n",
      "downloading: 47bCGx2kYvwY as 862\n",
      "Error while downloading.\n",
      "864\n",
      "865\n",
      "866\n",
      "downloading: 44x1rVRLWQ0o as 866\n"
     ]
    },
    {
     "name": "stdout",
     "output_type": "stream",
     "text": [
      "Error while downloading.\n",
      "868\n",
      "downloading: 4dh3kJTBwb-c as 868\n",
      "Error while downloading.\n",
      "870\n",
      "871\n",
      "872\n",
      "downloading: 4Y9LXNgsJv1k as 872\n"
     ]
    },
    {
     "name": "stdout",
     "output_type": "stream",
     "text": [
      "Error while downloading.\n",
      "downloading: 48YrYyuLxrpg as 873\n",
      "Error while downloading.\n",
      "downloading: 4p6iN1e0IJiE as 874\n"
     ]
    },
    {
     "name": "stdout",
     "output_type": "stream",
     "text": [
      "Error while downloading.\n",
      "downloading: 4qqgUw4VC4LE as 875\n",
      "Error while downloading.\n",
      "downloading: 4Spg1We1NxTU as 876\n"
     ]
    },
    {
     "name": "stdout",
     "output_type": "stream",
     "text": [
      "Error while downloading.\n",
      "downloading: 4iwAPB8PNj9c as 877\n",
      "Error while downloading.\n",
      "downloading: 42lznsGzIANg as 878\n"
     ]
    },
    {
     "name": "stdout",
     "output_type": "stream",
     "text": [
      "Error while downloading.\n",
      "downloading: 41w9fu3A-xyc as 879\n",
      "Error while downloading.\n",
      "downloading: 4Qvi7Rjvl7Ug as 880\n"
     ]
    },
    {
     "name": "stdout",
     "output_type": "stream",
     "text": [
      "Error while downloading.\n",
      "downloading: 4dy13wnU5rC4 as 881\n",
      "Error while downloading.\n",
      "downloading: 4DIc-MndVa7c as 882\n"
     ]
    },
    {
     "name": "stdout",
     "output_type": "stream",
     "text": [
      "Error while downloading.\n",
      "downloading: 4XPTQiW1uyeo as 883\n",
      "Error while downloading.\n",
      "downloading: 4bgvuvRjxFX8 as 884\n"
     ]
    },
    {
     "name": "stdout",
     "output_type": "stream",
     "text": [
      "Error while downloading.\n",
      "downloading: 4d6qAgdJzKPQ as 885\n",
      "Error while downloading.\n",
      "downloading: 4z1Lc8bHYxOo as 886\n"
     ]
    },
    {
     "name": "stdout",
     "output_type": "stream",
     "text": [
      "Error while downloading.\n",
      "downloading: 4w9a-17-ddrA as 887\n",
      "Error while downloading.\n",
      "889\n",
      "890\n",
      "891\n",
      "892\n",
      "893\n",
      "894\n",
      "downloading: 4Gr-PJ96csak as 894\n"
     ]
    },
    {
     "name": "stdout",
     "output_type": "stream",
     "text": [
      "Error while downloading.\n",
      "896\n",
      "downloading: 4WdrY-i0IXcg as 896\n",
      "Error while downloading.\n",
      "downloading: 45y3lyjiTTwE as 897\n"
     ]
    },
    {
     "name": "stdout",
     "output_type": "stream",
     "text": [
      "Error while downloading.\n",
      "downloading: 4IxPUlxZWRJs as 898\n",
      "Error while downloading.\n",
      "downloading: 4z73XlZ0IIoE as 899\n"
     ]
    },
    {
     "name": "stdout",
     "output_type": "stream",
     "text": [
      "Error while downloading.\n",
      "downloading: 4NwhlRxGpCCs as 900\n",
      "Error while downloading.\n",
      "downloading: 4yKGB54QjEYg as 901\n"
     ]
    },
    {
     "name": "stdout",
     "output_type": "stream",
     "text": [
      "Error while downloading.\n",
      "downloading: 4OOBj4sYAUkE as 902\n",
      "Error while downloading.\n",
      "downloading: 4H7HV3vDNIyg as 903\n"
     ]
    },
    {
     "name": "stdout",
     "output_type": "stream",
     "text": [
      "Error while downloading.\n",
      "downloading: 4r8BlMzPjeD8 as 904\n",
      "Error while downloading.\n",
      "downloading: 4pODJxENZIgw as 905\n"
     ]
    },
    {
     "name": "stdout",
     "output_type": "stream",
     "text": [
      "Error while downloading.\n",
      "downloading: 4xzPoaJTcEu8 as 906\n",
      "Error while downloading.\n",
      "downloading: 4RSnef8WDwoY as 907\n"
     ]
    },
    {
     "name": "stdout",
     "output_type": "stream",
     "text": [
      "Error while downloading.\n",
      "downloading: 4jP4mqw7xaf4 as 908\n",
      "Error while downloading.\n",
      "downloading: 474KvGTXSZJE as 909\n"
     ]
    },
    {
     "name": "stdout",
     "output_type": "stream",
     "text": [
      "Error while downloading.\n",
      "downloading: 4Cqe8nvAmaB4 as 910\n",
      "Error while downloading.\n",
      "downloading: 4kXTQLupC0hg as 911\n"
     ]
    },
    {
     "name": "stdout",
     "output_type": "stream",
     "text": [
      "Error while downloading.\n",
      "downloading: 4Lq554UQq-p8 as 912\n",
      "Error while downloading.\n",
      "downloading: 4VpqTMCagZn8 as 913\n"
     ]
    },
    {
     "name": "stdout",
     "output_type": "stream",
     "text": [
      "Error while downloading.\n",
      "downloading: 4l7vRzpu6svA as 914\n",
      "Error while downloading.\n",
      "downloading: 4u_IzxFxdW-4 as 915\n"
     ]
    },
    {
     "name": "stdout",
     "output_type": "stream",
     "text": [
      "Error while downloading.\n",
      "downloading: 4pdJlzqHuWJo as 916\n",
      "Error while downloading.\n",
      "downloading: 4L9cKkMa5CCw as 917\n"
     ]
    },
    {
     "name": "stdout",
     "output_type": "stream",
     "text": [
      "Error while downloading.\n",
      "downloading: 4banacxTY3Jo as 918\n",
      "Error while downloading.\n",
      "downloading: 4L7gfmmaX1uA as 919\n"
     ]
    },
    {
     "name": "stdout",
     "output_type": "stream",
     "text": [
      "Error while downloading.\n",
      "downloading: 4eo4dCEGVI0Y as 920\n",
      "Error while downloading.\n",
      "downloading: 4wJxs4rcG-T0 as 921\n"
     ]
    },
    {
     "name": "stdout",
     "output_type": "stream",
     "text": [
      "Error while downloading.\n",
      "downloading: 4euuUlfbnIwY as 922\n",
      "Error while downloading.\n",
      "downloading: 4RgN8X83RR4s as 923\n"
     ]
    },
    {
     "name": "stdout",
     "output_type": "stream",
     "text": [
      "Error while downloading.\n",
      "downloading: 42Yvxix8xYzs as 924\n",
      "Error while downloading.\n",
      "downloading: 4_ZfTwEyIOB0 as 925\n"
     ]
    },
    {
     "name": "stdout",
     "output_type": "stream",
     "text": [
      "Error while downloading.\n",
      "downloading: 4B9efI_Txay8 as 926\n",
      "Error while downloading.\n",
      "downloading: 4Tya_S1j0qlM as 927\n"
     ]
    },
    {
     "name": "stdout",
     "output_type": "stream",
     "text": [
      "Error while downloading.\n",
      "downloading: 4Wol3kKYUklA as 928\n",
      "Error while downloading.\n",
      "downloading: 4zT8urXJpKJM as 929\n"
     ]
    },
    {
     "name": "stdout",
     "output_type": "stream",
     "text": [
      "Error while downloading.\n",
      "downloading: 4XsiUDr_1BQs as 930\n",
      "Error while downloading.\n",
      "downloading: 4zhzbErXem9I as 931\n"
     ]
    },
    {
     "name": "stdout",
     "output_type": "stream",
     "text": [
      "Error while downloading.\n",
      "downloading: 4DdRLkmWw1H8 as 932\n",
      "Error while downloading.\n",
      "downloading: 4-Ox7gw_ptxA as 933\n"
     ]
    },
    {
     "name": "stdout",
     "output_type": "stream",
     "text": [
      "Error while downloading.\n",
      "downloading: 4hJn_nWvfjX0 as 934\n",
      "Error while downloading.\n",
      "downloading: 4jwD2KHVHT2Q as 935\n"
     ]
    },
    {
     "name": "stdout",
     "output_type": "stream",
     "text": [
      "Error while downloading.\n",
      "downloading: 4behE0mNaFFM as 936\n",
      "Error while downloading.\n",
      "downloading: 42QcB6Ycr7WM as 937\n"
     ]
    },
    {
     "name": "stdout",
     "output_type": "stream",
     "text": [
      "Error while downloading.\n",
      "downloading: 42OcbjBN4e4I as 938\n",
      "Error while downloading.\n",
      "downloading: 4XP1e17uH_Uw as 939\n"
     ]
    },
    {
     "name": "stdout",
     "output_type": "stream",
     "text": [
      "Error while downloading.\n",
      "downloading: 4YgJwQ5dG-dI as 940\n",
      "Error while downloading.\n",
      "downloading: 4bxprsCusPLE as 941\n"
     ]
    },
    {
     "name": "stdout",
     "output_type": "stream",
     "text": [
      "Error while downloading.\n",
      "downloading: 4ewJ4vxUpphg as 942\n",
      "Error while downloading.\n",
      "downloading: 4r5n7l1jD4Ow as 943\n"
     ]
    },
    {
     "name": "stdout",
     "output_type": "stream",
     "text": [
      "Error while downloading.\n",
      "downloading: 4bi4ZUuisjqA as 944\n",
      "Error while downloading.\n",
      "downloading: 4m5qX4XOP8Ug as 945\n"
     ]
    },
    {
     "name": "stdout",
     "output_type": "stream",
     "text": [
      "Error while downloading.\n",
      "downloading: 4piX2GcE_3Ew as 946\n",
      "Error while downloading.\n",
      "downloading: 4_zs_VEFMGdw as 947\n"
     ]
    },
    {
     "name": "stdout",
     "output_type": "stream",
     "text": [
      "Error while downloading.\n",
      "downloading: 4F8V1pn_4Fz0 as 948\n",
      "Error while downloading.\n",
      "downloading: 4u2AB0ez9GGg as 949\n"
     ]
    },
    {
     "name": "stdout",
     "output_type": "stream",
     "text": [
      "Error while downloading.\n",
      "downloading: 4wFMnDexKjZ0 as 950\n",
      "Error while downloading.\n",
      "downloading: 4rIydjASQHKg as 951\n"
     ]
    },
    {
     "name": "stdout",
     "output_type": "stream",
     "text": [
      "Error while downloading.\n",
      "downloading: 42E9WE7QHKT0 as 952\n",
      "Error while downloading.\n",
      "downloading: 47qD-2Da-oPk as 953\n"
     ]
    },
    {
     "name": "stdout",
     "output_type": "stream",
     "text": [
      "Error while downloading.\n",
      "downloading: 4k6590m0Mclk as 954\n",
      "Error while downloading.\n",
      "downloading: 4JApYAeo1q2k as 955\n"
     ]
    },
    {
     "name": "stdout",
     "output_type": "stream",
     "text": [
      "Error while downloading.\n",
      "downloading: 4cWUn7IeUdG0 as 956\n",
      "Error while downloading.\n",
      "downloading: 4gqwLIn8y7zY as 957\n"
     ]
    },
    {
     "name": "stdout",
     "output_type": "stream",
     "text": [
      "Error while downloading.\n",
      "downloading: 4XSEMtcsFwhQ as 958\n",
      "Error while downloading.\n",
      "downloading: 4_a5KK4sohy8 as 959\n"
     ]
    },
    {
     "name": "stdout",
     "output_type": "stream",
     "text": [
      "Error while downloading.\n",
      "961\n",
      "962\n",
      "963\n",
      "964\n",
      "965\n",
      "downloading: 3wcJfpmhgh4Q as 965\n",
      "Error while downloading.\n",
      "967\n",
      "968\n",
      "969\n",
      "970\n",
      "971\n",
      "972\n",
      "973\n",
      "974\n",
      "975\n",
      "976\n",
      "977\n",
      "978\n",
      "979\n",
      "980\n",
      "981\n",
      "982\n",
      "983\n",
      "984\n",
      "985\n",
      "986\n",
      "987\n",
      "988\n",
      "989\n",
      "990\n",
      "991\n",
      "992\n",
      "993\n",
      "994\n",
      "995\n",
      "996\n"
     ]
    },
    {
     "name": "stdout",
     "output_type": "stream",
     "text": [
      "997\n",
      "998\n",
      "999\n",
      "1000\n",
      "downloading: 4lxVqa1x2WXU as 1000\n"
     ]
    },
    {
     "name": "stdout",
     "output_type": "stream",
     "text": [
      "Error while downloading.\n",
      "downloading: 4isx-OXJvm0g as 1001\n",
      "Error while downloading.\n",
      "1003\n",
      "downloading: 84M2QkfTr7PU as 1003\n"
     ]
    },
    {
     "name": "stdout",
     "output_type": "stream",
     "text": [
      "Error while downloading.\n",
      "downloading: 53eO9E9fU6ik as 1004\n",
      "Error while downloading.\n",
      "1006\n",
      "1007\n",
      "1008\n",
      "1009\n",
      "1010\n",
      "1011\n",
      "1012\n"
     ]
    },
    {
     "name": "stdout",
     "output_type": "stream",
     "text": [
      "1013\n",
      "downloading: 61LjRxBXTaWM as 1013\n",
      "Error while downloading.\n",
      "1015\n",
      "1016\n",
      "1017\n",
      "1018\n"
     ]
    },
    {
     "name": "stdout",
     "output_type": "stream",
     "text": [
      "1019\n",
      "1020\n",
      "1021\n",
      "1022\n",
      "1023\n",
      "1024\n",
      "1025\n",
      "1026\n",
      "1027\n",
      "1028\n",
      "1029\n",
      "1030\n",
      "1031\n",
      "1032\n",
      "1033\n",
      "1034\n",
      "1035\n",
      "1036\n",
      "1037\n",
      "downloading: 9iP6BvNJCizs as 1037\n"
     ]
    },
    {
     "name": "stdout",
     "output_type": "stream",
     "text": [
      "Error while downloading.\n",
      "1039\n",
      "downloading: 4e1jkgjLxl3g as 1039\n",
      "Error while downloading.\n",
      "1041\n",
      "1042\n",
      "1043\n",
      "downloading: 6MoY3Fvss_b8 as 1043\n"
     ]
    },
    {
     "name": "stdout",
     "output_type": "stream",
     "text": [
      "Error while downloading.\n",
      "1045\n",
      "1046\n",
      "1047\n",
      "1048\n",
      "1049\n",
      "1050\n",
      "1051\n",
      "1052\n",
      "1053\n",
      "1054\n",
      "1055\n",
      "1056\n",
      "1057\n",
      "1058\n",
      "1059\n",
      "downloading: 8izQFJ3VsDp8 as 1059\n",
      "Error while downloading.\n",
      "1061\n",
      "1062\n",
      "1063\n",
      "1064\n",
      "1065\n",
      "1066\n",
      "1067\n",
      "1068\n",
      "1069\n",
      "downloading: 66xEM-y_1UE4 as 1069\n"
     ]
    },
    {
     "name": "stdout",
     "output_type": "stream",
     "text": [
      "Error while downloading.\n",
      "downloading: 61fD1eOucuGU as 1070\n",
      "Error while downloading.\n",
      "1072\n",
      "1073\n",
      "1074\n",
      "1075\n",
      "1076\n",
      "1077\n",
      "1078\n",
      "1079\n",
      "1080\n",
      "1081\n",
      "1082\n",
      "1083\n"
     ]
    },
    {
     "name": "stdout",
     "output_type": "stream",
     "text": [
      "1084\n",
      "1085\n",
      "1086\n",
      "1087\n",
      "1088\n",
      "1089\n",
      "1090\n",
      "1091\n",
      "1092\n",
      "1093\n",
      "1094\n",
      "1095\n",
      "1096\n",
      "1097\n",
      "1098\n",
      "downloading: 719qPabpZask as 1098\n"
     ]
    },
    {
     "name": "stdout",
     "output_type": "stream",
     "text": [
      "Error while downloading.\n",
      "1100\n",
      "1101\n",
      "downloading: 77IdyU6VnuPo as 1101\n"
     ]
    },
    {
     "name": "stdout",
     "output_type": "stream",
     "text": [
      "Error while downloading.\n",
      "1103\n",
      "1104\n",
      "1105\n",
      "1106\n",
      "1107\n",
      "1108\n",
      "1109\n",
      "1110\n",
      "1111\n",
      "1112\n",
      "1113\n",
      "1114\n",
      "1115\n",
      "1116\n",
      "1117\n",
      "downloading: 6Z3DcqykFJXE as 1117\n"
     ]
    },
    {
     "name": "stdout",
     "output_type": "stream",
     "text": [
      "Error while downloading.\n",
      "downloading: 6zn_mNDUPCAk as 1118\n",
      "Error while downloading.\n"
     ]
    },
    {
     "name": "stdout",
     "output_type": "stream",
     "text": [
      "1120\n",
      "1121\n",
      "downloading: 5NYANdnY9EHU as 1121\n",
      "Error while downloading.\n",
      "1123\n",
      "1124\n",
      "1125\n",
      "1126\n",
      "1127\n"
     ]
    },
    {
     "name": "stdout",
     "output_type": "stream",
     "text": [
      "1128\n",
      "1129\n",
      "downloading: 4fTcMTQfXspI as 1129\n",
      "Error while downloading.\n",
      "downloading: 4rDF_ROkW7B8 as 1130\n"
     ]
    },
    {
     "name": "stdout",
     "output_type": "stream",
     "text": [
      "Error while downloading.\n",
      "1132\n",
      "1133\n",
      "1134\n",
      "1135\n",
      "1136\n",
      "1137\n",
      "1138\n",
      "1139\n",
      "1140\n",
      "1141\n",
      "1142\n",
      "1143\n"
     ]
    },
    {
     "name": "stdout",
     "output_type": "stream",
     "text": [
      "1144\n",
      "downloading: 3IHiPjRdv-V8 as 1144\n",
      "Error while downloading.\n",
      "downloading: 3qZkXo3e91PA as 1145\n"
     ]
    },
    {
     "name": "stdout",
     "output_type": "stream",
     "text": [
      "Error while downloading.\n",
      "1147\n",
      "1148\n",
      "1149\n",
      "1150\n",
      "1151\n",
      "1152\n",
      "1153\n",
      "1154\n",
      "1155\n",
      "1156\n",
      "1157\n",
      "1158\n",
      "1159\n",
      "downloading: 6xYSJ2bIXiCo as 1159\n"
     ]
    },
    {
     "name": "stdout",
     "output_type": "stream",
     "text": [
      "Error while downloading.\n",
      "downloading: 6p-XZ4ufnnyI as 1160\n",
      "Error while downloading.\n"
     ]
    },
    {
     "name": "stdout",
     "output_type": "stream",
     "text": [
      "1162\n",
      "1163\n",
      "1164\n",
      "1165\n",
      "1166\n",
      "1167\n",
      "1168\n",
      "1169\n",
      "1170\n",
      "1171\n",
      "1172\n",
      "1173\n",
      "1174\n",
      "1175\n",
      "1176\n",
      "downloading: 7NtV0QUjcRnE as 1176\n",
      "Error while downloading.\n",
      "1178\n",
      "1179\n",
      "downloading: 4ezz1mTseS6U as 1179\n"
     ]
    },
    {
     "name": "stdout",
     "output_type": "stream",
     "text": [
      "Error while downloading.\n",
      "1181\n",
      "1182\n",
      "1183\n",
      "1184\n",
      "1185\n",
      "1186\n",
      "1187\n",
      "1188\n",
      "1189\n",
      "1190\n",
      "1191\n",
      "1192\n",
      "1193\n",
      "1194\n",
      "1195\n",
      "1196\n",
      "1197\n",
      "downloading: 4vl3Ui5W0mRo as 1197\n"
     ]
    },
    {
     "name": "stdout",
     "output_type": "stream",
     "text": [
      "Error while downloading.\n",
      "1199\n",
      "1200\n",
      "1201\n",
      "1202\n",
      "1203\n",
      "1204\n",
      "1205\n",
      "1206\n",
      "1207\n",
      "1208\n",
      "1209\n",
      "1210\n",
      "1211\n",
      "1212\n",
      "1213\n",
      "1214\n",
      "1215\n",
      "1216\n",
      "1217\n",
      "1218\n",
      "1219\n",
      "1220\n",
      "downloading: 8tn_FF0x6A7c as 1220\n"
     ]
    },
    {
     "name": "stdout",
     "output_type": "stream",
     "text": [
      "Error while downloading.\n",
      "1222\n",
      "1223\n",
      "1224\n",
      "1225\n",
      "downloading: 4KHqThq9FXz8 as 1225\n",
      "Error while downloading.\n",
      "downloading: 48FBWQz6adS4 as 1226\n"
     ]
    },
    {
     "name": "stdout",
     "output_type": "stream",
     "text": [
      "Error while downloading.\n",
      "1228\n",
      "1229\n",
      "1230\n",
      "1231\n",
      "1232\n",
      "1233\n",
      "1234\n",
      "1235\n",
      "1236\n",
      "1237\n",
      "1238\n",
      "1239\n",
      "1240\n",
      "1241\n",
      "1242\n",
      "1243\n",
      "1244\n"
     ]
    },
    {
     "name": "stdout",
     "output_type": "stream",
     "text": [
      "1245\n",
      "1246\n",
      "1247\n",
      "1248\n",
      "downloading: 4FvYqah08jHs as 1248\n",
      "Error while downloading.\n"
     ]
    },
    {
     "name": "stdout",
     "output_type": "stream",
     "text": [
      "1250\n",
      "1251\n",
      "1252\n",
      "1253\n",
      "1254\n",
      "1255\n",
      "1256\n",
      "1257\n",
      "1258\n",
      "1259\n",
      "1260\n",
      "1261\n",
      "1262\n",
      "1263\n",
      "1264\n",
      "1265\n",
      "1266\n",
      "1267\n",
      "1268\n",
      "1269\n",
      "1270\n",
      "1271\n",
      "1272\n",
      "1273\n",
      "1274\n",
      "1275\n",
      "1276\n",
      "downloading: 4MdFLPW2UO4w as 1276\n"
     ]
    },
    {
     "name": "stdout",
     "output_type": "stream",
     "text": [
      "Error while downloading.\n",
      "1278\n",
      "1279\n",
      "1280\n",
      "1281\n",
      "1282\n",
      "1283\n",
      "1284\n",
      "1285\n",
      "1286\n",
      "1287\n",
      "downloading: 4e4_ChX_-RAM as 1287\n"
     ]
    },
    {
     "name": "stdout",
     "output_type": "stream",
     "text": [
      "Error while downloading.\n",
      "downloading: 481TOFST4nD4 as 1288\n",
      "Error while downloading.\n",
      "downloading: 45YHjYqEYWqg as 1289\n"
     ]
    },
    {
     "name": "stdout",
     "output_type": "stream",
     "text": [
      "Error while downloading.\n",
      "downloading: 4XftbldQx1LA as 1290\n",
      "Error while downloading.\n",
      "downloading: 4VSOLZkDKSz8 as 1291\n"
     ]
    },
    {
     "name": "stdout",
     "output_type": "stream",
     "text": [
      "Error while downloading.\n",
      "downloading: 4pj6Q9uDcLZc as 1292\n",
      "Error while downloading.\n",
      "1294\n",
      "1295\n",
      "1296\n",
      "1297\n",
      "1298\n"
     ]
    },
    {
     "name": "stdout",
     "output_type": "stream",
     "text": [
      "1299\n",
      "1300\n",
      "1301\n",
      "1302\n",
      "1303\n",
      "1304\n",
      "1305\n",
      "1306\n",
      "1307\n",
      "1308\n",
      "1309\n",
      "1310\n",
      "1311\n",
      "1312\n",
      "1313\n",
      "1314\n",
      "1315\n",
      "1316\n",
      "1317\n",
      "1318\n",
      "1319\n",
      "1320\n",
      "1321\n",
      "1322\n",
      "1323\n"
     ]
    },
    {
     "name": "stdout",
     "output_type": "stream",
     "text": [
      "1324\n",
      "1325\n",
      "1326\n",
      "downloading: 11NfBNYu72Pj8 as 1326\n",
      "Error while downloading.\n",
      "1328\n",
      "1329\n",
      "1330\n",
      "1331\n"
     ]
    },
    {
     "name": "stdout",
     "output_type": "stream",
     "text": [
      "1332\n",
      "1333\n",
      "1334\n",
      "1335\n",
      "1336\n",
      "1337\n",
      "1338\n",
      "downloading: 10JFaw-RGwzko as 1338\n"
     ]
    },
    {
     "name": "stdout",
     "output_type": "stream",
     "text": [
      "Error while downloading.\n",
      "downloading: 72WIcANdWfAY as 1339\n",
      "Error while downloading.\n",
      "1341\n",
      "1342\n",
      "1343\n",
      "1344\n",
      "downloading: 32an6DizCQrk as 1344\n"
     ]
    },
    {
     "name": "stdout",
     "output_type": "stream",
     "text": [
      "Error while downloading.\n",
      "downloading: 3EysWGAX0VnY as 1345\n",
      "Error while downloading.\n",
      "1347\n",
      "1348\n",
      "1349\n",
      "1350\n"
     ]
    },
    {
     "name": "stdout",
     "output_type": "stream",
     "text": [
      "1351\n",
      "downloading: 3F8G70QLeyyE as 1351\n",
      "Error while downloading.\n",
      "1353\n",
      "1354\n",
      "1355\n",
      "downloading: 4JVOrqoMUQW0 as 1355\n"
     ]
    },
    {
     "name": "stdout",
     "output_type": "stream",
     "text": [
      "Error while downloading.\n",
      "1357\n",
      "1358\n",
      "1359\n",
      "1360\n",
      "1361\n",
      "1362\n",
      "1363\n",
      "1364\n",
      "1365\n",
      "1366\n",
      "1367\n",
      "downloading: 10YWEmu1TXJ2Y as 1367\n"
     ]
    },
    {
     "name": "stdout",
     "output_type": "stream",
     "text": [
      "Error while downloading.\n",
      "1369\n",
      "1370\n",
      "downloading: 116ypoOqkD7r4 as 1370\n"
     ]
    },
    {
     "name": "stdout",
     "output_type": "stream",
     "text": [
      "Error while downloading.\n",
      "1372\n",
      "1373\n",
      "downloading: 43bKGAcC0ui4 as 1373\n",
      "Error while downloading.\n",
      "downloading: 3zjWLhe-FiS4 as 1374\n"
     ]
    },
    {
     "name": "stdout",
     "output_type": "stream",
     "text": [
      "Error while downloading.\n",
      "1376\n",
      "1377\n",
      "1378\n",
      "1379\n",
      "1380\n",
      "1381\n",
      "1382\n",
      "1383\n",
      "downloading: 4ooVdXcKUv64 as 1383\n",
      "Error while downloading.\n"
     ]
    },
    {
     "name": "stdout",
     "output_type": "stream",
     "text": [
      "1385\n",
      "1386\n",
      "1387\n",
      "1388\n",
      "1389\n",
      "1390\n",
      "downloading: 4VnqLqWZs9AU as 1390\n",
      "Error while downloading.\n",
      "downloading: 4oMg1Lf5G8fc as 1391\n"
     ]
    },
    {
     "name": "stdout",
     "output_type": "stream",
     "text": [
      "Error while downloading.\n",
      "1393\n",
      "1394\n",
      "1395\n",
      "1396\n",
      "1397\n",
      "1398\n",
      "1399\n",
      "1400\n",
      "1401\n",
      "1402\n",
      "1403\n",
      "downloading: 9Veh2Ak7t1sQ as 1403\n"
     ]
    },
    {
     "name": "stdout",
     "output_type": "stream",
     "text": [
      "Error while downloading.\n",
      "1405\n",
      "1406\n",
      "1407\n",
      "1408\n",
      "1409\n",
      "1410\n",
      "1411\n",
      "1412\n",
      "1413\n",
      "downloading: 32oYf-GBECFE as 1413\n"
     ]
    },
    {
     "name": "stdout",
     "output_type": "stream",
     "text": [
      "Error while downloading.\n",
      "1415\n",
      "1416\n",
      "1417\n",
      "1418\n",
      "1419\n",
      "1420\n",
      "1421\n",
      "1422\n",
      "1423\n",
      "1424\n",
      "1425\n",
      "1426\n",
      "1427\n",
      "1428\n",
      "1429\n",
      "1430\n",
      "1431\n",
      "1432\n",
      "1433\n",
      "1434\n",
      "1435\n",
      "1436\n",
      "1437\n",
      "1438\n",
      "1439\n",
      "1440\n",
      "1441\n",
      "1442\n",
      "1443\n",
      "downloading: 8Pwz-dP6fgC8 as 1443\n"
     ]
    },
    {
     "name": "stdout",
     "output_type": "stream",
     "text": [
      "Error while downloading.\n",
      "1445\n",
      "1446\n",
      "1447\n",
      "1448\n",
      "1449\n",
      "1450\n",
      "1451\n",
      "1452\n",
      "1453\n",
      "1454\n",
      "1455\n",
      "1456\n",
      "1457\n",
      "1458\n",
      "downloading: 6W67yt6N9AKQ as 1458\n",
      "Error while downloading.\n",
      "1460\n"
     ]
    },
    {
     "name": "stdout",
     "output_type": "stream",
     "text": [
      "1461\n",
      "1462\n",
      "1463\n",
      "1464\n",
      "1465\n",
      "1466\n",
      "1467\n",
      "1468\n",
      "1469\n",
      "1470\n",
      "1471\n",
      "1472\n",
      "downloading: 6IApanMCslGM as 1472\n",
      "Error while downloading.\n",
      "downloading: 4g7Lh9_XcGPM as 1473\n"
     ]
    },
    {
     "name": "stdout",
     "output_type": "stream",
     "text": [
      "Error while downloading.\n",
      "1475\n",
      "1476\n",
      "1477\n",
      "1478\n",
      "1479\n",
      "downloading: 4vNDL3wYDu2k as 1479\n",
      "Error while downloading.\n"
     ]
    },
    {
     "name": "stdout",
     "output_type": "stream",
     "text": [
      "1481\n",
      "downloading: 63VpwU1nLvcY as 1481\n",
      "Error while downloading.\n",
      "1483\n",
      "1484\n",
      "1485\n",
      "1486\n",
      "1487\n",
      "1488\n",
      "1489\n",
      "downloading: 11lpaNYo8BNzA as 1489\n"
     ]
    },
    {
     "name": "stdout",
     "output_type": "stream",
     "text": [
      "Error while downloading.\n",
      "1491\n",
      "1492\n",
      "1493\n",
      "1494\n",
      "1495\n",
      "1496\n",
      "1497\n",
      "1498\n",
      "1499\n",
      "downloading: 10-VAg70nl6Tk as 1499\n",
      "Error while downloading.\n",
      "1501\n",
      "1502\n",
      "downloading: 107leuxY8ysi8 as 1502\n"
     ]
    },
    {
     "name": "stdout",
     "output_type": "stream",
     "text": [
      "Error while downloading.\n",
      "1504\n",
      "1505\n",
      "1506\n",
      "1507\n",
      "1508\n",
      "1509\n",
      "1510\n",
      "1511\n",
      "downloading: 10oaSZUAyYhMI as 1511\n",
      "Error while downloading.\n",
      "downloading: 1093m5SaWxWTc as 1512\n"
     ]
    },
    {
     "name": "stdout",
     "output_type": "stream",
     "text": [
      "Error while downloading.\n",
      "downloading: 10uqPKO9jA2Yk as 1513\n",
      "Error while downloading.\n",
      "downloading: 10XgZXeACyYo4 as 1514\n"
     ]
    },
    {
     "name": "stdout",
     "output_type": "stream",
     "text": [
      "Error while downloading.\n",
      "downloading: 10ZaK5iwzhVxA as 1515\n",
      "Error while downloading.\n",
      "1517\n",
      "1518\n",
      "1519\n",
      "1520\n",
      "downloading: 10B8xTARO6SnA as 1520\n"
     ]
    },
    {
     "name": "stdout",
     "output_type": "stream",
     "text": [
      "Error while downloading.\n",
      "downloading: 6rhsfP6bKUb4 as 1521\n",
      "Error while downloading.\n",
      "1523\n",
      "1524\n",
      "1525\n",
      "1526\n",
      "1527\n",
      "1528\n",
      "1529\n",
      "1530\n",
      "1531\n",
      "1532\n",
      "1533\n",
      "1534\n",
      "1535\n"
     ]
    },
    {
     "name": "stdout",
     "output_type": "stream",
     "text": [
      "1536\n",
      "downloading: 10KkDPYi4yLE8 as 1536\n",
      "Error while downloading.\n",
      "downloading: 10IA_IfHLgvWQ as 1537\n"
     ]
    },
    {
     "name": "stdout",
     "output_type": "stream",
     "text": [
      "Error while downloading.\n",
      "downloading: 10quq4qfvi_vU as 1538\n",
      "Error while downloading.\n",
      "1540\n",
      "1541\n",
      "1542\n",
      "1543\n",
      "1544\n",
      "1545\n",
      "1546\n",
      "1547\n",
      "1548\n"
     ]
    },
    {
     "name": "stdout",
     "output_type": "stream",
     "text": [
      "1549\n",
      "1550\n",
      "1551\n",
      "1552\n",
      "downloading: 10eL7xmFWGqGQ as 1552\n",
      "Error while downloading.\n",
      "1554\n",
      "1555\n",
      "1556\n",
      "1557\n",
      "1558\n",
      "1559\n",
      "1560\n",
      "1561\n",
      "1562\n"
     ]
    },
    {
     "name": "stdout",
     "output_type": "stream",
     "text": [
      "1563\n",
      "1564\n",
      "1565\n",
      "1566\n",
      "1567\n",
      "1568\n",
      "1569\n",
      "1570\n",
      "1571\n",
      "1572\n",
      "1573\n",
      "1574\n",
      "1575\n",
      "1576\n",
      "1577\n",
      "1578\n",
      "1579\n",
      "1580\n",
      "1581\n",
      "1582\n",
      "1583\n",
      "1584\n",
      "1585\n",
      "1586\n",
      "1587\n",
      "1588\n",
      "1589\n",
      "1590\n",
      "1591\n",
      "1592\n",
      "1593\n",
      "1594\n",
      "1595\n",
      "1596\n",
      "1597\n",
      "1598\n",
      "1599\n",
      "1600\n",
      "1601\n",
      "1602\n",
      "downloading: 115GBEyAncYaY as 1602\n"
     ]
    },
    {
     "name": "stdout",
     "output_type": "stream",
     "text": [
      "Error while downloading.\n",
      "1604\n",
      "1605\n",
      "1606\n",
      "1607\n",
      "1608\n",
      "1609\n",
      "1610\n",
      "1611\n",
      "1612\n",
      "1613\n",
      "1614\n",
      "1615\n",
      "downloading: 110zu-rZ3uB3A as 1615\n"
     ]
    },
    {
     "name": "stdout",
     "output_type": "stream",
     "text": [
      "Error while downloading.\n",
      "1617\n",
      "downloading: 117RhXsbovhIE as 1617\n",
      "Error while downloading.\n",
      "1619\n",
      "downloading: 11tMAF2IkRou4 as 1619\n"
     ]
    },
    {
     "name": "stdout",
     "output_type": "stream",
     "text": [
      "Error while downloading.\n",
      "1621\n",
      "1622\n",
      "1623\n",
      "1624\n",
      "1625\n",
      "1626\n",
      "1627\n",
      "1628\n",
      "1629\n",
      "1630\n",
      "1631\n",
      "1632\n",
      "1633\n",
      "1634\n",
      "1635\n",
      "1636\n",
      "1637\n",
      "1638\n",
      "1639\n",
      "1640\n",
      "1641\n",
      "1642\n",
      "1643\n",
      "1644\n",
      "1645\n",
      "1646\n",
      "1647\n",
      "1648\n",
      "downloading: 3Sczsu4GtoDs as 1648\n"
     ]
    },
    {
     "name": "stdout",
     "output_type": "stream",
     "text": [
      "Error while downloading.\n",
      "1650\n",
      "1651\n",
      "1652\n",
      "1653\n",
      "1654\n",
      "1655\n",
      "1656\n",
      "1657\n",
      "1658\n",
      "downloading: 33lBhy5a3S94 as 1658\n",
      "Error while downloading.\n",
      "1660\n",
      "1661\n",
      "1662\n",
      "1663\n",
      "1664\n",
      "1665\n",
      "1666\n",
      "1667\n"
     ]
    },
    {
     "name": "stdout",
     "output_type": "stream",
     "text": [
      "1668\n",
      "1669\n",
      "1670\n",
      "1671\n",
      "downloading: 7GgftvzAyzRI as 1671\n",
      "Error while downloading.\n",
      "1673\n",
      "1674\n",
      "1675\n",
      "1676\n",
      "1677\n",
      "1678\n",
      "1679\n",
      "1680\n",
      "1681\n"
     ]
    },
    {
     "name": "stdout",
     "output_type": "stream",
     "text": [
      "1682\n",
      "1683\n",
      "1684\n",
      "1685\n",
      "1686\n",
      "1687\n",
      "1688\n",
      "1689\n",
      "1690\n",
      "1691\n",
      "1692\n",
      "downloading: 9nq57chB965E as 1692\n",
      "Error while downloading.\n",
      "1694\n",
      "1695\n",
      "1696\n",
      "1697\n",
      "1698\n",
      "1699\n",
      "1700\n",
      "1701\n",
      "1702\n",
      "1703\n",
      "1704\n",
      "1705\n",
      "1706\n",
      "1707\n",
      "1708\n",
      "1709\n",
      "1710\n",
      "1711\n"
     ]
    },
    {
     "name": "stdout",
     "output_type": "stream",
     "text": [
      "1712\n",
      "1713\n",
      "1714\n",
      "1715\n",
      "1716\n",
      "1717\n",
      "1718\n",
      "1719\n",
      "1720\n",
      "1721\n",
      "1722\n",
      "1723\n",
      "1724\n",
      "1725\n",
      "1726\n",
      "1727\n",
      "1728\n",
      "1729\n",
      "1730\n",
      "1731\n",
      "downloading: 17Ie1YHlN9fQo as 1731\n"
     ]
    },
    {
     "name": "stdout",
     "output_type": "stream",
     "text": [
      "Error while downloading.\n",
      "downloading: 5UFbz_KzFR0k as 1732\n",
      "Error while downloading.\n",
      "1734\n",
      "1735\n",
      "1736\n",
      "1737\n",
      "1738\n",
      "1739\n"
     ]
    },
    {
     "name": "stdout",
     "output_type": "stream",
     "text": [
      "1740\n",
      "1741\n",
      "1742\n",
      "1743\n",
      "1744\n",
      "1745\n",
      "1746\n",
      "1747\n",
      "1748\n",
      "1749\n",
      "1750\n",
      "1751\n",
      "1752\n",
      "downloading: 5hENo_2oeIH0 as 1752\n"
     ]
    },
    {
     "name": "stdout",
     "output_type": "stream",
     "text": [
      "Error while downloading.\n",
      "1754\n",
      "1755\n",
      "downloading: 5Qymu6gAFsTQ as 1755\n",
      "Error while downloading.\n",
      "1757\n",
      "1758\n",
      "1759\n",
      "1760\n",
      "1761\n",
      "1762\n",
      "1763\n",
      "1764\n",
      "1765\n",
      "1766\n",
      "1767\n",
      "1768\n",
      "1769\n",
      "1770\n",
      "1771\n",
      "1772\n",
      "1773\n"
     ]
    },
    {
     "name": "stdout",
     "output_type": "stream",
     "text": [
      "1774\n",
      "1775\n",
      "1776\n",
      "1777\n",
      "1778\n",
      "downloading: 17hJKILNUASz0 as 1778\n",
      "Error while downloading.\n",
      "1780\n",
      "1781\n",
      "1782\n",
      "downloading: 6ZyKSwImz91w as 1782\n"
     ]
    },
    {
     "name": "stdout",
     "output_type": "stream",
     "text": [
      "Error while downloading.\n",
      "1784\n",
      "1785\n",
      "downloading: 9PWFW0nKR2c4 as 1785\n",
      "Error while downloading.\n",
      "1787\n",
      "1788\n",
      "1789\n",
      "1790\n",
      "1791\n",
      "1792\n",
      "1793\n",
      "1794\n"
     ]
    },
    {
     "name": "stdout",
     "output_type": "stream",
     "text": [
      "1795\n",
      "1796\n",
      "1797\n",
      "1798\n",
      "1799\n",
      "1800\n",
      "1801\n",
      "1802\n",
      "1803\n",
      "1804\n",
      "1805\n",
      "1806\n",
      "1807\n",
      "1808\n",
      "1809\n",
      "1810\n",
      "1811\n",
      "1812\n",
      "1813\n",
      "1814\n",
      "1815\n",
      "1816\n",
      "1817\n",
      "1818\n",
      "1819\n",
      "1820\n",
      "1821\n",
      "1822\n",
      "1823\n",
      "1824\n",
      "downloading: 3p38JZk88zUg as 1824\n"
     ]
    },
    {
     "name": "stdout",
     "output_type": "stream",
     "text": [
      "Error while downloading.\n",
      "1826\n",
      "1827\n",
      "1828\n",
      "1829\n",
      "1830\n",
      "1831\n",
      "1832\n",
      "1833\n",
      "1834\n",
      "1835\n",
      "1836\n",
      "1837\n",
      "1838\n",
      "1839\n",
      "1840\n",
      "1841\n",
      "1842\n",
      "1843\n",
      "1844\n",
      "1845\n",
      "1846\n",
      "1847\n",
      "1848\n",
      "downloading: 9eEDVcZCAGqs as 1848\n"
     ]
    },
    {
     "name": "stdout",
     "output_type": "stream",
     "text": [
      "Error while downloading.\n",
      "1850\n",
      "downloading: 6QhVYSzBhKYM as 1850\n",
      "Error while downloading.\n",
      "1852\n",
      "1853\n",
      "1854\n",
      "1855\n",
      "1856\n",
      "1857\n",
      "1858\n",
      "1859\n",
      "1860\n",
      "1861\n",
      "1862\n",
      "1863\n",
      "1864\n",
      "1865\n",
      "1866\n",
      "1867\n",
      "1868\n",
      "1869\n",
      "1870\n",
      "1871\n",
      "1872\n",
      "1873\n",
      "1874\n",
      "1875\n",
      "downloading: 14wR7c97V8buM as 1875\n"
     ]
    },
    {
     "name": "stdout",
     "output_type": "stream",
     "text": [
      "Error while downloading.\n",
      "1877\n",
      "1878\n",
      "1879\n",
      "1880\n",
      "1881\n",
      "1882\n",
      "1883\n",
      "1884\n",
      "downloading: 11DqbpEnDub6o as 1884\n",
      "Error while downloading.\n",
      "1886\n",
      "1887\n",
      "downloading: 10thufMs14gR0 as 1887\n"
     ]
    },
    {
     "name": "stdout",
     "output_type": "stream",
     "text": [
      "Error while downloading.\n",
      "1889\n",
      "1890\n",
      "1891\n",
      "1892\n",
      "1893\n",
      "1894\n",
      "1895\n",
      "1896\n",
      "1897\n",
      "1898\n",
      "1899\n",
      "downloading: 4MrtoggdO81U as 1899\n",
      "Error while downloading.\n",
      "1901\n",
      "1902\n",
      "1903\n",
      "1904\n",
      "1905\n",
      "1906\n",
      "1907\n",
      "1908\n",
      "1909\n",
      "1910\n",
      "1911\n",
      "1912\n",
      "downloading: 92MqvZa0izls as 1912\n"
     ]
    },
    {
     "name": "stdout",
     "output_type": "stream",
     "text": [
      "Error while downloading.\n",
      "1914\n",
      "1915\n",
      "1916\n"
     ]
    },
    {
     "name": "stdout",
     "output_type": "stream",
     "text": [
      "1917\n",
      "1918\n",
      "downloading: 107KL2V29r6K8 as 1918\n",
      "Error while downloading.\n",
      "1920\n",
      "1921\n",
      "1922\n",
      "downloading: 5WZufncen9NA as 1922\n"
     ]
    },
    {
     "name": "stdout",
     "output_type": "stream",
     "text": [
      "Error while downloading.\n",
      "downloading: 11YarATPqTSO4 as 1923\n",
      "Error while downloading.\n",
      "1925\n",
      "1926\n",
      "1927\n",
      "downloading: 13wusyJxKmQFg as 1927\n"
     ]
    },
    {
     "name": "stdout",
     "output_type": "stream",
     "text": [
      "Error while downloading.\n",
      "1929\n",
      "1930\n",
      "1931\n",
      "1932\n",
      "1933\n",
      "1934\n",
      "1935\n",
      "1936\n",
      "1937\n",
      "1938\n",
      "1939\n",
      "1940\n",
      "1941\n",
      "1942\n",
      "1943\n",
      "1944\n",
      "downloading: 3AuzU_OwWbe0 as 1944\n",
      "Error while downloading.\n",
      "1946\n",
      "1947\n",
      "1948\n",
      "1949\n",
      "1950\n",
      "1951\n",
      "1952\n",
      "1953\n",
      "1954\n",
      "1955\n",
      "downloading: 14-YPMq_PdAzA as 1955\n"
     ]
    },
    {
     "name": "stdout",
     "output_type": "stream",
     "text": [
      "Error while downloading.\n",
      "downloading: 7pxCzBcHcJK4 as 1956\n",
      "Error while downloading.\n",
      "1958\n",
      "1959\n",
      "1960\n",
      "1961\n",
      "1962\n",
      "1963\n",
      "downloading: 11LeMLBgxY-Eo as 1963\n"
     ]
    },
    {
     "name": "stdout",
     "output_type": "stream",
     "text": [
      "Error while downloading.\n",
      "1965\n",
      "1966\n",
      "1967\n",
      "1968\n",
      "1969\n",
      "1970\n",
      "1971\n",
      "1972\n",
      "1973\n",
      "1974\n",
      "1975\n",
      "1976\n",
      "1977\n",
      "1978\n",
      "1979\n",
      "1980\n",
      "downloading: 5QhnJkg4KGHI as 1980\n",
      "Error while downloading.\n",
      "1982\n",
      "1983\n",
      "1984\n",
      "downloading: 12g1sWZImgHvA as 1984\n"
     ]
    },
    {
     "name": "stdout",
     "output_type": "stream",
     "text": [
      "Error while downloading.\n",
      "1986\n",
      "1987\n",
      "downloading: 10VFAeYs0rux4 as 1987\n",
      "Error while downloading.\n",
      "1989\n",
      "1990\n",
      "downloading: 14QR1QrY6zKX4 as 1990\n"
     ]
    },
    {
     "name": "stdout",
     "output_type": "stream",
     "text": [
      "Error while downloading.\n",
      "1992\n",
      "1993\n",
      "1994\n",
      "1995\n",
      "1996\n",
      "1997\n",
      "1998\n",
      "1999\n",
      "2000\n",
      "2001\n",
      "2002\n",
      "2003\n",
      "2004\n",
      "2005\n",
      "2006\n",
      "2007\n",
      "2008\n",
      "2009\n",
      "2010\n",
      "2011\n",
      "downloading: 93gajca03f-A as 2011\n",
      "Error while downloading.\n",
      "2013\n",
      "2014\n",
      "2015\n",
      "2016\n",
      "2017\n",
      "2018\n",
      "2019\n",
      "2020\n",
      "downloading: 10lThJXlsJ7Cg as 2020\n"
     ]
    },
    {
     "name": "stdout",
     "output_type": "stream",
     "text": [
      "Error while downloading.\n",
      "2022\n",
      "2023\n",
      "2024\n",
      "2025\n",
      "2026\n",
      "2027\n",
      "2028\n",
      "2029\n",
      "2030\n",
      "2031\n",
      "downloading: 7kx48idIVQwA as 2031\n",
      "Error while downloading.\n",
      "2033\n",
      "2034\n",
      "2035\n",
      "2036\n",
      "downloading: 5mPSvcEiFito as 2036\n"
     ]
    },
    {
     "name": "stdout",
     "output_type": "stream",
     "text": [
      "Error while downloading.\n",
      "downloading: 12VQYyKhK_LRk as 2037\n",
      "Error while downloading.\n",
      "downloading: 9bfPGfbPTRLQ as 2038\n"
     ]
    },
    {
     "name": "stdout",
     "output_type": "stream",
     "text": [
      "Error while downloading.\n",
      "2040\n",
      "2041\n",
      "2042\n",
      "2043\n",
      "2044\n",
      "2045\n",
      "downloading: 6YWWsuQkElHA as 2045\n",
      "Error while downloading.\n",
      "2047\n",
      "2048\n",
      "2049\n",
      "2050\n",
      "2051\n",
      "2052\n",
      "2053\n",
      "2054\n",
      "2055\n",
      "2056\n",
      "2057\n",
      "2058\n",
      "2059\n"
     ]
    },
    {
     "name": "stdout",
     "output_type": "stream",
     "text": [
      "2060\n",
      "2061\n",
      "2062\n",
      "2063\n",
      "2064\n",
      "2065\n",
      "2066\n",
      "2067\n",
      "2068\n",
      "downloading: 3jtbb1gAetg4 as 2068\n",
      "Error while downloading.\n",
      "2070\n",
      "2071\n",
      "2072\n",
      "2073\n",
      "2074\n",
      "2075\n",
      "2076\n",
      "2077\n",
      "2078\n",
      "2079\n",
      "2080\n",
      "2081\n",
      "2082\n",
      "2083\n",
      "2084\n",
      "2085\n",
      "2086\n",
      "2087\n",
      "downloading: 3wFg4ngOddqk as 2087\n"
     ]
    },
    {
     "name": "stdout",
     "output_type": "stream",
     "text": [
      "Error while downloading.\n",
      "2089\n",
      "2090\n",
      "2091\n",
      "2092\n",
      "2093\n",
      "2094\n",
      "2095\n",
      "2096\n",
      "2097\n",
      "2098\n",
      "2099\n",
      "downloading: 9_HJUIpz7sYg as 2099\n",
      "Error while downloading.\n",
      "2101\n",
      "2102\n",
      "2103\n",
      "2104\n",
      "2105\n",
      "2106\n",
      "2107\n",
      "2108\n",
      "2109\n",
      "2110\n",
      "2111\n",
      "2112\n",
      "2113\n",
      "downloading: 9rQC7CYthTLs as 2113\n"
     ]
    },
    {
     "name": "stdout",
     "output_type": "stream",
     "text": [
      "Error while downloading.\n",
      "2115\n",
      "2116\n",
      "2117\n",
      "2118\n",
      "2119\n",
      "2120\n",
      "downloading: 7CUKsnJ6Cn50 as 2120\n",
      "Error while downloading.\n",
      "2122\n",
      "2123\n",
      "2124\n",
      "2125\n",
      "2126\n",
      "2127\n",
      "2128\n",
      "2129\n",
      "2130\n",
      "2131\n",
      "2132\n",
      "2133\n",
      "2134\n",
      "2135\n",
      "2136\n",
      "2137\n",
      "2138\n",
      "2139\n",
      "2140\n",
      "2141\n",
      "2142\n",
      "2143\n",
      "2144\n",
      "downloading: 10RYHLaWRmeY8 as 2144\n"
     ]
    },
    {
     "name": "stdout",
     "output_type": "stream",
     "text": [
      "Error while downloading.\n",
      "downloading: 13dKShyGx2Mr4 as 2145\n",
      "Error while downloading.\n",
      "2147\n",
      "2148\n",
      "2149\n",
      "2150\n",
      "2151\n",
      "downloading: 10euH76uQe0wY as 2151\n"
     ]
    },
    {
     "name": "stdout",
     "output_type": "stream",
     "text": [
      "Error while downloading.\n",
      "downloading: 7rGfuUyeU5iU as 2152\n",
      "Error while downloading.\n",
      "2154\n",
      "2155\n",
      "2156\n",
      "2157\n",
      "2158\n",
      "2159\n",
      "downloading: 7kIdmJGO-KfQ as 2159\n"
     ]
    },
    {
     "name": "stdout",
     "output_type": "stream",
     "text": [
      "Error while downloading.\n",
      "2161\n",
      "downloading: 130pJ0MBLMof0 as 2161\n",
      "Error while downloading.\n",
      "downloading: 7wwT2aaen41c as 2162\n"
     ]
    },
    {
     "name": "stdout",
     "output_type": "stream",
     "text": [
      "Error while downloading.\n",
      "2164\n",
      "2165\n",
      "2166\n",
      "2167\n",
      "2168\n",
      "2169\n",
      "2170\n",
      "2171\n",
      "2172\n",
      "2173\n",
      "2174\n",
      "2175\n",
      "2176\n",
      "2177\n",
      "2178\n",
      "2179\n"
     ]
    },
    {
     "name": "stdout",
     "output_type": "stream",
     "text": [
      "2180\n",
      "2181\n",
      "2182\n",
      "2183\n",
      "2184\n",
      "2185\n",
      "2186\n",
      "2187\n",
      "2188\n",
      "2189\n",
      "2190\n",
      "2191\n",
      "2192\n",
      "2193\n",
      "2194\n",
      "2195\n",
      "2196\n",
      "2197\n",
      "2198\n",
      "2199\n",
      "2200\n",
      "2201\n",
      "2202\n",
      "2203\n",
      "2204\n",
      "2205\n",
      "2206\n",
      "2207\n",
      "2208\n",
      "2209\n",
      "2210\n",
      "2211\n",
      "2212\n",
      "2213\n",
      "2214\n",
      "2215\n",
      "2216\n",
      "2217\n",
      "2218\n",
      "2219\n",
      "2220\n",
      "2221\n",
      "2222\n",
      "2223\n",
      "2224\n",
      "2225\n",
      "2226\n",
      "2227\n",
      "2228\n",
      "2229\n",
      "2230\n",
      "2231\n",
      "2232\n",
      "2233\n",
      "2234\n",
      "2235\n",
      "2236\n",
      "2237\n",
      "2238\n",
      "2239\n",
      "2240\n",
      "2241\n",
      "2242\n",
      "2243\n",
      "2244\n",
      "2245\n",
      "2246\n",
      "2247\n",
      "2248\n",
      "2249\n",
      "2250\n",
      "2251\n",
      "2252\n",
      "2253\n"
     ]
    },
    {
     "name": "stdout",
     "output_type": "stream",
     "text": [
      "2254\n",
      "2255\n",
      "2256\n",
      "2257\n",
      "2258\n",
      "2259\n",
      "2260\n",
      "2261\n",
      "2262\n",
      "2263\n",
      "2264\n",
      "2265\n",
      "2266\n",
      "2267\n",
      "2268\n",
      "2269\n",
      "2270\n",
      "2271\n",
      "2272\n",
      "2273\n",
      "2274\n",
      "2275\n",
      "2276\n",
      "2277\n",
      "2278\n",
      "2279\n",
      "2280\n",
      "2281\n",
      "2282\n",
      "2283\n",
      "2284\n",
      "2285\n",
      "2286\n",
      "2287\n",
      "2288\n",
      "2289\n",
      "downloading: 8PDx7YfRh2Kw as 2289\n"
     ]
    },
    {
     "name": "stdout",
     "output_type": "stream",
     "text": [
      "Error while downloading.\n",
      "2291\n",
      "2292\n",
      "2293\n",
      "2294\n",
      "2295\n",
      "2296\n",
      "2297\n",
      "2298\n",
      "2299\n",
      "2300\n",
      "2301\n",
      "2302\n",
      "2303\n",
      "2304\n",
      "2305\n",
      "2306\n",
      "2307\n",
      "2308\n",
      "2309\n",
      "2310\n",
      "2311\n",
      "2312\n",
      "2313\n",
      "2314\n",
      "2315\n",
      "2316\n",
      "2317\n",
      "2318\n",
      "2319\n",
      "2320\n",
      "2321\n",
      "2322\n",
      "2323\n",
      "2324\n",
      "2325\n",
      "2326\n",
      "2327\n",
      "2328\n",
      "2329\n",
      "2330\n",
      "2331\n",
      "2332\n",
      "2333\n",
      "2334\n",
      "2335\n",
      "2336\n",
      "2337\n",
      "2338\n",
      "2339\n",
      "2340\n",
      "2341\n",
      "2342\n",
      "downloading: 6a-jYzZ0XyX8 as 2342\n"
     ]
    },
    {
     "name": "stdout",
     "output_type": "stream",
     "text": [
      "Error while downloading.\n",
      "2344\n",
      "downloading: 3vkEsPT8X-YI as 2344\n",
      "Error while downloading.\n",
      "2346\n",
      "downloading: 3T8FrVVmxLOs as 2346\n"
     ]
    },
    {
     "name": "stdout",
     "output_type": "stream",
     "text": [
      "Error while downloading.\n",
      "downloading: 5lmqqIKx7wg8 as 2347\n",
      "Error while downloading.\n",
      "2349\n",
      "2350\n",
      "2351\n",
      "2352\n",
      "2353\n",
      "2354\n",
      "2355\n",
      "2356\n",
      "2357\n",
      "2358\n",
      "2359\n",
      "2360\n",
      "2361\n",
      "2362\n",
      "2363\n",
      "2364\n",
      "2365\n",
      "2366\n",
      "2367\n",
      "2368\n",
      "2369\n"
     ]
    },
    {
     "name": "stdout",
     "output_type": "stream",
     "text": [
      "2370\n",
      "2371\n",
      "2372\n",
      "2373\n",
      "2374\n",
      "2375\n",
      "2376\n",
      "2377\n",
      "2378\n",
      "2379\n",
      "2380\n",
      "2381\n",
      "2382\n",
      "2383\n",
      "2384\n",
      "2385\n",
      "2386\n",
      "2387\n",
      "2388\n",
      "2389\n",
      "2390\n",
      "2391\n",
      "2392\n",
      "2393\n",
      "2394\n",
      "2395\n",
      "2396\n",
      "2397\n",
      "2398\n",
      "2399\n",
      "2400\n",
      "2401\n",
      "2402\n",
      "2403\n",
      "downloading: 9Ssf36GUpjls as 2403\n"
     ]
    },
    {
     "name": "stdout",
     "output_type": "stream",
     "text": [
      "Error while downloading.\n",
      "2405\n",
      "downloading: 12PPY97phosAw as 2405\n",
      "Error while downloading.\n",
      "2407\n",
      "2408\n",
      "2409\n",
      "2410\n",
      "2411\n",
      "2412\n",
      "2413\n",
      "2414\n",
      "2415\n",
      "2416\n",
      "2417\n",
      "2418\n",
      "2419\n",
      "2420\n",
      "2421\n",
      "2422\n",
      "2423\n",
      "2424\n",
      "downloading: 4-6MqNRuyQ3A as 2424\n"
     ]
    },
    {
     "name": "stdout",
     "output_type": "stream",
     "text": [
      "Error while downloading.\n",
      "2426\n",
      "2427\n",
      "2428\n",
      "downloading: 8nro2CXope1U as 2428\n",
      "Error while downloading.\n",
      "2430\n",
      "2431\n",
      "2432\n",
      "2433\n",
      "downloading: 9Yv32IHY76_o as 2433\n"
     ]
    },
    {
     "name": "stdout",
     "output_type": "stream",
     "text": [
      "Error while downloading.\n",
      "2435\n",
      "2436\n",
      "2437\n",
      "2438\n",
      "downloading: 9J9gZqFmx500 as 2438\n",
      "Error while downloading.\n",
      "2440\n",
      "2441\n",
      "2442\n",
      "2443\n",
      "2444\n",
      "2445\n",
      "2446\n",
      "2447\n",
      "2448\n",
      "2449\n",
      "2450\n",
      "2451\n",
      "2452\n"
     ]
    },
    {
     "name": "stdout",
     "output_type": "stream",
     "text": [
      "2453\n",
      "2454\n",
      "2455\n",
      "2456\n",
      "2457\n",
      "downloading: 13JfY4OpZIv-g as 2457\n",
      "Error while downloading.\n",
      "2459\n",
      "2460\n",
      "2461\n",
      "2462\n",
      "2463\n",
      "2464\n",
      "2465\n",
      "2466\n",
      "downloading: 11fcUVPEzctSI as 2466\n"
     ]
    },
    {
     "name": "stdout",
     "output_type": "stream",
     "text": [
      "Error while downloading.\n",
      "2468\n",
      "2469\n",
      "2470\n",
      "2471\n",
      "2472\n",
      "2473\n",
      "2474\n",
      "2475\n",
      "2476\n",
      "2477\n",
      "2478\n",
      "2479\n",
      "2480\n",
      "2481\n",
      "2482\n",
      "2483\n",
      "2484\n",
      "2485\n",
      "2486\n",
      "2487\n",
      "2488\n",
      "2489\n",
      "2490\n",
      "2491\n",
      "2492\n",
      "2493\n",
      "2494\n",
      "2495\n",
      "2496\n",
      "2497\n",
      "2498\n",
      "2499\n",
      "2500\n",
      "2501\n",
      "2502\n",
      "2503\n",
      "2504\n",
      "2505\n",
      "2506\n",
      "2507\n",
      "2508\n",
      "2509\n",
      "2510\n",
      "2511\n",
      "2512\n"
     ]
    },
    {
     "name": "stdout",
     "output_type": "stream",
     "text": [
      "2513\n",
      "2514\n",
      "2515\n",
      "2516\n",
      "2517\n",
      "2518\n",
      "2519\n",
      "2520\n",
      "2521\n",
      "2522\n",
      "2523\n",
      "2524\n",
      "2525\n",
      "2526\n",
      "2527\n",
      "2528\n",
      "2529\n",
      "2530\n",
      "2531\n",
      "2532\n",
      "2533\n",
      "2534\n",
      "2535\n",
      "2536\n",
      "2537\n",
      "2538\n",
      "2539\n",
      "2540\n",
      "2541\n",
      "2542\n",
      "2543\n",
      "2544\n",
      "2545\n",
      "2546\n",
      "2547\n",
      "2548\n",
      "2549\n",
      "2550\n",
      "2551\n",
      "2552\n",
      "2553\n",
      "2554\n"
     ]
    },
    {
     "name": "stdout",
     "output_type": "stream",
     "text": [
      "2555\n",
      "2556\n",
      "downloading: 5N46EZTPoq7g as 2556\n",
      "Error while downloading.\n",
      "2558\n",
      "2559\n",
      "2560\n",
      "2561\n"
     ]
    },
    {
     "name": "stdout",
     "output_type": "stream",
     "text": [
      "2562\n",
      "2563\n",
      "2564\n",
      "2565\n",
      "2566\n",
      "2567\n",
      "2568\n",
      "2569\n",
      "2570\n",
      "2571\n",
      "2572\n",
      "2573\n",
      "2574\n",
      "2575\n",
      "2576\n",
      "2577\n",
      "2578\n",
      "2579\n",
      "2580\n",
      "2581\n",
      "2582\n",
      "2583\n",
      "2584\n",
      "2585\n",
      "2586\n",
      "2587\n",
      "2588\n",
      "2589\n"
     ]
    },
    {
     "name": "stdout",
     "output_type": "stream",
     "text": [
      "2590\n",
      "2591\n",
      "2592\n",
      "2593\n",
      "2594\n",
      "downloading: 6e8-tk4zMvhM as 2594\n",
      "Error while downloading.\n",
      "2596\n"
     ]
    },
    {
     "name": "stdout",
     "output_type": "stream",
     "text": [
      "2597\n",
      "2598\n",
      "2599\n",
      "2600\n",
      "2601\n",
      "2602\n",
      "2603\n",
      "2604\n",
      "2605\n",
      "2606\n",
      "2607\n",
      "2608\n",
      "2609\n",
      "2610\n",
      "2611\n",
      "2612\n",
      "2613\n",
      "2614\n",
      "2615\n",
      "2616\n",
      "2617\n",
      "2618\n",
      "2619\n",
      "2620\n",
      "2621\n",
      "2622\n",
      "downloading: 6oiqAEYgcxc8 as 2622\n"
     ]
    },
    {
     "name": "stdout",
     "output_type": "stream",
     "text": [
      "Error while downloading.\n",
      "2624\n",
      "2625\n",
      "2626\n",
      "2627\n",
      "2628\n",
      "2629\n",
      "2630\n",
      "2631\n",
      "2632\n",
      "2633\n",
      "2634\n",
      "downloading: 4B25J9LgCTHc as 2634\n"
     ]
    },
    {
     "name": "stdout",
     "output_type": "stream",
     "text": [
      "Error while downloading.\n",
      "2636\n",
      "2637\n",
      "2638\n",
      "2639\n",
      "2640\n",
      "2641\n",
      "2642\n",
      "2643\n",
      "2644\n",
      "2645\n",
      "2646\n",
      "2647\n",
      "2648\n",
      "2649\n",
      "2650\n",
      "2651\n",
      "2652\n",
      "2653\n",
      "2654\n",
      "2655\n",
      "2656\n",
      "2657\n",
      "2658\n",
      "2659\n",
      "2660\n",
      "2661\n",
      "2662\n",
      "2663\n",
      "2664\n",
      "2665\n",
      "2666\n",
      "2667\n",
      "2668\n",
      "2669\n",
      "2670\n",
      "2671\n",
      "2672\n",
      "2673\n",
      "downloading: 4OdhtrTT57iw as 2673\n"
     ]
    },
    {
     "name": "stdout",
     "output_type": "stream",
     "text": [
      "Error while downloading.\n",
      "2675\n",
      "2676\n",
      "2677\n",
      "2678\n",
      "2679\n",
      "2680\n",
      "2681\n",
      "2682\n",
      "2683\n",
      "2684\n",
      "2685\n",
      "2686\n",
      "2687\n",
      "2688\n",
      "2689\n",
      "2690\n",
      "2691\n",
      "2692\n",
      "2693\n",
      "2694\n",
      "downloading: 7mgSQWDG61nQ as 2694\n"
     ]
    },
    {
     "name": "stdout",
     "output_type": "stream",
     "text": [
      "Error while downloading.\n",
      "2696\n",
      "2697\n",
      "2698\n",
      "2699\n",
      "2700\n",
      "2701\n",
      "2702\n",
      "2703\n",
      "2704\n",
      "2705\n",
      "2706\n",
      "2707\n",
      "2708\n",
      "2709\n",
      "2710\n",
      "2711\n",
      "2712\n",
      "2713\n",
      "2714\n",
      "2715\n",
      "2716\n",
      "2717\n",
      "2718\n",
      "2719\n",
      "2720\n",
      "2721\n",
      "2722\n",
      "2723\n",
      "2724\n",
      "2725\n",
      "2726\n",
      "2727\n",
      "downloading: 10gVh_0zXdi7I as 2727\n"
     ]
    },
    {
     "name": "stdout",
     "output_type": "stream",
     "text": [
      "Error while downloading.\n",
      "2729\n",
      "2730\n",
      "2731\n",
      "downloading: 7Etd18iSlKZ4 as 2731\n",
      "Error while downloading.\n",
      "2733\n",
      "2734\n",
      "2735\n",
      "2736\n",
      "downloading: 9UEkuYpeaJ7E as 2736\n"
     ]
    },
    {
     "name": "stdout",
     "output_type": "stream",
     "text": [
      "Error while downloading.\n",
      "2738\n",
      "2739\n",
      "2740\n",
      "2741\n",
      "2742\n",
      "2743\n",
      "2744\n",
      "2745\n",
      "2746\n",
      "2747\n",
      "2748\n",
      "2749\n",
      "2750\n",
      "2751\n",
      "2752\n",
      "2753\n",
      "2754\n",
      "downloading: 10uD7Cq-BT948 as 2754\n"
     ]
    },
    {
     "name": "stdout",
     "output_type": "stream",
     "text": [
      "Error while downloading.\n",
      "2756\n",
      "2757\n",
      "2758\n",
      "2759\n",
      "2760\n",
      "2761\n",
      "downloading: 6BVp93lonePw as 2761\n",
      "Error while downloading.\n"
     ]
    },
    {
     "name": "stdout",
     "output_type": "stream",
     "text": [
      "2763\n",
      "2764\n",
      "2765\n",
      "2766\n",
      "downloading: 4UGfcPt-S3P8 as 2766\n",
      "Error while downloading.\n",
      "2768\n",
      "2769\n",
      "2770\n",
      "2771\n",
      "downloading: 10rY5rccJDL10 as 2771\n"
     ]
    },
    {
     "name": "stdout",
     "output_type": "stream",
     "text": [
      "Error while downloading.\n",
      "2773\n",
      "2774\n",
      "2775\n",
      "2776\n",
      "2777\n",
      "2778\n",
      "2779\n",
      "2780\n",
      "downloading: 9joJutrbYPac as 2780\n",
      "Error while downloading.\n",
      "downloading: 9kB80CwHSnXs as 2781\n"
     ]
    },
    {
     "name": "stdout",
     "output_type": "stream",
     "text": [
      "Error while downloading.\n",
      "2783\n",
      "2784\n",
      "2785\n",
      "2786\n",
      "2787\n",
      "2788\n",
      "2789\n",
      "2790\n",
      "2791\n",
      "2792\n",
      "2793\n",
      "2794\n",
      "downloading: 7CYMo69Lx0LQ as 2794\n",
      "Error while downloading.\n",
      "2796\n",
      "2797\n",
      "downloading: 164wwVcWRbbfE as 2797\n"
     ]
    },
    {
     "name": "stdout",
     "output_type": "stream",
     "text": [
      "Error while downloading.\n",
      "2799\n",
      "2800\n",
      "2801\n",
      "2802\n",
      "2803\n",
      "2804\n",
      "2805\n",
      "2806\n",
      "downloading: 11ZgoEW58LTag as 2806\n",
      "Error while downloading.\n",
      "2808\n",
      "2809\n",
      "2810\n",
      "2811\n",
      "2812\n",
      "2813\n",
      "2814\n",
      "2815\n",
      "2816\n",
      "2817\n",
      "downloading: 17aZGx2OFoaKM as 2817\n"
     ]
    },
    {
     "name": "stdout",
     "output_type": "stream",
     "text": [
      "Error while downloading.\n",
      "2819\n",
      "2820\n",
      "2821\n",
      "2822\n",
      "2823\n",
      "2824\n",
      "2825\n",
      "2826\n",
      "2827\n",
      "2828\n",
      "2829\n",
      "2830\n",
      "2831\n",
      "2832\n",
      "2833\n",
      "2834\n",
      "downloading: 15Z71v8gaIqpc as 2834\n",
      "Error while downloading.\n",
      "2836\n",
      "2837\n",
      "2838\n",
      "2839\n",
      "2840\n"
     ]
    },
    {
     "name": "stdout",
     "output_type": "stream",
     "text": [
      "2841\n",
      "2842\n",
      "2843\n",
      "2844\n",
      "2845\n",
      "2846\n",
      "2847\n",
      "2848\n",
      "2849\n",
      "2850\n",
      "2851\n",
      "2852\n",
      "2853\n",
      "2854\n",
      "2855\n",
      "2856\n",
      "2857\n",
      "2858\n",
      "2859\n",
      "2860\n",
      "2861\n",
      "2862\n",
      "2863\n",
      "2864\n",
      "2865\n",
      "2866\n",
      "2867\n",
      "2868\n",
      "2869\n",
      "2870\n",
      "2871\n",
      "2872\n",
      "2873\n",
      "2874\n",
      "2875\n",
      "2876\n",
      "2877\n",
      "2878\n"
     ]
    },
    {
     "name": "stdout",
     "output_type": "stream",
     "text": [
      "2879\n",
      "2880\n",
      "2881\n",
      "downloading: 56so-xi6fVbU as 2881\n",
      "Error while downloading.\n",
      "2883\n",
      "2884\n",
      "2885\n",
      "2886\n",
      "2887\n",
      "2888\n"
     ]
    },
    {
     "name": "stdout",
     "output_type": "stream",
     "text": [
      "2889\n",
      "2890\n",
      "2891\n",
      "2892\n",
      "2893\n",
      "2894\n",
      "2895\n",
      "2896\n",
      "2897\n",
      "2898\n",
      "2899\n",
      "2900\n",
      "2901\n",
      "2902\n",
      "2903\n",
      "2904\n",
      "2905\n",
      "2906\n",
      "2907\n",
      "2908\n",
      "2909\n",
      "2910\n",
      "2911\n",
      "2912\n",
      "2913\n",
      "2914\n",
      "2915\n",
      "2916\n",
      "2917\n",
      "2918\n"
     ]
    },
    {
     "name": "stdout",
     "output_type": "stream",
     "text": [
      "2919\n",
      "2920\n",
      "2921\n",
      "2922\n",
      "2923\n",
      "2924\n",
      "2925\n",
      "2926\n",
      "2927\n",
      "2928\n",
      "2929\n",
      "2930\n",
      "2931\n",
      "2932\n",
      "2933\n",
      "2934\n",
      "downloading: 9Sy2YMHc-Knc as 2934\n"
     ]
    },
    {
     "name": "stdout",
     "output_type": "stream",
     "text": [
      "Error while downloading.\n",
      "2936\n",
      "2937\n",
      "2938\n",
      "2939\n",
      "2940\n",
      "2941\n",
      "2942\n",
      "2943\n",
      "2944\n",
      "2945\n",
      "2946\n",
      "2947\n",
      "2948\n",
      "2949\n",
      "2950\n",
      "2951\n",
      "2952\n",
      "2953\n",
      "2954\n",
      "2955\n",
      "2956\n",
      "2957\n",
      "2958\n",
      "2959\n",
      "2960\n",
      "downloading: 8qyUGzEHwE8M as 2960\n"
     ]
    },
    {
     "name": "stdout",
     "output_type": "stream",
     "text": [
      "Error while downloading.\n",
      "2962\n",
      "2963\n",
      "2964\n",
      "2965\n",
      "2966\n",
      "2967\n",
      "2968\n",
      "2969\n",
      "2970\n",
      "2971\n",
      "2972\n",
      "2973\n",
      "2974\n",
      "2975\n",
      "2976\n",
      "2977\n",
      "2978\n",
      "2979\n",
      "2980\n",
      "2981\n",
      "2982\n",
      "2983\n",
      "2984\n",
      "2985\n",
      "2986\n",
      "2987\n",
      "2988\n",
      "2989\n",
      "2990\n",
      "2991\n",
      "2992\n",
      "2993\n",
      "downloading: 10h4hNPoclSKk as 2993\n"
     ]
    },
    {
     "name": "stdout",
     "output_type": "stream",
     "text": [
      "Error while downloading.\n",
      "2995\n",
      "downloading: 10IMKV3pqZYMI as 2995\n",
      "Error while downloading.\n",
      "2997\n",
      "2998\n",
      "2999\n",
      "3000\n",
      "3001\n",
      "3002\n",
      "3003\n",
      "3004\n",
      "3005\n",
      "3006\n",
      "downloading: 10_A6dPCmDlTc as 3006\n"
     ]
    },
    {
     "name": "stdout",
     "output_type": "stream",
     "text": [
      "Error while downloading.\n",
      "3008\n",
      "3009\n",
      "3010\n",
      "3011\n",
      "3012\n",
      "3013\n",
      "3014\n",
      "3015\n",
      "3016\n",
      "3017\n",
      "3018\n",
      "3019\n",
      "3020\n",
      "3021\n",
      "downloading: 5eFJYcYtqEFk as 3021\n",
      "Error while downloading.\n",
      "3023\n",
      "3024\n",
      "3025\n",
      "3026\n",
      "3027\n",
      "3028\n",
      "3029\n",
      "3030\n",
      "downloading: 5L29eiaDLHww as 3030\n"
     ]
    },
    {
     "name": "stdout",
     "output_type": "stream",
     "text": [
      "Error while downloading.\n",
      "3032\n",
      "3033\n",
      "3034\n",
      "3035\n",
      "downloading: 4R8-djk8FdoA as 3035\n",
      "Error while downloading.\n",
      "downloading: 11tF-m3aQ1VPI as 3036\n"
     ]
    },
    {
     "name": "stdout",
     "output_type": "stream",
     "text": [
      "Error while downloading.\n",
      "downloading: 4YfbdhK19uJM as 3037\n",
      "Error while downloading.\n",
      "3039\n",
      "3040\n",
      "3041\n"
     ]
    },
    {
     "name": "stdout",
     "output_type": "stream",
     "text": [
      "3042\n",
      "3043\n",
      "3044\n",
      "3045\n",
      "3046\n",
      "3047\n",
      "3048\n",
      "3049\n",
      "3050\n",
      "3051\n",
      "downloading: 6vVd1ybqmEMU as 3051\n",
      "Error while downloading.\n",
      "3053\n",
      "3054\n"
     ]
    },
    {
     "name": "stdout",
     "output_type": "stream",
     "text": [
      "3055\n",
      "3056\n",
      "3057\n",
      "3058\n",
      "3059\n",
      "3060\n",
      "3061\n",
      "3062\n",
      "3063\n",
      "3064\n",
      "3065\n",
      "3066\n",
      "3067\n",
      "3068\n",
      "3069\n",
      "3070\n",
      "3071\n",
      "3072\n",
      "3073\n",
      "3074\n"
     ]
    },
    {
     "name": "stdout",
     "output_type": "stream",
     "text": [
      "3075\n",
      "3076\n",
      "3077\n",
      "3078\n",
      "3079\n",
      "3080\n",
      "3081\n",
      "3082\n",
      "3083\n",
      "3084\n",
      "3085\n",
      "3086\n",
      "3087\n",
      "3088\n",
      "3089\n",
      "3090\n",
      "3091\n",
      "3092\n",
      "3093\n",
      "3094\n",
      "3095\n",
      "3096\n",
      "3097\n",
      "downloading: 40C4wct80VZY as 3097\n"
     ]
    },
    {
     "name": "stdout",
     "output_type": "stream",
     "text": [
      "Error while downloading.\n",
      "3099\n",
      "3100\n",
      "downloading: 45YrmJG2D0Fs as 3100\n",
      "Error while downloading.\n",
      "3102\n",
      "downloading: 4hPfHqYAydPU as 3102\n"
     ]
    },
    {
     "name": "stdout",
     "output_type": "stream",
     "text": [
      "Error while downloading.\n",
      "3104\n",
      "3105\n",
      "3106\n",
      "downloading: 3sGiFe1sxY2o as 3106\n",
      "Error while downloading.\n",
      "3108\n",
      "3109\n",
      "3110\n",
      "3111\n",
      "3112\n"
     ]
    },
    {
     "name": "stdout",
     "output_type": "stream",
     "text": [
      "3113\n",
      "3114\n",
      "3115\n",
      "3116\n",
      "3117\n",
      "3118\n",
      "3119\n",
      "3120\n",
      "3121\n",
      "3122\n",
      "3123\n",
      "downloading: 11ucbht1_Im8M as 3123\n",
      "Error while downloading.\n",
      "3125\n",
      "3126\n",
      "3127\n",
      "3128\n",
      "downloading: 10iAxN48y_BjM as 3128\n"
     ]
    },
    {
     "name": "stdout",
     "output_type": "stream",
     "text": [
      "Error while downloading.\n",
      "3130\n",
      "3131\n",
      "3132\n",
      "3133\n",
      "3134\n",
      "3135\n",
      "3136\n",
      "3137\n",
      "3138\n",
      "3139\n",
      "3140\n",
      "3141\n",
      "3142\n",
      "3143\n",
      "3144\n",
      "3145\n",
      "3146\n",
      "3147\n",
      "3148\n",
      "downloading: 56yLW-AGSKHQ as 3148\n"
     ]
    },
    {
     "name": "stdout",
     "output_type": "stream",
     "text": [
      "Error while downloading.\n",
      "3150\n",
      "3151\n",
      "3152\n",
      "downloading: 7rn_dnWB8hAY as 3152\n",
      "Error while downloading.\n",
      "3154\n",
      "3155\n",
      "3156\n",
      "3157\n",
      "3158\n",
      "3159\n",
      "3160\n",
      "3161\n",
      "3162\n",
      "3163\n",
      "3164\n"
     ]
    },
    {
     "name": "stdout",
     "output_type": "stream",
     "text": [
      "3165\n",
      "3166\n",
      "3167\n",
      "3168\n",
      "3169\n",
      "3170\n",
      "3171\n",
      "3172\n",
      "3173\n",
      "3174\n",
      "3175\n",
      "3176\n",
      "3177\n",
      "3178\n",
      "3179\n",
      "3180\n",
      "3181\n",
      "downloading: 5vbgAnW50ZWk as 3181\n"
     ]
    },
    {
     "name": "stdout",
     "output_type": "stream",
     "text": [
      "Error while downloading.\n",
      "3183\n",
      "3184\n",
      "3185\n",
      "3186\n",
      "3187\n",
      "3188\n",
      "3189\n",
      "3190\n",
      "3191\n",
      "3192\n",
      "3193\n",
      "3194\n",
      "3195\n",
      "3196\n",
      "3197\n",
      "3198\n",
      "3199\n",
      "3200\n",
      "3201\n",
      "3202\n",
      "3203\n",
      "3204\n",
      "3205\n",
      "3206\n",
      "3207\n",
      "3208\n",
      "3209\n",
      "3210\n",
      "3211\n",
      "3212\n",
      "3213\n",
      "3214\n",
      "3215\n",
      "3216\n",
      "3217\n",
      "3218\n",
      "3219\n",
      "3220\n",
      "3221\n",
      "3222\n",
      "3223\n",
      "3224\n",
      "3225\n",
      "downloading: 8HXGHgt1xfDM as 3225\n"
     ]
    },
    {
     "name": "stdout",
     "output_type": "stream",
     "text": [
      "Error while downloading.\n",
      "3227\n",
      "3228\n",
      "3229\n",
      "downloading: 11FlOTikBRqlg as 3229\n",
      "Error while downloading.\n",
      "3231\n",
      "3232\n",
      "3233\n",
      "3234\n",
      "3235\n",
      "3236\n",
      "3237\n",
      "3238\n",
      "3239\n",
      "3240\n",
      "3241\n",
      "downloading: 9jYO59_EGp_U as 3241\n"
     ]
    },
    {
     "name": "stdout",
     "output_type": "stream",
     "text": [
      "Error while downloading.\n",
      "3243\n",
      "3244\n",
      "3245\n",
      "3246\n",
      "3247\n",
      "3248\n",
      "3249\n",
      "downloading: 12waPmwIKWWek as 3249\n",
      "Error while downloading.\n",
      "downloading: 11oTJh1h-pcxk as 3250\n"
     ]
    },
    {
     "name": "stdout",
     "output_type": "stream",
     "text": [
      "Error while downloading.\n",
      "3252\n",
      "3253\n",
      "3254\n",
      "3255\n",
      "3256\n",
      "3257\n",
      "3258\n",
      "3259\n",
      "3260\n",
      "3261\n",
      "3262\n",
      "3263\n",
      "3264\n",
      "3265\n",
      "3266\n",
      "3267\n",
      "3268\n",
      "3269\n",
      "3270\n",
      "3271\n",
      "3272\n",
      "3273\n",
      "downloading: 5xxBmsVbfHbc as 3273\n"
     ]
    },
    {
     "name": "stdout",
     "output_type": "stream",
     "text": [
      "Error while downloading.\n",
      "downloading: 5GZnpH-PPdXA as 3274\n",
      "Error while downloading.\n",
      "downloading: 5J6DLl1ZYF6U as 3275\n"
     ]
    },
    {
     "name": "stdout",
     "output_type": "stream",
     "text": [
      "Error while downloading.\n",
      "downloading: 5ma9mgKIaJEU as 3276\n",
      "Error while downloading.\n",
      "downloading: 5t9y2mdh06sE as 3277\n"
     ]
    },
    {
     "name": "stdout",
     "output_type": "stream",
     "text": [
      "Error while downloading.\n",
      "downloading: 5JIFSw-quYZE as 3278\n",
      "Error while downloading.\n",
      "downloading: 57F11YYNgVME as 3279\n"
     ]
    },
    {
     "name": "stdout",
     "output_type": "stream",
     "text": [
      "Error while downloading.\n",
      "3281\n",
      "3282\n",
      "3283\n",
      "3284\n",
      "3285\n",
      "3286\n",
      "3287\n",
      "3288\n",
      "3289\n",
      "3290\n",
      "3291\n",
      "3292\n",
      "3293\n",
      "3294\n",
      "3295\n",
      "3296\n",
      "3297\n",
      "3298\n",
      "3299\n",
      "downloading: 61vQJJgLRGdg as 3299\n"
     ]
    },
    {
     "name": "stdout",
     "output_type": "stream",
     "text": [
      "Error while downloading.\n",
      "3301\n",
      "downloading: 10HGxPUP8Jb6A as 3301\n",
      "Error while downloading.\n",
      "3303\n"
     ]
    },
    {
     "name": "stdout",
     "output_type": "stream",
     "text": [
      "3304\n",
      "3305\n",
      "3306\n",
      "3307\n",
      "3308\n",
      "3309\n",
      "3310\n",
      "3311\n",
      "3312\n",
      "3313\n",
      "downloading: 9onfekREax_4 as 3313\n"
     ]
    },
    {
     "name": "stdout",
     "output_type": "stream",
     "text": [
      "Error while downloading.\n",
      "3315\n",
      "3316\n",
      "3317\n",
      "3318\n",
      "3319\n",
      "3320\n",
      "3321\n",
      "3322\n",
      "downloading: 3-8wRNvwUCAc as 3322\n",
      "Error while downloading.\n"
     ]
    },
    {
     "name": "stdout",
     "output_type": "stream",
     "text": [
      "3324\n",
      "downloading: 8ZUmeTC6atMY as 3324\n",
      "Error while downloading.\n",
      "3326\n",
      "3327\n",
      "3328\n",
      "downloading: 8cYX392zyQ6k as 3328\n"
     ]
    },
    {
     "name": "stdout",
     "output_type": "stream",
     "text": [
      "Error while downloading.\n",
      "3330\n",
      "3331\n",
      "downloading: 8X_jnRePzxCQ as 3331\n",
      "Error while downloading.\n"
     ]
    },
    {
     "name": "stdout",
     "output_type": "stream",
     "text": [
      "3333\n",
      "3334\n",
      "3335\n",
      "3336\n",
      "3337\n",
      "3338\n",
      "3339\n",
      "3340\n",
      "3341\n",
      "3342\n",
      "3343\n",
      "3344\n",
      "3345\n",
      "3346\n",
      "3347\n",
      "3348\n",
      "3349\n",
      "3350\n",
      "3351\n",
      "3352\n",
      "3353\n",
      "downloading: 4UtIB8s8vwVA as 3353\n"
     ]
    },
    {
     "name": "stdout",
     "output_type": "stream",
     "text": [
      "Error while downloading.\n",
      "3355\n",
      "3356\n",
      "3357\n",
      "3358\n",
      "3359\n",
      "3360\n",
      "3361\n",
      "3362\n",
      "3363\n",
      "3364\n",
      "3365\n",
      "3366\n",
      "3367\n",
      "3368\n",
      "3369\n",
      "3370\n",
      "3371\n",
      "3372\n",
      "downloading: 37GBo8tdVZR4 as 3372\n"
     ]
    },
    {
     "name": "stdout",
     "output_type": "stream",
     "text": [
      "Error while downloading.\n",
      "downloading: 36uWNUeY9p0w as 3373\n",
      "Error while downloading.\n",
      "downloading: 3bi-4v2xH2Eo as 3374\n"
     ]
    },
    {
     "name": "stdout",
     "output_type": "stream",
     "text": [
      "Error while downloading.\n",
      "downloading: 3IJXX838LqM8 as 3375\n",
      "Error while downloading.\n",
      "downloading: 3MoISsB1F6lk as 3376\n"
     ]
    },
    {
     "name": "stdout",
     "output_type": "stream",
     "text": [
      "Error while downloading.\n",
      "downloading: 3KuALwW2ybPs as 3377\n",
      "Error while downloading.\n",
      "downloading: 3Lkyp5ma2ZQ8 as 3378\n"
     ]
    },
    {
     "name": "stdout",
     "output_type": "stream",
     "text": [
      "Error while downloading.\n",
      "downloading: 32ny3IMizc1Y as 3379\n",
      "Error while downloading.\n",
      "downloading: 37W0klnl31z8 as 3380\n"
     ]
    },
    {
     "name": "stdout",
     "output_type": "stream",
     "text": [
      "Error while downloading.\n",
      "3382\n",
      "3383\n",
      "downloading: 5_luvgHSetD0 as 3383\n",
      "Error while downloading.\n",
      "3385\n"
     ]
    },
    {
     "name": "stdout",
     "output_type": "stream",
     "text": [
      "3386\n",
      "3387\n",
      "3388\n",
      "3389\n",
      "3390\n",
      "3391\n",
      "3392\n",
      "3393\n",
      "3394\n",
      "downloading: 6c07t_OeLdBY as 3394\n",
      "Error while downloading.\n",
      "3396\n",
      "3397\n",
      "3398\n",
      "3399\n"
     ]
    },
    {
     "name": "stdout",
     "output_type": "stream",
     "text": [
      "3400\n",
      "3401\n",
      "3402\n",
      "downloading: 5o7wuDseaa5w as 3402\n",
      "Error while downloading.\n",
      "3404\n",
      "3405\n",
      "3406\n",
      "3407\n",
      "3408\n",
      "3409\n"
     ]
    },
    {
     "name": "stdout",
     "output_type": "stream",
     "text": [
      "3410\n",
      "3411\n",
      "3412\n",
      "3413\n",
      "3414\n",
      "3415\n",
      "3416\n",
      "3417\n",
      "3418\n",
      "3419\n",
      "3420\n",
      "3421\n",
      "3422\n",
      "3423\n",
      "3424\n",
      "3425\n",
      "3426\n",
      "3427\n",
      "3428\n",
      "3429\n",
      "3430\n",
      "3431\n",
      "3432\n",
      "3433\n",
      "3434\n",
      "3435\n",
      "3436\n",
      "3437\n",
      "3438\n",
      "3439\n",
      "3440\n",
      "3441\n",
      "3442\n",
      "3443\n",
      "3444\n",
      "3445\n"
     ]
    },
    {
     "name": "stdout",
     "output_type": "stream",
     "text": [
      "3446\n",
      "3447\n",
      "3448\n",
      "3449\n",
      "3450\n",
      "3451\n",
      "3452\n",
      "3453\n",
      "3454\n",
      "downloading: 10StKBVQ5MEIo as 3454\n"
     ]
    },
    {
     "name": "stdout",
     "output_type": "stream",
     "text": [
      "Error while downloading.\n",
      "3456\n",
      "3457\n",
      "3458\n",
      "3459\n",
      "3460\n",
      "3461\n",
      "3462\n",
      "downloading: 10BRX2NCoek2U as 3462\n"
     ]
    },
    {
     "name": "stdout",
     "output_type": "stream",
     "text": [
      "Error while downloading.\n",
      "downloading: 12wfMpcCEBzEc as 3463\n",
      "Error while downloading.\n",
      "3465\n",
      "3466\n",
      "downloading: 104GAoR9xhUNQ as 3466\n"
     ]
    },
    {
     "name": "stdout",
     "output_type": "stream",
     "text": [
      "Error while downloading.\n",
      "downloading: 10pZboEsQFi4o as 3467\n",
      "Error while downloading.\n",
      "downloading: 10e__fOjeZFVs as 3468\n"
     ]
    },
    {
     "name": "stdout",
     "output_type": "stream",
     "text": [
      "Error while downloading.\n",
      "downloading: 10q4QHV7c9PP4 as 3469\n",
      "Error while downloading.\n",
      "downloading: 10pzLcb5mT-Ew as 3470\n"
     ]
    },
    {
     "name": "stdout",
     "output_type": "stream",
     "text": [
      "Error while downloading.\n",
      "downloading: 10jQXYCRRunpI as 3471\n",
      "Error while downloading.\n",
      "downloading: 10HQBgbY_CwCU as 3472\n"
     ]
    },
    {
     "name": "stdout",
     "output_type": "stream",
     "text": [
      "Error while downloading.\n",
      "downloading: 10XHkJLBW4TaQ as 3473\n",
      "Error while downloading.\n",
      "downloading: 10AAfQL9-UMbg as 3474\n"
     ]
    },
    {
     "name": "stdout",
     "output_type": "stream",
     "text": [
      "Error while downloading.\n",
      "downloading: 10smaOGENpjLk as 3475\n",
      "Error while downloading.\n",
      "downloading: 10b0hS7vmOpzg as 3476\n"
     ]
    },
    {
     "name": "stdout",
     "output_type": "stream",
     "text": [
      "Error while downloading.\n",
      "downloading: 10OvQoLbzx7nQ as 3477\n",
      "Error while downloading.\n",
      "downloading: 10kXhPov6ApnI as 3478\n"
     ]
    },
    {
     "name": "stdout",
     "output_type": "stream",
     "text": [
      "Error while downloading.\n",
      "downloading: 10bAYTs6K-PIk as 3479\n",
      "Error while downloading.\n",
      "downloading: 10TncG0PbRFZE as 3480\n"
     ]
    },
    {
     "name": "stdout",
     "output_type": "stream",
     "text": [
      "Error while downloading.\n",
      "downloading: 10z3BS7i3KwuM as 3481\n",
      "Error while downloading.\n",
      "downloading: 10EVFTAmSwQbg as 3482\n"
     ]
    },
    {
     "name": "stdout",
     "output_type": "stream",
     "text": [
      "Error while downloading.\n",
      "downloading: 107ETcnTJc9D8 as 3483\n",
      "Error while downloading.\n",
      "downloading: 10fvLmSuiHu6Q as 3484\n"
     ]
    },
    {
     "name": "stdout",
     "output_type": "stream",
     "text": [
      "Error while downloading.\n",
      "downloading: 10SeLCB5_1pus as 3485\n",
      "Error while downloading.\n",
      "downloading: 10pmpF2i5HsxY as 3486\n"
     ]
    },
    {
     "name": "stdout",
     "output_type": "stream",
     "text": [
      "Error while downloading.\n",
      "downloading: 10vafX_gb6xDU as 3487\n",
      "Error while downloading.\n",
      "3489\n",
      "downloading: 10ERMW1xugbps as 3489\n"
     ]
    },
    {
     "name": "stdout",
     "output_type": "stream",
     "text": [
      "Error while downloading.\n",
      "downloading: 10rB2v8t1-32M as 3490\n",
      "Error while downloading.\n",
      "downloading: 10w3RO3tKUpEs as 3491\n"
     ]
    },
    {
     "name": "stdout",
     "output_type": "stream",
     "text": [
      "Error while downloading.\n",
      "downloading: 10YbZi5zZnCdY as 3492\n",
      "Error while downloading.\n",
      "downloading: 10pSD2jQ052oE as 3493\n"
     ]
    },
    {
     "name": "stdout",
     "output_type": "stream",
     "text": [
      "Error while downloading.\n",
      "downloading: 10drGP5s-yYxo as 3494\n",
      "Error while downloading.\n",
      "downloading: 10H9ynQb2Z7Bo as 3495\n"
     ]
    },
    {
     "name": "stdout",
     "output_type": "stream",
     "text": [
      "Error while downloading.\n",
      "downloading: 10b_nkUm89_YY as 3496\n",
      "Error while downloading.\n",
      "3498\n",
      "3499\n",
      "3500\n",
      "3501\n",
      "3502\n",
      "3503\n",
      "downloading: 4tZVmTC599L8 as 3503\n"
     ]
    },
    {
     "name": "stdout",
     "output_type": "stream",
     "text": [
      "Error while downloading.\n",
      "downloading: 11bvXEupon4TY as 3504\n",
      "Error while downloading.\n",
      "3506\n",
      "downloading: 101n0kYO4kV34 as 3506\n"
     ]
    },
    {
     "name": "stdout",
     "output_type": "stream",
     "text": [
      "Error while downloading.\n",
      "3508\n",
      "3509\n",
      "3510\n",
      "downloading: 8HWFSHZFTZrg as 3510\n",
      "Error while downloading.\n",
      "3512\n",
      "3513\n",
      "3514\n",
      "3515\n",
      "3516\n",
      "3517\n",
      "3518\n",
      "3519\n",
      "3520\n",
      "3521\n"
     ]
    },
    {
     "name": "stdout",
     "output_type": "stream",
     "text": [
      "3522\n",
      "3523\n",
      "3524\n",
      "downloading: 11M2LireHsfEs as 3524\n",
      "Error while downloading.\n",
      "3526\n",
      "3527\n",
      "downloading: 6hoNMc6ZeIQc as 3527\n"
     ]
    },
    {
     "name": "stdout",
     "output_type": "stream",
     "text": [
      "Error while downloading.\n",
      "3529\n",
      "3530\n",
      "3531\n",
      "downloading: 6vpiKxCFv4_E as 3531\n",
      "Error while downloading.\n",
      "3533\n",
      "downloading: 6IRD1_1-3oSw as 3533\n"
     ]
    },
    {
     "name": "stdout",
     "output_type": "stream",
     "text": [
      "Error while downloading.\n",
      "3535\n",
      "3536\n",
      "downloading: 82iKnJtBnUc8 as 3536\n",
      "Error while downloading.\n",
      "downloading: 8GanScp32ZfU as 3537\n"
     ]
    },
    {
     "name": "stdout",
     "output_type": "stream",
     "text": [
      "Error while downloading.\n",
      "downloading: 8Zg8_zsNqI_k as 3538\n",
      "Error while downloading.\n",
      "downloading: 8ZH4iO16staM as 3539\n"
     ]
    },
    {
     "name": "stdout",
     "output_type": "stream",
     "text": [
      "Error while downloading.\n",
      "downloading: 8a1N7WpBJNmI as 3540\n",
      "Error while downloading.\n",
      "downloading: 8Z8FoQrkemXM as 3541\n"
     ]
    },
    {
     "name": "stdout",
     "output_type": "stream",
     "text": [
      "Error while downloading.\n",
      "3543\n",
      "3544\n",
      "3545\n",
      "3546\n",
      "3547\n",
      "3548\n",
      "3549\n",
      "3550\n",
      "3551\n",
      "3552\n",
      "3553\n",
      "3554\n",
      "3555\n",
      "3556\n",
      "downloading: 5A5maZ6Ofzzs as 3556\n"
     ]
    },
    {
     "name": "stdout",
     "output_type": "stream",
     "text": [
      "Error while downloading.\n",
      "downloading: 11qw-mnZL7jQw as 3557\n",
      "Error while downloading.\n",
      "3559\n",
      "3560\n",
      "3561\n",
      "3562\n",
      "downloading: 58MAZ8EphgRE as 3562\n"
     ]
    },
    {
     "name": "stdout",
     "output_type": "stream",
     "text": [
      "Error while downloading.\n",
      "3564\n",
      "downloading: 6F76nyfT4ZwU as 3564\n",
      "Error while downloading.\n",
      "3566\n",
      "3567\n",
      "3568\n",
      "3569\n",
      "3570\n",
      "3571\n",
      "3572\n",
      "downloading: 10l3uW2YigEVQ as 3572\n"
     ]
    },
    {
     "name": "stdout",
     "output_type": "stream",
     "text": [
      "Error while downloading.\n",
      "3574\n",
      "3575\n",
      "3576\n",
      "downloading: 10gb-2BHD1A8s as 3576\n",
      "Error while downloading.\n",
      "downloading: 10ZfG1AdWhk8w as 3577\n"
     ]
    },
    {
     "name": "stdout",
     "output_type": "stream",
     "text": [
      "Error while downloading.\n",
      "3579\n",
      "3580\n",
      "3581\n",
      "downloading: 3RUZwVai02Mw as 3581\n",
      "Error while downloading.\n",
      "downloading: 3fQjybE_D_PY as 3582\n"
     ]
    },
    {
     "name": "stdout",
     "output_type": "stream",
     "text": [
      "Error while downloading.\n",
      "3584\n",
      "3585\n",
      "3586\n",
      "3587\n",
      "3588\n",
      "3589\n",
      "3590\n",
      "3591\n",
      "downloading: 3_xSR7zHxjzQ as 3591\n",
      "Error while downloading.\n",
      "3593\n",
      "3594\n",
      "3595\n",
      "3596\n",
      "3597\n",
      "downloading: 9MJiz60aN_5U as 3597\n"
     ]
    },
    {
     "name": "stdout",
     "output_type": "stream",
     "text": [
      "Error while downloading.\n",
      "downloading: 9MiHJozOTxPM as 3598\n",
      "Error while downloading.\n",
      "downloading: 9R4ObZerqZeo as 3599\n"
     ]
    },
    {
     "name": "stdout",
     "output_type": "stream",
     "text": [
      "Error while downloading.\n",
      "downloading: 91qyDNuYt_vc as 3600\n",
      "Error while downloading.\n",
      "downloading: 9P1x6OJpBS7s as 3601\n"
     ]
    },
    {
     "name": "stdout",
     "output_type": "stream",
     "text": [
      "Error while downloading.\n",
      "downloading: 5U_-3Lg-nBB8 as 3602\n",
      "Error while downloading.\n",
      "downloading: 7hQqheZzd2h0 as 3603\n"
     ]
    },
    {
     "name": "stdout",
     "output_type": "stream",
     "text": [
      "Error while downloading.\n",
      "downloading: 9QxYGZf7WIjw as 3604\n",
      "Error while downloading.\n",
      "downloading: 9kSALutqY-iQ as 3605\n"
     ]
    },
    {
     "name": "stdout",
     "output_type": "stream",
     "text": [
      "Error while downloading.\n",
      "downloading: 9NdZhjrVN-Rg as 3606\n",
      "Error while downloading.\n",
      "downloading: 9NNpCMYdrdTI as 3607\n"
     ]
    },
    {
     "name": "stdout",
     "output_type": "stream",
     "text": [
      "Error while downloading.\n",
      "downloading: 9n2WbS4jCaKA as 3608\n",
      "Error while downloading.\n",
      "3610\n",
      "3611\n",
      "downloading: 3x_BHpgZtl2Y as 3611\n"
     ]
    },
    {
     "name": "stdout",
     "output_type": "stream",
     "text": [
      "Error while downloading.\n",
      "downloading: 3hpbpuS4UjU0 as 3612\n",
      "Error while downloading.\n",
      "downloading: 3MJHoGFmzH0Q as 3613\n"
     ]
    },
    {
     "name": "stdout",
     "output_type": "stream",
     "text": [
      "Error while downloading.\n",
      "downloading: 53Jx86BgxlYs as 3614\n",
      "Error while downloading.\n",
      "downloading: 53KWc7r6Q7Yg as 3615\n"
     ]
    },
    {
     "name": "stdout",
     "output_type": "stream",
     "text": [
      "Error while downloading.\n",
      "downloading: 3Ne_2YB_oz3g as 3616\n",
      "Error while downloading.\n",
      "downloading: 3og8p4KLhCek as 3617\n"
     ]
    },
    {
     "name": "stdout",
     "output_type": "stream",
     "text": [
      "Error while downloading.\n",
      "downloading: 63cPzBlT_icg as 3618\n",
      "Error while downloading.\n",
      "3620\n",
      "3621\n",
      "downloading: 12-r_p0ymAWLc as 3621\n"
     ]
    },
    {
     "name": "stdout",
     "output_type": "stream",
     "text": [
      "Error while downloading.\n",
      "3623\n",
      "3624\n",
      "3625\n",
      "3626\n",
      "3627\n",
      "downloading: 10QdIlLX2UwdY as 3627\n",
      "Error while downloading.\n",
      "downloading: 10_2B7Zw1tHAI as 3628\n"
     ]
    },
    {
     "name": "stdout",
     "output_type": "stream",
     "text": [
      "Error while downloading.\n",
      "3630\n",
      "downloading: 10uTrVBXkAEC4 as 3630\n",
      "Error while downloading.\n",
      "3632\n",
      "3633\n",
      "downloading: 9GAcsaSIewlE as 3633\n"
     ]
    },
    {
     "name": "stdout",
     "output_type": "stream",
     "text": [
      "Error while downloading.\n",
      "downloading: 9pneVG8IDZOU as 3634\n",
      "Error while downloading.\n",
      "3636\n",
      "3637\n",
      "3638\n",
      "3639\n",
      "3640\n",
      "3641\n",
      "3642\n",
      "downloading: 6p7b9eRErMEc as 3642\n"
     ]
    },
    {
     "name": "stdout",
     "output_type": "stream",
     "text": [
      "Error while downloading.\n",
      "3644\n",
      "3645\n",
      "3646\n",
      "3647\n",
      "3648\n",
      "downloading: 30byh3rD-XSo as 3648\n",
      "Error while downloading.\n",
      "3650\n",
      "downloading: 6Dq1zNBW4Pag as 3650\n"
     ]
    },
    {
     "name": "stdout",
     "output_type": "stream",
     "text": [
      "Error while downloading.\n",
      "downloading: 6IKYwnH0sr_M as 3651\n",
      "Error while downloading.\n",
      "3653\n",
      "3654\n",
      "3655\n",
      "3656\n",
      "3657\n",
      "downloading: 9EYb6MoA_GAU as 3657\n"
     ]
    },
    {
     "name": "stdout",
     "output_type": "stream",
     "text": [
      "Error while downloading.\n",
      "3659\n",
      "3660\n",
      "3661\n",
      "3662\n",
      "3663\n",
      "3664\n",
      "3665\n",
      "3666\n",
      "3667\n",
      "downloading: 8lk8CBFwM_2E as 3667\n",
      "Error while downloading.\n",
      "3669\n",
      "downloading: 12L1pdMant7SQ as 3669\n"
     ]
    },
    {
     "name": "stdout",
     "output_type": "stream",
     "text": [
      "Error while downloading.\n",
      "3671\n",
      "downloading: 4FZYSUBVthqs as 3671\n",
      "Error while downloading.\n",
      "3673\n",
      "3674\n",
      "3675\n",
      "3676\n",
      "3677\n",
      "3678\n",
      "downloading: 12Rpbot6PSEd0 as 3678\n"
     ]
    },
    {
     "name": "stdout",
     "output_type": "stream",
     "text": [
      "Error while downloading.\n",
      "3680\n",
      "3681\n",
      "downloading: 11vcRieWyHrgs as 3681\n",
      "Error while downloading.\n",
      "3683\n",
      "3684\n",
      "3685\n",
      "3686\n",
      "3687\n",
      "3688\n",
      "3689\n",
      "3690\n",
      "3691\n",
      "3692\n",
      "3693\n",
      "3694\n",
      "3695\n",
      "3696\n",
      "3697\n",
      "3698\n",
      "downloading: 4lxGqV1aMgQA as 3698\n"
     ]
    },
    {
     "name": "stdout",
     "output_type": "stream",
     "text": [
      "Error while downloading.\n",
      "3700\n",
      "3701\n",
      "3702\n",
      "3703\n",
      "3704\n",
      "downloading: 4j_Sorb50xxI as 3704\n",
      "Error while downloading.\n",
      "3706\n",
      "downloading: 8m5Fk0XcH16A as 3706\n"
     ]
    },
    {
     "name": "stdout",
     "output_type": "stream",
     "text": [
      "Error while downloading.\n",
      "3708\n",
      "3709\n",
      "3710\n",
      "3711\n",
      "3712\n",
      "3713\n",
      "3714\n",
      "3715\n",
      "3716\n",
      "3717\n",
      "3718\n",
      "3719\n",
      "downloading: 389U_9l58Fkg as 3719\n"
     ]
    },
    {
     "name": "stdout",
     "output_type": "stream",
     "text": [
      "Error while downloading.\n",
      "3721\n",
      "3722\n",
      "3723\n"
     ]
    },
    {
     "name": "stdout",
     "output_type": "stream",
     "text": [
      "3724\n",
      "3725\n",
      "3726\n",
      "3727\n",
      "downloading: 5vPshnRDfhEA as 3727\n"
     ]
    },
    {
     "name": "stdout",
     "output_type": "stream",
     "text": [
      "Error while downloading.\n",
      "downloading: 6LI7D5o6whF4 as 3728\n",
      "Error while downloading.\n",
      "downloading: 12CvDtlxOiyiA as 3729\n"
     ]
    },
    {
     "name": "stdout",
     "output_type": "stream",
     "text": [
      "Error while downloading.\n",
      "downloading: 4FzJkF5VhH-c as 3730\n",
      "Error while downloading.\n",
      "3732\n"
     ]
    },
    {
     "name": "stdout",
     "output_type": "stream",
     "text": [
      "3733\n",
      "3734\n",
      "3735\n",
      "3736\n",
      "3737\n",
      "downloading: 3vD00r8nDFB0 as 3737\n",
      "Error while downloading.\n"
     ]
    },
    {
     "name": "stdout",
     "output_type": "stream",
     "text": [
      "3739\n",
      "3740\n",
      "3741\n",
      "3742\n",
      "3743\n",
      "3744\n",
      "downloading: 10Evfb1P9atU0 as 3744\n"
     ]
    },
    {
     "name": "stdout",
     "output_type": "stream",
     "text": [
      "Error while downloading.\n",
      "3746\n",
      "downloading: 6IjEwHr9OiJ0 as 3746\n"
     ]
    },
    {
     "name": "stdout",
     "output_type": "stream",
     "text": [
      "Error while downloading.\n",
      "3748\n",
      "3749\n",
      "downloading: 4U8fBTttEj2g as 3749\n",
      "Error while downloading.\n",
      "downloading: 3QC02N4J4RNs as 3750\n"
     ]
    },
    {
     "name": "stdout",
     "output_type": "stream",
     "text": [
      "Error while downloading.\n",
      "3752\n",
      "3753\n",
      "3754\n",
      "3755\n",
      "3756\n",
      "3757\n",
      "3758\n",
      "downloading: 12tALMbWWTIaw as 3758\n",
      "Error while downloading.\n",
      "downloading: 7RH1QH73rBlc as 3759\n"
     ]
    },
    {
     "name": "stdout",
     "output_type": "stream",
     "text": [
      "Error while downloading.\n",
      "3761\n",
      "3762\n",
      "3763\n",
      "3764\n",
      "3765\n",
      "3766\n",
      "3767\n",
      "3768\n",
      "3769\n",
      "3770\n",
      "3771\n",
      "3772\n",
      "3773\n",
      "3774\n",
      "3775\n",
      "3776\n",
      "3777\n",
      "3778\n",
      "3779\n",
      "3780\n",
      "3781\n",
      "3782\n",
      "3783\n",
      "3784\n",
      "3785\n",
      "3786\n",
      "3787\n",
      "3788\n",
      "3789\n",
      "3790\n",
      "3791\n",
      "3792\n",
      "3793\n",
      "3794\n",
      "3795\n",
      "3796\n",
      "3797\n",
      "3798\n",
      "3799\n",
      "3800\n",
      "3801\n",
      "3802\n",
      "3803\n",
      "3804\n",
      "3805\n",
      "3806\n",
      "3807\n",
      "3808\n",
      "3809\n",
      "3810\n",
      "3811\n"
     ]
    },
    {
     "name": "stdout",
     "output_type": "stream",
     "text": [
      "3812\n",
      "3813\n",
      "3814\n",
      "3815\n",
      "3816\n",
      "3817\n",
      "3818\n",
      "3819\n",
      "3820\n",
      "3821\n",
      "3822\n",
      "3823\n",
      "3824\n",
      "3825\n",
      "3826\n",
      "3827\n",
      "3828\n",
      "3829\n",
      "3830\n",
      "3831\n",
      "3832\n",
      "3833\n",
      "3834\n",
      "3835\n",
      "3836\n",
      "3837\n",
      "3838\n",
      "3839\n",
      "3840\n",
      "3841\n",
      "3842\n",
      "3843\n",
      "3844\n",
      "3845\n",
      "3846\n",
      "3847\n",
      "3848\n",
      "3849\n",
      "3850\n",
      "3851\n",
      "3852\n",
      "3853\n",
      "3854\n",
      "3855\n",
      "3856\n",
      "3857\n",
      "3858\n",
      "3859\n",
      "3860\n",
      "3861\n",
      "3862\n",
      "3863\n",
      "3864\n",
      "3865\n",
      "3866\n",
      "3867\n",
      "3868\n",
      "3869\n",
      "3870\n",
      "3871\n",
      "3872\n",
      "3873\n",
      "3874\n",
      "3875\n",
      "3876\n",
      "3877\n",
      "3878\n",
      "3879\n",
      "3880\n",
      "3881\n",
      "3882\n",
      "3883\n",
      "3884\n",
      "3885\n",
      "3886\n",
      "3887\n",
      "3888\n",
      "3889\n",
      "3890\n",
      "3891\n",
      "3892\n",
      "3893\n",
      "3894\n",
      "3895\n",
      "3896\n",
      "3897\n",
      "3898\n",
      "3899\n",
      "3900\n",
      "3901\n",
      "3902\n",
      "3903\n",
      "3904\n",
      "3905\n",
      "3906\n",
      "3907\n",
      "3908\n",
      "3909\n",
      "3910\n",
      "3911\n",
      "downloading: 7Z_l0rSzEiyY as 3911\n"
     ]
    },
    {
     "name": "stdout",
     "output_type": "stream",
     "text": [
      "Error while downloading.\n",
      "3913\n",
      "3914\n",
      "3915\n",
      "3916\n",
      "3917\n",
      "3918\n",
      "3919\n",
      "3920\n",
      "downloading: 10rCWKZGCvPBU as 3920\n",
      "Error while downloading.\n",
      "3922\n",
      "3923\n",
      "3924\n",
      "3925\n",
      "3926\n",
      "3927\n",
      "3928\n",
      "3929\n",
      "downloading: 122VTo3TuHimg as 3929\n"
     ]
    },
    {
     "name": "stdout",
     "output_type": "stream",
     "text": [
      "Error while downloading.\n",
      "3931\n",
      "downloading: 8rpQUJTmQU6Y as 3931\n",
      "Error while downloading.\n",
      "3933\n",
      "3934\n",
      "3935\n",
      "3936\n",
      "downloading: 7BXkSRv9mpW8 as 3936\n"
     ]
    },
    {
     "name": "stdout",
     "output_type": "stream",
     "text": [
      "Error while downloading.\n",
      "downloading: 8S3UxKHaXKMs as 3937\n",
      "Error while downloading.\n",
      "downloading: 7WggWA4p5jrU as 3938\n"
     ]
    },
    {
     "name": "stdout",
     "output_type": "stream",
     "text": [
      "Error while downloading.\n",
      "3940\n",
      "3941\n",
      "3942\n",
      "3943\n",
      "3944\n",
      "3945\n",
      "3946\n",
      "3947\n",
      "3948\n",
      "3949\n",
      "3950\n",
      "downloading: 6PtWrqbcVXjA as 3950\n",
      "Error while downloading.\n",
      "downloading: 78gPwArst_w8 as 3951\n"
     ]
    },
    {
     "name": "stdout",
     "output_type": "stream",
     "text": [
      "Error while downloading.\n",
      "downloading: 3yNhMX_r5uXE as 3952\n",
      "Error while downloading.\n",
      "3954\n",
      "3955\n",
      "3956\n",
      "3957\n",
      "3958\n",
      "3959\n",
      "3960\n",
      "downloading: 5jXJy0goH1j8 as 3960\n"
     ]
    },
    {
     "name": "stdout",
     "output_type": "stream",
     "text": [
      "Error while downloading.\n",
      "3962\n",
      "3963\n",
      "downloading: 5hYwEaT_RjLY as 3963\n",
      "Error while downloading.\n",
      "3965\n",
      "3966\n",
      "3967\n",
      "3968\n",
      "3969\n",
      "3970\n",
      "3971\n",
      "3972\n",
      "3973\n",
      "3974\n",
      "3975\n",
      "downloading: 5TfeDcj_bwbk as 3975\n"
     ]
    },
    {
     "name": "stdout",
     "output_type": "stream",
     "text": [
      "Error while downloading.\n",
      "3977\n",
      "3978\n",
      "downloading: 7DbBHmGBGWNM as 3978\n",
      "Error while downloading.\n",
      "3980\n",
      "3981\n",
      "3982\n",
      "3983\n",
      "3984\n",
      "3985\n"
     ]
    },
    {
     "name": "stdout",
     "output_type": "stream",
     "text": [
      "3986\n",
      "3987\n",
      "3988\n",
      "3989\n",
      "3990\n",
      "3991\n",
      "3992\n",
      "3993\n",
      "3994\n",
      "3995\n",
      "3996\n",
      "3997\n",
      "3998\n",
      "3999\n",
      "4000\n",
      "4001\n",
      "downloading: 10xgUUkY3w6IU as 4001\n"
     ]
    },
    {
     "name": "stdout",
     "output_type": "stream",
     "text": [
      "Error while downloading.\n",
      "4003\n",
      "downloading: 9PJsZcN3dQvw as 4003\n",
      "Error while downloading.\n",
      "4005\n",
      "4006\n",
      "4007\n",
      "4008\n",
      "4009\n",
      "4010\n",
      "4011\n",
      "downloading: 1031VMs0oUZtA as 4011\n"
     ]
    },
    {
     "name": "stdout",
     "output_type": "stream",
     "text": [
      "Error while downloading.\n",
      "4013\n",
      "4014\n",
      "4015\n",
      "4016\n",
      "4017\n",
      "downloading: 7QhaSfwz9CRc as 4017\n",
      "Error while downloading.\n",
      "downloading: 7V8k0PVFrkJg as 4018\n"
     ]
    },
    {
     "name": "stdout",
     "output_type": "stream",
     "text": [
      "Error while downloading.\n",
      "4020\n",
      "downloading: 11GwUHmfAsKHI as 4020\n",
      "Error while downloading.\n",
      "4022\n",
      "4023\n",
      "4024\n",
      "downloading: 3W2lw4uF_N4w as 4024\n"
     ]
    },
    {
     "name": "stdout",
     "output_type": "stream",
     "text": [
      "Error while downloading.\n",
      "4026\n",
      "4027\n",
      "4028\n",
      "4029\n",
      "4030\n",
      "4031\n",
      "4032\n",
      "4033\n",
      "4034\n",
      "4035\n",
      "4036\n",
      "4037\n",
      "4038\n",
      "4039\n",
      "downloading: 12xXJy5ld0AVM as 4039\n"
     ]
    },
    {
     "name": "stdout",
     "output_type": "stream",
     "text": [
      "Error while downloading.\n",
      "4041\n",
      "4042\n",
      "4043\n",
      "4044\n",
      "downloading: 8FvJInMoj-6A as 4044\n",
      "Error while downloading.\n",
      "4046\n",
      "downloading: 10oAF4lWlaJ1U as 4046\n"
     ]
    },
    {
     "name": "stdout",
     "output_type": "stream",
     "text": [
      "Error while downloading.\n",
      "4048\n"
     ]
    },
    {
     "name": "stdout",
     "output_type": "stream",
     "text": [
      "4049\n",
      "4050\n",
      "4051\n",
      "4052\n",
      "4053\n",
      "4054\n",
      "4055\n",
      "4056\n",
      "4057\n",
      "4058\n",
      "4059\n",
      "4060\n",
      "4061\n",
      "4062\n",
      "4063\n",
      "4064\n",
      "4065\n",
      "4066\n",
      "4067\n",
      "downloading: 83qjJ9jdxNYY as 4067\n"
     ]
    },
    {
     "name": "stdout",
     "output_type": "stream",
     "text": [
      "Error while downloading.\n",
      "4069\n",
      "4070\n",
      "4071\n",
      "4072\n",
      "4073\n",
      "4074\n",
      "4075\n",
      "4076\n",
      "4077\n",
      "downloading: 10aNPBqXULZtY as 4077\n",
      "Error while downloading.\n",
      "downloading: 10vCTsEHcij4M as 4078\n"
     ]
    },
    {
     "name": "stdout",
     "output_type": "stream",
     "text": [
      "Error while downloading.\n",
      "4080\n",
      "4081\n",
      "downloading: 5WpdSVTbFtQQ as 4081\n",
      "Error while downloading.\n",
      "4083\n",
      "4084\n",
      "4085\n",
      "downloading: 92ATzsKO5JZo as 4085\n"
     ]
    },
    {
     "name": "stdout",
     "output_type": "stream",
     "text": [
      "Error while downloading.\n",
      "downloading: 7hu3tJhWY7nQ as 4086\n",
      "Error while downloading.\n",
      "4088\n",
      "4089\n",
      "downloading: 6fmccAed90B8 as 4089\n"
     ]
    },
    {
     "name": "stdout",
     "output_type": "stream",
     "text": [
      "Error while downloading.\n",
      "4091\n",
      "4092\n",
      "downloading: 9T-jfAqc8ZqI as 4092\n",
      "Error while downloading.\n",
      "downloading: 12Nyn31rwWYWM as 4093\n"
     ]
    },
    {
     "name": "stdout",
     "output_type": "stream",
     "text": [
      "Error while downloading.\n",
      "4095\n",
      "4096\n",
      "4097\n",
      "downloading: 3juh6157xEN0 as 4097\n",
      "Error while downloading.\n",
      "4099\n",
      "4100\n",
      "4101\n",
      "4102\n",
      "4103\n",
      "4104\n",
      "downloading: 4lxYSwAJHx8M as 4104\n"
     ]
    },
    {
     "name": "stdout",
     "output_type": "stream",
     "text": [
      "Error while downloading.\n",
      "4106\n",
      "4107\n",
      "downloading: 98RqvoKgvHdI as 4107\n",
      "Error while downloading.\n",
      "downloading: 10GZgXLS2Jd38 as 4108\n"
     ]
    },
    {
     "name": "stdout",
     "output_type": "stream",
     "text": [
      "Error while downloading.\n",
      "4110\n",
      "downloading: 4pL0HT7ff58A as 4110\n",
      "Error while downloading.\n",
      "4112\n",
      "downloading: 4L1Zzy4HPn1Q as 4112\n"
     ]
    },
    {
     "name": "stdout",
     "output_type": "stream",
     "text": [
      "Error while downloading.\n",
      "downloading: 8wdlJ-F6y9Gk as 4113\n",
      "Error while downloading.\n",
      "4115\n",
      "4116\n",
      "4117\n",
      "4118\n",
      "4119\n",
      "4120\n",
      "4121\n"
     ]
    },
    {
     "name": "stdout",
     "output_type": "stream",
     "text": [
      "4122\n",
      "downloading: 3lXdbIEJTKa0 as 4122\n",
      "Error while downloading.\n",
      "downloading: 11makitV4Jb7I as 4123\n"
     ]
    },
    {
     "name": "stdout",
     "output_type": "stream",
     "text": [
      "Error while downloading.\n",
      "4125\n",
      "downloading: 10BUWRBb3a0eo as 4125\n",
      "Error while downloading.\n",
      "downloading: 10NCQFqLAqxyk as 4126\n"
     ]
    },
    {
     "name": "stdout",
     "output_type": "stream",
     "text": [
      "Error while downloading.\n",
      "4128\n",
      "4129\n",
      "4130\n",
      "4131\n",
      "4132\n",
      "4133\n",
      "downloading: 8Biv5Ay08N88 as 4133\n",
      "Error while downloading.\n",
      "4135\n",
      "downloading: 10QeaFq00BHfE as 4135\n"
     ]
    },
    {
     "name": "stdout",
     "output_type": "stream",
     "text": [
      "Error while downloading.\n",
      "4137\n",
      "4138\n",
      "4139\n",
      "downloading: 8xwmeEYmOqUg as 4139\n",
      "Error while downloading.\n",
      "downloading: 6NxKmcYttG4c as 4140\n"
     ]
    },
    {
     "name": "stdout",
     "output_type": "stream",
     "text": [
      "Error while downloading.\n",
      "4142\n",
      "4143\n",
      "4144\n",
      "downloading: 10AgtLxvkkhF4 as 4144\n",
      "Error while downloading.\n",
      "4146\n",
      "downloading: 4qDzAL6kN6PQ as 4146\n"
     ]
    },
    {
     "name": "stdout",
     "output_type": "stream",
     "text": [
      "Error while downloading.\n",
      "4148\n",
      "downloading: 4iDS5AtEjAcU as 4148\n",
      "Error while downloading.\n",
      "4150\n",
      "4151\n",
      "4152\n",
      "4153\n",
      "4154\n",
      "4155\n",
      "4156\n",
      "downloading: 3w1hOZ-q-TKY as 4156\n"
     ]
    },
    {
     "name": "stdout",
     "output_type": "stream",
     "text": [
      "Error while downloading.\n",
      "4158\n",
      "4159\n",
      "4160\n",
      "4161\n",
      "4162\n",
      "downloading: 10Wbjv6j-VzZw as 4162\n",
      "Error while downloading.\n",
      "downloading: 11g29rqV128hw as 4163\n"
     ]
    },
    {
     "name": "stdout",
     "output_type": "stream",
     "text": [
      "Error while downloading.\n",
      "downloading: 6OWGww2HUm8w as 4164\n",
      "Error while downloading.\n",
      "4166\n",
      "4167\n",
      "4168\n",
      "downloading: 7EZSkct0QDZc as 4168\n"
     ]
    },
    {
     "name": "stdout",
     "output_type": "stream",
     "text": [
      "Error while downloading.\n",
      "downloading: 4UFlYmskqTa8 as 4169\n",
      "Error while downloading.\n",
      "downloading: 8Qj9W-kVKw-Q as 4170\n"
     ]
    },
    {
     "name": "stdout",
     "output_type": "stream",
     "text": [
      "Error while downloading.\n",
      "downloading: 101_oIq-Sz3LI as 4171\n",
      "Error while downloading.\n",
      "downloading: 10lkS_a7xaxFc as 4172\n"
     ]
    },
    {
     "name": "stdout",
     "output_type": "stream",
     "text": [
      "Error while downloading.\n",
      "4174\n",
      "4175\n",
      "4176\n",
      "4177\n",
      "4178\n",
      "4179\n",
      "4180\n",
      "downloading: 8ZSR3uWzIPDk as 4180\n",
      "Error while downloading.\n",
      "4182\n",
      "4183\n",
      "downloading: 8DiyvmmGQ6gc as 4183\n"
     ]
    },
    {
     "name": "stdout",
     "output_type": "stream",
     "text": [
      "Error while downloading.\n",
      "4185\n",
      "4186\n",
      "downloading: 85CsSx_8S1R8 as 4186\n",
      "Error while downloading.\n",
      "downloading: 8pRvrn2_Av_Y as 4187\n"
     ]
    },
    {
     "name": "stdout",
     "output_type": "stream",
     "text": [
      "Error while downloading.\n",
      "downloading: 11GgshhUB3YQg as 4188\n",
      "Error while downloading.\n",
      "4190\n",
      "downloading: 8Mvdm0AdIOV4 as 4190\n"
     ]
    },
    {
     "name": "stdout",
     "output_type": "stream",
     "text": [
      "Error while downloading.\n",
      "4192\n",
      "4193\n",
      "4194\n",
      "4195\n",
      "4196\n",
      "downloading: 7k-0rTrHCUqI as 4196\n",
      "Error while downloading.\n",
      "4198\n",
      "downloading: 3PXcQzV9YYx4 as 4198\n"
     ]
    },
    {
     "name": "stdout",
     "output_type": "stream",
     "text": [
      "Error while downloading.\n",
      "4200\n",
      "downloading: 8Ocr05MKh2bE as 4200\n",
      "Error while downloading.\n",
      "downloading: 84h_HdxcXsx0 as 4201\n"
     ]
    },
    {
     "name": "stdout",
     "output_type": "stream",
     "text": [
      "Error while downloading.\n",
      "4203\n",
      "4204\n",
      "4205\n",
      "downloading: 83jT54pjRk44 as 4205\n",
      "Error while downloading.\n",
      "downloading: 8WYIOi20Lc-I as 4206\n"
     ]
    },
    {
     "name": "stdout",
     "output_type": "stream",
     "text": [
      "Error while downloading.\n",
      "downloading: 85FHO6SzxgDA as 4207\n",
      "Error while downloading.\n",
      "4209\n",
      "4210\n",
      "4211\n",
      "4212\n",
      "downloading: 6Wd0IjCaJMzY as 4212\n"
     ]
    },
    {
     "name": "stdout",
     "output_type": "stream",
     "text": [
      "Error while downloading.\n",
      "downloading: 3Ky_4faxZyWw as 4213\n",
      "Error while downloading.\n",
      "4215\n",
      "downloading: 7jGgMLGpfpHc as 4215\n"
     ]
    },
    {
     "name": "stdout",
     "output_type": "stream",
     "text": [
      "Error while downloading.\n",
      "downloading: 7YPz9kWx3qck as 4216\n",
      "Error while downloading.\n",
      "4218\n",
      "4219\n",
      "4220\n",
      "4221\n",
      "downloading: 3U0yBzUjGxK4 as 4221\n"
     ]
    },
    {
     "name": "stdout",
     "output_type": "stream",
     "text": [
      "Error while downloading.\n",
      "4223\n",
      "4224\n",
      "4225\n",
      "downloading: 8rda9Fc0kDWU as 4225\n",
      "Error while downloading.\n",
      "downloading: 8K8hrH-HYJyw as 4226\n"
     ]
    },
    {
     "name": "stdout",
     "output_type": "stream",
     "text": [
      "Error while downloading.\n",
      "downloading: 8_mgC3UwYk2M as 4227\n",
      "Error while downloading.\n",
      "downloading: 8IXHwmOqXtBE as 4228\n"
     ]
    },
    {
     "name": "stdout",
     "output_type": "stream",
     "text": [
      "Error while downloading.\n",
      "4230\n",
      "4231\n",
      "downloading: 42iVmzl0Wjxk as 4231\n",
      "Error while downloading.\n",
      "downloading: 10KEmRUkIj6ok as 4232\n"
     ]
    },
    {
     "name": "stdout",
     "output_type": "stream",
     "text": [
      "Error while downloading.\n",
      "downloading: 7nZIVw0DSnVE as 4233\n",
      "Error while downloading.\n",
      "downloading: 10PpgJuRMEQzo as 4234\n"
     ]
    },
    {
     "name": "stdout",
     "output_type": "stream",
     "text": [
      "Error while downloading.\n",
      "downloading: 7fPRmNIl7Uk0 as 4235\n",
      "Error while downloading.\n",
      "4237\n",
      "4238\n",
      "4239\n",
      "downloading: 85EUDP7gAfBE as 4239\n"
     ]
    },
    {
     "name": "stdout",
     "output_type": "stream",
     "text": [
      "Error while downloading.\n",
      "4241\n",
      "4242\n",
      "downloading: 4ZyNMnc9nV18 as 4242\n",
      "Error while downloading.\n",
      "downloading: 4EKVSuH2ilM0 as 4243\n"
     ]
    },
    {
     "name": "stdout",
     "output_type": "stream",
     "text": [
      "Error while downloading.\n",
      "downloading: 4TIkS-xA9clE as 4244\n",
      "Error while downloading.\n",
      "4246\n",
      "downloading: 4sJtJrwTmmuY as 4246\n"
     ]
    },
    {
     "name": "stdout",
     "output_type": "stream",
     "text": [
      "Error while downloading.\n",
      "4248\n",
      "4249\n",
      "4250\n",
      "4251\n",
      "4252\n",
      "downloading: 12L2dBWCKnYao as 4252\n",
      "Error while downloading.\n",
      "4254\n",
      "4255\n",
      "downloading: 7Mx22dxGgMUs as 4255\n"
     ]
    },
    {
     "name": "stdout",
     "output_type": "stream",
     "text": [
      "Error while downloading.\n",
      "4257\n",
      "4258\n",
      "4259\n",
      "downloading: 11ZzSFsZ4lDKQ as 4259\n",
      "Error while downloading.\n",
      "4261\n",
      "4262\n",
      "4263\n",
      "4264\n",
      "4265\n",
      "downloading: 10TzX1fV6mgG4 as 4265\n"
     ]
    },
    {
     "name": "stdout",
     "output_type": "stream",
     "text": [
      "Error while downloading.\n",
      "downloading: 8do2Fn_vUnzo as 4266\n",
      "Error while downloading.\n",
      "downloading: 8ZOtc7gAeDPQ as 4267\n"
     ]
    },
    {
     "name": "stdout",
     "output_type": "stream",
     "text": [
      "Error while downloading.\n",
      "downloading: 8CsN1sLHkW0A as 4268\n",
      "Error while downloading.\n",
      "downloading: 8cg6jz--W18A as 4269\n"
     ]
    },
    {
     "name": "stdout",
     "output_type": "stream",
     "text": [
      "Error while downloading.\n",
      "downloading: 12c92JdCYi440 as 4270\n",
      "Error while downloading.\n",
      "4272\n",
      "4273\n",
      "downloading: 12Izz8Rtxjb_A as 4273\n"
     ]
    },
    {
     "name": "stdout",
     "output_type": "stream",
     "text": [
      "Error while downloading.\n",
      "downloading: 126Zda8rpghkM as 4274\n",
      "Error while downloading.\n",
      "4276\n",
      "downloading: 9SCRFC9EO4VY as 4276\n"
     ]
    },
    {
     "name": "stdout",
     "output_type": "stream",
     "text": [
      "Error while downloading.\n",
      "4278\n",
      "downloading: 12ZUb_gaCUxJw as 4278\n",
      "Error while downloading.\n",
      "downloading: 12JTrJGFvEKhw as 4279\n"
     ]
    },
    {
     "name": "stdout",
     "output_type": "stream",
     "text": [
      "Error while downloading.\n",
      "downloading: 12SckWfEUhKWY as 4280\n",
      "Error while downloading.\n",
      "downloading: 9nbiGriuVJyY as 4281\n"
     ]
    },
    {
     "name": "stdout",
     "output_type": "stream",
     "text": [
      "Error while downloading.\n",
      "downloading: 11J_MY4rJZBZw as 4282\n",
      "Error while downloading.\n",
      "downloading: 11cwKXkvOEPyE as 4283\n"
     ]
    },
    {
     "name": "stdout",
     "output_type": "stream",
     "text": [
      "Error while downloading.\n",
      "downloading: 11IJEiYjoO9Jg as 4284\n",
      "Error while downloading.\n",
      "downloading: 11tNUnn0aJ5aU as 4285\n"
     ]
    },
    {
     "name": "stdout",
     "output_type": "stream",
     "text": [
      "Error while downloading.\n",
      "downloading: 11AjuVwfwuBnM as 4286\n",
      "Error while downloading.\n",
      "downloading: 11nHR4dinRuWo as 4287\n"
     ]
    },
    {
     "name": "stdout",
     "output_type": "stream",
     "text": [
      "Error while downloading.\n",
      "downloading: 11Q0VWTADRc2E as 4288\n",
      "Error while downloading.\n",
      "downloading: 12A5qvQGQgodI as 4289\n"
     ]
    },
    {
     "name": "stdout",
     "output_type": "stream",
     "text": [
      "Error while downloading.\n",
      "downloading: 12tOFO2BKY1Dg as 4290\n",
      "Error while downloading.\n",
      "4292\n",
      "4293\n",
      "4294\n",
      "4295\n",
      "4296\n",
      "4297\n",
      "4298\n",
      "4299\n",
      "4300\n",
      "4301\n"
     ]
    },
    {
     "name": "stdout",
     "output_type": "stream",
     "text": [
      "4302\n",
      "4303\n",
      "4304\n",
      "4305\n",
      "downloading: 7L806A0e9CmI as 4305\n",
      "Error while downloading.\n",
      "4307\n",
      "4308\n",
      "4309\n",
      "downloading: 7qvQZ29fCkWQ as 4309\n"
     ]
    },
    {
     "name": "stdout",
     "output_type": "stream",
     "text": [
      "Error while downloading.\n",
      "4311\n",
      "4312\n",
      "4313\n",
      "4314\n",
      "4315\n",
      "4316\n",
      "4317\n",
      "4318\n",
      "4319\n",
      "4320\n",
      "4321\n",
      "4322\n",
      "4323\n",
      "downloading: 7eOR4oenOL90 as 4323\n",
      "Error while downloading.\n",
      "downloading: 7YZoouvH5dwo as 4324\n"
     ]
    },
    {
     "name": "stdout",
     "output_type": "stream",
     "text": [
      "Error while downloading.\n",
      "downloading: 78-tAbEeybUM as 4325\n",
      "Error while downloading.\n",
      "4327\n",
      "downloading: 5V3Gf9kElDZw as 4327\n"
     ]
    },
    {
     "name": "stdout",
     "output_type": "stream",
     "text": [
      "Error while downloading.\n",
      "downloading: 5-74qQ2BHI6o as 4328\n",
      "Error while downloading.\n",
      "downloading: 5u4G5cHmzdB4 as 4329\n"
     ]
    },
    {
     "name": "stdout",
     "output_type": "stream",
     "text": [
      "Error while downloading.\n",
      "downloading: 5ZLOKVN9CJuM as 4330\n",
      "Error while downloading.\n",
      "downloading: 56N_EUBT3-kE as 4331\n"
     ]
    },
    {
     "name": "stdout",
     "output_type": "stream",
     "text": [
      "Error while downloading.\n",
      "downloading: 5OOiKSggsO2E as 4332\n",
      "Error while downloading.\n",
      "downloading: 5sZJva8AsC30 as 4333\n"
     ]
    },
    {
     "name": "stdout",
     "output_type": "stream",
     "text": [
      "Error while downloading.\n",
      "downloading: 5yTWvs2hkb1Y as 4334\n",
      "Error while downloading.\n",
      "downloading: 5jcLvBus4gL0 as 4335\n"
     ]
    },
    {
     "name": "stdout",
     "output_type": "stream",
     "text": [
      "Error while downloading.\n",
      "downloading: 5GcdPegG3OEE as 4336\n",
      "Error while downloading.\n",
      "downloading: 5g3xG9Iousg4 as 4337\n"
     ]
    },
    {
     "name": "stdout",
     "output_type": "stream",
     "text": [
      "Error while downloading.\n",
      "downloading: 52mGwDTdPPwA as 4338\n",
      "Error while downloading.\n",
      "downloading: 5iJxzxPLoG54 as 4339\n"
     ]
    },
    {
     "name": "stdout",
     "output_type": "stream",
     "text": [
      "Error while downloading.\n",
      "downloading: 5__7p1R8SM_0 as 4340\n",
      "Error while downloading.\n",
      "downloading: 5r-4ueDTpkoc as 4341\n"
     ]
    },
    {
     "name": "stdout",
     "output_type": "stream",
     "text": [
      "Error while downloading.\n",
      "downloading: 5K2U5dN6fVnw as 4342\n",
      "Error while downloading.\n",
      "4344\n",
      "downloading: 7pWzePFaIExA as 4344\n"
     ]
    },
    {
     "name": "stdout",
     "output_type": "stream",
     "text": [
      "Error while downloading.\n",
      "downloading: 437hHU5SdmLY as 4345\n",
      "Error while downloading.\n",
      "downloading: 40p7cAJJjS4o as 4346\n"
     ]
    },
    {
     "name": "stdout",
     "output_type": "stream",
     "text": [
      "Error while downloading.\n",
      "4348\n",
      "downloading: 5VcWmBdX1cNo as 4348\n",
      "Error while downloading.\n",
      "4350\n",
      "downloading: 4WRrQP8XLbsc as 4350\n"
     ]
    },
    {
     "name": "stdout",
     "output_type": "stream",
     "text": [
      "Error while downloading.\n",
      "4352\n",
      "4353\n",
      "4354\n",
      "4355\n",
      "4356\n",
      "4357\n",
      "4358\n",
      "4359\n",
      "4360\n",
      "4361\n",
      "4362\n",
      "4363\n",
      "4364\n",
      "4365\n",
      "4366\n",
      "4367\n",
      "4368\n",
      "4369\n",
      "4370\n",
      "4371\n",
      "4372\n",
      "4373\n",
      "4374\n",
      "4375\n",
      "4376\n",
      "4377\n",
      "4378\n",
      "4379\n",
      "4380\n",
      "4381\n",
      "4382\n",
      "4383\n",
      "4384\n",
      "4385\n",
      "4386\n",
      "4387\n",
      "4388\n",
      "4389\n",
      "4390\n",
      "4391\n",
      "4392\n",
      "4393\n",
      "4394\n",
      "4395\n",
      "4396\n",
      "4397\n",
      "4398\n",
      "4399\n",
      "4400\n",
      "4401\n",
      "4402\n",
      "4403\n",
      "4404\n",
      "downloading: 32i2SnA65Pu4 as 4404\n"
     ]
    },
    {
     "name": "stdout",
     "output_type": "stream",
     "text": [
      "Error while downloading.\n",
      "4406\n",
      "4407\n",
      "4408\n",
      "4409\n",
      "4410\n",
      "4411\n",
      "4412\n",
      "4413\n",
      "4414\n",
      "4415\n",
      "4416\n",
      "4417\n",
      "4418\n",
      "4419\n",
      "4420\n",
      "4421\n",
      "4422\n",
      "4423\n",
      "4424\n",
      "4425\n",
      "4426\n",
      "4427\n",
      "4428\n",
      "downloading: 8C_A2AwuWNfs as 4428\n",
      "Error while downloading.\n"
     ]
    },
    {
     "name": "stdout",
     "output_type": "stream",
     "text": [
      "4430\n",
      "4431\n",
      "4432\n",
      "4433\n",
      "4434\n",
      "4435\n",
      "downloading: 8iJhrgSD2emA as 4435\n",
      "Error while downloading.\n",
      "4437\n",
      "4438\n",
      "4439\n",
      "4440\n",
      "4441\n",
      "4442\n",
      "4443\n",
      "4444\n",
      "4445\n",
      "downloading: 11KVZJK1st9cw as 4445\n"
     ]
    },
    {
     "name": "stdout",
     "output_type": "stream",
     "text": [
      "Error while downloading.\n",
      "4447\n",
      "4448\n",
      "downloading: 8xkdW81vtiyI as 4448\n",
      "Error while downloading.\n",
      "4450\n",
      "downloading: 7EER5tzwBM4Q as 4450\n"
     ]
    },
    {
     "name": "stdout",
     "output_type": "stream",
     "text": [
      "Error while downloading.\n",
      "4452\n",
      "4453\n",
      "4454\n",
      "4455\n",
      "4456\n",
      "4457\n",
      "4458\n",
      "4459\n",
      "4460\n",
      "4461\n",
      "4462\n",
      "4463\n",
      "4464\n",
      "4465\n",
      "4466\n",
      "4467\n",
      "4468\n",
      "4469\n",
      "4470\n",
      "4471\n",
      "4472\n",
      "4473\n",
      "4474\n",
      "4475\n",
      "4476\n",
      "downloading: 7enZ56I52eb4 as 4476\n"
     ]
    },
    {
     "name": "stdout",
     "output_type": "stream",
     "text": [
      "Error while downloading.\n",
      "4478\n",
      "4479\n",
      "downloading: 11aKC2FwinKm4 as 4479\n",
      "Error while downloading.\n",
      "4481\n",
      "4482\n",
      "downloading: 5mapyseA8WuU as 4482\n"
     ]
    },
    {
     "name": "stdout",
     "output_type": "stream",
     "text": [
      "Error while downloading.\n",
      "4484\n",
      "4485\n",
      "4486\n",
      "downloading: 12ybFJ3XPyy8k as 4486\n",
      "Error while downloading.\n",
      "downloading: 12xjG7QD4HR0Q as 4487\n"
     ]
    },
    {
     "name": "stdout",
     "output_type": "stream",
     "text": [
      "Error while downloading.\n",
      "downloading: 123kh9HQGEqPw as 4488\n",
      "Error while downloading.\n",
      "4490\n",
      "4491\n",
      "4492\n",
      "4493\n",
      "downloading: 9OEOKbG-Tajg as 4493\n"
     ]
    },
    {
     "name": "stdout",
     "output_type": "stream",
     "text": [
      "Error while downloading.\n",
      "4495\n",
      "4496\n",
      "4497\n",
      "downloading: 8AD_kFqol5a0 as 4497\n",
      "Error while downloading.\n",
      "4499\n",
      "4500\n",
      "4501\n",
      "4502\n",
      "4503\n",
      "4504\n",
      "downloading: 7yOZEzP-9Z7w as 4504\n"
     ]
    },
    {
     "name": "stdout",
     "output_type": "stream",
     "text": [
      "Error while downloading.\n",
      "4506\n",
      "4507\n",
      "4508\n",
      "downloading: 10l5LE4TVZ1cI as 4508\n",
      "Error while downloading.\n",
      "4510\n",
      "4511\n",
      "4512\n",
      "4513\n",
      "4514\n",
      "4515\n",
      "4516\n",
      "4517\n",
      "4518\n",
      "4519\n",
      "4520\n",
      "4521\n",
      "4522\n",
      "4523\n",
      "4524\n",
      "4525\n",
      "4526\n",
      "downloading: 12vfa1nDAJbLY as 4526\n"
     ]
    },
    {
     "name": "stdout",
     "output_type": "stream",
     "text": [
      "Error while downloading.\n",
      "4528\n",
      "4529\n",
      "4530\n",
      "4531\n",
      "4532\n",
      "4533\n",
      "4534\n",
      "4535\n",
      "4536\n",
      "4537\n",
      "4538\n",
      "downloading: 3rSn5nhSfi8Q as 4538\n"
     ]
    },
    {
     "name": "stdout",
     "output_type": "stream",
     "text": [
      "Error while downloading.\n",
      "4540\n",
      "4541\n",
      "downloading: 5t7Fsp0Giu-0 as 4541\n",
      "Error while downloading.\n",
      "4543\n",
      "4544\n",
      "4545\n",
      "4546\n",
      "4547\n",
      "downloading: 72z2_jLHzr4Y as 4547\n"
     ]
    },
    {
     "name": "stdout",
     "output_type": "stream",
     "text": [
      "Error while downloading.\n",
      "4549\n",
      "4550\n",
      "4551\n",
      "4552\n",
      "4553\n",
      "4554\n",
      "4555\n",
      "4556\n",
      "4557\n",
      "4558\n",
      "4559\n",
      "4560\n",
      "4561\n",
      "4562\n",
      "4563\n",
      "4564\n",
      "4565\n",
      "4566\n",
      "4567\n",
      "4568\n",
      "4569\n",
      "4570\n",
      "4571\n",
      "4572\n",
      "4573\n",
      "4574\n",
      "4575\n",
      "4576\n",
      "4577\n",
      "4578\n",
      "4579\n",
      "4580\n",
      "4581\n",
      "4582\n",
      "4583\n",
      "4584\n",
      "4585\n",
      "4586\n",
      "4587\n",
      "4588\n",
      "4589\n",
      "4590\n",
      "4591\n",
      "4592\n",
      "4593\n",
      "4594\n",
      "4595\n",
      "4596\n",
      "4597\n",
      "4598\n",
      "4599\n",
      "4600\n",
      "4601\n",
      "4602\n",
      "4603\n",
      "4604\n",
      "4605\n",
      "4606\n"
     ]
    },
    {
     "name": "stdout",
     "output_type": "stream",
     "text": [
      "4607\n",
      "4608\n",
      "4609\n",
      "4610\n",
      "4611\n",
      "4612\n",
      "4613\n",
      "4614\n",
      "4615\n",
      "4616\n",
      "4617\n",
      "4618\n",
      "4619\n",
      "4620\n",
      "4621\n",
      "4622\n",
      "4623\n",
      "4624\n",
      "4625\n",
      "4626\n",
      "4627\n",
      "4628\n",
      "4629\n",
      "4630\n",
      "4631\n",
      "4632\n",
      "4633\n",
      "4634\n",
      "4635\n",
      "4636\n",
      "4637\n",
      "4638\n",
      "4639\n",
      "4640\n",
      "4641\n",
      "4642\n",
      "4643\n",
      "4644\n",
      "4645\n",
      "4646\n",
      "4647\n",
      "4648\n",
      "4649\n",
      "4650\n",
      "4651\n",
      "4652\n",
      "4653\n",
      "4654\n",
      "4655\n",
      "4656\n",
      "4657\n",
      "4658\n",
      "4659\n",
      "4660\n",
      "4661\n",
      "4662\n",
      "4663\n",
      "4664\n",
      "4665\n",
      "4666\n",
      "4667\n",
      "4668\n",
      "4669\n",
      "4670\n",
      "4671\n",
      "4672\n",
      "4673\n",
      "4674\n",
      "4675\n",
      "4676\n",
      "4677\n",
      "4678\n",
      "4679\n",
      "4680\n",
      "4681\n"
     ]
    },
    {
     "name": "stdout",
     "output_type": "stream",
     "text": [
      "4682\n",
      "4683\n",
      "4684\n",
      "4685\n",
      "4686\n",
      "4687\n",
      "4688\n",
      "4689\n",
      "4690\n",
      "4691\n",
      "4692\n",
      "4693\n",
      "4694\n",
      "4695\n",
      "4696\n",
      "4697\n",
      "4698\n",
      "4699\n",
      "4700\n",
      "4701\n",
      "4702\n",
      "4703\n",
      "4704\n",
      "4705\n",
      "4706\n",
      "4707\n",
      "4708\n",
      "4709\n",
      "4710\n",
      "4711\n",
      "4712\n",
      "4713\n",
      "4714\n",
      "4715\n",
      "4716\n",
      "4717\n",
      "4718\n",
      "4719\n",
      "4720\n",
      "4721\n",
      "4722\n",
      "4723\n",
      "4724\n",
      "4725\n",
      "4726\n",
      "4727\n",
      "4728\n",
      "4729\n",
      "4730\n",
      "4731\n",
      "4732\n",
      "4733\n",
      "4734\n",
      "4735\n",
      "4736\n",
      "4737\n",
      "4738\n",
      "4739\n",
      "4740\n",
      "4741\n",
      "4742\n",
      "4743\n",
      "4744\n",
      "4745\n",
      "4746\n",
      "4747\n",
      "4748\n",
      "4749\n",
      "4750\n",
      "4751\n",
      "4752\n",
      "4753\n",
      "4754\n",
      "4755\n",
      "4756\n",
      "4757\n",
      "4758\n",
      "4759\n",
      "4760\n",
      "4761\n",
      "4762\n",
      "4763\n",
      "4764\n",
      "4765\n",
      "4766\n",
      "4767\n"
     ]
    },
    {
     "name": "stdout",
     "output_type": "stream",
     "text": [
      "4768\n",
      "4769\n",
      "4770\n",
      "4771\n",
      "4772\n",
      "4773\n",
      "4774\n",
      "4775\n",
      "4776\n",
      "4777\n",
      "4778\n",
      "4779\n",
      "4780\n",
      "4781\n",
      "4782\n",
      "4783\n",
      "4784\n",
      "4785\n",
      "4786\n",
      "4787\n",
      "4788\n",
      "4789\n",
      "4790\n",
      "4791\n",
      "4792\n",
      "4793\n",
      "4794\n",
      "4795\n",
      "4796\n",
      "4797\n",
      "4798\n",
      "4799\n",
      "4800\n",
      "4801\n",
      "4802\n",
      "4803\n",
      "4804\n",
      "4805\n",
      "4806\n",
      "4807\n",
      "4808\n",
      "4809\n",
      "4810\n",
      "4811\n",
      "4812\n",
      "4813\n",
      "4814\n",
      "4815\n",
      "4816\n",
      "4817\n",
      "4818\n",
      "4819\n",
      "4820\n",
      "4821\n",
      "4822\n",
      "4823\n",
      "downloading: 3q2kOkvY76ks as 4823\n"
     ]
    },
    {
     "name": "stdout",
     "output_type": "stream",
     "text": [
      "Error while downloading.\n",
      "downloading: 3HI3PHh_cWlE as 4824\n",
      "Error while downloading.\n",
      "downloading: 3PdznlF3wsgc as 4825\n"
     ]
    },
    {
     "name": "stdout",
     "output_type": "stream",
     "text": [
      "Error while downloading.\n",
      "4827\n",
      "4828\n",
      "4829\n",
      "4830\n",
      "4831\n",
      "4832\n",
      "4833\n",
      "4834\n",
      "4835\n",
      "4836\n",
      "4837\n",
      "4838\n",
      "4839\n",
      "4840\n",
      "4841\n",
      "downloading: 127iyhJZuh7OM as 4841\n",
      "Error while downloading.\n"
     ]
    },
    {
     "name": "stdout",
     "output_type": "stream",
     "text": [
      "4843\n",
      "4844\n",
      "downloading: 10iYay38QJPkk as 4844\n",
      "Error while downloading.\n",
      "4846\n",
      "4847\n",
      "4848\n",
      "downloading: 113UXZi40tWL4 as 4848\n"
     ]
    },
    {
     "name": "stdout",
     "output_type": "stream",
     "text": [
      "Error while downloading.\n",
      "downloading: 82iTd2bkY1jE as 4849\n",
      "Error while downloading.\n",
      "downloading: 11KcVqhd7UYlQ as 4850\n"
     ]
    },
    {
     "name": "stdout",
     "output_type": "stream",
     "text": [
      "Error while downloading.\n",
      "downloading: 11tPEbz6LfehI as 4851\n",
      "Error while downloading.\n",
      "downloading: 11zrUSNLPwIR4 as 4852\n"
     ]
    },
    {
     "name": "stdout",
     "output_type": "stream",
     "text": [
      "Error while downloading.\n",
      "4854\n",
      "downloading: 8spZ2amAUJgY as 4854\n"
     ]
    },
    {
     "name": "stdout",
     "output_type": "stream",
     "text": [
      "Error while downloading.\n",
      "downloading: 8KA6A-gUjtDY as 4855\n",
      "Error while downloading.\n"
     ]
    },
    {
     "name": "stdout",
     "output_type": "stream",
     "text": [
      "4857\n",
      "4858\n",
      "4859\n",
      "4860\n",
      "4861\n",
      "4862\n",
      "4863\n",
      "downloading: 6uLKk2LHvwEo as 4863\n"
     ]
    },
    {
     "name": "stdout",
     "output_type": "stream",
     "text": [
      "Error while downloading.\n",
      "4865\n",
      "4866\n",
      "4867\n",
      "4868\n",
      "4869\n",
      "4870\n",
      "4871\n",
      "4872\n",
      "4873\n",
      "4874\n",
      "4875\n",
      "downloading: 3T_Y728Hh8kU as 4875\n",
      "Error while downloading.\n",
      "4877\n",
      "downloading: 3CLbNxizZgzM as 4877\n"
     ]
    },
    {
     "name": "stdout",
     "output_type": "stream",
     "text": [
      "Error while downloading.\n",
      "4879\n",
      "4880\n",
      "4881\n",
      "4882\n",
      "4883\n",
      "4884\n",
      "4885\n",
      "4886\n",
      "4887\n",
      "4888\n",
      "4889\n",
      "4890\n",
      "4891\n",
      "4892\n",
      "4893\n",
      "4894\n",
      "4895\n",
      "4896\n",
      "4897\n",
      "4898\n",
      "4899\n",
      "4900\n",
      "4901\n",
      "4902\n",
      "4903\n",
      "4904\n",
      "4905\n",
      "4906\n",
      "4907\n",
      "4908\n",
      "4909\n",
      "4910\n",
      "4911\n",
      "4912\n",
      "downloading: 11biHwACj_zog as 4912\n",
      "Error while downloading.\n",
      "4914\n",
      "4915\n",
      "4916\n",
      "downloading: 7UKbEnY0hnTw as 4916\n"
     ]
    },
    {
     "name": "stdout",
     "output_type": "stream",
     "text": [
      "Error while downloading.\n",
      "4918\n",
      "4919\n",
      "4920\n",
      "4921\n",
      "4922\n",
      "4923\n",
      "4924\n",
      "downloading: 9MoR1K90vYIo as 4924\n",
      "Error while downloading.\n",
      "4926\n",
      "downloading: 10gIc09wqUaNg as 4926\n"
     ]
    },
    {
     "name": "stdout",
     "output_type": "stream",
     "text": [
      "Error while downloading.\n",
      "4928\n",
      "4929\n",
      "4930\n",
      "4931\n",
      "4932\n",
      "4933\n",
      "4934\n",
      "4935\n",
      "4936\n",
      "4937\n",
      "4938\n",
      "4939\n",
      "4940\n",
      "4941\n",
      "4942\n",
      "4943\n",
      "4944\n",
      "4945\n",
      "4946\n",
      "4947\n",
      "4948\n",
      "4949\n",
      "4950\n",
      "4951\n",
      "4952\n",
      "4953\n",
      "4954\n",
      "4955\n",
      "4956\n",
      "4957\n",
      "4958\n",
      "4959\n",
      "4960\n",
      "4961\n",
      "4962\n",
      "4963\n",
      "4964\n",
      "4965\n",
      "4966\n",
      "4967\n",
      "4968\n",
      "4969\n",
      "4970\n",
      "4971\n",
      "4972\n",
      "4973\n",
      "4974\n",
      "4975\n",
      "4976\n",
      "4977\n",
      "4978\n",
      "4979\n",
      "4980\n",
      "4981\n",
      "4982\n",
      "4983\n",
      "downloading: 9RkTTXd_ETX8 as 4983\n"
     ]
    },
    {
     "name": "stdout",
     "output_type": "stream",
     "text": [
      "Error while downloading.\n",
      "4985\n",
      "4986\n",
      "4987\n",
      "4988\n",
      "4989\n",
      "4990\n",
      "4991\n",
      "4992\n",
      "4993\n",
      "4994\n",
      "4995\n",
      "4996\n",
      "4997\n",
      "4998\n",
      "downloading: 7aMoPgOmW47Y as 4998\n",
      "Error while downloading.\n",
      "downloading: 12TriWclvlPwk as 4999\n"
     ]
    },
    {
     "name": "stdout",
     "output_type": "stream",
     "text": [
      "Error while downloading.\n",
      "5001\n",
      "downloading: 6XROA-TQv0mk as 5001\n",
      "Error while downloading.\n",
      "downloading: 7_MkHLHUANmI as 5002\n"
     ]
    },
    {
     "name": "stdout",
     "output_type": "stream",
     "text": [
      "Error while downloading.\n",
      "downloading: 7CcDl_kCKcvw as 5003\n",
      "Error while downloading.\n",
      "5005\n",
      "5006\n",
      "5007\n",
      "5008\n",
      "5009\n",
      "5010\n",
      "5011\n",
      "5012\n",
      "5013\n",
      "5014\n",
      "5015\n",
      "5016\n",
      "5017\n",
      "5018\n",
      "downloading: 4xaixYX2ShnM as 5018\n"
     ]
    },
    {
     "name": "stdout",
     "output_type": "stream",
     "text": [
      "Error while downloading.\n",
      "downloading: 4eed4cpcIGCU as 5019\n",
      "Error while downloading.\n",
      "5021\n",
      "downloading: 4a0WssTMQPS0 as 5021\n"
     ]
    },
    {
     "name": "stdout",
     "output_type": "stream",
     "text": [
      "Error while downloading.\n",
      "5023\n",
      "downloading: 6brqmxMwEt9M as 5023\n",
      "Error while downloading.\n",
      "5025\n",
      "5026\n",
      "5027\n",
      "5028\n",
      "5029\n",
      "5030\n",
      "5031\n",
      "5032\n",
      "downloading: 7AOyaRG3dtqQ as 5032\n"
     ]
    },
    {
     "name": "stdout",
     "output_type": "stream",
     "text": [
      "Error while downloading.\n",
      "5034\n",
      "5035\n",
      "5036\n",
      "5037\n",
      "5038\n",
      "5039\n",
      "5040\n",
      "5041\n",
      "5042\n",
      "5043\n",
      "5044\n",
      "5045\n",
      "5046\n",
      "5047\n",
      "downloading: 5qMzQWbcsTuA as 5047\n",
      "Error while downloading.\n",
      "5049\n",
      "5050\n",
      "5051\n",
      "5052\n",
      "5053\n"
     ]
    },
    {
     "name": "stdout",
     "output_type": "stream",
     "text": [
      "5054\n",
      "5055\n",
      "5056\n",
      "5057\n",
      "5058\n",
      "5059\n",
      "5060\n",
      "5061\n",
      "5062\n",
      "5063\n",
      "5064\n",
      "downloading: 10o0NhbNJ8tY4 as 5064\n",
      "Error while downloading.\n",
      "5066\n",
      "5067\n",
      "downloading: 875lXZVlcc_o as 5067\n"
     ]
    },
    {
     "name": "stdout",
     "output_type": "stream",
     "text": [
      "Error while downloading.\n",
      "5069\n",
      "5070\n",
      "5071\n",
      "5072\n",
      "5073\n",
      "5074\n",
      "5075\n"
     ]
    },
    {
     "name": "stdout",
     "output_type": "stream",
     "text": [
      "5076\n",
      "5077\n",
      "5078\n",
      "5079\n",
      "5080\n",
      "5081\n",
      "5082\n",
      "5083\n",
      "5084\n",
      "5085\n",
      "5086\n",
      "5087\n",
      "5088\n",
      "5089\n",
      "downloading: 5EGdR7NXWt0o as 5089\n"
     ]
    },
    {
     "name": "stdout",
     "output_type": "stream",
     "text": [
      "Error while downloading.\n",
      "5091\n",
      "5092\n",
      "5093\n",
      "downloading: 3Ehe8JhH1Io8 as 5093\n",
      "Error while downloading.\n",
      "5095\n",
      "5096\n",
      "5097\n",
      "downloading: 12G-pymQA0gmY as 5097\n"
     ]
    },
    {
     "name": "stdout",
     "output_type": "stream",
     "text": [
      "Error while downloading.\n",
      "5099\n",
      "5100\n",
      "downloading: 11uM5TR0VYL2g as 5100\n",
      "Error while downloading.\n",
      "downloading: 11eRMo58HxVuI as 5101\n"
     ]
    },
    {
     "name": "stdout",
     "output_type": "stream",
     "text": [
      "Error while downloading.\n",
      "5103\n",
      "5104\n",
      "5105\n",
      "downloading: 6GnGm5ZISwzM as 5105\n",
      "Error while downloading.\n",
      "downloading: 5Bj0GU8rsyaE as 5106\n"
     ]
    },
    {
     "name": "stdout",
     "output_type": "stream",
     "text": [
      "Error while downloading.\n",
      "5108\n",
      "5109\n",
      "5110\n",
      "5111\n",
      "5112\n",
      "5113\n",
      "5114\n",
      "downloading: 9YzF5-kMttSI as 5114\n",
      "Error while downloading.\n",
      "5116\n",
      "5117\n",
      "downloading: 12dHCtGIKd8UE as 5117\n"
     ]
    },
    {
     "name": "stdout",
     "output_type": "stream",
     "text": [
      "Error while downloading.\n",
      "5119\n",
      "5120\n",
      "5121\n",
      "downloading: 7HF7tUIb9-QY as 5121\n",
      "Error while downloading.\n",
      "5123\n",
      "5124\n",
      "5125\n"
     ]
    },
    {
     "name": "stdout",
     "output_type": "stream",
     "text": [
      "5126\n",
      "5127\n",
      "5128\n",
      "5129\n",
      "5130\n",
      "5131\n",
      "5132\n",
      "downloading: 5uwEtgKR2wPg as 5132\n"
     ]
    },
    {
     "name": "stdout",
     "output_type": "stream",
     "text": [
      "Error while downloading.\n",
      "downloading: 5Amge3FWkjvg as 5133\n",
      "Error while downloading.\n",
      "downloading: 11A5xy99BZvTI as 5134\n"
     ]
    },
    {
     "name": "stdout",
     "output_type": "stream",
     "text": [
      "Error while downloading.\n",
      "downloading: 9eswsXBv6fKI as 5135\n",
      "Error while downloading.\n",
      "5137\n",
      "5138\n"
     ]
    },
    {
     "name": "stdout",
     "output_type": "stream",
     "text": [
      "5139\n",
      "5140\n",
      "5141\n",
      "5142\n",
      "5143\n",
      "5144\n",
      "5145\n",
      "5146\n",
      "5147\n",
      "downloading: 7uAIo9TL6Bwo as 5147\n"
     ]
    },
    {
     "name": "stdout",
     "output_type": "stream",
     "text": [
      "Error while downloading.\n",
      "5149\n",
      "downloading: 7mECBDREqesg as 5149\n",
      "Error while downloading.\n",
      "5151\n",
      "5152\n",
      "5153\n",
      "5154\n",
      "5155\n",
      "5156\n",
      "5157\n",
      "5158\n",
      "5159\n"
     ]
    },
    {
     "name": "stdout",
     "output_type": "stream",
     "text": [
      "5160\n",
      "5161\n",
      "5162\n",
      "5163\n",
      "5164\n",
      "5165\n",
      "5166\n",
      "5167\n",
      "5168\n",
      "5169\n",
      "5170\n",
      "5171\n",
      "5172\n",
      "5173\n",
      "downloading: 7odv5njPEkNo as 5173\n"
     ]
    },
    {
     "name": "stdout",
     "output_type": "stream",
     "text": [
      "Error while downloading.\n",
      "5175\n",
      "5176\n",
      "downloading: 111rDMdiaNC-I as 5176\n",
      "Error while downloading.\n",
      "5178\n",
      "5179\n"
     ]
    },
    {
     "name": "stdout",
     "output_type": "stream",
     "text": [
      "5180\n",
      "5181\n",
      "5182\n",
      "5183\n",
      "5184\n",
      "5185\n",
      "5186\n",
      "5187\n",
      "5188\n",
      "5189\n",
      "5190\n",
      "5191\n",
      "5192\n",
      "5193\n",
      "5194\n",
      "5195\n",
      "5196\n",
      "5197\n",
      "5198\n",
      "5199\n",
      "5200\n",
      "downloading: 5qV-aaaPv2AA as 5200\n"
     ]
    },
    {
     "name": "stdout",
     "output_type": "stream",
     "text": [
      "Error while downloading.\n",
      "5202\n",
      "5203\n",
      "5204\n",
      "5205\n",
      "downloading: 7ay4n4YNMFzM as 5205\n"
     ]
    },
    {
     "name": "stdout",
     "output_type": "stream",
     "text": [
      "Error while downloading.\n",
      "5207\n",
      "downloading: 7Hv14RmfGWlg as 5207\n",
      "Error while downloading.\n",
      "5209\n",
      "downloading: 4n4wB0N-s-Lk as 5209\n"
     ]
    },
    {
     "name": "stdout",
     "output_type": "stream",
     "text": [
      "Error while downloading.\n",
      "downloading: 6pwkF0yIhNqY as 5210\n",
      "Error while downloading.\n",
      "5212\n",
      "5213\n",
      "downloading: 3VW10lSZNxfs as 5213\n"
     ]
    },
    {
     "name": "stdout",
     "output_type": "stream",
     "text": [
      "Error while downloading.\n",
      "downloading: 3UTKANO7921U as 5214\n",
      "Error while downloading.\n",
      "downloading: 6lwOnROOQXKc as 5215\n"
     ]
    },
    {
     "name": "stdout",
     "output_type": "stream",
     "text": [
      "Error while downloading.\n",
      "5217\n",
      "downloading: 6M6FhfxmpmQg as 5217\n",
      "Error while downloading.\n",
      "downloading: 6Fe7mFbovKRc as 5218\n"
     ]
    },
    {
     "name": "stdout",
     "output_type": "stream",
     "text": [
      "Error while downloading.\n",
      "downloading: 3T6DfrORi0-8 as 5219\n",
      "Error while downloading.\n",
      "downloading: 3Z-ibN6IFn_s as 5220\n"
     ]
    },
    {
     "name": "stdout",
     "output_type": "stream",
     "text": [
      "Error while downloading.\n",
      "downloading: 3KkGQe5mrz98 as 5221\n",
      "Error while downloading.\n",
      "downloading: 3eQf88f7gO3I as 5222\n"
     ]
    },
    {
     "name": "stdout",
     "output_type": "stream",
     "text": [
      "Error while downloading.\n",
      "downloading: 3EPgTET89r-U as 5223\n",
      "Error while downloading.\n",
      "5225\n",
      "5226\n",
      "5227\n",
      "5228\n",
      "5229\n",
      "downloading: 67W69DYuM0vc as 5229\n"
     ]
    },
    {
     "name": "stdout",
     "output_type": "stream",
     "text": [
      "Error while downloading.\n",
      "5231\n",
      "5232\n",
      "5233\n",
      "5234\n",
      "5235\n",
      "downloading: 6bvZLs2Md59I as 5235\n",
      "Error while downloading.\n",
      "5237\n",
      "5238\n",
      "5239\n"
     ]
    },
    {
     "name": "stdout",
     "output_type": "stream",
     "text": [
      "5240\n",
      "5241\n",
      "5242\n"
     ]
    }
   ],
   "source": [
    "for index, row in downloadlist.iterrows():\n",
    "    unique = row['URL'].removeprefix(\"https://bildungsportal.sachsen.de/opal/oer/\")\n",
    "    unique = unique.removesuffix(\"\\n\")   \n",
    "    pfad = \"temp/\" + unique + \".pdf\"\n",
    "    #Try to download file if not in /temp, catch downloaderrors, check if 404\n",
    "    if (not os.path.exists(pfad)):\n",
    "        print(\"downloading:\", unique, \"as\", index)\n",
    "        try:\n",
    "            pdf_filename, headers = urllib.request.urlretrieve(row['URL'], pfad)\n",
    "        except urllib.error.HTTPError as e:\n",
    "            print(\"Error while downloading.\")\n",
    "            if e.code == 404:\n",
    "                row[\"Error\"] = 'Missing(404)'\n",
    "            else:\n",
    "                row[\"Error\"] = 'Unknown Downloaderror'\n",
    "        except:\n",
    "            print('Python version change killed this')\n",
    "    else:\n",
    "        pdf_filename = pfad\n",
    "        print(index+1)"
   ]
  },
  {
   "cell_type": "code",
   "execution_count": 5,
   "id": "07df940f",
   "metadata": {
    "execution": {
     "iopub.execute_input": "2022-11-16T10:22:14.336983Z",
     "iopub.status.busy": "2022-11-16T10:22:14.336983Z",
     "iopub.status.idle": "2022-11-16T10:22:14.424190Z",
     "shell.execute_reply": "2022-11-16T10:22:14.421128Z"
    },
    "papermill": {
     "duration": 0.149326,
     "end_time": "2022-11-16T10:22:14.429189",
     "exception": false,
     "start_time": "2022-11-16T10:22:14.279863",
     "status": "completed"
    },
    "tags": []
   },
   "outputs": [],
   "source": [
    "downloadlist.to_csv(\"data/downloadedpdf.csv\", index=False)"
   ]
  },
  {
   "cell_type": "markdown",
   "id": "4b946be0",
   "metadata": {
    "papermill": {
     "duration": 0.056102,
     "end_time": "2022-11-16T10:22:14.544540",
     "exception": false,
     "start_time": "2022-11-16T10:22:14.488438",
     "status": "completed"
    },
    "tags": []
   },
   "source": [
    "#spicker\n",
    "#loop\n",
    "intiger=1\n",
    "with open(\"data/PDFURLs.csv\") as urls:\n",
    "    for pdf_url in urls:\n",
    "\n",
    "        #Creating Unique filename\n",
    "        unique = pdf_url.removeprefix(\"https://bildungsportal.sachsen.de/opal/oer/\")\n",
    "        unique = unique.removesuffix(\"\\n\")\n",
    "        metadict = {\"Identifier\":unique}\n",
    "        pfad = \"temp/\" + unique + \".pdf\"\n",
    "        #Try to download file if not in /temp, catch downloaderrors, gesondert 404\n",
    "        if (not os.path.exists(pfad)):\n",
    "            print(\"downloading:\", unique)\n",
    "            try:\n",
    "                pdf_filename, headers = urllib.request.urlretrieve(pdf_url, pfad)\n",
    "            except urllib.error.HTTPError as e:\n",
    "                print(\"Error while downloading.\")\n",
    "                if e.code == 404:\n",
    "                    metadict.update({\"Error\":'Missing(404)'})\n",
    "                else:\n",
    "                    metadict.update({\"Error\":'Unknown Downloaderror'})\n",
    "                #save Error to meta.csv\n",
    "                frame = pd.DataFrame(metadict, [0])\n",
    "                if (os.path.exists(\"data/meta.csv\")):   \n",
    "                    #oldframe = pd.read_csv(\"data/meta.csv\")\n",
    "                    newframe = pd.concat([oldframe, frame])\n",
    "                    newframe.to_csv(\"data/meta.csv\", index=False)\n",
    "                    oldframe = newframe\n",
    "                else:\n",
    "                    frame.to_csv(\"data/meta.csv\", index=False)\n",
    "                    oldframe = frame\n",
    "                metadict.clear\n",
    "                intiger=intiger+1\n",
    "                continue\n",
    "        else:\n",
    "            pdf_filename = pfad\n",
    "        #try to open pdf, catch Errors\n",
    "        try:\n",
    "            pdf = pikepdf.Pdf.open(pdf_filename)           \n",
    "        except pikepdf._qpdf.PasswordError:\n",
    "            print(\"This pdf requires a password.\")\n",
    "            metadict.update({\"Error\":'PasswordProtected'})\n",
    "            frame = pd.DataFrame(metadict, [0])\n",
    "            if (os.path.exists(\"data/meta.csv\")):   \n",
    "                #oldframe = pd.read_csv(\"data/meta.csv\")\n",
    "                newframe = pd.concat([oldframe, frame])\n",
    "                newframe.to_csv(\"data/meta.csv\", index=False)\n",
    "                oldframe = newframe\n",
    "            else:\n",
    "                frame.to_csv(\"data/meta.csv\", index=False)\n",
    "                oldframe = frame\n",
    "            metadict.clear\n",
    "            intiger=intiger+1\n",
    "            continue\n",
    "        except:\n",
    "            print(\"An Error occured while opening.\")\n",
    "            metadict.update({\"Error\":'OpeningError'})\n",
    "            frame = pd.DataFrame(metadict, [0])\n",
    "            if (os.path.exists(\"data/meta.csv\")):   \n",
    "                #oldframe = pd.read_csv(\"data/meta.csv\")\n",
    "                newframe = pd.concat([oldframe, frame])\n",
    "                newframe.to_csv(\"data/meta.csv\", index=False)\n",
    "                oldframe = newframe\n",
    "            else:\n",
    "                frame.to_csv(\"data/meta.csv\", index=False)\n",
    "                oldframe = frame\n",
    "            metadict.clear\n",
    "            intiger=intiger+1\n",
    "            continue\n",
    "  "
   ]
  },
  {
   "cell_type": "code",
   "execution_count": 6,
   "id": "48de0f41",
   "metadata": {
    "execution": {
     "iopub.execute_input": "2022-11-16T10:22:14.653225Z",
     "iopub.status.busy": "2022-11-16T10:22:14.652218Z",
     "iopub.status.idle": "2022-11-16T10:22:14.689216Z",
     "shell.execute_reply": "2022-11-16T10:22:14.687255Z"
    },
    "papermill": {
     "duration": 0.098935,
     "end_time": "2022-11-16T10:22:14.695256",
     "exception": false,
     "start_time": "2022-11-16T10:22:14.596321",
     "status": "completed"
    },
    "tags": []
   },
   "outputs": [
    {
     "data": {
      "text/html": [
       "<div>\n",
       "<style scoped>\n",
       "    .dataframe tbody tr th:only-of-type {\n",
       "        vertical-align: middle;\n",
       "    }\n",
       "\n",
       "    .dataframe tbody tr th {\n",
       "        vertical-align: top;\n",
       "    }\n",
       "\n",
       "    .dataframe thead th {\n",
       "        text-align: right;\n",
       "    }\n",
       "</style>\n",
       "<table border=\"1\" class=\"dataframe\">\n",
       "  <thead>\n",
       "    <tr style=\"text-align: right;\">\n",
       "      <th></th>\n",
       "      <th>URL</th>\n",
       "      <th>Error</th>\n",
       "    </tr>\n",
       "  </thead>\n",
       "  <tbody>\n",
       "    <tr>\n",
       "      <th>0</th>\n",
       "      <td>https://bildungsportal.sachsen.de/opal/oer/8I6...</td>\n",
       "      <td></td>\n",
       "    </tr>\n",
       "    <tr>\n",
       "      <th>1</th>\n",
       "      <td>https://bildungsportal.sachsen.de/opal/oer/8ZI...</td>\n",
       "      <td></td>\n",
       "    </tr>\n",
       "    <tr>\n",
       "      <th>2</th>\n",
       "      <td>https://bildungsportal.sachsen.de/opal/oer/3zt...</td>\n",
       "      <td></td>\n",
       "    </tr>\n",
       "    <tr>\n",
       "      <th>3</th>\n",
       "      <td>https://bildungsportal.sachsen.de/opal/oer/6mO...</td>\n",
       "      <td></td>\n",
       "    </tr>\n",
       "    <tr>\n",
       "      <th>4</th>\n",
       "      <td>https://bildungsportal.sachsen.de/opal/oer/9pH...</td>\n",
       "      <td>Missing(404)</td>\n",
       "    </tr>\n",
       "    <tr>\n",
       "      <th>...</th>\n",
       "      <td>...</td>\n",
       "      <td>...</td>\n",
       "    </tr>\n",
       "    <tr>\n",
       "      <th>5237</th>\n",
       "      <td>https://bildungsportal.sachsen.de/opal/oer/37M...</td>\n",
       "      <td></td>\n",
       "    </tr>\n",
       "    <tr>\n",
       "      <th>5238</th>\n",
       "      <td>https://bildungsportal.sachsen.de/opal/oer/8nQ...</td>\n",
       "      <td></td>\n",
       "    </tr>\n",
       "    <tr>\n",
       "      <th>5239</th>\n",
       "      <td>https://bildungsportal.sachsen.de/opal/oer/8wn...</td>\n",
       "      <td></td>\n",
       "    </tr>\n",
       "    <tr>\n",
       "      <th>5240</th>\n",
       "      <td>https://bildungsportal.sachsen.de/opal/oer/6kp...</td>\n",
       "      <td></td>\n",
       "    </tr>\n",
       "    <tr>\n",
       "      <th>5241</th>\n",
       "      <td>https://bildungsportal.sachsen.de/opal/oer/10H...</td>\n",
       "      <td></td>\n",
       "    </tr>\n",
       "  </tbody>\n",
       "</table>\n",
       "<p>5242 rows × 2 columns</p>\n",
       "</div>"
      ],
      "text/plain": [
       "                                                    URL         Error\n",
       "0     https://bildungsportal.sachsen.de/opal/oer/8I6...              \n",
       "1     https://bildungsportal.sachsen.de/opal/oer/8ZI...              \n",
       "2     https://bildungsportal.sachsen.de/opal/oer/3zt...              \n",
       "3     https://bildungsportal.sachsen.de/opal/oer/6mO...              \n",
       "4     https://bildungsportal.sachsen.de/opal/oer/9pH...  Missing(404)\n",
       "...                                                 ...           ...\n",
       "5237  https://bildungsportal.sachsen.de/opal/oer/37M...              \n",
       "5238  https://bildungsportal.sachsen.de/opal/oer/8nQ...              \n",
       "5239  https://bildungsportal.sachsen.de/opal/oer/8wn...              \n",
       "5240  https://bildungsportal.sachsen.de/opal/oer/6kp...              \n",
       "5241  https://bildungsportal.sachsen.de/opal/oer/10H...              \n",
       "\n",
       "[5242 rows x 2 columns]"
      ]
     },
     "execution_count": 6,
     "metadata": {},
     "output_type": "execute_result"
    }
   ],
   "source": [
    "downloadlist"
   ]
  },
  {
   "cell_type": "code",
   "execution_count": null,
   "id": "5c9d4536",
   "metadata": {
    "papermill": {
     "duration": 0.056,
     "end_time": "2022-11-16T10:22:14.804213",
     "exception": false,
     "start_time": "2022-11-16T10:22:14.748213",
     "status": "completed"
    },
    "tags": []
   },
   "outputs": [],
   "source": []
  }
 ],
 "metadata": {
  "kernelspec": {
   "display_name": "Python 3 (ipykernel)",
   "language": "python",
   "name": "python3"
  },
  "language_info": {
   "codemirror_mode": {
    "name": "ipython",
    "version": 3
   },
   "file_extension": ".py",
   "mimetype": "text/x-python",
   "name": "python",
   "nbconvert_exporter": "python",
   "pygments_lexer": "ipython3",
   "version": "3.10.7"
  },
  "papermill": {
   "default_parameters": {},
   "duration": 133.543865,
   "end_time": "2022-11-16T10:22:15.338126",
   "environment_variables": {},
   "exception": null,
   "input_path": "C:\\Users\\Johann\\Desktop\\UNI\\BA\\pipenv\\notebooks\\download.ipynb",
   "output_path": "C:\\Users\\Johann\\Desktop\\UNI\\BA\\pipenv\\notebooks\\download.ipynb",
   "parameters": {},
   "start_time": "2022-11-16T10:20:01.794261",
   "version": "2.4.0"
  }
 },
 "nbformat": 4,
 "nbformat_minor": 5
}