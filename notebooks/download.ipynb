{
 "cells": [
  {
   "cell_type": "code",
   "execution_count": null,
   "id": "a5b2309f",
   "metadata": {
    "execution": {
     "iopub.execute_input": "2022-11-16T10:20:05.472974Z",
     "iopub.status.busy": "2022-11-16T10:20:05.470987Z",
     "iopub.status.idle": "2022-11-16T10:20:06.467735Z",
     "shell.execute_reply": "2022-11-16T10:20:06.466833Z"
    },
    "papermill": {
     "duration": 1.014707,
     "end_time": "2022-11-16T10:20:06.471740",
     "exception": false,
     "start_time": "2022-11-16T10:20:05.457033",
     "status": "completed"
    },
    "tags": []
   },
   "outputs": [],
   "source": [
    "import os.path\n",
    "import urllib.request\n",
    "import pandas as pd\n",
    "from pathlib import Path\n",
    "Path(\"temp\").mkdir(parents=True, exist_ok=True)"
   ]
  },
  {
   "attachments": {},
   "cell_type": "markdown",
   "id": "45d1c51e",
   "metadata": {},
   "source": [
    "This Notebook downloads the files that are written in PDFINCONTENT.csv "
   ]
  },
  {
   "cell_type": "code",
   "execution_count": null,
   "id": "9bc98286",
   "metadata": {
    "execution": {
     "iopub.execute_input": "2022-11-16T10:20:06.485741Z",
     "iopub.status.busy": "2022-11-16T10:20:06.484744Z",
     "iopub.status.idle": "2022-11-16T10:20:06.609016Z",
     "shell.execute_reply": "2022-11-16T10:20:06.606000Z"
    },
    "papermill": {
     "duration": 0.136288,
     "end_time": "2022-11-16T10:20:06.614026",
     "exception": false,
     "start_time": "2022-11-16T10:20:06.477738",
     "status": "completed"
    },
    "tags": []
   },
   "outputs": [],
   "source": [
    "downloadlist = pd.read_csv(\"data/PDFURLs.csv\", header=None)\n",
    "downloadlist.rename(columns={list(downloadlist)[0]:'URL'}, inplace=True)\n",
    "\n",
    "downloadlist['Error'] = \"\"\n",
    "downloadlist"
   ]
  },
  {
   "cell_type": "code",
   "execution_count": null,
   "id": "e1ea003e",
   "metadata": {
    "execution": {
     "iopub.execute_input": "2022-11-16T10:20:06.743349Z",
     "iopub.status.busy": "2022-11-16T10:20:06.742288Z",
     "iopub.status.idle": "2022-11-16T10:22:14.208914Z",
     "shell.execute_reply": "2022-11-16T10:22:14.204915Z"
    },
    "papermill": {
     "duration": 127.484572,
     "end_time": "2022-11-16T10:22:14.214861",
     "exception": false,
     "start_time": "2022-11-16T10:20:06.730289",
     "status": "completed"
    },
    "tags": []
   },
   "outputs": [],
   "source": [
    "#first compute where to save the current file, then download it\n",
    "for index, row in downloadlist.iterrows():\n",
    "    unique = row['URL'].removeprefix(\"https://bildungsportal.sachsen.de/opal/oer/\")\n",
    "    unique = unique.removesuffix(\"\\n\")   \n",
    "    pfad = \"temp/\" + unique + \".pdf\"\n",
    "    #Try to download file if not in /temp, catch downloaderrors, check if 404\n",
    "    if (not os.path.exists(pfad)):\n",
    "        print(\"downloading:\", unique, \"as\", index)\n",
    "        try:\n",
    "            pdf_filename, headers = urllib.request.urlretrieve(row['URL'], pfad)\n",
    "        except urllib.error.HTTPError as e:\n",
    "            print(\"Error while downloading.\")\n",
    "            if e.code == 404:\n",
    "                row[\"Error\"] = 'Missing(404)'\n",
    "            else:\n",
    "                row[\"Error\"] = 'Unknown Downloaderror'\n",
    "        except:\n",
    "            print('Unknown Error')\n",
    "    else:\n",
    "        pdf_filename = pfad"
   ]
  },
  {
   "cell_type": "code",
   "execution_count": null,
   "id": "07df940f",
   "metadata": {
    "execution": {
     "iopub.execute_input": "2022-11-16T10:22:14.336983Z",
     "iopub.status.busy": "2022-11-16T10:22:14.336983Z",
     "iopub.status.idle": "2022-11-16T10:22:14.424190Z",
     "shell.execute_reply": "2022-11-16T10:22:14.421128Z"
    },
    "papermill": {
     "duration": 0.149326,
     "end_time": "2022-11-16T10:22:14.429189",
     "exception": false,
     "start_time": "2022-11-16T10:22:14.279863",
     "status": "completed"
    },
    "tags": []
   },
   "outputs": [],
   "source": [
    "#downloadedpdf.csv is used by loopedcontentaggrOER and textaggregation\n",
    "downloadlist.to_csv(\"data/downloadedpdf.csv\", index=False)"
   ]
  }
 ],
 "metadata": {
  "kernelspec": {
   "display_name": "Python 3 (ipykernel)",
   "language": "python",
   "name": "python3"
  },
  "language_info": {
   "codemirror_mode": {
    "name": "ipython",
    "version": 3
   },
   "file_extension": ".py",
   "mimetype": "text/x-python",
   "name": "python",
   "nbconvert_exporter": "python",
   "pygments_lexer": "ipython3",
   "version": "3.10.7"
  },
  "papermill": {
   "default_parameters": {},
   "duration": 133.543865,
   "end_time": "2022-11-16T10:22:15.338126",
   "environment_variables": {},
   "exception": null,
   "input_path": "C:\\Users\\Johann\\Desktop\\UNI\\BA\\pipenv\\notebooks\\download.ipynb",
   "output_path": "C:\\Users\\Johann\\Desktop\\UNI\\BA\\pipenv\\notebooks\\download.ipynb",
   "parameters": {},
   "start_time": "2022-11-16T10:20:01.794261",
   "version": "2.4.0"
  }
 },
 "nbformat": 4,
 "nbformat_minor": 5
}
