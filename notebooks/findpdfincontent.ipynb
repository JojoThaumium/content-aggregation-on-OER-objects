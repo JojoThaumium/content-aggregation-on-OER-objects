{
 "cells": [
  {
   "cell_type": "code",
   "execution_count": 1,
   "id": "65a8f62e",
   "metadata": {},
   "outputs": [],
   "source": [
    "import pandas as pd\n",
    "import sys\n",
    "from pathlib import Path\n",
    "import urllib.request\n",
    "import os.path\n",
    "import json"
   ]
  },
  {
   "cell_type": "code",
   "execution_count": 2,
   "id": "5fde39f2",
   "metadata": {},
   "outputs": [],
   "source": [
    "Path(\"data\").mkdir(parents=True, exist_ok=True)"
   ]
  },
  {
   "cell_type": "code",
   "execution_count": 5,
   "id": "56da9fe7",
   "metadata": {},
   "outputs": [],
   "source": [
    "if (not os.path.exists(\"data/content.json\")):\n",
    "    urllib.request.urlretrieve(\"https://ificloud.xsitepool.tu-freiberg.de/index.php/s/LME56sPXBCwxnLP/download/content.json\", \"data/content.json\")"
   ]
  },
  {
   "cell_type": "code",
   "execution_count": 6,
   "id": "4c47acb0",
   "metadata": {},
   "outputs": [],
   "source": [
    "data_folder = \"data\"\n",
    "json_file_name = \"content.json\"\n",
    "input_file = Path.cwd() / data_folder / json_file_name\n",
    "\n",
    "with open(input_file, 'r', encoding='utf-8') as json_data:\n",
    "    raw_data = json.load(json_data)"
   ]
  },
  {
   "cell_type": "code",
   "execution_count": 7,
   "id": "9da88239",
   "metadata": {},
   "outputs": [
    {
     "name": "stdout",
     "output_type": "stream",
     "text": [
      "files - 11322 entries\n",
      "learning_resources - 3828 entries\n"
     ]
    }
   ],
   "source": [
    "ressource_types = {\"files\": \"file\", \n",
    "                   \"learning_resources\": \"lr\"}\n",
    "\n",
    "oer_data_set = list()\n",
    "for ressource_type in ressource_types:\n",
    "    data = raw_data[ressource_type]\n",
    "    print(f\"{ressource_type} - {len(data)} entries\")\n",
    "    for entry in data:\n",
    "        entry['type'] = ressource_types[ressource_type]\n",
    "        oer_data_set.append(entry)"
   ]
  },
  {
   "cell_type": "code",
   "execution_count": 8,
   "id": "d543f41c",
   "metadata": {},
   "outputs": [],
   "source": [
    "df = pd.DataFrame(oer_data_set)"
   ]
  },
  {
   "cell_type": "code",
   "execution_count": 9,
   "id": "7cab7e45",
   "metadata": {},
   "outputs": [],
   "source": [
    "def getLastValue(aList):\n",
    "    if  isinstance(aList, list):\n",
    "        return aList[-1]\n",
    "    else:\n",
    "        return \"unknown\"\n",
    "\n",
    "# Extract file extension\n",
    "df['file_type'] = df.filename.str.split('.').apply(getLastValue)\n",
    "\n",
    "# Normalize different writing formates for file extensions\n",
    "df['file_type'] = df['file_type'].str.lower()"
   ]
  },
  {
   "cell_type": "code",
   "execution_count": 10,
   "id": "ae75f441",
   "metadata": {},
   "outputs": [],
   "source": [
    "daten = []\n",
    "i=0\n",
    "for index, row in df[df.type == \"file\"].iterrows():\n",
    "    \n",
    "    if row.file_type == \"pdf\":        \n",
    "        daten.append(row.oer_permalink)"
   ]
  },
  {
   "cell_type": "code",
   "execution_count": 11,
   "id": "e1ee3ed4",
   "metadata": {},
   "outputs": [],
   "source": [
    "series = pd.Series(daten)\n",
    "series.to_csv(\"data/PDFURLs.csv\", header=False, index=False)"
   ]
  }
 ],
 "metadata": {
  "kernelspec": {
   "display_name": "Python 3 (ipykernel)",
   "language": "python",
   "name": "python3"
  },
  "language_info": {
   "codemirror_mode": {
    "name": "ipython",
    "version": 3
   },
   "file_extension": ".py",
   "mimetype": "text/x-python",
   "name": "python",
   "nbconvert_exporter": "python",
   "pygments_lexer": "ipython3",
   "version": "3.9.13"
  }
 },
 "nbformat": 4,
 "nbformat_minor": 5
}
