{
 "cells": [
  {
   "cell_type": "code",
   "execution_count": 1,
   "id": "65a8f62e",
   "metadata": {
    "execution": {
     "iopub.execute_input": "2022-09-05T16:49:22.657769Z",
     "iopub.status.busy": "2022-09-05T16:49:22.656642Z",
     "iopub.status.idle": "2022-09-05T16:49:26.733791Z",
     "shell.execute_reply": "2022-09-05T16:49:26.726874Z"
    },
    "papermill": {
     "duration": 4.141377,
     "end_time": "2022-09-05T16:49:26.778734",
     "exception": false,
     "start_time": "2022-09-05T16:49:22.637357",
     "status": "completed"
    },
    "tags": []
   },
   "outputs": [],
   "source": [
    "import pandas as pd\n",
    "import sys\n",
    "from pathlib import Path\n",
    "import urllib.request\n",
    "import os.path\n",
    "import json"
   ]
  },
  {
   "cell_type": "code",
   "execution_count": 2,
   "id": "5fde39f2",
   "metadata": {
    "execution": {
     "iopub.execute_input": "2022-09-05T16:49:26.873487Z",
     "iopub.status.busy": "2022-09-05T16:49:26.868499Z",
     "iopub.status.idle": "2022-09-05T16:49:26.924280Z",
     "shell.execute_reply": "2022-09-05T16:49:26.916758Z"
    },
    "papermill": {
     "duration": 0.139686,
     "end_time": "2022-09-05T16:49:26.966239",
     "exception": false,
     "start_time": "2022-09-05T16:49:26.826553",
     "status": "completed"
    },
    "tags": []
   },
   "outputs": [],
   "source": [
    "Path(\"data\").mkdir(parents=True, exist_ok=True)"
   ]
  },
  {
   "cell_type": "code",
   "execution_count": 3,
   "id": "56da9fe7",
   "metadata": {
    "execution": {
     "iopub.execute_input": "2022-09-05T16:49:27.050941Z",
     "iopub.status.busy": "2022-09-05T16:49:27.046966Z",
     "iopub.status.idle": "2022-09-05T16:49:27.095822Z",
     "shell.execute_reply": "2022-09-05T16:49:27.087840Z"
    },
    "papermill": {
     "duration": 0.142545,
     "end_time": "2022-09-05T16:49:27.143692",
     "exception": false,
     "start_time": "2022-09-05T16:49:27.001147",
     "status": "completed"
    },
    "tags": []
   },
   "outputs": [],
   "source": [
    "if (not os.path.exists(\"data/content.json\")):\n",
    "    urllib.request.urlretrieve(\"https://ificloud.xsitepool.tu-freiberg.de/index.php/s/LME56sPXBCwxnLP/download/content.json\", \"data/content.json\")"
   ]
  },
  {
   "cell_type": "code",
   "execution_count": 4,
   "id": "7848ea68",
   "metadata": {
    "execution": {
     "iopub.execute_input": "2022-09-05T16:49:27.204534Z",
     "iopub.status.busy": "2022-09-05T16:49:27.200540Z",
     "iopub.status.idle": "2022-09-05T16:49:27.820886Z",
     "shell.execute_reply": "2022-09-05T16:49:27.814898Z"
    },
    "papermill": {
     "duration": 0.669215,
     "end_time": "2022-09-05T16:49:27.836843",
     "exception": false,
     "start_time": "2022-09-05T16:49:27.167628",
     "status": "completed"
    },
    "tags": []
   },
   "outputs": [],
   "source": [
    "with open(\"data/content.json\", 'r', encoding='utf-8') as json_data:\n",
    "    raw_data = json.load(json_data)\n",
    "    "
   ]
  },
  {
   "cell_type": "code",
   "execution_count": 5,
   "id": "a94f3d5f",
   "metadata": {
    "execution": {
     "iopub.execute_input": "2022-09-05T16:49:27.907650Z",
     "iopub.status.busy": "2022-09-05T16:49:27.904675Z",
     "iopub.status.idle": "2022-09-05T16:49:28.230934Z",
     "shell.execute_reply": "2022-09-05T16:49:28.221807Z"
    },
    "papermill": {
     "duration": 0.390883,
     "end_time": "2022-09-05T16:49:28.253725",
     "exception": false,
     "start_time": "2022-09-05T16:49:27.862842",
     "status": "completed"
    },
    "tags": []
   },
   "outputs": [],
   "source": [
    "df = pd.DataFrame(raw_data['files'])"
   ]
  },
  {
   "cell_type": "code",
   "execution_count": 6,
   "id": "7cab7e45",
   "metadata": {
    "execution": {
     "iopub.execute_input": "2022-09-05T16:49:28.331517Z",
     "iopub.status.busy": "2022-09-05T16:49:28.328521Z",
     "iopub.status.idle": "2022-09-05T16:49:28.545942Z",
     "shell.execute_reply": "2022-09-05T16:49:28.539952Z"
    },
    "papermill": {
     "duration": 0.27825,
     "end_time": "2022-09-05T16:49:28.564892",
     "exception": false,
     "start_time": "2022-09-05T16:49:28.286642",
     "status": "completed"
    },
    "tags": []
   },
   "outputs": [],
   "source": [
    "def getLastValue(aList):\n",
    "    if  isinstance(aList, list):\n",
    "        return aList[-1]\n",
    "    else:\n",
    "        return \"unknown\"\n",
    "\n",
    "# Extract file extension\n",
    "df['file_type'] = df.filename.str.split('.').apply(getLastValue)\n",
    "\n",
    "# Normalize different writing formates for file extensions\n",
    "df['file_type'] = df['file_type'].str.lower()"
   ]
  },
  {
   "cell_type": "code",
   "execution_count": 7,
   "id": "ae75f441",
   "metadata": {
    "execution": {
     "iopub.execute_input": "2022-09-05T16:49:28.649665Z",
     "iopub.status.busy": "2022-09-05T16:49:28.646671Z",
     "iopub.status.idle": "2022-09-05T16:49:33.045919Z",
     "shell.execute_reply": "2022-09-05T16:49:33.037928Z"
    },
    "papermill": {
     "duration": 4.467047,
     "end_time": "2022-09-05T16:49:33.062857",
     "exception": false,
     "start_time": "2022-09-05T16:49:28.595810",
     "status": "completed"
    },
    "tags": []
   },
   "outputs": [],
   "source": [
    "daten = []\n",
    "i=0\n",
    "for index, row in df.iterrows():\n",
    "    \n",
    "    if row.file_type == \"pdf\":        \n",
    "        daten.append(row.oer_permalink)"
   ]
  },
  {
   "cell_type": "code",
   "execution_count": 8,
   "id": "e1ee3ed4",
   "metadata": {
    "execution": {
     "iopub.execute_input": "2022-09-05T16:49:33.204492Z",
     "iopub.status.busy": "2022-09-05T16:49:33.200504Z",
     "iopub.status.idle": "2022-09-05T16:49:33.393989Z",
     "shell.execute_reply": "2022-09-05T16:49:33.387002Z"
    },
    "papermill": {
     "duration": 0.271284,
     "end_time": "2022-09-05T16:49:33.410939",
     "exception": false,
     "start_time": "2022-09-05T16:49:33.139655",
     "status": "completed"
    },
    "tags": []
   },
   "outputs": [],
   "source": [
    "series = pd.Series(daten)\n",
    "series.to_csv(\"data/PDFURLs.csv\", header=False, index=False)"
   ]
  }
 ],
 "metadata": {
  "kernelspec": {
   "display_name": "Python 3 (ipykernel)",
   "language": "python",
   "name": "python3"
  },
  "language_info": {
   "codemirror_mode": {
    "name": "ipython",
    "version": 3
   },
   "file_extension": ".py",
   "mimetype": "text/x-python",
   "name": "python",
   "nbconvert_exporter": "python",
   "pygments_lexer": "ipython3",
   "version": "3.9.13"
  },
  "papermill": {
   "default_parameters": {},
   "duration": 26.391548,
   "end_time": "2022-09-05T16:49:34.761315",
   "environment_variables": {},
   "exception": null,
   "input_path": "C:\\Users\\Johann\\Desktop\\UNI\\BA\\Python\\notebooks\\findpdfincontent.ipynb",
   "output_path": "C:\\Users\\Johann\\Desktop\\UNI\\BA\\Python\\notebooks\\findpdfincontent.ipynb",
   "parameters": {},
   "start_time": "2022-09-05T16:49:08.369767",
   "version": "2.4.0"
  }
 },
 "nbformat": 4,
 "nbformat_minor": 5
}