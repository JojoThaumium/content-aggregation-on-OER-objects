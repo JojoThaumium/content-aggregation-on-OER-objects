{
 "cells": [
  {
   "cell_type": "code",
   "execution_count": 1,
   "id": "65a8f62e",
   "metadata": {
    "execution": {
     "iopub.execute_input": "2022-09-27T09:26:38.108437Z",
     "iopub.status.busy": "2022-09-27T09:26:38.108437Z",
     "iopub.status.idle": "2022-09-27T09:26:39.172020Z",
     "shell.execute_reply": "2022-09-27T09:26:39.168034Z"
    },
    "papermill": {
     "duration": 1.073446,
     "end_time": "2022-09-27T09:26:39.175014",
     "exception": false,
     "start_time": "2022-09-27T09:26:38.101568",
     "status": "completed"
    },
    "tags": []
   },
   "outputs": [],
   "source": [
    "import pandas as pd\n",
    "import sys\n",
    "from pathlib import Path\n",
    "import urllib.request\n",
    "import os.path\n",
    "import json"
   ]
  },
  {
   "cell_type": "code",
   "execution_count": 2,
   "id": "5fde39f2",
   "metadata": {
    "execution": {
     "iopub.execute_input": "2022-09-27T09:26:39.186983Z",
     "iopub.status.busy": "2022-09-27T09:26:39.186983Z",
     "iopub.status.idle": "2022-09-27T09:26:39.201032Z",
     "shell.execute_reply": "2022-09-27T09:26:39.200038Z"
    },
    "papermill": {
     "duration": 0.024026,
     "end_time": "2022-09-27T09:26:39.204025",
     "exception": false,
     "start_time": "2022-09-27T09:26:39.179999",
     "status": "completed"
    },
    "tags": []
   },
   "outputs": [],
   "source": [
    "Path(\"data\").mkdir(parents=True, exist_ok=True)"
   ]
  },
  {
   "cell_type": "code",
   "execution_count": 3,
   "id": "56da9fe7",
   "metadata": {
    "execution": {
     "iopub.execute_input": "2022-09-27T09:26:39.213997Z",
     "iopub.status.busy": "2022-09-27T09:26:39.213997Z",
     "iopub.status.idle": "2022-09-27T09:26:40.461314Z",
     "shell.execute_reply": "2022-09-27T09:26:40.460312Z"
    },
    "papermill": {
     "duration": 1.256293,
     "end_time": "2022-09-27T09:26:40.464306",
     "exception": false,
     "start_time": "2022-09-27T09:26:39.208013",
     "status": "completed"
    },
    "tags": []
   },
   "outputs": [],
   "source": [
    "if (not os.path.exists(\"data/content.json\")):\n",
    "    urllib.request.urlretrieve(\"https://ificloud.xsitepool.tu-freiberg.de/index.php/s/LME56sPXBCwxnLP/download/content.json\", \"data/content.json\")"
   ]
  },
  {
   "cell_type": "code",
   "execution_count": 4,
   "id": "7848ea68",
   "metadata": {
    "execution": {
     "iopub.execute_input": "2022-09-27T09:26:40.475814Z",
     "iopub.status.busy": "2022-09-27T09:26:40.474816Z",
     "iopub.status.idle": "2022-09-27T09:26:40.647297Z",
     "shell.execute_reply": "2022-09-27T09:26:40.646291Z"
    },
    "papermill": {
     "duration": 0.181488,
     "end_time": "2022-09-27T09:26:40.651313",
     "exception": false,
     "start_time": "2022-09-27T09:26:40.469825",
     "status": "completed"
    },
    "tags": []
   },
   "outputs": [],
   "source": [
    "with open(\"data/content.json\", 'r', encoding='utf-8') as json_data:\n",
    "    raw_data = json.load(json_data)\n",
    "    "
   ]
  },
  {
   "cell_type": "code",
   "execution_count": 5,
   "id": "a94f3d5f",
   "metadata": {
    "execution": {
     "iopub.execute_input": "2022-09-27T09:26:40.664250Z",
     "iopub.status.busy": "2022-09-27T09:26:40.664250Z",
     "iopub.status.idle": "2022-09-27T09:26:40.710125Z",
     "shell.execute_reply": "2022-09-27T09:26:40.708199Z"
    },
    "papermill": {
     "duration": 0.058845,
     "end_time": "2022-09-27T09:26:40.714116",
     "exception": false,
     "start_time": "2022-09-27T09:26:40.655271",
     "status": "completed"
    },
    "tags": []
   },
   "outputs": [],
   "source": [
    "df = pd.DataFrame(raw_data['files'])"
   ]
  },
  {
   "cell_type": "code",
   "execution_count": 6,
   "id": "7cab7e45",
   "metadata": {
    "execution": {
     "iopub.execute_input": "2022-09-27T09:26:40.728081Z",
     "iopub.status.busy": "2022-09-27T09:26:40.727084Z",
     "iopub.status.idle": "2022-09-27T09:26:40.787158Z",
     "shell.execute_reply": "2022-09-27T09:26:40.786135Z"
    },
    "papermill": {
     "duration": 0.069054,
     "end_time": "2022-09-27T09:26:40.789153",
     "exception": false,
     "start_time": "2022-09-27T09:26:40.720099",
     "status": "completed"
    },
    "tags": []
   },
   "outputs": [],
   "source": [
    "def getLastValue(aList):\n",
    "    if  isinstance(aList, list):\n",
    "        return aList[-1]\n",
    "    else:\n",
    "        return \"unknown\"\n",
    "\n",
    "# Extract file extension\n",
    "df['file_type'] = df.filename.str.split('.').apply(getLastValue)\n",
    "\n",
    "# Normalize different writing formates for file extensions\n",
    "df['file_type'] = df['file_type'].str.lower()"
   ]
  },
  {
   "cell_type": "code",
   "execution_count": 7,
   "id": "ae75f441",
   "metadata": {
    "execution": {
     "iopub.execute_input": "2022-09-27T09:26:40.800123Z",
     "iopub.status.busy": "2022-09-27T09:26:40.800123Z",
     "iopub.status.idle": "2022-09-27T09:26:41.630520Z",
     "shell.execute_reply": "2022-09-27T09:26:41.629519Z"
    },
    "papermill": {
     "duration": 0.84037,
     "end_time": "2022-09-27T09:26:41.633513",
     "exception": false,
     "start_time": "2022-09-27T09:26:40.793143",
     "status": "completed"
    },
    "tags": []
   },
   "outputs": [],
   "source": [
    "daten = []\n",
    "i=0\n",
    "for index, row in df.iterrows():\n",
    "    \n",
    "    if row.file_type == \"pdf\":        \n",
    "        daten.append(row.oer_permalink)"
   ]
  },
  {
   "cell_type": "code",
   "execution_count": 8,
   "id": "e1ee3ed4",
   "metadata": {
    "execution": {
     "iopub.execute_input": "2022-09-27T09:26:41.643481Z",
     "iopub.status.busy": "2022-09-27T09:26:41.643481Z",
     "iopub.status.idle": "2022-09-27T09:26:41.677392Z",
     "shell.execute_reply": "2022-09-27T09:26:41.676393Z"
    },
    "papermill": {
     "duration": 0.042883,
     "end_time": "2022-09-27T09:26:41.680383",
     "exception": false,
     "start_time": "2022-09-27T09:26:41.637500",
     "status": "completed"
    },
    "tags": []
   },
   "outputs": [],
   "source": [
    "series = pd.Series(daten)\n",
    "series.to_csv(\"data/PDFURLs.csv\", header=False, index=False)"
   ]
  }
 ],
 "metadata": {
  "kernelspec": {
   "display_name": "Python 3 (ipykernel)",
   "language": "python",
   "name": "python3"
  },
  "language_info": {
   "codemirror_mode": {
    "name": "ipython",
    "version": 3
   },
   "file_extension": ".py",
   "mimetype": "text/x-python",
   "name": "python",
   "nbconvert_exporter": "python",
   "pygments_lexer": "ipython3",
   "version": "3.10.7"
  },
  "papermill": {
   "default_parameters": {},
   "duration": 7.047583,
   "end_time": "2022-09-27T09:26:42.046689",
   "environment_variables": {},
   "exception": null,
   "input_path": "C:\\Users\\Johann\\Desktop\\UNI\\BA\\pipenv\\notebooks\\findpdfincontent.ipynb",
   "output_path": "C:\\Users\\Johann\\Desktop\\UNI\\BA\\pipenv\\notebooks\\findpdfincontent.ipynb",
   "parameters": {},
   "start_time": "2022-09-27T09:26:34.999106",
   "version": "2.4.0"
  }
 },
 "nbformat": 4,
 "nbformat_minor": 5
}