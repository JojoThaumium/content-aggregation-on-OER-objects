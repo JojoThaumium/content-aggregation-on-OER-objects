{
 "cells": [
  {
   "cell_type": "code",
   "execution_count": 1,
   "id": "65a8f62e",
   "metadata": {},
   "outputs": [],
   "source": [
    "import pandas as pd\n",
    "import sys\n",
    "from pathlib import Path\n",
    "import urllib.request\n",
    "import os.path"
   ]
  },
  {
   "cell_type": "code",
   "execution_count": 2,
   "id": "5fde39f2",
   "metadata": {},
   "outputs": [],
   "source": [
    "Path(\"temp\").mkdir(parents=True, exist_ok=True)"
   ]
  },
  {
   "cell_type": "code",
   "execution_count": 3,
   "id": "56da9fe7",
   "metadata": {},
   "outputs": [],
   "source": [
    "if (not os.path.exists(\"temp/content.json\")):\n",
    "    urllib.request.urlretrieve(\"https://ificloud.xsitepool.tu-freiberg.de/index.php/s/LME56sPXBCwxnLP/download/content.json\", \"temp/content.json\")"
   ]
  },
  {
   "cell_type": "code",
   "execution_count": 4,
   "id": "0a307f89",
   "metadata": {},
   "outputs": [],
   "source": [
    "#reader = pd.read_json(\"temp/content.json\", lines=True, chunksize=1)\n",
    "#import json\n",
    "\n",
    "data = []\n",
    "with open('temp/content.json') as f:\n",
    "    for line in f:\n",
    "        \n",
    "        if \".pdf\" in line:\n",
    "            data.append(line[line.find('\"oer_permalink\":\"')+17:line.find('\",\"title\":')])\n",
    "            \n",
    "            if len(data)>49:\n",
    "                break"
   ]
  },
  {
   "cell_type": "code",
   "execution_count": 5,
   "id": "e1ee3ed4",
   "metadata": {},
   "outputs": [],
   "source": [
    "series = pd.Series(data)\n",
    "series.to_csv(\"temp/PDFURLs.csv\", header=False, index=False)"
   ]
  }
 ],
 "metadata": {
  "kernelspec": {
   "display_name": "Python 3 (ipykernel)",
   "language": "python",
   "name": "python3"
  },
  "language_info": {
   "codemirror_mode": {
    "name": "ipython",
    "version": 3
   },
   "file_extension": ".py",
   "mimetype": "text/x-python",
   "name": "python",
   "nbconvert_exporter": "python",
   "pygments_lexer": "ipython3",
   "version": "3.9.12"
  }
 },
 "nbformat": 4,
 "nbformat_minor": 5
}
