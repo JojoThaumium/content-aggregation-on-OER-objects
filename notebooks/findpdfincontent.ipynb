{
 "cells": [
  {
   "cell_type": "code",
   "execution_count": 1,
   "id": "65a8f62e",
   "metadata": {
    "execution": {
     "iopub.execute_input": "2022-11-16T10:19:57.772143Z",
     "iopub.status.busy": "2022-11-16T10:19:57.769140Z",
     "iopub.status.idle": "2022-11-16T10:19:58.737248Z",
     "shell.execute_reply": "2022-11-16T10:19:58.736239Z"
    },
    "papermill": {
     "duration": 0.985132,
     "end_time": "2022-11-16T10:19:58.741252",
     "exception": false,
     "start_time": "2022-11-16T10:19:57.756120",
     "status": "completed"
    },
    "tags": []
   },
   "outputs": [],
   "source": [
    "import pandas as pd\n",
    "import sys\n",
    "from pathlib import Path\n",
    "import urllib.request\n",
    "import os.path\n",
    "import json"
   ]
  },
  {
   "cell_type": "code",
   "execution_count": 2,
   "id": "5fde39f2",
   "metadata": {
    "execution": {
     "iopub.execute_input": "2022-11-16T10:19:58.969329Z",
     "iopub.status.busy": "2022-11-16T10:19:58.966332Z",
     "iopub.status.idle": "2022-11-16T10:19:58.986791Z",
     "shell.execute_reply": "2022-11-16T10:19:58.983530Z"
    },
    "papermill": {
     "duration": 0.042267,
     "end_time": "2022-11-16T10:19:58.993602",
     "exception": false,
     "start_time": "2022-11-16T10:19:58.951335",
     "status": "completed"
    },
    "tags": []
   },
   "outputs": [],
   "source": [
    "Path(\"data\").mkdir(parents=True, exist_ok=True)"
   ]
  },
  {
   "cell_type": "code",
   "execution_count": 3,
   "id": "56da9fe7",
   "metadata": {
    "execution": {
     "iopub.execute_input": "2022-11-16T10:19:59.019561Z",
     "iopub.status.busy": "2022-11-16T10:19:59.017560Z",
     "iopub.status.idle": "2022-11-16T10:19:59.048307Z",
     "shell.execute_reply": "2022-11-16T10:19:59.045381Z"
    },
    "papermill": {
     "duration": 0.050671,
     "end_time": "2022-11-16T10:19:59.054234",
     "exception": false,
     "start_time": "2022-11-16T10:19:59.003563",
     "status": "completed"
    },
    "tags": []
   },
   "outputs": [],
   "source": [
    "if (not os.path.exists(\"data/content.json\")):\n",
    "    urllib.request.urlretrieve(\"https://ificloud.xsitepool.tu-freiberg.de/index.php/s/LME56sPXBCwxnLP/download/content.json\", \"data/content.json\")"
   ]
  },
  {
   "cell_type": "code",
   "execution_count": 4,
   "id": "7848ea68",
   "metadata": {
    "execution": {
     "iopub.execute_input": "2022-11-16T10:19:59.081193Z",
     "iopub.status.busy": "2022-11-16T10:19:59.080203Z",
     "iopub.status.idle": "2022-11-16T10:19:59.468390Z",
     "shell.execute_reply": "2022-11-16T10:19:59.467230Z"
    },
    "papermill": {
     "duration": 0.406606,
     "end_time": "2022-11-16T10:19:59.472163",
     "exception": false,
     "start_time": "2022-11-16T10:19:59.065557",
     "status": "completed"
    },
    "tags": []
   },
   "outputs": [],
   "source": [
    "with open(\"data/content.json\", 'r', encoding='utf-8') as json_data:\n",
    "    raw_data = json.load(json_data)\n",
    "    "
   ]
  },
  {
   "cell_type": "code",
   "execution_count": 5,
   "id": "a94f3d5f",
   "metadata": {
    "execution": {
     "iopub.execute_input": "2022-11-16T10:19:59.485316Z",
     "iopub.status.busy": "2022-11-16T10:19:59.484125Z",
     "iopub.status.idle": "2022-11-16T10:19:59.563849Z",
     "shell.execute_reply": "2022-11-16T10:19:59.561829Z"
    },
    "papermill": {
     "duration": 0.090512,
     "end_time": "2022-11-16T10:19:59.567875",
     "exception": false,
     "start_time": "2022-11-16T10:19:59.477363",
     "status": "completed"
    },
    "tags": []
   },
   "outputs": [],
   "source": [
    "df = pd.DataFrame(raw_data['files'])"
   ]
  },
  {
   "cell_type": "code",
   "execution_count": 6,
   "id": "7cab7e45",
   "metadata": {
    "execution": {
     "iopub.execute_input": "2022-11-16T10:19:59.582847Z",
     "iopub.status.busy": "2022-11-16T10:19:59.581845Z",
     "iopub.status.idle": "2022-11-16T10:19:59.640869Z",
     "shell.execute_reply": "2022-11-16T10:19:59.639781Z"
    },
    "papermill": {
     "duration": 0.07156,
     "end_time": "2022-11-16T10:19:59.644829",
     "exception": false,
     "start_time": "2022-11-16T10:19:59.573269",
     "status": "completed"
    },
    "tags": []
   },
   "outputs": [],
   "source": [
    "def getLastValue(aList):\n",
    "    if  isinstance(aList, list):\n",
    "        return aList[-1]\n",
    "    else:\n",
    "        return \"unknown\"\n",
    "\n",
    "# Extract file extension\n",
    "df['file_type'] = df.filename.str.split('.').apply(getLastValue)\n",
    "\n",
    "# Normalize different writing formates for file extensions\n",
    "df['file_type'] = df['file_type'].str.lower()"
   ]
  },
  {
   "cell_type": "code",
   "execution_count": 7,
   "id": "ae75f441",
   "metadata": {
    "execution": {
     "iopub.execute_input": "2022-11-16T10:19:59.658795Z",
     "iopub.status.busy": "2022-11-16T10:19:59.657799Z",
     "iopub.status.idle": "2022-11-16T10:20:00.467953Z",
     "shell.execute_reply": "2022-11-16T10:20:00.466866Z"
    },
    "papermill": {
     "duration": 0.821964,
     "end_time": "2022-11-16T10:20:00.471800",
     "exception": false,
     "start_time": "2022-11-16T10:19:59.649836",
     "status": "completed"
    },
    "tags": []
   },
   "outputs": [],
   "source": [
    "daten = []\n",
    "i=0\n",
    "for index, row in df.iterrows():\n",
    "    \n",
    "    if row.file_type == \"pdf\":        \n",
    "        daten.append(row.oer_permalink)"
   ]
  },
  {
   "cell_type": "code",
   "execution_count": 8,
   "id": "e1ee3ed4",
   "metadata": {
    "execution": {
     "iopub.execute_input": "2022-11-16T10:20:00.487791Z",
     "iopub.status.busy": "2022-11-16T10:20:00.486912Z",
     "iopub.status.idle": "2022-11-16T10:20:00.672965Z",
     "shell.execute_reply": "2022-11-16T10:20:00.670045Z"
    },
    "papermill": {
     "duration": 0.200125,
     "end_time": "2022-11-16T10:20:00.678062",
     "exception": false,
     "start_time": "2022-11-16T10:20:00.477937",
     "status": "completed"
    },
    "tags": []
   },
   "outputs": [],
   "source": [
    "series = pd.Series(daten)\n",
    "series.to_csv(\"data/PDFURLs.csv\", header=False, index=False)"
   ]
  }
 ],
 "metadata": {
  "kernelspec": {
   "display_name": "Python 3 (ipykernel)",
   "language": "python",
   "name": "python3"
  },
  "language_info": {
   "codemirror_mode": {
    "name": "ipython",
    "version": 3
   },
   "file_extension": ".py",
   "mimetype": "text/x-python",
   "name": "python",
   "nbconvert_exporter": "python",
   "pygments_lexer": "ipython3",
   "version": "3.10.7"
  },
  "papermill": {
   "default_parameters": {},
   "duration": 7.098205,
   "end_time": "2022-11-16T10:20:01.081650",
   "environment_variables": {},
   "exception": null,
   "input_path": "C:\\Users\\Johann\\Desktop\\UNI\\BA\\pipenv\\notebooks\\findpdfincontent.ipynb",
   "output_path": "C:\\Users\\Johann\\Desktop\\UNI\\BA\\pipenv\\notebooks\\findpdfincontent.ipynb",
   "parameters": {},
   "start_time": "2022-11-16T10:19:53.983445",
   "version": "2.4.0"
  }
 },
 "nbformat": 4,
 "nbformat_minor": 5
}