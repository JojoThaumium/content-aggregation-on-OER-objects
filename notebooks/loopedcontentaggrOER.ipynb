{
 "cells": [
  {
   "cell_type": "code",
   "execution_count": null,
   "id": "16c1d814",
   "metadata": {
    "execution": {
     "iopub.execute_input": "2022-11-16T10:22:19.543203Z",
     "iopub.status.busy": "2022-11-16T10:22:19.541204Z",
     "iopub.status.idle": "2022-11-16T10:22:22.382043Z",
     "shell.execute_reply": "2022-11-16T10:22:22.380975Z"
    },
    "papermill": {
     "duration": 2.855748,
     "end_time": "2022-11-16T10:22:22.384971",
     "exception": false,
     "start_time": "2022-11-16T10:22:19.529223",
     "status": "completed"
    },
    "tags": []
   },
   "outputs": [],
   "source": [
    "import sys\n",
    "import os.path\n",
    "import pikepdf\n",
    "import urllib.request\n",
    "import pandas as pd\n",
    "import numpy as np\n",
    "from datetime import datetime\n",
    "from pathlib import Path\n",
    "\n",
    "Path(\"temp\").mkdir(parents=True, exist_ok=True)\n",
    "Path(\"data\").mkdir(parents=True, exist_ok=True)"
   ]
  },
  {
   "cell_type": "code",
   "execution_count": null,
   "id": "189fe4ed",
   "metadata": {
    "execution": {
     "iopub.execute_input": "2022-11-16T10:22:22.398045Z",
     "iopub.status.busy": "2022-11-16T10:22:22.396974Z",
     "iopub.status.idle": "2022-11-16T10:22:22.428358Z",
     "shell.execute_reply": "2022-11-16T10:22:22.427333Z"
    },
    "papermill": {
     "duration": 0.041376,
     "end_time": "2022-11-16T10:22:22.431345",
     "exception": false,
     "start_time": "2022-11-16T10:22:22.389969",
     "status": "completed"
    },
    "tags": []
   },
   "outputs": [],
   "source": [
    "if (os.path.exists(\"data/meta.csv\")):\n",
    "    os.remove(\"data/meta.csv\")"
   ]
  },
  {
   "cell_type": "code",
   "execution_count": null,
   "id": "a858ea5a",
   "metadata": {
    "execution": {
     "iopub.execute_input": "2022-11-16T10:22:22.444674Z",
     "iopub.status.busy": "2022-11-16T10:22:22.444350Z",
     "iopub.status.idle": "2022-11-16T10:22:22.523918Z",
     "shell.execute_reply": "2022-11-16T10:22:22.521905Z"
    },
    "papermill": {
     "duration": 0.091892,
     "end_time": "2022-11-16T10:22:22.528918",
     "exception": false,
     "start_time": "2022-11-16T10:22:22.437026",
     "status": "completed"
    },
    "tags": []
   },
   "outputs": [],
   "source": [
    "pdfurl = pd.read_csv(\"data/downloadedpdf.csv\").fillna(value = \"\")\n",
    "pdfurl"
   ]
  },
  {
   "cell_type": "code",
   "execution_count": null,
   "id": "97f3deae",
   "metadata": {
    "execution": {
     "iopub.execute_input": "2022-11-16T10:22:22.542922Z",
     "iopub.status.busy": "2022-11-16T10:22:22.541949Z",
     "iopub.status.idle": "2022-11-16T10:53:21.414740Z",
     "shell.execute_reply": "2022-11-16T10:53:21.408931Z"
    },
    "papermill": {
     "duration": 1858.885401,
     "end_time": "2022-11-16T10:53:21.419746",
     "exception": false,
     "start_time": "2022-11-16T10:22:22.534345",
     "status": "completed"
    },
    "tags": []
   },
   "outputs": [],
   "source": [
    "#loop\n",
    "for index, row in pdfurl.iterrows():\n",
    "    \n",
    "    unique = row['URL'].removeprefix(\"https://bildungsportal.sachsen.de/opal/oer/\")\n",
    "    unique = unique.removesuffix(\"\\n\")\n",
    "    metadict = {\"Identifier\":unique}   \n",
    "    pfad = \"temp/\" + unique + \".pdf\"\n",
    "    if((row['Error'] == \"\")):\n",
    "        #Falls beim Download kein Error aufgetreten ist: Probier die Datei zu öffnen\n",
    "        try:\n",
    "            pdf = pikepdf.Pdf.open(pfad)           \n",
    "        except pikepdf._qpdf.PasswordError:\n",
    "            print(\"This pdf requires a password.\")\n",
    "            metadict.update({\"Error\":'PasswordProtected'})\n",
    "            frame = pd.DataFrame(metadict, [0])\n",
    "            if (os.path.exists(\"data/meta.csv\")):   \n",
    "                #oldframe = pd.read_csv(\"data/meta.csv\")\n",
    "                newframe = pd.concat([oldframe, frame])\n",
    "                newframe.to_csv(\"data/meta.csv\", index=False)\n",
    "                oldframe = newframe\n",
    "            else:\n",
    "                frame.to_csv(\"data/meta.csv\", index=False)\n",
    "                oldframe = frame\n",
    "            metadict.clear           \n",
    "            continue\n",
    "        except:\n",
    "            print(\"An Error occured while opening.\")\n",
    "            metadict.update({\"Error\":'OpeningError'})\n",
    "            frame = pd.DataFrame(metadict, [0])\n",
    "            if (os.path.exists(\"data/meta.csv\")):   \n",
    "                #oldframe = pd.read_csv(\"data/meta.csv\")\n",
    "                newframe = pd.concat([oldframe, frame])\n",
    "                newframe.to_csv(\"data/meta.csv\", index=False)\n",
    "                oldframe = newframe\n",
    "            else:\n",
    "                frame.to_csv(\"data/meta.csv\", index=False)\n",
    "                oldframe = frame\n",
    "            metadict.clear\n",
    "            continue\n",
    "        \n",
    "        #Read Metadata from pdfs docinfo\n",
    "        docinfo = pdf.docinfo\n",
    "\n",
    "        try:\n",
    "            docinfo[\"/Author\"]\n",
    "        except KeyError:\n",
    "            metadict.update({\"Author\":\"\"})\n",
    "        else:\n",
    "            metadict.update({\"Author\":str(docinfo[\"/Author\"]).replace(\"\\n\", \"\")\\\n",
    "                                                             .replace(\"\\r\", \"\")\\\n",
    "                                                             .replace(\"\\00\", \"\")})\n",
    "\n",
    "        try:\n",
    "            docinfo[\"/Keywords\"]\n",
    "        except KeyError:\n",
    "            metadict.update({\"Keywords\":\"\"})\n",
    "        else:\n",
    "            metadict.update({\"Keywords\":str(docinfo[\"/Keywords\"]).replace(\"\\n\", \"\")\\\n",
    "                                                                 .replace(\"\\r\", \"\")\\\n",
    "                                                                 .replace(\"\\00\", \"\")\\\n",
    "                                                                 .replace(\";\", \",\")\\\n",
    "                                                                 .replace(\", \", \",\")\\\n",
    "                                                                 .replace(\" \", \"_\")})\n",
    "            \n",
    "            \n",
    "        try:\n",
    "            docinfo[\"/CreationDate\"]\n",
    "        except KeyError:\n",
    "            metadict.update({\"Datum der Erstellung\":\"\"})\n",
    "        else:\n",
    "            creation = str(docinfo[\"/CreationDate\"]).replace(\"'\", \"\")\n",
    "            \n",
    "            if(len(creation) > 12):\n",
    "                if(creation[0] != 'D'):\n",
    "                    creation = 'D:' + creation\n",
    "                if(len(creation) >=17):\n",
    "                    if(creation[16]== 'Z'):\n",
    "                        creation = creation.removesuffix(\"0000\")\n",
    "                elif(len(creation) == 16):\n",
    "                    creation = creation + 'Z'\n",
    "                try:\n",
    "                    date = datetime.strptime(creation, \"D:%Y%m%d%H%M%S%z\")\n",
    "                except ValueError:\n",
    "                    metadict.update({\"Datum der Erstellung\":\"\"})\n",
    "                else:\n",
    "                    metadict.update({\"Datum der Erstellung\":date.strftime(\"%Y/%m/%d\")}) \n",
    "            else:\n",
    "                metadict.update({\"Datum der Erstellung\":\"\"})\n",
    "    \n",
    "        try:\n",
    "            docinfo[\"/Title\"]\n",
    "        except KeyError:\n",
    "            metadict.update({\"Titel\":\"\"})\n",
    "        else:\n",
    "            metadict.update({\"Titel\":str(docinfo[\"/Title\"]).replace(\"\\n\", \"\")\\\n",
    "                                                           .replace(\"\\r\", \"\")\\\n",
    "                                                           .replace(\"\\00\", \"\")})\n",
    "\n",
    "            \n",
    "        metadict.update({\"Seitenzahl\":len(pdf.pages)})\n",
    "\n",
    "        \n",
    "        if (pdf.pages[0].trimbox[2] - pdf.pages[0].trimbox[0]) < (pdf.pages[0].trimbox[3] - pdf.pages[0].trimbox[1]):\n",
    "            metadict.update({\"Format\":\"Hochformat\"})\n",
    "        else:\n",
    "            metadict.update({\"Format\":\"Querformat\"})\n",
    "\n",
    "        metadict.update({\"Dateigröße\":os.stat(pfad).st_size})\n",
    "        pdf.close()\n",
    "    else:\n",
    "        metadict.update({'Error':row['Error']})\n",
    "\n",
    "        \n",
    "    frame = pd.DataFrame(metadict, [0])\n",
    "    if (os.path.exists(\"data/meta.csv\")):   \n",
    "        newframe = pd.concat([oldframe, frame])\n",
    "        newframe.to_csv(\"data/meta.csv\", index=False)\n",
    "        oldframe = newframe\n",
    "            \n",
    "    else:\n",
    "        frame.to_csv(\"data/meta.csv\", index=False)\n",
    "        oldframe = frame\n",
    "        \n",
    "    metadict.clear\n",
    "    print(\"finshed:\", index+1)"
   ]
  }
 ],
 "metadata": {
  "kernelspec": {
   "display_name": "Python 3 (ipykernel)",
   "language": "python",
   "name": "python3"
  },
  "language_info": {
   "codemirror_mode": {
    "name": "ipython",
    "version": 3
   },
   "file_extension": ".py",
   "mimetype": "text/x-python",
   "name": "python",
   "nbconvert_exporter": "python",
   "pygments_lexer": "ipython3",
   "version": "3.10.7"
  },
  "papermill": {
   "default_parameters": {},
   "duration": 1867.558709,
   "end_time": "2022-11-16T10:53:23.400200",
   "environment_variables": {},
   "exception": null,
   "input_path": "C:\\Users\\Johann\\Desktop\\UNI\\BA\\pipenv\\notebooks\\loopedcontentaggrOER.ipynb",
   "output_path": "C:\\Users\\Johann\\Desktop\\UNI\\BA\\pipenv\\notebooks\\loopedcontentaggrOER.ipynb",
   "parameters": {},
   "start_time": "2022-11-16T10:22:15.841491",
   "version": "2.4.0"
  }
 },
 "nbformat": 4,
 "nbformat_minor": 5
}
