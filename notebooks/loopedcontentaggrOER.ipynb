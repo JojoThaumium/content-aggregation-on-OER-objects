{
 "cells": [
  {
   "cell_type": "code",
   "execution_count": 1,
   "id": "16c1d814",
   "metadata": {
    "execution": {
     "iopub.execute_input": "2022-09-05T16:49:50.259549Z",
     "iopub.status.busy": "2022-09-05T16:49:50.255561Z",
     "iopub.status.idle": "2022-09-05T16:49:55.377097Z",
     "shell.execute_reply": "2022-09-05T16:49:55.368190Z"
    },
    "papermill": {
     "duration": 5.168415,
     "end_time": "2022-09-05T16:49:55.395052",
     "exception": false,
     "start_time": "2022-09-05T16:49:50.226637",
     "status": "completed"
    },
    "tags": []
   },
   "outputs": [],
   "source": [
    "import sys\n",
    "import os.path\n",
    "import pikepdf\n",
    "import urllib.request\n",
    "import pandas as pd\n",
    "from datetime import datetime\n",
    "from pathlib import Path\n",
    "#import requests\n",
    "Path(\"temp\").mkdir(parents=True, exist_ok=True)\n",
    "Path(\"data\").mkdir(parents=True, exist_ok=True)"
   ]
  },
  {
   "cell_type": "code",
   "execution_count": 2,
   "id": "189fe4ed",
   "metadata": {
    "execution": {
     "iopub.execute_input": "2022-09-05T16:49:55.485823Z",
     "iopub.status.busy": "2022-09-05T16:49:55.482818Z",
     "iopub.status.idle": "2022-09-05T16:49:55.531700Z",
     "shell.execute_reply": "2022-09-05T16:49:55.524719Z"
    },
    "papermill": {
     "duration": 0.122669,
     "end_time": "2022-09-05T16:49:55.552627",
     "exception": false,
     "start_time": "2022-09-05T16:49:55.429958",
     "status": "completed"
    },
    "tags": []
   },
   "outputs": [],
   "source": [
    "if (os.path.exists(\"data/meta.csv\")):\n",
    "    os.remove(\"data/meta.csv\")"
   ]
  },
  {
   "cell_type": "code",
   "execution_count": 3,
   "id": "97f3deae",
   "metadata": {
    "execution": {
     "iopub.execute_input": "2022-09-05T16:49:55.629493Z",
     "iopub.status.busy": "2022-09-05T16:49:55.626498Z",
     "iopub.status.idle": "2022-09-05T17:59:14.077181Z",
     "shell.execute_reply": "2022-09-05T17:59:14.071189Z"
    },
    "papermill": {
     "duration": 4158.493627,
     "end_time": "2022-09-05T17:59:14.082165",
     "exception": false,
     "start_time": "2022-09-05T16:49:55.588538",
     "status": "completed"
    },
    "tags": []
   },
   "outputs": [
    {
     "name": "stdout",
     "output_type": "stream",
     "text": [
      "finshed: 1\n"
     ]
    },
    {
     "ename": "KeyError",
     "evalue": "('Seitenzahl', 'Dateigröße')",
     "output_type": "error",
     "traceback": [
      "\u001b[1;31m---------------------------------------------------------------------------\u001b[0m",
      "\u001b[1;31mKeyError\u001b[0m                                  Traceback (most recent call last)",
      "File \u001b[1;32m~\\.virtualenvs\\Python-1kiekOlB\\lib\\site-packages\\pandas\\core\\indexes\\base.py:3629\u001b[0m, in \u001b[0;36mIndex.get_loc\u001b[1;34m(self, key, method, tolerance)\u001b[0m\n\u001b[0;32m   3628\u001b[0m \u001b[38;5;28;01mtry\u001b[39;00m:\n\u001b[1;32m-> 3629\u001b[0m     \u001b[38;5;28;01mreturn\u001b[39;00m \u001b[38;5;28;43mself\u001b[39;49m\u001b[38;5;241;43m.\u001b[39;49m\u001b[43m_engine\u001b[49m\u001b[38;5;241;43m.\u001b[39;49m\u001b[43mget_loc\u001b[49m\u001b[43m(\u001b[49m\u001b[43mcasted_key\u001b[49m\u001b[43m)\u001b[49m\n\u001b[0;32m   3630\u001b[0m \u001b[38;5;28;01mexcept\u001b[39;00m \u001b[38;5;167;01mKeyError\u001b[39;00m \u001b[38;5;28;01mas\u001b[39;00m err:\n",
      "File \u001b[1;32m~\\.virtualenvs\\Python-1kiekOlB\\lib\\site-packages\\pandas\\_libs\\index.pyx:136\u001b[0m, in \u001b[0;36mpandas._libs.index.IndexEngine.get_loc\u001b[1;34m()\u001b[0m\n",
      "File \u001b[1;32m~\\.virtualenvs\\Python-1kiekOlB\\lib\\site-packages\\pandas\\_libs\\index.pyx:163\u001b[0m, in \u001b[0;36mpandas._libs.index.IndexEngine.get_loc\u001b[1;34m()\u001b[0m\n",
      "File \u001b[1;32mpandas\\_libs\\hashtable_class_helper.pxi:5198\u001b[0m, in \u001b[0;36mpandas._libs.hashtable.PyObjectHashTable.get_item\u001b[1;34m()\u001b[0m\n",
      "File \u001b[1;32mpandas\\_libs\\hashtable_class_helper.pxi:5206\u001b[0m, in \u001b[0;36mpandas._libs.hashtable.PyObjectHashTable.get_item\u001b[1;34m()\u001b[0m\n",
      "\u001b[1;31mKeyError\u001b[0m: ('Seitenzahl', 'Dateigröße')",
      "\nThe above exception was the direct cause of the following exception:\n",
      "\u001b[1;31mKeyError\u001b[0m                                  Traceback (most recent call last)",
      "Input \u001b[1;32mIn [3]\u001b[0m, in \u001b[0;36m<cell line: 3>\u001b[1;34m()\u001b[0m\n\u001b[0;32m    144\u001b[0m     oldframe \u001b[38;5;241m=\u001b[39m pd\u001b[38;5;241m.\u001b[39mread_csv(\u001b[38;5;124m\"\u001b[39m\u001b[38;5;124mdata/meta.csv\u001b[39m\u001b[38;5;124m\"\u001b[39m)\n\u001b[0;32m    145\u001b[0m     newframe \u001b[38;5;241m=\u001b[39m pd\u001b[38;5;241m.\u001b[39mconcat([oldframe, frame])\n\u001b[1;32m--> 146\u001b[0m     \u001b[43mnewframe\u001b[49m\u001b[43m[\u001b[49m\u001b[38;5;124;43m\"\u001b[39;49m\u001b[38;5;124;43mSeitenzahl\u001b[39;49m\u001b[38;5;124;43m\"\u001b[39;49m\u001b[43m,\u001b[49m\u001b[43m \u001b[49m\u001b[38;5;124;43m\"\u001b[39;49m\u001b[38;5;124;43mDateigröße\u001b[39;49m\u001b[38;5;124;43m\"\u001b[39;49m\u001b[43m]\u001b[49m\u001b[38;5;241m.\u001b[39mastype(\u001b[38;5;28mint\u001b[39m, copy\u001b[38;5;241m=\u001b[39m\u001b[38;5;28;01mFalse\u001b[39;00m)\n\u001b[0;32m    147\u001b[0m     newframe\u001b[38;5;241m.\u001b[39mto_csv(\u001b[38;5;124m\"\u001b[39m\u001b[38;5;124mdata/meta.csv\u001b[39m\u001b[38;5;124m\"\u001b[39m, index\u001b[38;5;241m=\u001b[39m\u001b[38;5;28;01mFalse\u001b[39;00m)\n\u001b[0;32m    149\u001b[0m \u001b[38;5;28;01melse\u001b[39;00m:\n",
      "File \u001b[1;32m~\\.virtualenvs\\Python-1kiekOlB\\lib\\site-packages\\pandas\\core\\frame.py:3505\u001b[0m, in \u001b[0;36mDataFrame.__getitem__\u001b[1;34m(self, key)\u001b[0m\n\u001b[0;32m   3503\u001b[0m \u001b[38;5;28;01mif\u001b[39;00m \u001b[38;5;28mself\u001b[39m\u001b[38;5;241m.\u001b[39mcolumns\u001b[38;5;241m.\u001b[39mnlevels \u001b[38;5;241m>\u001b[39m \u001b[38;5;241m1\u001b[39m:\n\u001b[0;32m   3504\u001b[0m     \u001b[38;5;28;01mreturn\u001b[39;00m \u001b[38;5;28mself\u001b[39m\u001b[38;5;241m.\u001b[39m_getitem_multilevel(key)\n\u001b[1;32m-> 3505\u001b[0m indexer \u001b[38;5;241m=\u001b[39m \u001b[38;5;28;43mself\u001b[39;49m\u001b[38;5;241;43m.\u001b[39;49m\u001b[43mcolumns\u001b[49m\u001b[38;5;241;43m.\u001b[39;49m\u001b[43mget_loc\u001b[49m\u001b[43m(\u001b[49m\u001b[43mkey\u001b[49m\u001b[43m)\u001b[49m\n\u001b[0;32m   3506\u001b[0m \u001b[38;5;28;01mif\u001b[39;00m is_integer(indexer):\n\u001b[0;32m   3507\u001b[0m     indexer \u001b[38;5;241m=\u001b[39m [indexer]\n",
      "File \u001b[1;32m~\\.virtualenvs\\Python-1kiekOlB\\lib\\site-packages\\pandas\\core\\indexes\\base.py:3631\u001b[0m, in \u001b[0;36mIndex.get_loc\u001b[1;34m(self, key, method, tolerance)\u001b[0m\n\u001b[0;32m   3629\u001b[0m     \u001b[38;5;28;01mreturn\u001b[39;00m \u001b[38;5;28mself\u001b[39m\u001b[38;5;241m.\u001b[39m_engine\u001b[38;5;241m.\u001b[39mget_loc(casted_key)\n\u001b[0;32m   3630\u001b[0m \u001b[38;5;28;01mexcept\u001b[39;00m \u001b[38;5;167;01mKeyError\u001b[39;00m \u001b[38;5;28;01mas\u001b[39;00m err:\n\u001b[1;32m-> 3631\u001b[0m     \u001b[38;5;28;01mraise\u001b[39;00m \u001b[38;5;167;01mKeyError\u001b[39;00m(key) \u001b[38;5;28;01mfrom\u001b[39;00m \u001b[38;5;21;01merr\u001b[39;00m\n\u001b[0;32m   3632\u001b[0m \u001b[38;5;28;01mexcept\u001b[39;00m \u001b[38;5;167;01mTypeError\u001b[39;00m:\n\u001b[0;32m   3633\u001b[0m     \u001b[38;5;66;03m# If we have a listlike key, _check_indexing_error will raise\u001b[39;00m\n\u001b[0;32m   3634\u001b[0m     \u001b[38;5;66;03m#  InvalidIndexError. Otherwise we fall through and re-raise\u001b[39;00m\n\u001b[0;32m   3635\u001b[0m     \u001b[38;5;66;03m#  the TypeError.\u001b[39;00m\n\u001b[0;32m   3636\u001b[0m     \u001b[38;5;28mself\u001b[39m\u001b[38;5;241m.\u001b[39m_check_indexing_error(key)\n",
      "\u001b[1;31mKeyError\u001b[0m: ('Seitenzahl', 'Dateigröße')"
     ]
    }
   ],
   "source": [
    "#loop\n",
    "intiger=1\n",
    "with open(\"data/PDFURLs.csv\") as urls:\n",
    "    for pdf_url in urls:\n",
    "\n",
    "        #Creating Unique filename\n",
    "        unique = pdf_url.removeprefix(\"https://bildungsportal.sachsen.de/opal/oer/\")\n",
    "        unique = unique.removesuffix(\"\\n\")\n",
    "        metadict = {\"Identifier\":unique}\n",
    "        pfad = \"temp/\" + unique + \".pdf\"\n",
    "        #Try to download file if not in /temp, catch downloaderrors, gesondert 404\n",
    "        if (not os.path.exists(pfad)):\n",
    "            print(\"downloading:\", unique)\n",
    "            try:\n",
    "                pdf_filename, headers = urllib.request.urlretrieve(pdf_url, pfad)\n",
    "            except urllib.error.HTTPError as e:\n",
    "                print(\"Error while downloading.\")\n",
    "                if e.code == 404:\n",
    "                    metadict.update({\"Error\":'Missing(404)'})\n",
    "                else:\n",
    "                    metadict.update({\"Error\":'Unknown Downloaderror'})\n",
    "                #save Error to meta.csv\n",
    "                frame = pd.DataFrame(metadict, [0])\n",
    "                if (os.path.exists(\"data/meta.csv\")):   \n",
    "                    oldframe = pd.read_csv(\"data/meta.csv\")\n",
    "                    newframe = pd.concat([oldframe, frame])\n",
    "                    newframe.to_csv(\"data/meta.csv\", index=False)           \n",
    "                else:\n",
    "                    frame.to_csv(\"data/meta.csv\", index=False)\n",
    "                metadict.clear\n",
    "                intiger=intiger+1\n",
    "                continue\n",
    "        else:\n",
    "            pdf_filename = pfad\n",
    "        #try to open pdf, catch Errors\n",
    "        try:\n",
    "            pdf = pikepdf.Pdf.open(pdf_filename)           \n",
    "        except pikepdf._qpdf.PasswordError:\n",
    "            print(\"This pdf requires a password.\")\n",
    "            metadict.update({\"Error\":'PasswordProtected'})\n",
    "            frame = pd.DataFrame(metadict, [0])\n",
    "            if (os.path.exists(\"data/meta.csv\")):   \n",
    "                oldframe = pd.read_csv(\"data/meta.csv\")\n",
    "                newframe = pd.concat([oldframe, frame])\n",
    "                newframe.to_csv(\"data/meta.csv\", index=False)           \n",
    "            else:\n",
    "                frame.to_csv(\"data/meta.csv\", index=False)\n",
    "            metadict.clear\n",
    "            intiger=intiger+1\n",
    "            continue\n",
    "        except:\n",
    "            print(\"An Error occured while opening.\")\n",
    "            metadict.update({\"Error\":'OpeningError'})\n",
    "            frame = pd.DataFrame(metadict, [0])\n",
    "            if (os.path.exists(\"data/meta.csv\")):   \n",
    "                oldframe = pd.read_csv(\"data/meta.csv\")\n",
    "                newframe = pd.concat([oldframe, frame])\n",
    "                newframe.to_csv(\"data/meta.csv\", index=False)           \n",
    "            else:\n",
    "                frame.to_csv(\"data/meta.csv\", index=False)\n",
    "            metadict.clear\n",
    "            intiger=intiger+1\n",
    "            continue\n",
    "        \n",
    "        #Read Metadata from pdfs docinfo\n",
    "        docinfo = pdf.docinfo\n",
    "\n",
    "        try:\n",
    "            docinfo[\"/Author\"]\n",
    "        except KeyError:\n",
    "            metadict.update({\"Author\":\"\"})\n",
    "        else:\n",
    "            metadict.update({\"Author\":str(docinfo[\"/Author\"])})\n",
    "\n",
    "        try:\n",
    "            docinfo[\"/Keywords\"]\n",
    "        except KeyError:\n",
    "            metadict.update({\"Keywords\":\"\"})\n",
    "        else:\n",
    "            metadict.update({\"Keywords\":str(docinfo[\"/Keywords\"]).replace(\"\\n\", \" \")})\n",
    "            \n",
    "            \n",
    "        try:\n",
    "            docinfo[\"/CreationDate\"]\n",
    "        except KeyError:\n",
    "            metadict.update({\"Datum der Erstellung\":\"\"})\n",
    "        else:\n",
    "            creation = str(docinfo[\"/CreationDate\"]).replace(\"'\", \"\")\n",
    "            \n",
    "            if(len(creation) > 12):\n",
    "                if(creation[0] != 'D'):\n",
    "                    creation = 'D:' + creation\n",
    "                if(len(creation) >=17):\n",
    "                    if(creation[16]== 'Z'):\n",
    "                        creation = creation.removesuffix(\"0000\")\n",
    "                elif(len(creation) == 16):\n",
    "                    creation = creation + 'Z'\n",
    "                try:\n",
    "                    date = datetime.strptime(creation, \"D:%Y%m%d%H%M%S%z\")\n",
    "                except ValueError:\n",
    "                    metadict.update({\"Datum der Erstellung\":\"\"})\n",
    "                    #print(\"Date Format: \", creation, \"\\n Maps to:\", \"unknown\")\n",
    "                else:\n",
    "                    metadict.update({\"Datum der Erstellung\":date.strftime(\"%Y/%m/%d\")}) \n",
    "                    #print(\"Known Date Format: \", creation, \"\\n Maps to:\", date)\n",
    "            else:\n",
    "                #print(\"Date to short, dropping: \", creation)\n",
    "                metadict.update({\"Datum der Erstellung\":\"\"})\n",
    "    \n",
    "        try:\n",
    "            docinfo[\"/Title\"]\n",
    "        except KeyError:\n",
    "            metadict.update({\"Titel\":\"\"})\n",
    "        else:\n",
    "            metadict.update({\"Titel\":str(docinfo[\"/Title\"])})\n",
    "\n",
    "            \n",
    "        metadict.update({\"Seitenzahl\":len(pdf.pages)})\n",
    "\n",
    "        \n",
    "        if (pdf.pages[0].trimbox[2] - pdf.pages[0].trimbox[0]) < (pdf.pages[0].trimbox[3] - pdf.pages[0].trimbox[1]):\n",
    "            metadict.update({\"Format\":\"Hochformat\"})\n",
    "        else:\n",
    "            metadict.update({\"Format\":\"Querformat\"})\n",
    " #old Code zur menschlichen Lesbarkeit der Dateigröße, panda.cut() bietet eine voraussichlich bessere Umsetzung   \n",
    "#        size = os.stat(pdf_filename).st_size\n",
    "#        if (size > 1000000000):\n",
    "#            size = size / 1000000000\n",
    "#            sizestr =str(round(size, 1)) + \" GB\"\n",
    "#        elif (size > 1000000):                    \n",
    "#            size = size / 1000000\n",
    "#            sizestr =str(round(size, 1)) + \" MB\"\n",
    "#        elif (size > 1000):\n",
    "#            size = size / 1000\n",
    "#            sizestr =str(round(size, 1)) + \" kB\"   \n",
    "#        else:\n",
    "#            sizestr =str(round(size, 1)) + \" B\"\n",
    " #       metadict.update({\"Dateigröße\":str(sizestr)})\n",
    "        metadict.update({\"Dateigröße\":os.stat(pdf_filename).st_size})\n",
    "\n",
    "    \n",
    "        frame = pd.DataFrame(metadict, [0])\n",
    "        if (os.path.exists(\"data/meta.csv\")):   \n",
    "            oldframe = pd.read_csv(\"data/meta.csv\")\n",
    "            newframe = pd.concat([oldframe, frame])\n",
    "            newframe[\"Seitenzahl\", \"Dateigröße\"].astype(int, copy=False)\n",
    "            newframe.to_csv(\"data/meta.csv\", index=False)\n",
    "            \n",
    "        else:\n",
    "            frame.to_csv(\"data/meta.csv\", index=False)\n",
    "        metadict.clear\n",
    "        pdf.close()\n",
    "        print(\"finshed:\", intiger)\n",
    "        intiger=intiger+1"
   ]
  },
  {
   "cell_type": "markdown",
   "id": "60fdb72a",
   "metadata": {
    "papermill": {
     "duration": 0.309176,
     "end_time": "2022-09-05T17:59:14.676786",
     "exception": false,
     "start_time": "2022-09-05T17:59:14.367610",
     "status": "completed"
    },
    "tags": []
   },
   "source": []
  },
  {
   "cell_type": "markdown",
   "id": "6c8f87f9",
   "metadata": {},
   "source": [
    "D:1910 11 10 31 95 255 \n",
    " D:2004 26 15202621Z "
   ]
  },
  {
   "cell_type": "code",
   "execution_count": null,
   "id": "37dbc3c0",
   "metadata": {},
   "outputs": [],
   "source": [
    "D:191011103195255 "
   ]
  },
  {
   "cell_type": "code",
   "execution_count": null,
   "id": "5df9368f",
   "metadata": {},
   "outputs": [],
   "source": []
  }
 ],
 "metadata": {
  "kernelspec": {
   "display_name": "Python 3 (ipykernel)",
   "language": "python",
   "name": "python3"
  },
  "language_info": {
   "codemirror_mode": {
    "name": "ipython",
    "version": 3
   },
   "file_extension": ".py",
   "mimetype": "text/x-python",
   "name": "python",
   "nbconvert_exporter": "python",
   "pygments_lexer": "ipython3",
   "version": "3.9.13"
  },
  "papermill": {
   "default_parameters": {},
   "duration": 4182.432496,
   "end_time": "2022-09-05T17:59:17.367347",
   "environment_variables": {},
   "exception": null,
   "input_path": "C:\\Users\\Johann\\Desktop\\UNI\\BA\\Python\\notebooks\\loopedcontentaggrOER.ipynb",
   "output_path": "C:\\Users\\Johann\\Desktop\\UNI\\BA\\Python\\notebooks\\loopedcontentaggrOER.ipynb",
   "parameters": {},
   "start_time": "2022-09-05T16:49:34.934851",
   "version": "2.4.0"
  }
 },
 "nbformat": 4,
 "nbformat_minor": 5
}
