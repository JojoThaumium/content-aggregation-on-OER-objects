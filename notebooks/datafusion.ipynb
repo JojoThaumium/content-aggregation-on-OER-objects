{
 "cells": [
  {
   "cell_type": "code",
   "execution_count": null,
   "id": "f1ff39e5",
   "metadata": {
    "execution": {
     "iopub.execute_input": "2022-11-16T12:25:10.528054Z",
     "iopub.status.busy": "2022-11-16T12:25:10.525061Z",
     "iopub.status.idle": "2022-11-16T12:25:17.536004Z",
     "shell.execute_reply": "2022-11-16T12:25:17.533121Z"
    },
    "papermill": {
     "duration": 7.026974,
     "end_time": "2022-11-16T12:25:17.539036",
     "exception": false,
     "start_time": "2022-11-16T12:25:10.512062",
     "status": "completed"
    },
    "tags": []
   },
   "outputs": [],
   "source": [
    "import json\n",
    "import pandas as pd"
   ]
  },
  {
   "cell_type": "code",
   "execution_count": null,
   "id": "982724bf",
   "metadata": {
    "execution": {
     "iopub.execute_input": "2022-11-16T12:25:17.549997Z",
     "iopub.status.busy": "2022-11-16T12:25:17.547998Z",
     "iopub.status.idle": "2022-11-16T12:25:17.881138Z",
     "shell.execute_reply": "2022-11-16T12:25:17.879126Z"
    },
    "papermill": {
     "duration": 0.34117,
     "end_time": "2022-11-16T12:25:17.884173",
     "exception": false,
     "start_time": "2022-11-16T12:25:17.543003",
     "status": "completed"
    },
    "tags": []
   },
   "outputs": [],
   "source": [
    "metadata = pd.read_csv(\"data/meta.csv\")#header=None\n",
    "textdata = pd.read_csv(\"data/langmeta.csv\")\n",
    "halfnewdata = pd.merge(metadata, textdata, on='Identifier', how='outer')\n",
    "keywordsdata = pd.read_csv(\"data/keywordsmeta.csv\")\n",
    "newdata = pd.merge(halfnewdata, keywordsdata, on=\"Identifier\", how=\"outer\")"
   ]
  },
  {
   "cell_type": "code",
   "execution_count": null,
   "id": "11883de9",
   "metadata": {
    "execution": {
     "iopub.execute_input": "2022-11-16T12:25:17.893650Z",
     "iopub.status.busy": "2022-11-16T12:25:17.892629Z",
     "iopub.status.idle": "2022-11-16T12:25:18.392991Z",
     "shell.execute_reply": "2022-11-16T12:25:18.391611Z"
    },
    "papermill": {
     "duration": 0.508879,
     "end_time": "2022-11-16T12:25:18.396016",
     "exception": false,
     "start_time": "2022-11-16T12:25:17.887137",
     "status": "completed"
    },
    "tags": []
   },
   "outputs": [],
   "source": [
    "with open(\"data/content.json\", 'r', encoding='utf-8') as json_data:\n",
    "    raw_data = json.load(json_data)\n",
    "    \n",
    "    \n",
    "#oer_data_set = list()\n",
    "\n",
    "#contdata = raw_data['files']\n",
    "#for entry in contdata:\n",
    "#    oer_data_set.append(entry)\n",
    "    \n",
    "content = pd.DataFrame(raw_data['files'])\n",
    "content"
   ]
  },
  {
   "cell_type": "code",
   "execution_count": null,
   "id": "da81871c",
   "metadata": {
    "execution": {
     "iopub.execute_input": "2022-11-16T12:25:18.406921Z",
     "iopub.status.busy": "2022-11-16T12:25:18.405886Z",
     "iopub.status.idle": "2022-11-16T12:25:18.550136Z",
     "shell.execute_reply": "2022-11-16T12:25:18.548258Z"
    },
    "papermill": {
     "duration": 0.153678,
     "end_time": "2022-11-16T12:25:18.554137",
     "exception": false,
     "start_time": "2022-11-16T12:25:18.400459",
     "status": "completed"
    },
    "tags": []
   },
   "outputs": [],
   "source": [
    "newdata['oer_permalink'] = 'https://bildungsportal.sachsen.de/opal/oer/' + newdata['Identifier']\n",
    "\n",
    "fusion = pd.merge(content, newdata, on='oer_permalink', how='left') #for only pdf content:  how='inner' \n",
    "fusion"
   ]
  },
  {
   "cell_type": "code",
   "execution_count": null,
   "id": "3d66549b",
   "metadata": {
    "execution": {
     "iopub.execute_input": "2022-11-16T12:25:18.575134Z",
     "iopub.status.busy": "2022-11-16T12:25:18.574166Z",
     "iopub.status.idle": "2022-11-16T12:25:19.051706Z",
     "shell.execute_reply": "2022-11-16T12:25:19.050698Z"
    },
    "papermill": {
     "duration": 0.492607,
     "end_time": "2022-11-16T12:25:19.054741",
     "exception": false,
     "start_time": "2022-11-16T12:25:18.562134",
     "status": "completed"
    },
    "tags": []
   },
   "outputs": [],
   "source": [
    "fusion = fusion.fillna('')\n",
    "fusion.to_json(\"data/fusedcontent.json\", orient = 'table', index=False, force_ascii=False)"
   ]
  }
 ],
 "metadata": {
  "kernelspec": {
   "display_name": "Python 3 (ipykernel)",
   "language": "python",
   "name": "python3"
  },
  "language_info": {
   "codemirror_mode": {
    "name": "ipython",
    "version": 3
   },
   "file_extension": ".py",
   "mimetype": "text/x-python",
   "name": "python",
   "nbconvert_exporter": "python",
   "pygments_lexer": "ipython3",
   "version": "3.10.7"
  },
  "papermill": {
   "default_parameters": {},
   "duration": 15.285884,
   "end_time": "2022-11-16T12:25:22.720845",
   "environment_variables": {},
   "exception": null,
   "input_path": "C:\\Users\\Johann\\Desktop\\UNI\\BA\\pipenv\\notebooks\\datafusion.ipynb",
   "output_path": "C:\\Users\\Johann\\Desktop\\UNI\\BA\\pipenv\\notebooks\\datafusion.ipynb",
   "parameters": {},
   "start_time": "2022-11-16T12:25:07.434961",
   "version": "2.4.0"
  }
 },
 "nbformat": 4,
 "nbformat_minor": 5
}
