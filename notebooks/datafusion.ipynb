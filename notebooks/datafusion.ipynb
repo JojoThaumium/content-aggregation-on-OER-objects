{
 "cells": [
  {
   "cell_type": "code",
   "execution_count": null,
   "id": "f1ff39e5",
   "metadata": {},
   "outputs": [],
   "source": [
    "import json\n",
    "import pandas as pd"
   ]
  },
  {
   "cell_type": "code",
   "execution_count": null,
   "id": "982724bf",
   "metadata": {},
   "outputs": [],
   "source": [
    "newdata = pd.read_csv(\"data/meta.csv\")#header=None\n",
    "newdata"
   ]
  },
  {
   "cell_type": "code",
   "execution_count": null,
   "id": "11883de9",
   "metadata": {},
   "outputs": [],
   "source": [
    "with open(\"data/content.json\", 'r', encoding='utf-8') as json_data:\n",
    "    raw_data = json.load(json_data)\n",
    "    \n",
    "    \n",
    "#oer_data_set = list()\n",
    "\n",
    "#contdata = raw_data['files']\n",
    "#for entry in contdata:\n",
    "#    oer_data_set.append(entry)\n",
    "    \n",
    "content = pd.DataFrame(raw_data['files'])\n",
    "content"
   ]
  },
  {
   "cell_type": "code",
   "execution_count": null,
   "id": "da81871c",
   "metadata": {},
   "outputs": [],
   "source": [
    "newdata['oer_permalink'] = 'https://bildungsportal.sachsen.de/opal/oer/' + newdata['Identifier']\n",
    "\n",
    "fusion = pd.merge(content, newdata, on='oer_permalink', how='left') #for only pdf content:  how='inner' \n",
    "fusion"
   ]
  },
  {
   "cell_type": "code",
   "execution_count": null,
   "id": "3d66549b",
   "metadata": {},
   "outputs": [],
   "source": [
    "fusion = fusion.fillna('')\n",
    "fusion.to_json(\"data/fusedcontent.json\", orient = 'table', index=False, force_ascii=False)"
   ]
  }
 ],
 "metadata": {
  "kernelspec": {
   "display_name": "Python 3 (ipykernel)",
   "language": "python",
   "name": "python3"
  },
  "language_info": {
   "codemirror_mode": {
    "name": "ipython",
    "version": 3
   },
   "file_extension": ".py",
   "mimetype": "text/x-python",
   "name": "python",
   "nbconvert_exporter": "python",
   "pygments_lexer": "ipython3",
   "version": "3.10.7"
  }
 },
 "nbformat": 4,
 "nbformat_minor": 5
}
